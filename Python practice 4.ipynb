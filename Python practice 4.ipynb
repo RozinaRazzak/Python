{
 "cells": [
  {
   "cell_type": "code",
   "execution_count": 1,
   "id": "ce147eee",
   "metadata": {},
   "outputs": [],
   "source": [
    "cleanest_cities = ['Cheyenne','Santa Fe','Tuscon','Great Falls','Honolulu']"
   ]
  },
  {
   "cell_type": "code",
   "execution_count": 12,
   "id": "52cff000",
   "metadata": {},
   "outputs": [
    {
     "name": "stdout",
     "output_type": "stream",
     "text": [
      "Enter a city, or q to quit: Santa Fe\n",
      "It's one of the cleanest cities\n",
      "Enter a city, or q to quit: KArachi\n",
      "Enter a city, or q to quit: q\n"
     ]
    }
   ],
   "source": [
    "user_input = ''\n",
    "while user_input != 'q':\n",
    "    user_input = input('Enter a city, or q to quit: ')\n",
    "    if user_input != 'q':\n",
    "        for a_clean_city in cleanest_cities:\n",
    "            if user_input == a_clean_city:\n",
    "                print(\"It's one of the cleanest cities\")\n",
    "                break"
   ]
  },
  {
   "cell_type": "code",
   "execution_count": 1,
   "id": "5e12fe57",
   "metadata": {},
   "outputs": [],
   "source": [
    "years = (1952,1962,1980,1982,1983,1984,1985,1987,1993,1996,1998)"
   ]
  },
  {
   "cell_type": "code",
   "execution_count": 2,
   "id": "4ba0480d",
   "metadata": {},
   "outputs": [
    {
     "data": {
      "text/plain": [
       "(1952, 1962, 1980, 1982, 1983, 1984, 1985, 1987, 1993, 1996, 1998)"
      ]
     },
     "execution_count": 2,
     "metadata": {},
     "output_type": "execute_result"
    }
   ],
   "source": [
    "years "
   ]
  },
  {
   "cell_type": "code",
   "execution_count": 3,
   "id": "87ebd364",
   "metadata": {},
   "outputs": [
    {
     "name": "stdout",
     "output_type": "stream",
     "text": [
      "Enter a year, or 0 to stop: 1952\n",
      "It's one of the year\n",
      "Enter a year, or 0 to stop: 1962\n",
      "It's one of the year\n",
      "Enter a year, or 0 to stop: 184\n",
      "Enter a year, or 0 to stop: 1993\n",
      "It's one of the year\n",
      "Enter a year, or 0 to stop: 0\n"
     ]
    }
   ],
   "source": [
    "user_input = ''\n",
    "while user_input != 0 :\n",
    "    user_input = int(input('Enter a year, or 0 to stop: '))\n",
    "    if user_input != 0:\n",
    "        for year in years:\n",
    "            if user_input == year:\n",
    "                print(\"It's one of the year\")\n",
    "                break"
   ]
  },
  {
   "cell_type": "code",
   "execution_count": null,
   "id": "dbd76814",
   "metadata": {},
   "outputs": [],
   "source": [
    "keep_looping = False\n",
    "while keep_looping == False:\n",
    "    user_input = input('Enter a city, or q to quit: ')\n",
    "    if user_input != 'q':\n",
    "        for a_clean_city in cleanest_cities:\n",
    "            if user_input == a_clean_city:\n",
    "                print(\"It's one of the cleanest cities\")\n",
    "                break\n",
    "    else:\n",
    "        keep_looping = True"
   ]
  },
  {
   "cell_type": "code",
   "execution_count": 2,
   "id": "9aa81e55",
   "metadata": {},
   "outputs": [],
   "source": [
    "fast_food_restraunt = ['chicken burger','beef burger','zinger burger','chicken supereme pizza','chicken afghani pizza']"
   ]
  },
  {
   "cell_type": "code",
   "execution_count": 3,
   "id": "50d20a6b",
   "metadata": {},
   "outputs": [
    {
     "name": "stdout",
     "output_type": "stream",
     "text": [
      "Enter the item or no to quit:zinger burger\n",
      "Yes, We have it\n",
      "Enter the item or no to quit:q\n",
      "Enter the item or no to quit:no\n"
     ]
    }
   ],
   "source": [
    "keep_looping = True\n",
    "while keep_looping == True:\n",
    "    item = input('Enter the item or no to quit:')\n",
    "    if item != 'no':\n",
    "        for food in fast_food_restraunt:\n",
    "            if item == food:\n",
    "                print('Yes, We have it')\n",
    "                break\n",
    "    else:\n",
    "        keep_looping = False"
   ]
  },
  {
   "cell_type": "code",
   "execution_count": 38,
   "id": "0d430d32",
   "metadata": {},
   "outputs": [],
   "source": [
    "class Patient():\n",
    "    def __init__(self,last_name,first_name,age):\n",
    "        self.last_name = last_name\n",
    "        self.first_name = first_name\n",
    "        self.age = age\n",
    "        "
   ]
  },
  {
   "cell_type": "code",
   "execution_count": 39,
   "id": "9688ea61",
   "metadata": {},
   "outputs": [],
   "source": [
    "pid4343 = Patient('Taleb','Sue',61)\n",
    "pid4344 = Patient('Anand','Punya',29)\n",
    "pid4345 = Patient('Oppenheimer','Douglas',15)\n",
    "pid4346 = Patient('Lin','Lilly',48)\n",
    "pid2902 = Patient('Nilsson','Rhonda',33)"
   ]
  },
  {
   "cell_type": "code",
   "execution_count": 40,
   "id": "61552153",
   "metadata": {},
   "outputs": [
    {
     "name": "stdout",
     "output_type": "stream",
     "text": [
      "61\n"
     ]
    }
   ],
   "source": [
    "age_of_patient = pid4343.age\n",
    "print(age_of_patient)\n"
   ]
  },
  {
   "cell_type": "code",
   "execution_count": 41,
   "id": "3839dea1",
   "metadata": {},
   "outputs": [
    {
     "name": "stdout",
     "output_type": "stream",
     "text": [
      "Rhonda\n",
      "61\n"
     ]
    }
   ],
   "source": [
    "print(pid2902.first_name)\n",
    "print(pid4343.age)"
   ]
  },
  {
   "cell_type": "code",
   "execution_count": 42,
   "id": "acf8871b",
   "metadata": {},
   "outputs": [],
   "source": [
    "def say_if_minor(patient_first_name,patient_last_name,patient_age):\n",
    "    if patient_age < 21:\n",
    "        print(patient_first_name + ' '+patient_last_name + '  is a minor')"
   ]
  },
  {
   "cell_type": "code",
   "execution_count": 43,
   "id": "a20f8d8e",
   "metadata": {},
   "outputs": [],
   "source": [
    "say_if_minor(pid4343.first_name,pid4343.last_name,pid4343.age)"
   ]
  },
  {
   "cell_type": "code",
   "execution_count": 44,
   "id": "518e89e2",
   "metadata": {},
   "outputs": [
    {
     "ename": "AttributeError",
     "evalue": "'Patient' object has no attribute 'say_if_minor'",
     "output_type": "error",
     "traceback": [
      "\u001b[1;31m---------------------------------------------------------------------------\u001b[0m",
      "\u001b[1;31mAttributeError\u001b[0m                            Traceback (most recent call last)",
      "Cell \u001b[1;32mIn[44], line 1\u001b[0m\n\u001b[1;32m----> 1\u001b[0m pid4343\u001b[38;5;241m.\u001b[39msay_if_minor(\u001b[38;5;124m'\u001b[39m\u001b[38;5;124mApril\u001b[39m\u001b[38;5;124m'\u001b[39m,insured \u001b[38;5;241m=\u001b[39m \u001b[38;5;28;01mTrue\u001b[39;00m)\n",
      "\u001b[1;31mAttributeError\u001b[0m: 'Patient' object has no attribute 'say_if_minor'"
     ]
    }
   ],
   "source": [
    "pid4343.say_if_minor('April',insured = True)"
   ]
  },
  {
   "cell_type": "code",
   "execution_count": 45,
   "id": "1c670e02",
   "metadata": {},
   "outputs": [],
   "source": [
    "class Patient():\n",
    "    def __init__(self,last_name,first_name,age):\n",
    "        self.last_name = last_name\n",
    "        self.first_name = first_name\n",
    "        self.age = age\n",
    "    def say_if_minor(self):\n",
    "        if self.age < 12:\n",
    "            print('This patient is a minor')"
   ]
  },
  {
   "cell_type": "code",
   "execution_count": 57,
   "id": "fb2d3092",
   "metadata": {},
   "outputs": [
    {
     "ename": "AttributeError",
     "evalue": "'Patient' object has no attribute 'say_if_minor'",
     "output_type": "error",
     "traceback": [
      "\u001b[1;31m---------------------------------------------------------------------------\u001b[0m",
      "\u001b[1;31mAttributeError\u001b[0m                            Traceback (most recent call last)",
      "Cell \u001b[1;32mIn[57], line 1\u001b[0m\n\u001b[1;32m----> 1\u001b[0m pid4343\u001b[38;5;241m.\u001b[39msay_if_minor()\n",
      "\u001b[1;31mAttributeError\u001b[0m: 'Patient' object has no attribute 'say_if_minor'"
     ]
    }
   ],
   "source": [
    "pid4343.say_if_minor()"
   ]
  },
  {
   "cell_type": "code",
   "execution_count": 47,
   "id": "5106d31a",
   "metadata": {},
   "outputs": [],
   "source": [
    "class Patient():\n",
    "    def __init__(self,last_name,first_name,age):\n",
    "        self.last_name = last_name\n",
    "        self.first_name = first_name\n",
    "        self.age = age\n",
    "    def say_if_minor(self):\n",
    "        if self.age < 21:\n",
    "            print(self.first_name + ' ' + self.last_name + ' is a minor' )"
   ]
  },
  {
   "cell_type": "code",
   "execution_count": 53,
   "id": "fa64e357",
   "metadata": {},
   "outputs": [],
   "source": [
    "pid4343.last_name = 'Ortega'"
   ]
  },
  {
   "cell_type": "code",
   "execution_count": 56,
   "id": "b58a60bc",
   "metadata": {},
   "outputs": [],
   "source": [
    "class Patient():\n",
    "    def __init__(self,last_name,first_name,age):\n",
    "        self.last_name = last_name\n",
    "        self.first_name = first_name\n",
    "        self.age = age\n",
    "    def say_if_minor(self):\n",
    "        if self.age < 12:\n",
    "            print(\"This is a minor\")\n",
    "    def change_last_name(self,new_last_name):\n",
    "        self.last_name = new_last_name\n",
    "    "
   ]
  },
  {
   "cell_type": "code",
   "execution_count": 58,
   "id": "bee6389e",
   "metadata": {},
   "outputs": [
    {
     "name": "stdout",
     "output_type": "stream",
     "text": [
      "Ortega\n"
     ]
    }
   ],
   "source": [
    "print(pid4343.last_name)"
   ]
  },
  {
   "cell_type": "code",
   "execution_count": 60,
   "id": "18888b5e",
   "metadata": {
    "scrolled": true
   },
   "outputs": [
    {
     "name": "stdout",
     "output_type": "stream",
     "text": [
      "Sue\n"
     ]
    }
   ],
   "source": [
    "print(pid4343.first_name)"
   ]
  },
  {
   "cell_type": "code",
   "execution_count": 1,
   "id": "d5d477f6",
   "metadata": {
    "slideshow": {
     "slide_type": "skip"
    }
   },
   "outputs": [
    {
     "name": "stdout",
     "output_type": "stream",
     "text": [
      "Rozina Razzak\n"
     ]
    }
   ],
   "source": [
    "print('Rozina Razzak')"
   ]
  },
  {
   "cell_type": "code",
   "execution_count": 1,
   "id": "c71ee851",
   "metadata": {},
   "outputs": [
    {
     "name": "stdout",
     "output_type": "stream",
     "text": [
      "311\n"
     ]
    }
   ],
   "source": [
    "print(311)"
   ]
  },
  {
   "cell_type": "code",
   "execution_count": 1,
   "id": "2f381288",
   "metadata": {
    "slideshow": {
     "slide_type": "notes"
    },
    "tags": [
     "my",
     "name",
     "is",
     "rozina",
     "razzak"
    ]
   },
   "outputs": [
    {
     "name": "stdout",
     "output_type": "stream",
     "text": [
      "want to meet? no\n",
      "let's meet\n"
     ]
    }
   ],
   "source": [
    "playing = input(\"want to meet? \")\n",
    "if playing == \"yes\":\n",
    "    quit()\n",
    "print(\"let's meet\")    "
   ]
  },
  {
   "cell_type": "code",
   "execution_count": 2,
   "id": "813fb18c",
   "metadata": {
    "scrolled": true
   },
   "outputs": [],
   "source": [
    "with open (\"rox.txt\",\"w\")as f:\n",
    "    f.write(\"rrrrrr\")"
   ]
  },
  {
   "cell_type": "code",
   "execution_count": 3,
   "id": "fc01b112",
   "metadata": {
    "scrolled": true
   },
   "outputs": [],
   "source": [
    "with open(\"rox.txt\",\"r\")as f:\n",
    "    h = f.read()\n",
    "    "
   ]
  },
  {
   "cell_type": "code",
   "execution_count": 4,
   "id": "5e3bfcf7",
   "metadata": {},
   "outputs": [
    {
     "name": "stdout",
     "output_type": "stream",
     "text": [
      "rrrrrr\n"
     ]
    }
   ],
   "source": [
    "print(h)"
   ]
  },
  {
   "cell_type": "code",
   "execution_count": 5,
   "id": "738722f5",
   "metadata": {},
   "outputs": [],
   "source": [
    "import cryptography"
   ]
  },
  {
   "cell_type": "code",
   "execution_count": 6,
   "id": "33c97cb9",
   "metadata": {},
   "outputs": [],
   "source": [
    "from cryptography.fernet import Fernet"
   ]
  },
  {
   "cell_type": "code",
   "execution_count": 1,
   "id": "c430ae27",
   "metadata": {},
   "outputs": [
    {
     "data": {
      "text/plain": [
       "'C:\\\\Users\\\\Admin\\\\Rover'"
      ]
     },
     "execution_count": 1,
     "metadata": {},
     "output_type": "execute_result"
    }
   ],
   "source": [
    "%pwd"
   ]
  },
  {
   "cell_type": "code",
   "execution_count": 3,
   "id": "87b8a10b",
   "metadata": {},
   "outputs": [],
   "source": [
    "an_example = 4646\n",
    "an_apple = 6352"
   ]
  },
  {
   "cell_type": "code",
   "execution_count": 16,
   "id": "3b72d761",
   "metadata": {},
   "outputs": [],
   "source": [
    "listr = [1,5,9,3,7,5]"
   ]
  },
  {
   "cell_type": "code",
   "execution_count": 17,
   "id": "de2bed58",
   "metadata": {},
   "outputs": [],
   "source": [
    "listr.extend([1,5,6])"
   ]
  },
  {
   "cell_type": "code",
   "execution_count": 18,
   "id": "f3b6973e",
   "metadata": {},
   "outputs": [
    {
     "data": {
      "text/plain": [
       "[1, 5, 9, 3, 7, 5, 1, 5, 6]"
      ]
     },
     "execution_count": 18,
     "metadata": {},
     "output_type": "execute_result"
    }
   ],
   "source": [
    "listr"
   ]
  },
  {
   "cell_type": "code",
   "execution_count": 21,
   "id": "a3024ad4",
   "metadata": {},
   "outputs": [],
   "source": [
    "listr.extend({1:5,2:5})"
   ]
  },
  {
   "cell_type": "code",
   "execution_count": 22,
   "id": "52ea386c",
   "metadata": {},
   "outputs": [
    {
     "data": {
      "text/plain": [
       "[1, 5, 9, 3, 7, 5, 1, 5, 6, 1, 2, 1, 2]"
      ]
     },
     "execution_count": 22,
     "metadata": {},
     "output_type": "execute_result"
    }
   ],
   "source": [
    "listr"
   ]
  },
  {
   "cell_type": "code",
   "execution_count": 23,
   "id": "ebe6b80c",
   "metadata": {},
   "outputs": [],
   "source": [
    "listr.extend([\"ROZINA\"])"
   ]
  },
  {
   "cell_type": "code",
   "execution_count": 24,
   "id": "e3ae25f8",
   "metadata": {},
   "outputs": [
    {
     "data": {
      "text/plain": [
       "[1, 5, 9, 3, 7, 5, 1, 5, 6, 1, 2, 1, 2, 'ROZINA']"
      ]
     },
     "execution_count": 24,
     "metadata": {},
     "output_type": "execute_result"
    }
   ],
   "source": [
    "listr"
   ]
  },
  {
   "cell_type": "code",
   "execution_count": 25,
   "id": "106e1367",
   "metadata": {},
   "outputs": [],
   "source": [
    "import datetime"
   ]
  },
  {
   "cell_type": "code",
   "execution_count": 33,
   "id": "e319bd53",
   "metadata": {},
   "outputs": [],
   "source": [
    "s = datetime.date(23,10,29)"
   ]
  },
  {
   "cell_type": "code",
   "execution_count": 34,
   "id": "f073ee40",
   "metadata": {},
   "outputs": [
    {
     "data": {
      "text/plain": [
       "datetime.date(23, 10, 29)"
      ]
     },
     "execution_count": 34,
     "metadata": {},
     "output_type": "execute_result"
    }
   ],
   "source": [
    "s"
   ]
  },
  {
   "cell_type": "code",
   "execution_count": 38,
   "id": "df0a2b85",
   "metadata": {},
   "outputs": [],
   "source": [
    "def func_with_keywords(ab =1,ac=2,ad=3):\n",
    "    return ab,ac,ad"
   ]
  },
  {
   "cell_type": "code",
   "execution_count": 42,
   "id": "249b4efc",
   "metadata": {},
   "outputs": [
    {
     "data": {
      "text/plain": [
       "(1, 2, 3)"
      ]
     },
     "execution_count": 42,
     "metadata": {},
     "output_type": "execute_result"
    }
   ],
   "source": [
    "func_with_keywords()"
   ]
  },
  {
   "cell_type": "code",
   "execution_count": 43,
   "id": "3d36b3de",
   "metadata": {},
   "outputs": [
    {
     "data": {
      "text/plain": [
       "(1, 6, 3)"
      ]
     },
     "execution_count": 43,
     "metadata": {},
     "output_type": "execute_result"
    }
   ],
   "source": [
    "func_with_keywords(ac=6)"
   ]
  },
  {
   "cell_type": "code",
   "execution_count": 50,
   "id": "4ec0019f",
   "metadata": {},
   "outputs": [],
   "source": [
    " g = (6,5,81)"
   ]
  },
  {
   "cell_type": "code",
   "execution_count": 59,
   "id": "9e1f76ae",
   "metadata": {},
   "outputs": [],
   "source": [
    "g?"
   ]
  },
  {
   "cell_type": "code",
   "execution_count": 53,
   "id": "4342d7b6",
   "metadata": {},
   "outputs": [
    {
     "data": {
      "text/plain": [
       "1"
      ]
     },
     "execution_count": 53,
     "metadata": {},
     "output_type": "execute_result"
    }
   ],
   "source": [
    "g.count(5)"
   ]
  },
  {
   "cell_type": "code",
   "execution_count": 54,
   "id": "951c1413",
   "metadata": {},
   "outputs": [],
   "source": [
    "def add_numbers(a,b):\n",
    "    return a + b"
   ]
  },
  {
   "cell_type": "code",
   "execution_count": 57,
   "id": "de148ec7",
   "metadata": {},
   "outputs": [],
   "source": [
    "add_numbers?"
   ]
  },
  {
   "cell_type": "code",
   "execution_count": 58,
   "id": "9d3088fa",
   "metadata": {},
   "outputs": [],
   "source": [
    "add_numbers??"
   ]
  },
  {
   "cell_type": "code",
   "execution_count": 60,
   "id": "e643400e",
   "metadata": {},
   "outputs": [],
   "source": [
    "x = 5\n",
    "y = 7\n",
    "\n",
    "\n",
    "if x > 5:\n",
    "    \n",
    "    x += 1\n",
    "    y = 8"
   ]
  },
  {
   "cell_type": "code",
   "execution_count": 60,
   "id": "de5f5ad6",
   "metadata": {},
   "outputs": [
    {
     "name": "stderr",
     "output_type": "stream",
     "text": [
      "UsageError: Line magic function `%cpaste` not found.\n"
     ]
    }
   ],
   "source": [
    "%cpaste"
   ]
  },
  {
   "cell_type": "code",
   "execution_count": 61,
   "id": "e33c1291",
   "metadata": {},
   "outputs": [],
   "source": [
    "import numpy as np\n",
    "a = np.random.randn(100,100)\n"
   ]
  },
  {
   "cell_type": "code",
   "execution_count": 65,
   "id": "9b1d3188",
   "metadata": {},
   "outputs": [
    {
     "name": "stdout",
     "output_type": "stream",
     "text": [
      "270 µs ± 30.6 µs per loop (mean ± std. dev. of 7 runs, 1,000 loops each)\n"
     ]
    }
   ],
   "source": [
    "%timeit np.dot(a,a)"
   ]
  },
  {
   "cell_type": "code",
   "execution_count": 64,
   "id": "601ca9fb",
   "metadata": {},
   "outputs": [],
   "source": [
    "%matplotlib inline"
   ]
  },
  {
   "cell_type": "code",
   "execution_count": 68,
   "id": "e94580b5",
   "metadata": {},
   "outputs": [
    {
     "data": {
      "image/png": "[encoded data removed]",
      "text/plain": [
       "<Figure size 640x480 with 1 Axes>"
      ]
     },
     "metadata": {},
     "output_type": "display_data"
    }
   ],
   "source": [
    "import matplotlib.pyplot as plt\n",
    "o = plt.plot(np.random.randn(50).cumsum())"
   ]
  },
  {
   "cell_type": "code",
   "execution_count": 70,
   "id": "7ccb4f2f",
   "metadata": {},
   "outputs": [],
   "source": [
    "np.cumsum?"
   ]
  },
  {
   "cell_type": "code",
   "execution_count": 71,
   "id": "e0ffb1a7",
   "metadata": {},
   "outputs": [],
   "source": [
    "a = 5; b = 6; c = 7"
   ]
  },
  {
   "cell_type": "code",
   "execution_count": 72,
   "id": "30854095",
   "metadata": {},
   "outputs": [
    {
     "data": {
      "text/plain": [
       "5"
      ]
     },
     "execution_count": 72,
     "metadata": {},
     "output_type": "execute_result"
    }
   ],
   "source": [
    "a"
   ]
  },
  {
   "cell_type": "code",
   "execution_count": 73,
   "id": "8c285033",
   "metadata": {},
   "outputs": [],
   "source": [
    "def append_elements(some_list,element):\n",
    "    some_list.append(element)"
   ]
  },
  {
   "cell_type": "code",
   "execution_count": 74,
   "id": "16f9b8d6",
   "metadata": {},
   "outputs": [],
   "source": [
    "c = [23,56,89]"
   ]
  },
  {
   "cell_type": "code",
   "execution_count": 75,
   "id": "e3a0c1f9",
   "metadata": {},
   "outputs": [],
   "source": [
    "append_elements(c,56)"
   ]
  },
  {
   "cell_type": "code",
   "execution_count": 76,
   "id": "05228b1d",
   "metadata": {},
   "outputs": [
    {
     "data": {
      "text/plain": [
       "[23, 56, 89, 56]"
      ]
     },
     "execution_count": 76,
     "metadata": {},
     "output_type": "execute_result"
    }
   ],
   "source": [
    "c"
   ]
  },
  {
   "cell_type": "code",
   "execution_count": 77,
   "id": "27183082",
   "metadata": {},
   "outputs": [
    {
     "name": "stdout",
     "output_type": "stream",
     "text": [
      " o is <class 'int'>, p is <class 'float'>\n"
     ]
    }
   ],
   "source": [
    "o = 2\n",
    "p = 2.5\n",
    "print(\" o is {0}, p is {1}\".format(type(o),type(p)))"
   ]
  },
  {
   "cell_type": "code",
   "execution_count": 78,
   "id": "9c825073",
   "metadata": {},
   "outputs": [],
   "source": [
    " s = p / o   "
   ]
  },
  {
   "cell_type": "code",
   "execution_count": 79,
   "id": "9a5589da",
   "metadata": {},
   "outputs": [
    {
     "data": {
      "text/plain": [
       "1.25"
      ]
     },
     "execution_count": 79,
     "metadata": {},
     "output_type": "execute_result"
    }
   ],
   "source": [
    "s"
   ]
  },
  {
   "cell_type": "code",
   "execution_count": 81,
   "id": "7e413020",
   "metadata": {},
   "outputs": [
    {
     "data": {
      "text/plain": [
       "True"
      ]
     },
     "execution_count": 81,
     "metadata": {},
     "output_type": "execute_result"
    }
   ],
   "source": [
    "isinstance(o,int)"
   ]
  },
  {
   "cell_type": "code",
   "execution_count": 82,
   "id": "a0b6dba2",
   "metadata": {},
   "outputs": [
    {
     "data": {
      "text/plain": [
       "False"
      ]
     },
     "execution_count": 82,
     "metadata": {},
     "output_type": "execute_result"
    }
   ],
   "source": [
    "isinstance(o,float)"
   ]
  },
  {
   "cell_type": "code",
   "execution_count": 83,
   "id": "707aef13",
   "metadata": {},
   "outputs": [],
   "source": [
    "r = 25; t = 96.6; y = \"4664\""
   ]
  },
  {
   "cell_type": "code",
   "execution_count": 85,
   "id": "659847e8",
   "metadata": {},
   "outputs": [
    {
     "data": {
      "text/plain": [
       "True"
      ]
     },
     "execution_count": 85,
     "metadata": {},
     "output_type": "execute_result"
    }
   ],
   "source": [
    "isinstance(y,(int,float,str))"
   ]
  },
  {
   "cell_type": "code",
   "execution_count": 1,
   "id": "dac2a9b6",
   "metadata": {},
   "outputs": [
    {
     "data": {
      "text/plain": [
       "'rooo'"
      ]
     },
     "execution_count": 1,
     "metadata": {},
     "output_type": "execute_result"
    }
   ],
   "source": [
    "r = \"rooo\"\n",
    "r.casefold()"
   ]
  },
  {
   "cell_type": "code",
   "execution_count": 2,
   "id": "43a12228",
   "metadata": {},
   "outputs": [
    {
     "data": {
      "text/plain": [
       "'///rooo///'"
      ]
     },
     "execution_count": 2,
     "metadata": {},
     "output_type": "execute_result"
    }
   ],
   "source": [
    "r.center(10,\"/\")"
   ]
  },
  {
   "cell_type": "code",
   "execution_count": 3,
   "id": "a6ae5e41",
   "metadata": {},
   "outputs": [
    {
     "data": {
      "text/plain": [
       "'        rooo        '"
      ]
     },
     "execution_count": 3,
     "metadata": {},
     "output_type": "execute_result"
    }
   ],
   "source": [
    "r.center(20)"
   ]
  },
  {
   "cell_type": "code",
   "execution_count": 4,
   "id": "f884499b",
   "metadata": {},
   "outputs": [
    {
     "data": {
      "text/plain": [
       "3"
      ]
     },
     "execution_count": 4,
     "metadata": {},
     "output_type": "execute_result"
    }
   ],
   "source": [
    "r.count(\"o\")"
   ]
  },
  {
   "cell_type": "code",
   "execution_count": 9,
   "id": "083bd55d",
   "metadata": {},
   "outputs": [
    {
     "data": {
      "text/plain": [
       "b'rooo'"
      ]
     },
     "execution_count": 9,
     "metadata": {},
     "output_type": "execute_result"
    }
   ],
   "source": [
    "r.encode()"
   ]
  },
  {
   "cell_type": "code",
   "execution_count": 15,
   "id": "e2df2a07",
   "metadata": {},
   "outputs": [],
   "source": [
    "f = \"123456789\""
   ]
  },
  {
   "cell_type": "code",
   "execution_count": 21,
   "id": "51d9f6e5",
   "metadata": {},
   "outputs": [
    {
     "data": {
      "text/plain": [
       "True"
      ]
     },
     "execution_count": 21,
     "metadata": {},
     "output_type": "execute_result"
    }
   ],
   "source": [
    "f.endswith(\"9\",)"
   ]
  },
  {
   "cell_type": "code",
   "execution_count": 31,
   "id": "65846d44",
   "metadata": {},
   "outputs": [
    {
     "data": {
      "text/plain": [
       "False"
      ]
     },
     "execution_count": 31,
     "metadata": {},
     "output_type": "execute_result"
    }
   ],
   "source": [
    "f.endswith(\"2\")"
   ]
  },
  {
   "cell_type": "code",
   "execution_count": 32,
   "id": "ad950145",
   "metadata": {},
   "outputs": [
    {
     "data": {
      "text/plain": [
       "True"
      ]
     },
     "execution_count": 32,
     "metadata": {},
     "output_type": "execute_result"
    }
   ],
   "source": [
    "f.endswith(\"5\"[4:])"
   ]
  },
  {
   "cell_type": "code",
   "execution_count": 33,
   "id": "d6dee39c",
   "metadata": {},
   "outputs": [
    {
     "data": {
      "text/plain": [
       "True"
      ]
     },
     "execution_count": 33,
     "metadata": {},
     "output_type": "execute_result"
    }
   ],
   "source": [
    "f.endswith(\"1\"[7:])"
   ]
  },
  {
   "cell_type": "code",
   "execution_count": 44,
   "id": "bfb0aea7",
   "metadata": {},
   "outputs": [
    {
     "data": {
      "text/plain": [
       "True"
      ]
     },
     "execution_count": 44,
     "metadata": {},
     "output_type": "execute_result"
    }
   ],
   "source": [
    "f.endswith(\"2\"[4:7])"
   ]
  },
  {
   "cell_type": "code",
   "execution_count": 46,
   "id": "c1ea3095",
   "metadata": {},
   "outputs": [
    {
     "data": {
      "text/plain": [
       "True"
      ]
     },
     "execution_count": 46,
     "metadata": {},
     "output_type": "execute_result"
    }
   ],
   "source": [
    "f.isascii()"
   ]
  },
  {
   "cell_type": "code",
   "execution_count": 50,
   "id": "d36e591f",
   "metadata": {},
   "outputs": [
    {
     "data": {
      "text/plain": [
       "<function str.isascii()>"
      ]
     },
     "execution_count": 50,
     "metadata": {},
     "output_type": "execute_result"
    }
   ],
   "source": [
    "getattr(f,\"isascii\")"
   ]
  },
  {
   "cell_type": "code",
   "execution_count": 51,
   "id": "53f29c9d",
   "metadata": {},
   "outputs": [
    {
     "data": {
      "text/plain": [
       "True"
      ]
     },
     "execution_count": 51,
     "metadata": {},
     "output_type": "execute_result"
    }
   ],
   "source": [
    "hasattr(f,\"split\")"
   ]
  },
  {
   "cell_type": "code",
   "execution_count": 74,
   "id": "f46eb680",
   "metadata": {},
   "outputs": [],
   "source": [
    "def isiterable(obj):\n",
    "    try:\n",
    "        iter(obj)\n",
    "        return True\n",
    "    except TypeError:\n",
    "        return False\n",
    "    "
   ]
  },
  {
   "cell_type": "code",
   "execution_count": 81,
   "id": "549faa9f",
   "metadata": {},
   "outputs": [
    {
     "data": {
      "text/plain": [
       "True"
      ]
     },
     "execution_count": 81,
     "metadata": {},
     "output_type": "execute_result"
    }
   ],
   "source": [
    "isiterable([1,5,8])"
   ]
  },
  {
   "cell_type": "code",
   "execution_count": 82,
   "id": "b6cd50d2",
   "metadata": {},
   "outputs": [
    {
     "data": {
      "text/plain": [
       "False"
      ]
     },
     "execution_count": 82,
     "metadata": {},
     "output_type": "execute_result"
    }
   ],
   "source": [
    "isiterable(list)"
   ]
  },
  {
   "cell_type": "code",
   "execution_count": 83,
   "id": "efa14d02",
   "metadata": {},
   "outputs": [
    {
     "data": {
      "text/plain": [
       "False"
      ]
     },
     "execution_count": 83,
     "metadata": {},
     "output_type": "execute_result"
    }
   ],
   "source": [
    "isiterable(123)"
   ]
  },
  {
   "cell_type": "code",
   "execution_count": 85,
   "id": "9ea1914e",
   "metadata": {},
   "outputs": [
    {
     "data": {
      "text/plain": [
       "True"
      ]
     },
     "execution_count": 85,
     "metadata": {},
     "output_type": "execute_result"
    }
   ],
   "source": [
    "isiterable((1,2,5,))"
   ]
  },
  {
   "cell_type": "code",
   "execution_count": 87,
   "id": "ef5e9454",
   "metadata": {},
   "outputs": [],
   "source": [
    "x = (25,35,45,65,75,78)"
   ]
  },
  {
   "cell_type": "code",
   "execution_count": 88,
   "id": "f554226b",
   "metadata": {},
   "outputs": [],
   "source": [
    "if not isinstance(x,list) and isiterable(x):\n",
    "    x = list(x)"
   ]
  },
  {
   "cell_type": "code",
   "execution_count": 89,
   "id": "74b8974f",
   "metadata": {},
   "outputs": [],
   "source": [
    "x??"
   ]
  },
  {
   "cell_type": "code",
   "execution_count": 1,
   "id": "2f7fb181",
   "metadata": {},
   "outputs": [],
   "source": [
    "import module as m"
   ]
  },
  {
   "cell_type": "code",
   "execution_count": 2,
   "id": "150d4f1a",
   "metadata": {},
   "outputs": [
    {
     "data": {
      "text/plain": [
       "12"
      ]
     },
     "execution_count": 2,
     "metadata": {},
     "output_type": "execute_result"
    }
   ],
   "source": [
    "m.f(10)"
   ]
  },
  {
   "cell_type": "code",
   "execution_count": 6,
   "id": "e1d44edb",
   "metadata": {},
   "outputs": [],
   "source": [
    "from module import f, g, pI\n",
    "result = g(5, pI)\n"
   ]
  },
  {
   "cell_type": "code",
   "execution_count": 7,
   "id": "1f2d0865",
   "metadata": {},
   "outputs": [
    {
     "name": "stdout",
     "output_type": "stream",
     "text": [
      "8.14159\n"
     ]
    }
   ],
   "source": [
    "print(result)"
   ]
  },
  {
   "cell_type": "code",
   "execution_count": 8,
   "id": "c23f1e6a",
   "metadata": {},
   "outputs": [],
   "source": [
    "import module as m\n",
    "from module import f as sc, pI as b"
   ]
  },
  {
   "cell_type": "code",
   "execution_count": 9,
   "id": "0c179865",
   "metadata": {},
   "outputs": [],
   "source": [
    "r = m.f(6)"
   ]
  },
  {
   "cell_type": "code",
   "execution_count": 10,
   "id": "52e6c216",
   "metadata": {},
   "outputs": [
    {
     "data": {
      "text/plain": [
       "8"
      ]
     },
     "execution_count": 10,
     "metadata": {},
     "output_type": "execute_result"
    }
   ],
   "source": [
    "r"
   ]
  },
  {
   "cell_type": "code",
   "execution_count": 12,
   "id": "22d63f8e",
   "metadata": {},
   "outputs": [],
   "source": [
    "d = m.f(b)"
   ]
  },
  {
   "cell_type": "code",
   "execution_count": 13,
   "id": "1d51db8d",
   "metadata": {},
   "outputs": [
    {
     "data": {
      "text/plain": [
       "5.14159"
      ]
     },
     "execution_count": 13,
     "metadata": {},
     "output_type": "execute_result"
    }
   ],
   "source": [
    "d"
   ]
  },
  {
   "cell_type": "code",
   "execution_count": 23,
   "id": "b1400287",
   "metadata": {},
   "outputs": [],
   "source": [
    "a = 666\n",
    "b = 155"
   ]
  },
  {
   "cell_type": "code",
   "execution_count": 24,
   "id": "b7ceee08",
   "metadata": {},
   "outputs": [
    {
     "data": {
      "text/plain": [
       "513"
      ]
     },
     "execution_count": 24,
     "metadata": {},
     "output_type": "execute_result"
    }
   ],
   "source": [
    "a^b"
   ]
  },
  {
   "cell_type": "code",
   "execution_count": 25,
   "id": "dab9748c",
   "metadata": {},
   "outputs": [
    {
     "data": {
      "text/plain": [
       "511"
      ]
     },
     "execution_count": 25,
     "metadata": {},
     "output_type": "execute_result"
    }
   ],
   "source": [
    "666-155"
   ]
  },
  {
   "cell_type": "code",
   "execution_count": 26,
   "id": "2ef2fb78",
   "metadata": {},
   "outputs": [],
   "source": [
    "intval = 85652685"
   ]
  },
  {
   "cell_type": "code",
   "execution_count": 28,
   "id": "b218e03f",
   "metadata": {},
   "outputs": [
    {
     "data": {
      "text/plain": [
       "248124034487775646517962311316131698511320185067772314374257831205078125"
      ]
     },
     "execution_count": 28,
     "metadata": {},
     "output_type": "execute_result"
    }
   ],
   "source": [
    "intval**9"
   ]
  },
  {
   "cell_type": "code",
   "execution_count": 29,
   "id": "ecd2f030",
   "metadata": {},
   "outputs": [],
   "source": [
    "fval = 6532.85"
   ]
  },
  {
   "cell_type": "code",
   "execution_count": 30,
   "id": "3c3f491d",
   "metadata": {},
   "outputs": [
    {
     "data": {
      "text/plain": [
       "278809815837.9242"
      ]
     },
     "execution_count": 30,
     "metadata": {},
     "output_type": "execute_result"
    }
   ],
   "source": [
    "fval**3"
   ]
  },
  {
   "cell_type": "code",
   "execution_count": 31,
   "id": "703638d1",
   "metadata": {},
   "outputs": [],
   "source": [
    "f1 = 12.25\n",
    "f2 = 123.54e5"
   ]
  },
  {
   "cell_type": "code",
   "execution_count": 32,
   "id": "dcef0252",
   "metadata": {},
   "outputs": [
    {
     "data": {
      "text/plain": [
       "9.915816739517566e-07"
      ]
     },
     "execution_count": 32,
     "metadata": {},
     "output_type": "execute_result"
    }
   ],
   "source": [
    "f1/f2"
   ]
  },
  {
   "cell_type": "code",
   "execution_count": 42,
   "id": "c3b356b0",
   "metadata": {},
   "outputs": [],
   "source": [
    "v = \"\"\"\n",
    "My name is Rozi  \n",
    "I am fine \n",
    "what are you doing\n",
    "keep going\"\"\""
   ]
  },
  {
   "cell_type": "code",
   "execution_count": 43,
   "id": "6126ba53",
   "metadata": {},
   "outputs": [
    {
     "data": {
      "text/plain": [
       "'\\nMy name is Rozi  \\nI am fine \\nwhat are you doing\\nkeep going'"
      ]
     },
     "execution_count": 43,
     "metadata": {},
     "output_type": "execute_result"
    }
   ],
   "source": [
    "v"
   ]
  },
  {
   "cell_type": "code",
   "execution_count": 41,
   "id": "f5128e9f",
   "metadata": {},
   "outputs": [
    {
     "data": {
      "text/plain": [
       "4"
      ]
     },
     "execution_count": 41,
     "metadata": {},
     "output_type": "execute_result"
    }
   ],
   "source": [
    "v.count(\"\\n\")"
   ]
  },
  {
   "cell_type": "code",
   "execution_count": 47,
   "id": "2e903611",
   "metadata": {},
   "outputs": [],
   "source": [
    "a = \"My name is Rozina\""
   ]
  },
  {
   "cell_type": "code",
   "execution_count": 48,
   "id": "1e585571",
   "metadata": {},
   "outputs": [
    {
     "ename": "TypeError",
     "evalue": "'str' object does not support item assignment",
     "output_type": "error",
     "traceback": [
      "\u001b[1;31m---------------------------------------------------------------------------\u001b[0m",
      "\u001b[1;31mTypeError\u001b[0m                                 Traceback (most recent call last)",
      "Cell \u001b[1;32mIn[48], line 1\u001b[0m\n\u001b[1;32m----> 1\u001b[0m a[\u001b[38;5;241m5\u001b[39m] \u001b[38;5;241m=\u001b[39m \u001b[38;5;124m\"\u001b[39m\u001b[38;5;124mj\u001b[39m\u001b[38;5;124m\"\u001b[39m\n",
      "\u001b[1;31mTypeError\u001b[0m: 'str' object does not support item assignment"
     ]
    }
   ],
   "source": [
    "a[5] = \"j\""
   ]
  },
  {
   "cell_type": "code",
   "execution_count": 49,
   "id": "72c252b9",
   "metadata": {},
   "outputs": [],
   "source": [
    "b = a.replace(\"Rozina\",\"ROZINA RAZZAK\")"
   ]
  },
  {
   "cell_type": "code",
   "execution_count": 50,
   "id": "f2f3b420",
   "metadata": {},
   "outputs": [
    {
     "data": {
      "text/plain": [
       "'My name is ROZINA RAZZAK'"
      ]
     },
     "execution_count": 50,
     "metadata": {},
     "output_type": "execute_result"
    }
   ],
   "source": [
    "b"
   ]
  },
  {
   "cell_type": "code",
   "execution_count": 51,
   "id": "7de66306",
   "metadata": {},
   "outputs": [
    {
     "data": {
      "text/plain": [
       "'My name is Rozina'"
      ]
     },
     "execution_count": 51,
     "metadata": {},
     "output_type": "execute_result"
    }
   ],
   "source": [
    "a"
   ]
  },
  {
   "cell_type": "code",
   "execution_count": 52,
   "id": "d2c9fbea",
   "metadata": {},
   "outputs": [],
   "source": [
    "s = \"21\\\\25\""
   ]
  },
  {
   "cell_type": "code",
   "execution_count": 53,
   "id": "182a572c",
   "metadata": {},
   "outputs": [
    {
     "data": {
      "text/plain": [
       "'21\\\\25'"
      ]
     },
     "execution_count": 53,
     "metadata": {},
     "output_type": "execute_result"
    }
   ],
   "source": [
    "s"
   ]
  },
  {
   "cell_type": "code",
   "execution_count": 54,
   "id": "d4e97741",
   "metadata": {},
   "outputs": [
    {
     "name": "stdout",
     "output_type": "stream",
     "text": [
      "21\\25\n"
     ]
    }
   ],
   "source": [
    "print(s)"
   ]
  },
  {
   "cell_type": "code",
   "execution_count": 57,
   "id": "a093f27d",
   "metadata": {},
   "outputs": [],
   "source": [
    "t = r'this\\has\\no\\special\\characters'"
   ]
  },
  {
   "cell_type": "code",
   "execution_count": 58,
   "id": "5f6e4bb1",
   "metadata": {},
   "outputs": [
    {
     "data": {
      "text/plain": [
       "'this\\\\has\\\\no\\\\special\\\\characters'"
      ]
     },
     "execution_count": 58,
     "metadata": {},
     "output_type": "execute_result"
    }
   ],
   "source": [
    "t"
   ]
  },
  {
   "cell_type": "code",
   "execution_count": 59,
   "id": "529ee5c2",
   "metadata": {},
   "outputs": [
    {
     "name": "stdout",
     "output_type": "stream",
     "text": [
      "this\\has\\no\\special\\characters\n"
     ]
    }
   ],
   "source": [
    "print(t)"
   ]
  },
  {
   "cell_type": "code",
   "execution_count": 61,
   "id": "f4ca7635",
   "metadata": {},
   "outputs": [
    {
     "data": {
      "text/plain": [
       "'My name is Rozina no My name is ROZINA RAZZAK'"
      ]
     },
     "execution_count": 61,
     "metadata": {},
     "output_type": "execute_result"
    }
   ],
   "source": [
    "k = a + \" no \" + b\n",
    "k"
   ]
  },
  {
   "cell_type": "code",
   "execution_count": 72,
   "id": "76e5f409",
   "metadata": {},
   "outputs": [],
   "source": [
    "template = \"{0:.2f} {1:s} are worth {2:d}\""
   ]
  },
  {
   "cell_type": "code",
   "execution_count": 73,
   "id": "798fd156",
   "metadata": {},
   "outputs": [
    {
     "data": {
      "text/plain": [
       "'4.56 ROse are worth 842'"
      ]
     },
     "execution_count": 73,
     "metadata": {},
     "output_type": "execute_result"
    }
   ],
   "source": [
    "template.format(4.5560,\"ROse\",842)"
   ]
  },
  {
   "cell_type": "code",
   "execution_count": 77,
   "id": "25754104",
   "metadata": {},
   "outputs": [],
   "source": [
    "val = 'español'"
   ]
  },
  {
   "cell_type": "code",
   "execution_count": 78,
   "id": "876178fc",
   "metadata": {},
   "outputs": [],
   "source": [
    "val_utf8 = val.encode('utf-8')"
   ]
  },
  {
   "cell_type": "code",
   "execution_count": 80,
   "id": "bb0767a4",
   "metadata": {},
   "outputs": [
    {
     "data": {
      "text/plain": [
       "b'espa\\xc3\\xb1ol'"
      ]
     },
     "execution_count": 80,
     "metadata": {},
     "output_type": "execute_result"
    }
   ],
   "source": [
    "val_utf8"
   ]
  },
  {
   "cell_type": "code",
   "execution_count": 81,
   "id": "946817e9",
   "metadata": {},
   "outputs": [
    {
     "data": {
      "text/plain": [
       "bytes"
      ]
     },
     "execution_count": 81,
     "metadata": {},
     "output_type": "execute_result"
    }
   ],
   "source": [
    "type(val_utf8)"
   ]
  },
  {
   "cell_type": "code",
   "execution_count": 84,
   "id": "329b87b8",
   "metadata": {},
   "outputs": [
    {
     "data": {
      "text/plain": [
       "str"
      ]
     },
     "execution_count": 84,
     "metadata": {},
     "output_type": "execute_result"
    }
   ],
   "source": [
    "type(val)"
   ]
  },
  {
   "cell_type": "code",
   "execution_count": 86,
   "id": "e1e39dfe",
   "metadata": {},
   "outputs": [
    {
     "data": {
      "text/plain": [
       "'español'"
      ]
     },
     "execution_count": 86,
     "metadata": {},
     "output_type": "execute_result"
    }
   ],
   "source": [
    "val_utf8.decode('utf-8')"
   ]
  },
  {
   "cell_type": "code",
   "execution_count": 98,
   "id": "9217fff4",
   "metadata": {},
   "outputs": [
    {
     "data": {
      "text/plain": [
       "'ROZINA'"
      ]
     },
     "execution_count": 98,
     "metadata": {},
     "output_type": "execute_result"
    }
   ],
   "source": [
    "h = \"ROZINA\"\n",
    "h"
   ]
  },
  {
   "cell_type": "code",
   "execution_count": 100,
   "id": "b20fc2fc",
   "metadata": {},
   "outputs": [
    {
     "data": {
      "text/plain": [
       "b'ROZINA'"
      ]
     },
     "execution_count": 100,
     "metadata": {},
     "output_type": "execute_result"
    }
   ],
   "source": [
    "j = h.encode(\"utf-8\")\n",
    "j"
   ]
  },
  {
   "cell_type": "code",
   "execution_count": 101,
   "id": "57b56c41",
   "metadata": {},
   "outputs": [
    {
     "name": "stdout",
     "output_type": "stream",
     "text": [
      "<class 'str'>\n",
      "<class 'bytes'>\n"
     ]
    }
   ],
   "source": [
    "print(type(h)) ; print(type(j))"
   ]
  },
  {
   "cell_type": "code",
   "execution_count": 103,
   "id": "5195a920",
   "metadata": {},
   "outputs": [
    {
     "data": {
      "text/plain": [
       "'ROZINA'"
      ]
     },
     "execution_count": 103,
     "metadata": {},
     "output_type": "execute_result"
    }
   ],
   "source": [
    "g = j.decode(\"utf-8\")\n",
    "g"
   ]
  },
  {
   "cell_type": "code",
   "execution_count": 104,
   "id": "1348534d",
   "metadata": {},
   "outputs": [
    {
     "data": {
      "text/plain": [
       "str"
      ]
     },
     "execution_count": 104,
     "metadata": {},
     "output_type": "execute_result"
    }
   ],
   "source": [
    "type(g)"
   ]
  },
  {
   "cell_type": "code",
   "execution_count": 106,
   "id": "655bbb06",
   "metadata": {},
   "outputs": [
    {
     "data": {
      "text/plain": [
       "b'espa\\xf1ol'"
      ]
     },
     "execution_count": 106,
     "metadata": {},
     "output_type": "execute_result"
    }
   ],
   "source": [
    "val.encode(\"latin1\")"
   ]
  },
  {
   "cell_type": "code",
   "execution_count": 107,
   "id": "ac71d4f5",
   "metadata": {},
   "outputs": [
    {
     "data": {
      "text/plain": [
       "b'\\xff\\xfee\\x00s\\x00p\\x00a\\x00\\xf1\\x00o\\x00l\\x00'"
      ]
     },
     "execution_count": 107,
     "metadata": {},
     "output_type": "execute_result"
    }
   ],
   "source": [
    "val.encode(\"utf-16\")"
   ]
  },
  {
   "cell_type": "code",
   "execution_count": 108,
   "id": "48ddc2e1",
   "metadata": {},
   "outputs": [
    {
     "data": {
      "text/plain": [
       "b'e\\x00s\\x00p\\x00a\\x00\\xf1\\x00o\\x00l\\x00'"
      ]
     },
     "execution_count": 108,
     "metadata": {},
     "output_type": "execute_result"
    }
   ],
   "source": [
    "val.encode(\"utf-16le\")"
   ]
  },
  {
   "cell_type": "code",
   "execution_count": 109,
   "id": "596a8c7d",
   "metadata": {},
   "outputs": [],
   "source": [
    "bytes_val = b'this is bytes'"
   ]
  },
  {
   "cell_type": "code",
   "execution_count": 110,
   "id": "ad6b8f74",
   "metadata": {},
   "outputs": [
    {
     "data": {
      "text/plain": [
       "b'this is bytes'"
      ]
     },
     "execution_count": 110,
     "metadata": {},
     "output_type": "execute_result"
    }
   ],
   "source": [
    "bytes_val"
   ]
  },
  {
   "cell_type": "code",
   "execution_count": 111,
   "id": "2772c4e1",
   "metadata": {},
   "outputs": [],
   "source": [
    "decoded = bytes_val.decode(\"utf-8\")"
   ]
  },
  {
   "cell_type": "code",
   "execution_count": 112,
   "id": "cfe2578c",
   "metadata": {},
   "outputs": [
    {
     "data": {
      "text/plain": [
       "'this is bytes'"
      ]
     },
     "execution_count": 112,
     "metadata": {},
     "output_type": "execute_result"
    }
   ],
   "source": [
    "decoded"
   ]
  },
  {
   "cell_type": "code",
   "execution_count": 113,
   "id": "d299c50d",
   "metadata": {},
   "outputs": [
    {
     "data": {
      "text/plain": [
       "True"
      ]
     },
     "execution_count": 113,
     "metadata": {},
     "output_type": "execute_result"
    }
   ],
   "source": [
    "True and True"
   ]
  },
  {
   "cell_type": "code",
   "execution_count": 114,
   "id": "423a27ee",
   "metadata": {},
   "outputs": [
    {
     "data": {
      "text/plain": [
       "True"
      ]
     },
     "execution_count": 114,
     "metadata": {},
     "output_type": "execute_result"
    }
   ],
   "source": [
    "False or True"
   ]
  },
  {
   "cell_type": "code",
   "execution_count": 115,
   "id": "2d10c5b3",
   "metadata": {},
   "outputs": [],
   "source": [
    "s = '58655.8645'"
   ]
  },
  {
   "cell_type": "code",
   "execution_count": 116,
   "id": "5c351bb0",
   "metadata": {},
   "outputs": [],
   "source": [
    "fval = float(s)"
   ]
  },
  {
   "cell_type": "code",
   "execution_count": 117,
   "id": "b913d743",
   "metadata": {},
   "outputs": [
    {
     "data": {
      "text/plain": [
       "58655.8645"
      ]
     },
     "execution_count": 117,
     "metadata": {},
     "output_type": "execute_result"
    }
   ],
   "source": [
    "fval"
   ]
  },
  {
   "cell_type": "code",
   "execution_count": 119,
   "id": "b76eb14e",
   "metadata": {},
   "outputs": [
    {
     "data": {
      "text/plain": [
       "float"
      ]
     },
     "execution_count": 119,
     "metadata": {},
     "output_type": "execute_result"
    }
   ],
   "source": [
    "type(fval)"
   ]
  },
  {
   "cell_type": "code",
   "execution_count": 121,
   "id": "a1668928",
   "metadata": {},
   "outputs": [
    {
     "data": {
      "text/plain": [
       "58655"
      ]
     },
     "execution_count": 121,
     "metadata": {},
     "output_type": "execute_result"
    }
   ],
   "source": [
    "int(fval)"
   ]
  },
  {
   "cell_type": "code",
   "execution_count": 122,
   "id": "5c641dbd",
   "metadata": {},
   "outputs": [
    {
     "data": {
      "text/plain": [
       "True"
      ]
     },
     "execution_count": 122,
     "metadata": {},
     "output_type": "execute_result"
    }
   ],
   "source": [
    "bool(fval)"
   ]
  },
  {
   "cell_type": "code",
   "execution_count": 123,
   "id": "18b008ee",
   "metadata": {},
   "outputs": [
    {
     "data": {
      "text/plain": [
       "False"
      ]
     },
     "execution_count": 123,
     "metadata": {},
     "output_type": "execute_result"
    }
   ],
   "source": [
    "bool(0)"
   ]
  },
  {
   "cell_type": "code",
   "execution_count": 129,
   "id": "53317537",
   "metadata": {},
   "outputs": [],
   "source": [
    "a = None"
   ]
  },
  {
   "cell_type": "code",
   "execution_count": 128,
   "id": "36d2cb7b",
   "metadata": {},
   "outputs": [
    {
     "data": {
      "text/plain": [
       "True"
      ]
     },
     "execution_count": 128,
     "metadata": {},
     "output_type": "execute_result"
    }
   ],
   "source": [
    "a is None"
   ]
  },
  {
   "cell_type": "code",
   "execution_count": 130,
   "id": "a2560f6b",
   "metadata": {},
   "outputs": [],
   "source": [
    "b = 5"
   ]
  },
  {
   "cell_type": "code",
   "execution_count": 131,
   "id": "9990d9ba",
   "metadata": {},
   "outputs": [
    {
     "data": {
      "text/plain": [
       "False"
      ]
     },
     "execution_count": 131,
     "metadata": {},
     "output_type": "execute_result"
    }
   ],
   "source": [
    "b is None"
   ]
  },
  {
   "cell_type": "code",
   "execution_count": 133,
   "id": "823f2a38",
   "metadata": {},
   "outputs": [
    {
     "data": {
      "text/plain": [
       "True"
      ]
     },
     "execution_count": 133,
     "metadata": {},
     "output_type": "execute_result"
    }
   ],
   "source": [
    "b is not None"
   ]
  },
  {
   "cell_type": "code",
   "execution_count": 137,
   "id": "68b80f1b",
   "metadata": {},
   "outputs": [],
   "source": [
    "def add_and_maybe_multiply(a,b,c= None):\n",
    "    result = a + b\n",
    "    \n",
    "    if c is not None:\n",
    "        result = result * c\n",
    "        \n",
    "    return result    "
   ]
  },
  {
   "cell_type": "code",
   "execution_count": 138,
   "id": "cca26864",
   "metadata": {},
   "outputs": [
    {
     "data": {
      "text/plain": [
       "41"
      ]
     },
     "execution_count": 138,
     "metadata": {},
     "output_type": "execute_result"
    }
   ],
   "source": [
    "add_and_maybe_multiply(21,20)"
   ]
  },
  {
   "cell_type": "code",
   "execution_count": 139,
   "id": "19b2127b",
   "metadata": {},
   "outputs": [
    {
     "data": {
      "text/plain": [
       "100"
      ]
     },
     "execution_count": 139,
     "metadata": {},
     "output_type": "execute_result"
    }
   ],
   "source": [
    "add_and_maybe_multiply(20,30,2)"
   ]
  },
  {
   "cell_type": "code",
   "execution_count": 140,
   "id": "86800bcb",
   "metadata": {},
   "outputs": [
    {
     "data": {
      "text/plain": [
       "NoneType"
      ]
     },
     "execution_count": 140,
     "metadata": {},
     "output_type": "execute_result"
    }
   ],
   "source": [
    "type(None)"
   ]
  },
  {
   "cell_type": "code",
   "execution_count": 141,
   "id": "103b3560",
   "metadata": {},
   "outputs": [],
   "source": [
    "from datetime import datetime, date, time"
   ]
  },
  {
   "cell_type": "code",
   "execution_count": 142,
   "id": "f83e4608",
   "metadata": {},
   "outputs": [],
   "source": [
    "dt = datetime(2011,10,29,20,30,21)"
   ]
  },
  {
   "cell_type": "code",
   "execution_count": 143,
   "id": "fbbe1786",
   "metadata": {},
   "outputs": [
    {
     "data": {
      "text/plain": [
       "29"
      ]
     },
     "execution_count": 143,
     "metadata": {},
     "output_type": "execute_result"
    }
   ],
   "source": [
    "dt.day"
   ]
  },
  {
   "cell_type": "code",
   "execution_count": 144,
   "id": "a2d0e041",
   "metadata": {},
   "outputs": [
    {
     "data": {
      "text/plain": [
       "21"
      ]
     },
     "execution_count": 144,
     "metadata": {},
     "output_type": "execute_result"
    }
   ],
   "source": [
    "dt.second"
   ]
  },
  {
   "cell_type": "code",
   "execution_count": 145,
   "id": "fa6a1ba6",
   "metadata": {},
   "outputs": [
    {
     "data": {
      "text/plain": [
       "30"
      ]
     },
     "execution_count": 145,
     "metadata": {},
     "output_type": "execute_result"
    }
   ],
   "source": [
    "dt.minute"
   ]
  },
  {
   "cell_type": "code",
   "execution_count": 146,
   "id": "ac33ef59",
   "metadata": {},
   "outputs": [
    {
     "data": {
      "text/plain": [
       "datetime.date(2011, 10, 29)"
      ]
     },
     "execution_count": 146,
     "metadata": {},
     "output_type": "execute_result"
    }
   ],
   "source": [
    "dt.date()"
   ]
  },
  {
   "cell_type": "code",
   "execution_count": 148,
   "id": "6c46d2a9",
   "metadata": {},
   "outputs": [
    {
     "data": {
      "text/plain": [
       "datetime.time(20, 30, 21)"
      ]
     },
     "execution_count": 148,
     "metadata": {},
     "output_type": "execute_result"
    }
   ],
   "source": [
    "dt.time()"
   ]
  },
  {
   "cell_type": "code",
   "execution_count": 149,
   "id": "9efb6f3f",
   "metadata": {},
   "outputs": [
    {
     "data": {
      "text/plain": [
       "'10/29/2011 20:30'"
      ]
     },
     "execution_count": 149,
     "metadata": {},
     "output_type": "execute_result"
    }
   ],
   "source": [
    "dt.strftime('%m/%d/%Y %H:%M')"
   ]
  },
  {
   "cell_type": "code",
   "execution_count": 174,
   "id": "9d4ff52a",
   "metadata": {},
   "outputs": [
    {
     "data": {
      "text/plain": [
       "datetime.datetime(2009, 10, 31, 0, 0)"
      ]
     },
     "execution_count": 174,
     "metadata": {},
     "output_type": "execute_result"
    }
   ],
   "source": [
    "datetime.strptime('20091031', '%Y%m%d')"
   ]
  },
  {
   "cell_type": "code",
   "execution_count": 175,
   "id": "5f40e5d4",
   "metadata": {},
   "outputs": [
    {
     "data": {
      "text/plain": [
       "datetime.datetime(2011, 10, 29, 20, 30, 21)"
      ]
     },
     "execution_count": 175,
     "metadata": {},
     "output_type": "execute_result"
    }
   ],
   "source": [
    "dt"
   ]
  },
  {
   "cell_type": "code",
   "execution_count": 180,
   "id": "0323f5ad",
   "metadata": {},
   "outputs": [
    {
     "data": {
      "text/plain": [
       "datetime.datetime(2011, 10, 29, 20, 0)"
      ]
     },
     "execution_count": 180,
     "metadata": {},
     "output_type": "execute_result"
    }
   ],
   "source": [
    "dt.replace(minute = 0, second =0)"
   ]
  },
  {
   "cell_type": "code",
   "execution_count": 181,
   "id": "3e8f260d",
   "metadata": {},
   "outputs": [],
   "source": [
    "dt2 = datetime(2011, 11, 15, 22, 30)"
   ]
  },
  {
   "cell_type": "code",
   "execution_count": 182,
   "id": "7977565a",
   "metadata": {},
   "outputs": [],
   "source": [
    "delta = dt2 - dt"
   ]
  },
  {
   "cell_type": "code",
   "execution_count": 183,
   "id": "294227d2",
   "metadata": {},
   "outputs": [
    {
     "data": {
      "text/plain": [
       "datetime.timedelta(days=17, seconds=7179)"
      ]
     },
     "execution_count": 183,
     "metadata": {},
     "output_type": "execute_result"
    }
   ],
   "source": [
    "delta"
   ]
  },
  {
   "cell_type": "code",
   "execution_count": 184,
   "id": "7dcb4d93",
   "metadata": {},
   "outputs": [
    {
     "data": {
      "text/plain": [
       "datetime.timedelta"
      ]
     },
     "execution_count": 184,
     "metadata": {},
     "output_type": "execute_result"
    }
   ],
   "source": [
    "type(delta)"
   ]
  },
  {
   "cell_type": "code",
   "execution_count": 185,
   "id": "7ca882f3",
   "metadata": {},
   "outputs": [
    {
     "data": {
      "text/plain": [
       "datetime.datetime(2011, 10, 29, 20, 30, 21)"
      ]
     },
     "execution_count": 185,
     "metadata": {},
     "output_type": "execute_result"
    }
   ],
   "source": [
    "dt"
   ]
  },
  {
   "cell_type": "code",
   "execution_count": 186,
   "id": "6fad068f",
   "metadata": {},
   "outputs": [
    {
     "data": {
      "text/plain": [
       "datetime.datetime(2011, 11, 15, 22, 30)"
      ]
     },
     "execution_count": 186,
     "metadata": {},
     "output_type": "execute_result"
    }
   ],
   "source": [
    "dt + delta"
   ]
  },
  {
   "cell_type": "code",
   "execution_count": 193,
   "id": "bf084d37",
   "metadata": {},
   "outputs": [
    {
     "name": "stdout",
     "output_type": "stream",
     "text": [
      "enter the number to check either its +ve or -ve: 10\n",
      "Positive and greater than or equal to 5\n"
     ]
    }
   ],
   "source": [
    "x = int(input('enter the number to check either its +ve or -ve: '))\n",
    "\n",
    "if x < 0 :\n",
    "    print(\"Its negative\")\n",
    "elif x == 0:\n",
    "    print('Equal to zero')\n",
    "elif 0 < x < 5:\n",
    "    print('Positive but smaller than 5')\n",
    "else:\n",
    "     print('Positive and greater than or equal to 5')     "
   ]
  },
  {
   "cell_type": "code",
   "execution_count": 194,
   "id": "ca7d47f2",
   "metadata": {},
   "outputs": [],
   "source": [
    "a = 5 ; b = 7\n",
    "c = 8 ; d = 4"
   ]
  },
  {
   "cell_type": "code",
   "execution_count": 197,
   "id": "c01dd264",
   "metadata": {},
   "outputs": [
    {
     "name": "stdout",
     "output_type": "stream",
     "text": [
      "Made it\n"
     ]
    }
   ],
   "source": [
    "if a > b or c > d:\n",
    "    print('Made it')"
   ]
  },
  {
   "cell_type": "code",
   "execution_count": 198,
   "id": "b57ad180",
   "metadata": {},
   "outputs": [
    {
     "data": {
      "text/plain": [
       "True"
      ]
     },
     "execution_count": 198,
     "metadata": {},
     "output_type": "execute_result"
    }
   ],
   "source": [
    "4 > 3 > 2 > 1"
   ]
  },
  {
   "cell_type": "code",
   "execution_count": 200,
   "id": "c69d544e",
   "metadata": {},
   "outputs": [],
   "source": [
    "sequence = [1, 2, None, 4, None, 5]\n",
    "total = 0\n",
    "\n",
    "for value in sequence:\n",
    "    if value is None:\n",
    "        continue\n",
    "    total += value    "
   ]
  },
  {
   "cell_type": "code",
   "execution_count": 201,
   "id": "582079bd",
   "metadata": {},
   "outputs": [
    {
     "data": {
      "text/plain": [
       "12"
      ]
     },
     "execution_count": 201,
     "metadata": {},
     "output_type": "execute_result"
    }
   ],
   "source": [
    "total"
   ]
  },
  {
   "cell_type": "code",
   "execution_count": 202,
   "id": "a5be4c42",
   "metadata": {},
   "outputs": [],
   "source": [
    "sequence = [1, 2, 3, 4, 5, 2, 1]\n",
    "total_until_5 = 0\n",
    "for value in sequence:\n",
    "    if value == 5:\n",
    "        break\n",
    "    total_until_5 += value    "
   ]
  },
  {
   "cell_type": "code",
   "execution_count": 203,
   "id": "dd8bbe9c",
   "metadata": {},
   "outputs": [
    {
     "data": {
      "text/plain": [
       "10"
      ]
     },
     "execution_count": 203,
     "metadata": {},
     "output_type": "execute_result"
    }
   ],
   "source": [
    "total_until_5"
   ]
  },
  {
   "cell_type": "code",
   "execution_count": 209,
   "id": "e3bf2587",
   "metadata": {},
   "outputs": [
    {
     "name": "stdout",
     "output_type": "stream",
     "text": [
      "(0, 0)\n",
      "(1, 0)\n",
      "(1, 1)\n",
      "(2, 0)\n",
      "(2, 1)\n",
      "(2, 2)\n",
      "(3, 0)\n",
      "(3, 1)\n",
      "(3, 2)\n",
      "(3, 3)\n"
     ]
    }
   ],
   "source": [
    "for i in range(4):\n",
    "    for j in range(4):\n",
    "        if j > i:\n",
    "            break\n",
    "        print((i, j))    "
   ]
  },
  {
   "cell_type": "code",
   "execution_count": 222,
   "id": "ef984841",
   "metadata": {},
   "outputs": [],
   "source": [
    "x = 256\n",
    "total = 0\n",
    "\n",
    "while x > 0:\n",
    "    if total > 500:\n",
    "        break\n",
    "    total += x\n",
    "    x = x // 2\n",
    "    "
   ]
  },
  {
   "cell_type": "code",
   "execution_count": 223,
   "id": "88d2a7b3",
   "metadata": {},
   "outputs": [
    {
     "data": {
      "text/plain": [
       "504"
      ]
     },
     "execution_count": 223,
     "metadata": {},
     "output_type": "execute_result"
    }
   ],
   "source": [
    "total"
   ]
  },
  {
   "cell_type": "code",
   "execution_count": 226,
   "id": "4d2bcadb",
   "metadata": {},
   "outputs": [
    {
     "name": "stdout",
     "output_type": "stream",
     "text": [
      "positive\n"
     ]
    }
   ],
   "source": [
    "x = 12\n",
    "if x < 0:\n",
    "    print('negative')\n",
    "elif x == 0:\n",
    "    pass\n",
    "else:\n",
    "    print('positive')"
   ]
  },
  {
   "cell_type": "code",
   "execution_count": 227,
   "id": "06792798",
   "metadata": {},
   "outputs": [
    {
     "data": {
      "text/plain": [
       "range(0, 10)"
      ]
     },
     "execution_count": 227,
     "metadata": {},
     "output_type": "execute_result"
    }
   ],
   "source": [
    "range(10)"
   ]
  },
  {
   "cell_type": "code",
   "execution_count": 229,
   "id": "2c803c73",
   "metadata": {},
   "outputs": [
    {
     "data": {
      "text/plain": [
       "[0, 1, 2, 3, 4, 5, 6, 7, 8, 9, 10, 11, 12, 13, 14]"
      ]
     },
     "execution_count": 229,
     "metadata": {},
     "output_type": "execute_result"
    }
   ],
   "source": [
    "list(range(15))"
   ]
  },
  {
   "cell_type": "code",
   "execution_count": 230,
   "id": "ad20c5e1",
   "metadata": {},
   "outputs": [
    {
     "data": {
      "text/plain": [
       "[0, 2, 4, 6, 8, 10, 12, 14, 16, 18]"
      ]
     },
     "execution_count": 230,
     "metadata": {},
     "output_type": "execute_result"
    }
   ],
   "source": [
    "list(range(0, 20, 2))"
   ]
  },
  {
   "cell_type": "code",
   "execution_count": 231,
   "id": "0395d6c4",
   "metadata": {},
   "outputs": [
    {
     "data": {
      "text/plain": [
       "[5, 4, 3, 2, 1]"
      ]
     },
     "execution_count": 231,
     "metadata": {},
     "output_type": "execute_result"
    }
   ],
   "source": [
    "list(range(5, 0, -1))"
   ]
  },
  {
   "cell_type": "code",
   "execution_count": 233,
   "id": "4179aaeb",
   "metadata": {},
   "outputs": [],
   "source": [
    "seq = [1, 2, 3, 4]\n",
    "for i in range(len(seq)):\n",
    "    val = seq[i]"
   ]
  },
  {
   "cell_type": "code",
   "execution_count": 234,
   "id": "5e5c200c",
   "metadata": {},
   "outputs": [
    {
     "data": {
      "text/plain": [
       "4"
      ]
     },
     "execution_count": 234,
     "metadata": {},
     "output_type": "execute_result"
    }
   ],
   "source": [
    "val"
   ]
  },
  {
   "cell_type": "code",
   "execution_count": 235,
   "id": "409398f1",
   "metadata": {},
   "outputs": [],
   "source": [
    "sum = 0\n",
    "for i in range(100000):\n",
    "    if i % 3 == 0 or i % 5 == 0:\n",
    "        sum += i"
   ]
  },
  {
   "cell_type": "code",
   "execution_count": 236,
   "id": "92fafe04",
   "metadata": {},
   "outputs": [
    {
     "data": {
      "text/plain": [
       "2333316668"
      ]
     },
     "execution_count": 236,
     "metadata": {},
     "output_type": "execute_result"
    }
   ],
   "source": [
    "sum"
   ]
  },
  {
   "cell_type": "raw",
   "id": "a45a68fa",
   "metadata": {},
   "source": [
    "value = true-expr if condition else false-expr\n",
    "\n",
    "if condition:\n",
    "    value = true-expr\n",
    "else:\n",
    "    value = false-expr"
   ]
  },
  {
   "cell_type": "code",
   "execution_count": 244,
   "id": "5c017ed3",
   "metadata": {},
   "outputs": [
    {
     "data": {
      "text/plain": [
       "'Non-neagtive'"
      ]
     },
     "execution_count": 244,
     "metadata": {},
     "output_type": "execute_result"
    }
   ],
   "source": [
    "x = 5\n",
    "\n",
    "'Non-neagtive' if x >= 0 else 'Negative'"
   ]
  },
  {
   "cell_type": "code",
   "execution_count": 245,
   "id": "a71f077b",
   "metadata": {},
   "outputs": [
    {
     "data": {
      "text/plain": [
       "33"
      ]
     },
     "execution_count": 245,
     "metadata": {},
     "output_type": "execute_result"
    }
   ],
   "source": [
    "84-51"
   ]
  },
  {
   "cell_type": "code",
   "execution_count": 2,
   "id": "dbf5c931",
   "metadata": {},
   "outputs": [],
   "source": [
    "import numpy as np\n",
    "\n",
    "data = np.array([9,2,5,4,12,7,8,11,9,3,7,4,12,5,4,10,9,6,9,4])"
   ]
  },
  {
   "cell_type": "code",
   "execution_count": 3,
   "id": "3d72e566",
   "metadata": {},
   "outputs": [],
   "source": [
    "data.sort()"
   ]
  },
  {
   "cell_type": "code",
   "execution_count": 4,
   "id": "9d425f08",
   "metadata": {},
   "outputs": [
    {
     "data": {
      "text/plain": [
       "array([ 2,  3,  4,  4,  4,  4,  5,  5,  6,  7,  7,  8,  9,  9,  9,  9, 10,\n",
       "       11, 12, 12])"
      ]
     },
     "execution_count": 4,
     "metadata": {},
     "output_type": "execute_result"
    }
   ],
   "source": [
    "data"
   ]
  },
  {
   "cell_type": "code",
   "execution_count": 5,
   "id": "0086de30",
   "metadata": {},
   "outputs": [
    {
     "data": {
      "text/plain": [
       "array([ 2,  3,  4,  4,  4,  4,  5,  5,  6,  7,  7,  8,  9,  9,  9,  9, 10,\n",
       "       11, 12, 12])"
      ]
     },
     "execution_count": 5,
     "metadata": {},
     "output_type": "execute_result"
    }
   ],
   "source": [
    "data"
   ]
  },
  {
   "cell_type": "code",
   "execution_count": 8,
   "id": "63d3f9d5",
   "metadata": {},
   "outputs": [],
   "source": [
    " mean = data.mean()"
   ]
  },
  {
   "cell_type": "code",
   "execution_count": 10,
   "id": "a503a375",
   "metadata": {},
   "outputs": [],
   "source": [
    "sq = data - mean    "
   ]
  },
  {
   "cell_type": "code",
   "execution_count": 12,
   "id": "ca5c983e",
   "metadata": {},
   "outputs": [],
   "source": [
    "f = sq ** 2"
   ]
  },
  {
   "cell_type": "code",
   "execution_count": 14,
   "id": "ed22d394",
   "metadata": {},
   "outputs": [
    {
     "data": {
      "text/plain": [
       "array([25., 16.,  9.,  9.,  9.,  9.,  4.,  4.,  1.,  0.,  0.,  1.,  4.,\n",
       "        4.,  4.,  4.,  9., 16., 25., 25.])"
      ]
     },
     "execution_count": 14,
     "metadata": {},
     "output_type": "execute_result"
    }
   ],
   "source": [
    "f"
   ]
  },
  {
   "cell_type": "code",
   "execution_count": 16,
   "id": "036e24dc",
   "metadata": {},
   "outputs": [
    {
     "data": {
      "text/plain": [
       "2.9832867780352594"
      ]
     },
     "execution_count": 16,
     "metadata": {},
     "output_type": "execute_result"
    }
   ],
   "source": [
    "np.sqrt(f.mean())"
   ]
  },
  {
   "cell_type": "code",
   "execution_count": 2,
   "id": "a8d89534",
   "metadata": {},
   "outputs": [
    {
     "name": "stdout",
     "output_type": "stream",
     "text": [
      "Collecting termcolorNote: you may need to restart the kernel to use updated packages.\n",
      "\n",
      "  Obtaining dependency information for termcolor from https://files.pythonhosted.org/packages/d9/5f/8c716e47b3a50cbd7c146f45881e11d9414def768b7cd9c5e6650ec2a80a/termcolor-2.4.0-py3-none-any.whl.metadata\n",
      "  Downloading termcolor-2.4.0-py3-none-any.whl.metadata (6.1 kB)\n",
      "Downloading termcolor-2.4.0-py3-none-any.whl (7.7 kB)\n",
      "Installing collected packages: termcolor\n",
      "Successfully installed termcolor-2.4.0\n"
     ]
    }
   ],
   "source": [
    "pip install termcolor"
   ]
  },
  {
   "cell_type": "code",
   "execution_count": 3,
   "id": "eedbc1cc",
   "metadata": {},
   "outputs": [],
   "source": [
    "from termcolor import cprint"
   ]
  },
  {
   "cell_type": "code",
   "execution_count": 4,
   "id": "c67c0b70",
   "metadata": {},
   "outputs": [
    {
     "name": "stdout",
     "output_type": "stream",
     "text": [
      "\u001b[34mtest\u001b[0m\n"
     ]
    }
   ],
   "source": [
    "cprint('test', 'blue')"
   ]
  },
  {
   "cell_type": "code",
   "execution_count": 8,
   "id": "9287d6c3",
   "metadata": {},
   "outputs": [
    {
     "name": "stdout",
     "output_type": "stream",
     "text": [
      "\u001b[31mtest\u001b[0m\n"
     ]
    }
   ],
   "source": [
    "print('\\x1b[31mtest\\x1b[0m')"
   ]
  },
  {
   "cell_type": "code",
   "execution_count": 9,
   "id": "74a961ef",
   "metadata": {},
   "outputs": [],
   "source": [
    "from tqdm import tqdm\n",
    "tqdm.pandas()"
   ]
  },
  {
   "cell_type": "code",
   "execution_count": 11,
   "id": "00fb4cd8",
   "metadata": {},
   "outputs": [
    {
     "name": "stdout",
     "output_type": "stream",
     "text": [
      "\u001b[31mtest\u001b[0m\n"
     ]
    }
   ],
   "source": [
    "print('\\x1b[31mtest\\x1b[0m')"
   ]
  },
  {
   "cell_type": "code",
   "execution_count": 12,
   "id": "f5b680e6",
   "metadata": {},
   "outputs": [],
   "source": [
    "from termcolor import cprint\n",
    "from colorama import Fore"
   ]
  },
  {
   "cell_type": "code",
   "execution_count": 16,
   "id": "8425679f",
   "metadata": {},
   "outputs": [
    {
     "name": "stdout",
     "output_type": "stream",
     "text": [
      "\u001b[34mtest\u001b[0m\n",
      "\u001b[95mtest\n"
     ]
    }
   ],
   "source": [
    "cprint('test', 'blue')\n",
    "print(Fore.LIGHTMAGENTA_EX + 'test')"
   ]
  },
  {
   "cell_type": "code",
   "execution_count": 17,
   "id": "93ef633a",
   "metadata": {},
   "outputs": [],
   "source": [
    "from colorama import init\n",
    "init()"
   ]
  },
  {
   "cell_type": "code",
   "execution_count": null,
   "id": "b854d9f8",
   "metadata": {},
   "outputs": [],
   "source": [
    "print"
   ]
  }
 ],
 "metadata": {
  "kernelspec": {
   "display_name": "Python 3 (ipykernel)",
   "language": "python",
   "name": "python3"
  },
  "language_info": {
   "codemirror_mode": {
    "name": "ipython",
    "version": 3
   },
   "file_extension": ".py",
   "mimetype": "text/x-python",
   "name": "python",
   "nbconvert_exporter": "python",
   "pygments_lexer": "ipython3",
   "version": "3.11.4"
  }
 },
 "nbformat": 4,
 "nbformat_minor": 5
}
