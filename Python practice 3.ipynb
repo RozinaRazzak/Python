{
 "cells": [
  {
   "cell_type": "markdown",
   "id": "3130250c",
   "metadata": {},
   "source": [
    "# CH:01 \"Python Objects,Types and Expressions\""
   ]
  },
  {
   "cell_type": "code",
   "execution_count": 1,
   "id": "e7d8259a",
   "metadata": {},
   "outputs": [],
   "source": [
    "a = [2,4,6]"
   ]
  },
  {
   "cell_type": "code",
   "execution_count": 2,
   "id": "885ed8c3",
   "metadata": {},
   "outputs": [],
   "source": [
    "b = a"
   ]
  },
  {
   "cell_type": "code",
   "execution_count": 3,
   "id": "b5ddd4f3",
   "metadata": {},
   "outputs": [],
   "source": [
    "a.append(8)"
   ]
  },
  {
   "cell_type": "code",
   "execution_count": 4,
   "id": "fd3e3de6",
   "metadata": {},
   "outputs": [
    {
     "data": {
      "text/plain": [
       "[2, 4, 6, 8]"
      ]
     },
     "execution_count": 4,
     "metadata": {},
     "output_type": "execute_result"
    }
   ],
   "source": [
    "b"
   ]
  },
  {
   "cell_type": "code",
   "execution_count": 5,
   "id": "bb1a4eb1",
   "metadata": {},
   "outputs": [],
   "source": [
    "a = 1 "
   ]
  },
  {
   "cell_type": "code",
   "execution_count": 6,
   "id": "726c33ed",
   "metadata": {},
   "outputs": [
    {
     "data": {
      "text/plain": [
       "int"
      ]
     },
     "execution_count": 6,
     "metadata": {},
     "output_type": "execute_result"
    }
   ],
   "source": [
    "type(a)"
   ]
  },
  {
   "cell_type": "code",
   "execution_count": 7,
   "id": "ff7c7458",
   "metadata": {},
   "outputs": [],
   "source": [
    "a = a + 0.1"
   ]
  },
  {
   "cell_type": "code",
   "execution_count": 8,
   "id": "775a432a",
   "metadata": {},
   "outputs": [
    {
     "data": {
      "text/plain": [
       "float"
      ]
     },
     "execution_count": 8,
     "metadata": {},
     "output_type": "execute_result"
    }
   ],
   "source": [
    "type(a)"
   ]
  },
  {
   "cell_type": "code",
   "execution_count": 9,
   "id": "372dc10f",
   "metadata": {},
   "outputs": [],
   "source": [
    "a = 10 ; b = 20"
   ]
  },
  {
   "cell_type": "code",
   "execution_count": 10,
   "id": "c8894924",
   "metadata": {},
   "outputs": [],
   "source": [
    "def my_function():\n",
    "    global a\n",
    "    a = 11; b = 21"
   ]
  },
  {
   "cell_type": "code",
   "execution_count": 11,
   "id": "bf05784b",
   "metadata": {},
   "outputs": [
    {
     "name": "stdout",
     "output_type": "stream",
     "text": [
      "11\n",
      "20\n"
     ]
    }
   ],
   "source": [
    "my_function()\n",
    "print(a)\n",
    "print(b)"
   ]
  },
  {
   "cell_type": "code",
   "execution_count": 12,
   "id": "65ba8000",
   "metadata": {},
   "outputs": [
    {
     "name": "stdout",
     "output_type": "stream",
     "text": [
      "something else\n"
     ]
    }
   ],
   "source": [
    "x = 'one'              #note: setting x to a string will return else statement rather than generate a type error as may happen\n",
    "                       # in languages that are not dynamically typed .\n",
    "if x == 0:             # Dynamically typed languages such as python allow flexible assignment of objects with different types.\n",
    "    print('False')\n",
    "elif x == 1:\n",
    "    print('True')\n",
    "else:\n",
    "    print('something else')"
   ]
  },
  {
   "cell_type": "code",
   "execution_count": 19,
   "id": "512ea2df",
   "metadata": {},
   "outputs": [],
   "source": [
    "x = 0"
   ]
  },
  {
   "cell_type": "code",
   "execution_count": 20,
   "id": "d536ba0b",
   "metadata": {},
   "outputs": [
    {
     "name": "stdout",
     "output_type": "stream",
     "text": [
      "1\n",
      "2\n",
      "3\n"
     ]
    }
   ],
   "source": [
    "while x<3:\n",
    "    x +=1\n",
    "    print(x)"
   ]
  },
  {
   "cell_type": "code",
   "execution_count": 13,
   "id": "acb727a9",
   "metadata": {},
   "outputs": [
    {
     "name": "stdout",
     "output_type": "stream",
     "text": [
      "5\n",
      "10\n",
      "15\n",
      "20\n",
      "25\n",
      "30\n",
      "35\n",
      "40\n",
      "45\n",
      "50\n"
     ]
    }
   ],
   "source": [
    "y = 5\n",
    "while y < 51 : print(y); y += 5"
   ]
  },
  {
   "cell_type": "code",
   "execution_count": 14,
   "id": "5847bdd9",
   "metadata": {},
   "outputs": [
    {
     "name": "stdout",
     "output_type": "stream",
     "text": [
      "6\n",
      "12\n",
      "18\n",
      "24\n",
      "30\n",
      "36\n",
      "42\n",
      "48\n",
      "54\n",
      "60\n"
     ]
    }
   ],
   "source": [
    "six = 6\n",
    "while six < 61 : print(six); six += 6"
   ]
  },
  {
   "cell_type": "code",
   "execution_count": 18,
   "id": "2bf91758",
   "metadata": {},
   "outputs": [],
   "source": [
    "num = (2,3,5)\n",
    "def tables():\n",
    "    for i in num:\n",
    "        while i < 10: print(i); i += 1"
   ]
  },
  {
   "cell_type": "code",
   "execution_count": 19,
   "id": "7a0cb7ca",
   "metadata": {},
   "outputs": [
    {
     "name": "stdout",
     "output_type": "stream",
     "text": [
      "2\n",
      "3\n",
      "4\n",
      "5\n",
      "6\n",
      "7\n",
      "8\n",
      "9\n",
      "3\n",
      "4\n",
      "5\n",
      "6\n",
      "7\n",
      "8\n",
      "9\n",
      "5\n",
      "6\n",
      "7\n",
      "8\n",
      "9\n"
     ]
    }
   ],
   "source": [
    "tables()"
   ]
  },
  {
   "cell_type": "code",
   "execution_count": 47,
   "id": "95d1bce8",
   "metadata": {},
   "outputs": [],
   "source": [
    "s = 'roxinarazzakbuymeacarwhereareareyou'"
   ]
  },
  {
   "cell_type": "code",
   "execution_count": 48,
   "id": "a0beec5b",
   "metadata": {},
   "outputs": [
    {
     "data": {
      "text/plain": [
       "35"
      ]
     },
     "execution_count": 48,
     "metadata": {},
     "output_type": "execute_result"
    }
   ],
   "source": [
    "len(s)"
   ]
  },
  {
   "cell_type": "code",
   "execution_count": 49,
   "id": "0007e750",
   "metadata": {},
   "outputs": [
    {
     "data": {
      "text/plain": [
       "True"
      ]
     },
     "execution_count": 49,
     "metadata": {},
     "output_type": "execute_result"
    }
   ],
   "source": [
    "s.isalpha()"
   ]
  },
  {
   "cell_type": "code",
   "execution_count": 50,
   "id": "50c18afc",
   "metadata": {},
   "outputs": [
    {
     "data": {
      "text/plain": [
       "True"
      ]
     },
     "execution_count": 50,
     "metadata": {},
     "output_type": "execute_result"
    }
   ],
   "source": [
    "s.isalnum()      # find why they show true"
   ]
  },
  {
   "cell_type": "code",
   "execution_count": 52,
   "id": "f6140b4b",
   "metadata": {},
   "outputs": [],
   "source": [
    "#s.count(substring,[start,end])"
   ]
  },
  {
   "cell_type": "code",
   "execution_count": 54,
   "id": "f8d4c6d9",
   "metadata": {},
   "outputs": [],
   "source": [
    "#s.expandtabs([tabsize])"
   ]
  },
  {
   "cell_type": "code",
   "execution_count": 55,
   "id": "3ee7ba3a",
   "metadata": {},
   "outputs": [],
   "source": [
    "#s.find(substring,[start,,end])"
   ]
  },
  {
   "cell_type": "code",
   "execution_count": 66,
   "id": "3090f701",
   "metadata": {},
   "outputs": [],
   "source": [
    "y = '2165461643161bdb'\n",
    "v = '123654789513'"
   ]
  },
  {
   "cell_type": "code",
   "execution_count": 68,
   "id": "ba18c2bb",
   "metadata": {},
   "outputs": [
    {
     "name": "stdout",
     "output_type": "stream",
     "text": [
      "False\n",
      "True\n"
     ]
    }
   ],
   "source": [
    "print(y.isdigit())\n",
    "print(v.isdigit())"
   ]
  },
  {
   "cell_type": "code",
   "execution_count": 70,
   "id": "a14ddd0f",
   "metadata": {},
   "outputs": [
    {
     "data": {
      "text/plain": [
       "True"
      ]
     },
     "execution_count": 70,
     "metadata": {},
     "output_type": "execute_result"
    }
   ],
   "source": [
    "v.isalnum()"
   ]
  },
  {
   "cell_type": "code",
   "execution_count": 71,
   "id": "b5e2e800",
   "metadata": {},
   "outputs": [
    {
     "data": {
      "text/plain": [
       "False"
      ]
     },
     "execution_count": 71,
     "metadata": {},
     "output_type": "execute_result"
    }
   ],
   "source": [
    "v.isalpha()"
   ]
  },
  {
   "cell_type": "code",
   "execution_count": 73,
   "id": "842d58d1",
   "metadata": {},
   "outputs": [],
   "source": [
    "#s.join(t)"
   ]
  },
  {
   "cell_type": "code",
   "execution_count": 74,
   "id": "0ff5c5a3",
   "metadata": {},
   "outputs": [
    {
     "data": {
      "text/plain": [
       "'roxinarazzakbuymeacarwhereareareyou'"
      ]
     },
     "execution_count": 74,
     "metadata": {},
     "output_type": "execute_result"
    }
   ],
   "source": [
    "s.lower()"
   ]
  },
  {
   "cell_type": "code",
   "execution_count": 75,
   "id": "e08fef56",
   "metadata": {},
   "outputs": [
    {
     "data": {
      "text/plain": [
       "'ROXINARAZZAKBUYMEACARWHEREAREAREYOU'"
      ]
     },
     "execution_count": 75,
     "metadata": {},
     "output_type": "execute_result"
    }
   ],
   "source": [
    "s.upper()"
   ]
  },
  {
   "cell_type": "code",
   "execution_count": 76,
   "id": "62509694",
   "metadata": {},
   "outputs": [
    {
     "data": {
      "text/plain": [
       "'Roxinarazzakbuymeacarwhereareareyou'"
      ]
     },
     "execution_count": 76,
     "metadata": {},
     "output_type": "execute_result"
    }
   ],
   "source": [
    "s.title()"
   ]
  },
  {
   "cell_type": "code",
   "execution_count": 77,
   "id": "87e08a8f",
   "metadata": {},
   "outputs": [
    {
     "data": {
      "text/plain": [
       "str"
      ]
     },
     "execution_count": 77,
     "metadata": {},
     "output_type": "execute_result"
    }
   ],
   "source": [
    "type(s)"
   ]
  },
  {
   "cell_type": "code",
   "execution_count": 78,
   "id": "46e5464c",
   "metadata": {},
   "outputs": [
    {
     "data": {
      "text/plain": [
       "str"
      ]
     },
     "execution_count": 78,
     "metadata": {},
     "output_type": "execute_result"
    }
   ],
   "source": [
    "type(v)"
   ]
  },
  {
   "cell_type": "code",
   "execution_count": 79,
   "id": "612afe00",
   "metadata": {},
   "outputs": [
    {
     "data": {
      "text/plain": [
       "str"
      ]
     },
     "execution_count": 79,
     "metadata": {},
     "output_type": "execute_result"
    }
   ],
   "source": [
    "type(y)"
   ]
  },
  {
   "cell_type": "code",
   "execution_count": 81,
   "id": "48ce70cd",
   "metadata": {},
   "outputs": [],
   "source": [
    "#s.replace(old,new[maxreplace])"
   ]
  },
  {
   "cell_type": "code",
   "execution_count": 83,
   "id": "2f714719",
   "metadata": {},
   "outputs": [],
   "source": [
    "#s.strip([characters])"
   ]
  },
  {
   "cell_type": "code",
   "execution_count": 85,
   "id": "cd016dec",
   "metadata": {},
   "outputs": [],
   "source": [
    "#s.split([separator],[maxsplit])"
   ]
  },
  {
   "cell_type": "code",
   "execution_count": 86,
   "id": "d45f90a9",
   "metadata": {},
   "outputs": [],
   "source": [
    "greet = 'hello world'"
   ]
  },
  {
   "cell_type": "code",
   "execution_count": 94,
   "id": "c52429ea",
   "metadata": {},
   "outputs": [
    {
     "data": {
      "text/plain": [
       "'w'"
      ]
     },
     "execution_count": 94,
     "metadata": {},
     "output_type": "execute_result"
    }
   ],
   "source": [
    "greet[6]"
   ]
  },
  {
   "cell_type": "code",
   "execution_count": 95,
   "id": "0f66f733",
   "metadata": {},
   "outputs": [
    {
     "data": {
      "text/plain": [
       "' '"
      ]
     },
     "execution_count": 95,
     "metadata": {},
     "output_type": "execute_result"
    }
   ],
   "source": [
    "greet[5]"
   ]
  },
  {
   "cell_type": "code",
   "execution_count": 96,
   "id": "2c3a9c81",
   "metadata": {},
   "outputs": [
    {
     "data": {
      "text/plain": [
       "11"
      ]
     },
     "execution_count": 96,
     "metadata": {},
     "output_type": "execute_result"
    }
   ],
   "source": [
    "len(greet)"
   ]
  },
  {
   "cell_type": "code",
   "execution_count": 98,
   "id": "b2cabedf",
   "metadata": {},
   "outputs": [
    {
     "data": {
      "text/plain": [
       "'lo wo'"
      ]
     },
     "execution_count": 98,
     "metadata": {},
     "output_type": "execute_result"
    }
   ],
   "source": [
    "greet[3:8]"
   ]
  },
  {
   "cell_type": "code",
   "execution_count": 99,
   "id": "aa27207e",
   "metadata": {},
   "outputs": [
    {
     "data": {
      "text/plain": [
       "'hlw'"
      ]
     },
     "execution_count": 99,
     "metadata": {},
     "output_type": "execute_result"
    }
   ],
   "source": [
    "greet[0:9:3]"
   ]
  },
  {
   "cell_type": "code",
   "execution_count": 100,
   "id": "95bdfc3f",
   "metadata": {},
   "outputs": [
    {
     "data": {
      "text/plain": [
       "'hello world'"
      ]
     },
     "execution_count": 100,
     "metadata": {},
     "output_type": "execute_result"
    }
   ],
   "source": [
    "greet[:]"
   ]
  },
  {
   "cell_type": "code",
   "execution_count": 101,
   "id": "e16ba749",
   "metadata": {},
   "outputs": [
    {
     "data": {
      "text/plain": [
       "'hlowrd'"
      ]
     },
     "execution_count": 101,
     "metadata": {},
     "output_type": "execute_result"
    }
   ],
   "source": [
    "greet[0::2]"
   ]
  },
  {
   "cell_type": "code",
   "execution_count": 102,
   "id": "3db1c68f",
   "metadata": {},
   "outputs": [
    {
     "data": {
      "text/plain": [
       "'o'"
      ]
     },
     "execution_count": 102,
     "metadata": {},
     "output_type": "execute_result"
    }
   ],
   "source": [
    "greet[6+1]"
   ]
  },
  {
   "cell_type": "code",
   "execution_count": 104,
   "id": "ce09a83b",
   "metadata": {},
   "outputs": [
    {
     "data": {
      "text/plain": [
       "'w'"
      ]
     },
     "execution_count": 104,
     "metadata": {},
     "output_type": "execute_result"
    }
   ],
   "source": [
    "greet[2*3]"
   ]
  },
  {
   "cell_type": "code",
   "execution_count": 106,
   "id": "101ccb0c",
   "metadata": {},
   "outputs": [
    {
     "data": {
      "text/plain": [
       "'l'"
      ]
     },
     "execution_count": 106,
     "metadata": {},
     "output_type": "execute_result"
    }
   ],
   "source": [
    "greet[9//3]"
   ]
  },
  {
   "cell_type": "code",
   "execution_count": 109,
   "id": "a09b6f3f",
   "metadata": {},
   "outputs": [
    {
     "data": {
      "text/plain": [
       "'l'"
      ]
     },
     "execution_count": 109,
     "metadata": {},
     "output_type": "execute_result"
    }
   ],
   "source": [
    "greet[11-9]"
   ]
  },
  {
   "cell_type": "code",
   "execution_count": 110,
   "id": "6b1165c6",
   "metadata": {},
   "outputs": [
    {
     "data": {
      "text/plain": [
       "'d'"
      ]
     },
     "execution_count": 110,
     "metadata": {},
     "output_type": "execute_result"
    }
   ],
   "source": [
    "greet[len(greet)-1]"
   ]
  },
  {
   "cell_type": "code",
   "execution_count": 113,
   "id": "e93a0251",
   "metadata": {},
   "outputs": [
    {
     "name": "stdout",
     "output_type": "stream",
     "text": [
      "(0, 'h')\n",
      "(1, 'e')\n",
      "(2, 'l')\n",
      "(3, 'l')\n",
      "(4, 'o')\n"
     ]
    }
   ],
   "source": [
    "for i in enumerate(greet[0:5]):print(i)"
   ]
  },
  {
   "cell_type": "code",
   "execution_count": 114,
   "id": "9bacf5ef",
   "metadata": {},
   "outputs": [
    {
     "name": "stdout",
     "output_type": "stream",
     "text": [
      "(0, 'h')\n",
      "(1, 'e')\n",
      "(2, 'l')\n",
      "(3, 'l')\n",
      "(4, 'o')\n",
      "(5, ' ')\n",
      "(6, 'w')\n",
      "(7, 'o')\n",
      "(8, 'r')\n",
      "(9, 'l')\n",
      "(10, 'd')\n"
     ]
    }
   ],
   "source": [
    "for i in enumerate(greet):\n",
    "    print(i)"
   ]
  },
  {
   "cell_type": "code",
   "execution_count": 115,
   "id": "d4784533",
   "metadata": {},
   "outputs": [],
   "source": [
    "k = 'I want my life to be perfect but there no life in the whole world which is perfect'"
   ]
  },
  {
   "cell_type": "code",
   "execution_count": 121,
   "id": "ab61c9c2",
   "metadata": {},
   "outputs": [
    {
     "name": "stdout",
     "output_type": "stream",
     "text": [
      "(0, 'w') I want my life to be perfect but there no life in the whole world which is perfect\n",
      "(1, 'm') I want my life to be perfect but there no life in the whole world which is perfect\n",
      "(2, 'f') I want my life to be perfect but there no life in the whole world which is perfect\n",
      "(3, ' ') I want my life to be perfect but there no life in the whole world which is perfect\n",
      "(4, 'e') I want my life to be perfect but there no life in the whole world which is perfect\n",
      "(5, 't') I want my life to be perfect but there no life in the whole world which is perfect\n",
      "(6, ' ') I want my life to be perfect but there no life in the whole world which is perfect\n",
      "(7, 'e') I want my life to be perfect but there no life in the whole world which is perfect\n",
      "(8, 'l') I want my life to be perfect but there no life in the whole world which is perfect\n",
      "(9, 'i') I want my life to be perfect but there no life in the whole world which is perfect\n",
      "(10, 'e') I want my life to be perfect but there no life in the whole world which is perfect\n",
      "(11, 'l') I want my life to be perfect but there no life in the whole world which is perfect\n",
      "(12, 'r') I want my life to be perfect but there no life in the whole world which is perfect\n",
      "(13, 'h') I want my life to be perfect but there no life in the whole world which is perfect\n",
      "(14, 'i') I want my life to be perfect but there no life in the whole world which is perfect\n",
      "(15, 'r') I want my life to be perfect but there no life in the whole world which is perfect\n"
     ]
    }
   ],
   "source": [
    "for i in enumerate(k[2:82:5]):\n",
    "    print(i,k)"
   ]
  },
  {
   "cell_type": "code",
   "execution_count": 119,
   "id": "97244f89",
   "metadata": {},
   "outputs": [
    {
     "data": {
      "text/plain": [
       "82"
      ]
     },
     "execution_count": 119,
     "metadata": {},
     "output_type": "execute_result"
    }
   ],
   "source": [
    "len(k)"
   ]
  },
  {
   "cell_type": "code",
   "execution_count": 122,
   "id": "759dd0ec",
   "metadata": {},
   "outputs": [
    {
     "name": "stdout",
     "output_type": "stream",
     "text": [
      "(0, 'I') I am sorry Dont leave me\n",
      "(1, ' ') I am sorry Dont leave me\n",
      "(2, 'a') I am sorry Dont leave me\n",
      "(3, 'm') I am sorry Dont leave me\n",
      "(4, ' ') I am sorry Dont leave me\n",
      "(5, 's') I am sorry Dont leave me\n",
      "(6, 'o') I am sorry Dont leave me\n",
      "(7, 'r') I am sorry Dont leave me\n",
      "(8, 'r') I am sorry Dont leave me\n",
      "(9, 'y') I am sorry Dont leave me\n",
      "(10, ' ') I am sorry Dont leave me\n",
      "(11, 'D') I am sorry Dont leave me\n",
      "(12, 'o') I am sorry Dont leave me\n",
      "(13, 'n') I am sorry Dont leave me\n",
      "(14, 't') I am sorry Dont leave me\n",
      "(15, ' ') I am sorry Dont leave me\n",
      "(16, 'l') I am sorry Dont leave me\n",
      "(17, 'e') I am sorry Dont leave me\n",
      "(18, 'a') I am sorry Dont leave me\n",
      "(19, 'v') I am sorry Dont leave me\n",
      "(20, 'e') I am sorry Dont leave me\n",
      "(21, ' ') I am sorry Dont leave me\n",
      "(22, 'm') I am sorry Dont leave me\n",
      "(23, 'e') I am sorry Dont leave me\n"
     ]
    }
   ],
   "source": [
    "r = 'I am sorry Dont leave me'\n",
    "for i in enumerate(r):\n",
    "    print(i,r)"
   ]
  },
  {
   "cell_type": "code",
   "execution_count": 123,
   "id": "f4b71099",
   "metadata": {},
   "outputs": [
    {
     "data": {
      "text/plain": [
       "24"
      ]
     },
     "execution_count": 123,
     "metadata": {},
     "output_type": "execute_result"
    }
   ],
   "source": [
    "len(r)"
   ]
  },
  {
   "cell_type": "code",
   "execution_count": 137,
   "id": "059d9982",
   "metadata": {},
   "outputs": [
    {
     "data": {
      "text/plain": [
       "2"
      ]
     },
     "execution_count": 137,
     "metadata": {},
     "output_type": "execute_result"
    }
   ],
   "source": [
    "r.count('r')"
   ]
  },
  {
   "cell_type": "code",
   "execution_count": 139,
   "id": "31492eee",
   "metadata": {},
   "outputs": [
    {
     "data": {
      "text/plain": [
       "19"
      ]
     },
     "execution_count": 139,
     "metadata": {},
     "output_type": "execute_result"
    }
   ],
   "source": [
    "r.find('v')"
   ]
  },
  {
   "cell_type": "code",
   "execution_count": 144,
   "id": "e9ea2a79",
   "metadata": {},
   "outputs": [
    {
     "data": {
      "text/plain": [
       "1"
      ]
     },
     "execution_count": 144,
     "metadata": {},
     "output_type": "execute_result"
    }
   ],
   "source": [
    "r.count('D')"
   ]
  },
  {
   "cell_type": "code",
   "execution_count": 146,
   "id": "bc3b02cf",
   "metadata": {},
   "outputs": [
    {
     "data": {
      "text/plain": [
       "'hello wonderful world'"
      ]
     },
     "execution_count": 146,
     "metadata": {},
     "output_type": "execute_result"
    }
   ],
   "source": [
    "greet[0:5] + ' wonderful' + greet[5:]"
   ]
  },
  {
   "cell_type": "code",
   "execution_count": 159,
   "id": "790aefbe",
   "metadata": {},
   "outputs": [],
   "source": [
    "x = '3001' ; y = '1998 '"
   ]
  },
  {
   "cell_type": "code",
   "execution_count": 160,
   "id": "ea55a1d3",
   "metadata": {},
   "outputs": [
    {
     "data": {
      "text/plain": [
       "'30011998 '"
      ]
     },
     "execution_count": 160,
     "metadata": {},
     "output_type": "execute_result"
    }
   ],
   "source": [
    "x + y"
   ]
  },
  {
   "cell_type": "code",
   "execution_count": 158,
   "id": "72699874",
   "metadata": {},
   "outputs": [
    {
     "data": {
      "text/plain": [
       "4999"
      ]
     },
     "execution_count": 158,
     "metadata": {},
     "output_type": "execute_result"
    }
   ],
   "source": [
    "int(x) + int(y)"
   ]
  },
  {
   "cell_type": "code",
   "execution_count": 162,
   "id": "9a902868",
   "metadata": {},
   "outputs": [
    {
     "data": {
      "text/plain": [
       "1003"
      ]
     },
     "execution_count": 162,
     "metadata": {},
     "output_type": "execute_result"
    }
   ],
   "source": [
    "int(x) - int(y)"
   ]
  },
  {
   "cell_type": "code",
   "execution_count": 164,
   "id": "5a9ec5b7",
   "metadata": {},
   "outputs": [
    {
     "data": {
      "text/plain": [
       "1"
      ]
     },
     "execution_count": 164,
     "metadata": {},
     "output_type": "execute_result"
    }
   ],
   "source": [
    "x.count('3')"
   ]
  },
  {
   "cell_type": "code",
   "execution_count": 165,
   "id": "7a87e052",
   "metadata": {},
   "outputs": [
    {
     "data": {
      "text/plain": [
       "1"
      ]
     },
     "execution_count": 165,
     "metadata": {},
     "output_type": "execute_result"
    }
   ],
   "source": [
    "y.find('9')"
   ]
  },
  {
   "cell_type": "code",
   "execution_count": 169,
   "id": "8cf52452",
   "metadata": {},
   "outputs": [],
   "source": [
    "a = 2 ; b = 9 ; c = 4"
   ]
  },
  {
   "cell_type": "code",
   "execution_count": 170,
   "id": "53247725",
   "metadata": {},
   "outputs": [
    {
     "name": "stdout",
     "output_type": "stream",
     "text": [
      "[2, 98, 4]\n"
     ]
    }
   ],
   "source": [
    "list1 = [a,b,c]\n",
    "list2 = list1\n",
    "list2[1] = 98\n",
    "print(list1)"
   ]
  },
  {
   "cell_type": "code",
   "execution_count": 203,
   "id": "6c3a11cb",
   "metadata": {},
   "outputs": [
    {
     "data": {
      "text/plain": [
       "[2, 98, 4]"
      ]
     },
     "execution_count": 203,
     "metadata": {},
     "output_type": "execute_result"
    }
   ],
   "source": [
    "list2"
   ]
  },
  {
   "cell_type": "code",
   "execution_count": 89,
   "id": "11d5cdca",
   "metadata": {},
   "outputs": [],
   "source": [
    "items = [['rice',2.4,8],['flour',1.9,5],['corn',4.7,6]]"
   ]
  },
  {
   "cell_type": "code",
   "execution_count": 205,
   "id": "5fbf53a7",
   "metadata": {},
   "outputs": [
    {
     "name": "stdout",
     "output_type": "stream",
     "text": [
      "Product: rice Price: 2.40 Quality: 8\n",
      "Product: flour Price: 1.90 Quality: 5\n",
      "Product: corn Price: 4.70 Quality: 6\n"
     ]
    }
   ],
   "source": [
    "for item in items:\n",
    "    print('Product: %s Price: %.2f Quality: %i' % (item[0],item[1],item[2]))"
   ]
  },
  {
   "cell_type": "code",
   "execution_count": 206,
   "id": "2a98a5c3",
   "metadata": {},
   "outputs": [],
   "source": [
    "drink = [['7up',0.5,80,'cool'],['pepsi',2.5,300,'fool'],['fanta',1.0,150,'bool'],['sprite',1.5,200,'tool']]"
   ]
  },
  {
   "cell_type": "code",
   "execution_count": 207,
   "id": "dcda583e",
   "metadata": {},
   "outputs": [
    {
     "name": "stdout",
     "output_type": "stream",
     "text": [
      "(0, ['7up', 0.5, 80, 'cool'])\n",
      "(1, ['pepsi', 2.5, 300, 'fool'])\n",
      "(2, ['fanta', 1.0, 150, 'bool'])\n",
      "(3, ['sprite', 1.5, 200, 'tool'])\n"
     ]
    }
   ],
   "source": [
    "for i in enumerate(drink):\n",
    "    print(i)\n",
    "    "
   ]
  },
  {
   "cell_type": "code",
   "execution_count": 212,
   "id": "33109829",
   "metadata": {},
   "outputs": [
    {
     "name": "stdout",
     "output_type": "stream",
     "text": [
      "Flavor: 7up Size: 0.5 Price: 80  word: cool\n",
      "Flavor: pepsi Size: 2.5 Price: 300  word: fool\n",
      "Flavor: fanta Size: 1.0 Price: 150  word: bool\n",
      "Flavor: sprite Size: 1.5 Price: 200  word: tool\n"
     ]
    }
   ],
   "source": [
    "for d in drink:\n",
    "    print('Flavor: %s Size: %.1f Price: %i  word: %s' %(d[0],d[1],d[2],d[3]))"
   ]
  },
  {
   "cell_type": "code",
   "execution_count": 209,
   "id": "2f00a0e0",
   "metadata": {},
   "outputs": [
    {
     "data": {
      "text/plain": [
       "1.5"
      ]
     },
     "execution_count": 209,
     "metadata": {},
     "output_type": "execute_result"
    }
   ],
   "source": [
    " drink[3][1]"
   ]
  },
  {
   "cell_type": "code",
   "execution_count": 213,
   "id": "3c3bfdad",
   "metadata": {},
   "outputs": [],
   "source": [
    "items[1][1] = items[1][1] * 1.2"
   ]
  },
  {
   "cell_type": "code",
   "execution_count": 214,
   "id": "46cb3b2f",
   "metadata": {},
   "outputs": [
    {
     "data": {
      "text/plain": [
       "2.28"
      ]
     },
     "execution_count": 214,
     "metadata": {},
     "output_type": "execute_result"
    }
   ],
   "source": [
    "items[1][1]"
   ]
  },
  {
   "cell_type": "code",
   "execution_count": 217,
   "id": "48d805ca",
   "metadata": {},
   "outputs": [],
   "source": [
    "l = [2,4,8,16]"
   ]
  },
  {
   "cell_type": "code",
   "execution_count": 218,
   "id": "93d99439",
   "metadata": {},
   "outputs": [
    {
     "data": {
      "text/plain": [
       "[8, 64, 512, 4096]"
      ]
     },
     "execution_count": 218,
     "metadata": {},
     "output_type": "execute_result"
    }
   ],
   "source": [
    "[i ** 3 for i in l]"
   ]
  },
  {
   "cell_type": "code",
   "execution_count": 225,
   "id": "a67a874c",
   "metadata": {},
   "outputs": [],
   "source": [
    "g = [30,1,1998]"
   ]
  },
  {
   "cell_type": "code",
   "execution_count": 227,
   "id": "733873bb",
   "metadata": {},
   "outputs": [],
   "source": [
    "h =[i ** 2 for i in g]"
   ]
  },
  {
   "cell_type": "code",
   "execution_count": 228,
   "id": "62f2d36f",
   "metadata": {},
   "outputs": [
    {
     "name": "stdout",
     "output_type": "stream",
     "text": [
      "[900, 1, 3992004]\n"
     ]
    }
   ],
   "source": [
    "print(h)"
   ]
  },
  {
   "cell_type": "code",
   "execution_count": 230,
   "id": "ec5f18ed",
   "metadata": {},
   "outputs": [
    {
     "name": "stdout",
     "output_type": "stream",
     "text": [
      "[1952, 1962, 1980, 1982, 1983, 1984, 1985, 1987, 1993, 1996, 1998]\n",
      "[803152717788085681751960294785024, 845259441363131843492795871028224, 926087244809015797770240000000000, 935484296233658969038568339866624, 940214927473222711980517843960449, 944967077844237655443063256907776, 949740834314508935552021962890625, 959353514961891234283257651031849, 988719243654302863075577390335249, 1003703340392396210843151238168576, 1013805957334782166917166069761024]\n"
     ]
    }
   ],
   "source": [
    "j = [1952,1962,1980,1982,1983,1984,1985,1987,1993,1996,1998]\n",
    "f = [i ** 10 for i in j]\n",
    "print(j)\n",
    "print(f)"
   ]
  },
  {
   "cell_type": "code",
   "execution_count": 237,
   "id": "7a4d1ace",
   "metadata": {},
   "outputs": [
    {
     "name": "stdout",
     "output_type": "stream",
     "text": [
      "(0, 1952) we are family\n",
      "(1, 1962) we are family\n",
      "(2, 1980) we are family\n",
      "(3, 1982) we are family\n",
      "(4, 1983) we are family\n",
      "(5, 1984) we are family\n",
      "(6, 1985) we are family\n",
      "(7, 1987) we are family\n",
      "(8, 1993) we are family\n",
      "(9, 1996) we are family\n",
      "(10, 1998) we are family\n"
     ]
    }
   ],
   "source": [
    "for i in enumerate(j):\n",
    "    print(i,'we are family')"
   ]
  },
  {
   "cell_type": "code",
   "execution_count": 239,
   "id": "f407922a",
   "metadata": {},
   "outputs": [
    {
     "name": "stdout",
     "output_type": "stream",
     "text": [
      "(0, 803152717788085681751960294785024) [803152717788085681751960294785024, 845259441363131843492795871028224, 926087244809015797770240000000000, 935484296233658969038568339866624, 940214927473222711980517843960449, 944967077844237655443063256907776, 949740834314508935552021962890625, 959353514961891234283257651031849, 988719243654302863075577390335249, 1003703340392396210843151238168576, 1013805957334782166917166069761024]\n",
      "(1, 845259441363131843492795871028224) [803152717788085681751960294785024, 845259441363131843492795871028224, 926087244809015797770240000000000, 935484296233658969038568339866624, 940214927473222711980517843960449, 944967077844237655443063256907776, 949740834314508935552021962890625, 959353514961891234283257651031849, 988719243654302863075577390335249, 1003703340392396210843151238168576, 1013805957334782166917166069761024]\n",
      "(2, 926087244809015797770240000000000) [803152717788085681751960294785024, 845259441363131843492795871028224, 926087244809015797770240000000000, 935484296233658969038568339866624, 940214927473222711980517843960449, 944967077844237655443063256907776, 949740834314508935552021962890625, 959353514961891234283257651031849, 988719243654302863075577390335249, 1003703340392396210843151238168576, 1013805957334782166917166069761024]\n",
      "(3, 935484296233658969038568339866624) [803152717788085681751960294785024, 845259441363131843492795871028224, 926087244809015797770240000000000, 935484296233658969038568339866624, 940214927473222711980517843960449, 944967077844237655443063256907776, 949740834314508935552021962890625, 959353514961891234283257651031849, 988719243654302863075577390335249, 1003703340392396210843151238168576, 1013805957334782166917166069761024]\n",
      "(4, 940214927473222711980517843960449) [803152717788085681751960294785024, 845259441363131843492795871028224, 926087244809015797770240000000000, 935484296233658969038568339866624, 940214927473222711980517843960449, 944967077844237655443063256907776, 949740834314508935552021962890625, 959353514961891234283257651031849, 988719243654302863075577390335249, 1003703340392396210843151238168576, 1013805957334782166917166069761024]\n",
      "(5, 944967077844237655443063256907776) [803152717788085681751960294785024, 845259441363131843492795871028224, 926087244809015797770240000000000, 935484296233658969038568339866624, 940214927473222711980517843960449, 944967077844237655443063256907776, 949740834314508935552021962890625, 959353514961891234283257651031849, 988719243654302863075577390335249, 1003703340392396210843151238168576, 1013805957334782166917166069761024]\n",
      "(6, 949740834314508935552021962890625) [803152717788085681751960294785024, 845259441363131843492795871028224, 926087244809015797770240000000000, 935484296233658969038568339866624, 940214927473222711980517843960449, 944967077844237655443063256907776, 949740834314508935552021962890625, 959353514961891234283257651031849, 988719243654302863075577390335249, 1003703340392396210843151238168576, 1013805957334782166917166069761024]\n",
      "(7, 959353514961891234283257651031849) [803152717788085681751960294785024, 845259441363131843492795871028224, 926087244809015797770240000000000, 935484296233658969038568339866624, 940214927473222711980517843960449, 944967077844237655443063256907776, 949740834314508935552021962890625, 959353514961891234283257651031849, 988719243654302863075577390335249, 1003703340392396210843151238168576, 1013805957334782166917166069761024]\n",
      "(8, 988719243654302863075577390335249) [803152717788085681751960294785024, 845259441363131843492795871028224, 926087244809015797770240000000000, 935484296233658969038568339866624, 940214927473222711980517843960449, 944967077844237655443063256907776, 949740834314508935552021962890625, 959353514961891234283257651031849, 988719243654302863075577390335249, 1003703340392396210843151238168576, 1013805957334782166917166069761024]\n",
      "(9, 1003703340392396210843151238168576) [803152717788085681751960294785024, 845259441363131843492795871028224, 926087244809015797770240000000000, 935484296233658969038568339866624, 940214927473222711980517843960449, 944967077844237655443063256907776, 949740834314508935552021962890625, 959353514961891234283257651031849, 988719243654302863075577390335249, 1003703340392396210843151238168576, 1013805957334782166917166069761024]\n",
      "(10, 1013805957334782166917166069761024) [803152717788085681751960294785024, 845259441363131843492795871028224, 926087244809015797770240000000000, 935484296233658969038568339866624, 940214927473222711980517843960449, 944967077844237655443063256907776, 949740834314508935552021962890625, 959353514961891234283257651031849, 988719243654302863075577390335249, 1003703340392396210843151238168576, 1013805957334782166917166069761024]\n"
     ]
    }
   ],
   "source": [
    "for i in enumerate(f):\n",
    "    print(i,f)"
   ]
  },
  {
   "cell_type": "code",
   "execution_count": 240,
   "id": "055df63e",
   "metadata": {},
   "outputs": [],
   "source": [
    "def f1(x): return x*2\n",
    "def f2(x): return x*4"
   ]
  },
  {
   "cell_type": "code",
   "execution_count": 242,
   "id": "c343e9cd",
   "metadata": {},
   "outputs": [],
   "source": [
    "lst = []"
   ]
  },
  {
   "cell_type": "code",
   "execution_count": 243,
   "id": "5b37421a",
   "metadata": {},
   "outputs": [],
   "source": [
    "for i  in range(16):\n",
    "    lst.append(f1(f2(i)))"
   ]
  },
  {
   "cell_type": "code",
   "execution_count": 244,
   "id": "a227cba9",
   "metadata": {},
   "outputs": [
    {
     "name": "stdout",
     "output_type": "stream",
     "text": [
      "[0, 8, 16, 24, 32, 40, 48, 56, 64, 72, 80, 88, 96, 104, 112, 120]\n"
     ]
    }
   ],
   "source": [
    "print(lst)"
   ]
  },
  {
   "cell_type": "code",
   "execution_count": 253,
   "id": "b91d3d73",
   "metadata": {},
   "outputs": [],
   "source": [
    "n = ([f1(x) for x in range(64) if x in [f2(j) for j in range (16)]])"
   ]
  },
  {
   "cell_type": "code",
   "execution_count": 254,
   "id": "3223c21e",
   "metadata": {},
   "outputs": [
    {
     "name": "stdout",
     "output_type": "stream",
     "text": [
      "[0, 8, 16, 24, 32, 40, 48, 56, 64, 72, 80, 88, 96, 104, 112, 120]\n"
     ]
    }
   ],
   "source": [
    "print(n)"
   ]
  },
  {
   "cell_type": "code",
   "execution_count": 255,
   "id": "f13b98bc",
   "metadata": {},
   "outputs": [],
   "source": [
    "list3 = [[1,2,3],[4,5,6]]"
   ]
  },
  {
   "cell_type": "code",
   "execution_count": 256,
   "id": "e8d383d7",
   "metadata": {},
   "outputs": [
    {
     "data": {
      "text/plain": [
       "[4, 5, 6, 8, 10, 12, 12, 15, 18]"
      ]
     },
     "execution_count": 256,
     "metadata": {},
     "output_type": "execute_result"
    }
   ],
   "source": [
    "[i * j for i in list3[0] for j in list3[1]]"
   ]
  },
  {
   "cell_type": "code",
   "execution_count": 3,
   "id": "f24e057c",
   "metadata": {},
   "outputs": [],
   "source": [
    "h = [['rozi','war','ddd'],['no','fo','ro']]\n",
    "e = [i + j for i in h for j in h]"
   ]
  },
  {
   "cell_type": "code",
   "execution_count": 4,
   "id": "f93f6674",
   "metadata": {},
   "outputs": [
    {
     "name": "stdout",
     "output_type": "stream",
     "text": [
      "[['rozi', 'war', 'ddd', 'rozi', 'war', 'ddd'], ['rozi', 'war', 'ddd', 'no', 'fo', 'ro'], ['no', 'fo', 'ro', 'rozi', 'war', 'ddd'], ['no', 'fo', 'ro', 'no', 'fo', 'ro']]\n"
     ]
    }
   ],
   "source": [
    "print(e)"
   ]
  },
  {
   "cell_type": "code",
   "execution_count": 6,
   "id": "006daf3d",
   "metadata": {},
   "outputs": [
    {
     "data": {
      "text/plain": [
       "['nono', 'nofo', 'noro', 'fono', 'fofo', 'foro', 'rono', 'rofo', 'roro']"
      ]
     },
     "execution_count": 6,
     "metadata": {},
     "output_type": "execute_result"
    }
   ],
   "source": [
    " [i + j for i in h[1] for j in h[1]]"
   ]
  },
  {
   "cell_type": "code",
   "execution_count": 7,
   "id": "0b39374a",
   "metadata": {},
   "outputs": [
    {
     "data": {
      "text/plain": [
       "['rozino',\n",
       " 'rozifo',\n",
       " 'roziro',\n",
       " 'warno',\n",
       " 'warfo',\n",
       " 'warro',\n",
       " 'dddno',\n",
       " 'dddfo',\n",
       " 'dddro']"
      ]
     },
     "execution_count": 7,
     "metadata": {},
     "output_type": "execute_result"
    }
   ],
   "source": [
    "[i + j for i in h[0] for j in h[1]]"
   ]
  },
  {
   "cell_type": "code",
   "execution_count": 14,
   "id": "4efdf769",
   "metadata": {},
   "outputs": [],
   "source": [
    "l = [[' red',' blue',' orange'],[' rose'],[' 300'],[' ggg']]"
   ]
  },
  {
   "cell_type": "code",
   "execution_count": 15,
   "id": "fc4fd62f",
   "metadata": {},
   "outputs": [
    {
     "data": {
      "text/plain": [
       "[' red rose 300 ggg', ' blue rose 300 ggg', ' orange rose 300 ggg']"
      ]
     },
     "execution_count": 15,
     "metadata": {},
     "output_type": "execute_result"
    }
   ],
   "source": [
    "[i + j + k + m for i in l[0] for j in l[1] for k in l[2] for m in l[3]]"
   ]
  },
  {
   "cell_type": "code",
   "execution_count": 16,
   "id": "31dee45e",
   "metadata": {},
   "outputs": [],
   "source": [
    "words = 'here is a sentence'.split()"
   ]
  },
  {
   "cell_type": "code",
   "execution_count": 17,
   "id": "5505eaa8",
   "metadata": {},
   "outputs": [
    {
     "data": {
      "text/plain": [
       "[['here', 4], ['is', 2], ['a', 1], ['sentence', 8]]"
      ]
     },
     "execution_count": 17,
     "metadata": {},
     "output_type": "execute_result"
    }
   ],
   "source": [
    "[[word, len(word)]for word in words]"
   ]
  },
  {
   "cell_type": "code",
   "execution_count": 18,
   "id": "9a427f58",
   "metadata": {},
   "outputs": [],
   "source": [
    "o = 'Education is a key of success'.split()"
   ]
  },
  {
   "cell_type": "code",
   "execution_count": 24,
   "id": "932bf794",
   "metadata": {},
   "outputs": [
    {
     "data": {
      "text/plain": [
       "[['Education', 9], ['is', 2], ['a', 1], ['key', 3], ['of', 2], ['success', 7]]"
      ]
     },
     "execution_count": 24,
     "metadata": {},
     "output_type": "execute_result"
    }
   ],
   "source": [
    "[[i,len(i)] for i in o]"
   ]
  },
  {
   "cell_type": "code",
   "execution_count": 25,
   "id": "9f70dcf4",
   "metadata": {},
   "outputs": [],
   "source": [
    "first = 'jbsjbsbsnkniooheholhkjckakbbkbberuhfnf'.split()"
   ]
  },
  {
   "cell_type": "code",
   "execution_count": 26,
   "id": "557bd7a7",
   "metadata": {},
   "outputs": [
    {
     "data": {
      "text/plain": [
       "[['jbsjbsbsnkniooheholhkjckakbbkbberuhfnf', 38]]"
      ]
     },
     "execution_count": 26,
     "metadata": {},
     "output_type": "execute_result"
    }
   ],
   "source": [
    "[[i, len(i)] for i in first]"
   ]
  },
  {
   "cell_type": "code",
   "execution_count": 1,
   "id": "2d1f7ffc",
   "metadata": {},
   "outputs": [
    {
     "name": "stdout",
     "output_type": "stream",
     "text": [
      "(0, 'k') kknknkn\n",
      "(1, 'k') kknknkn\n",
      "(2, 'n') kknknkn\n",
      "(3, 'k') kknknkn\n",
      "(4, 'n') kknknkn\n",
      "(5, 'k') kknknkn\n",
      "(6, 'n') kknknkn\n"
     ]
    }
   ],
   "source": [
    "c = 'kknknkn'\n",
    "for i in enumerate(c):\n",
    "    print(i,c)"
   ]
  },
  {
   "cell_type": "code",
   "execution_count": 2,
   "id": "b6a095c7",
   "metadata": {},
   "outputs": [],
   "source": [
    "b = list(c)"
   ]
  },
  {
   "cell_type": "code",
   "execution_count": 3,
   "id": "e6bd0f74",
   "metadata": {},
   "outputs": [
    {
     "data": {
      "text/plain": [
       "'kknknkn'"
      ]
     },
     "execution_count": 3,
     "metadata": {},
     "output_type": "execute_result"
    }
   ],
   "source": [
    "c"
   ]
  },
  {
   "cell_type": "code",
   "execution_count": 4,
   "id": "55b22c9b",
   "metadata": {},
   "outputs": [],
   "source": [
    "b.append('bbjjj')"
   ]
  },
  {
   "cell_type": "code",
   "execution_count": 5,
   "id": "c0288b44",
   "metadata": {},
   "outputs": [
    {
     "data": {
      "text/plain": [
       "['k', 'k', 'n', 'k', 'n', 'k', 'n', 'bbjjj']"
      ]
     },
     "execution_count": 5,
     "metadata": {},
     "output_type": "execute_result"
    }
   ],
   "source": [
    "b"
   ]
  },
  {
   "cell_type": "code",
   "execution_count": 6,
   "id": "b213fbf7",
   "metadata": {},
   "outputs": [
    {
     "data": {
      "text/plain": [
       "8"
      ]
     },
     "execution_count": 6,
     "metadata": {},
     "output_type": "execute_result"
    }
   ],
   "source": [
    "len(b)"
   ]
  },
  {
   "cell_type": "code",
   "execution_count": 7,
   "id": "f5e1412b",
   "metadata": {},
   "outputs": [
    {
     "name": "stdout",
     "output_type": "stream",
     "text": [
      "['dd', 'jhbdk', '6563', 'k', 'k', 'n', 'k', 'n', 'k', 'n', 'bbjjj']\n"
     ]
    }
   ],
   "source": [
    "q = ['dd','jhbdk','6563']\n",
    "q.extend(b)\n",
    "print(q)"
   ]
  },
  {
   "cell_type": "code",
   "execution_count": 10,
   "id": "40fe70c1",
   "metadata": {},
   "outputs": [
    {
     "data": {
      "text/plain": [
       "4"
      ]
     },
     "execution_count": 10,
     "metadata": {},
     "output_type": "execute_result"
    }
   ],
   "source": [
    "q.count('k')"
   ]
  },
  {
   "cell_type": "code",
   "execution_count": 18,
   "id": "8dbd0bd4",
   "metadata": {},
   "outputs": [
    {
     "data": {
      "text/plain": [
       "5"
      ]
     },
     "execution_count": 18,
     "metadata": {},
     "output_type": "execute_result"
    }
   ],
   "source": [
    "q.index('n')"
   ]
  },
  {
   "cell_type": "code",
   "execution_count": 20,
   "id": "130c73b1",
   "metadata": {},
   "outputs": [],
   "source": [
    "q.insert(4,'1998')"
   ]
  },
  {
   "cell_type": "code",
   "execution_count": 21,
   "id": "e14305a0",
   "metadata": {},
   "outputs": [
    {
     "name": "stdout",
     "output_type": "stream",
     "text": [
      "['dd', 'jhbdk', '6563', 'k', '1998', 'k', 'n', 'k', 'n', 'k', 'n', 'bbjjj']\n"
     ]
    }
   ],
   "source": [
    "print(q)"
   ]
  },
  {
   "cell_type": "code",
   "execution_count": 24,
   "id": "ccf1f22f",
   "metadata": {},
   "outputs": [],
   "source": [
    "r = q.pop(3)"
   ]
  },
  {
   "cell_type": "code",
   "execution_count": 25,
   "id": "4b960cf8",
   "metadata": {},
   "outputs": [
    {
     "name": "stdout",
     "output_type": "stream",
     "text": [
      "1998\n"
     ]
    }
   ],
   "source": [
    "print(r)"
   ]
  },
  {
   "cell_type": "code",
   "execution_count": 26,
   "id": "94c5e4c6",
   "metadata": {},
   "outputs": [
    {
     "name": "stdout",
     "output_type": "stream",
     "text": [
      "['dd', 'jhbdk', '6563', 'k', 'n', 'k', 'n', 'k', 'n', 'bbjjj']\n"
     ]
    }
   ],
   "source": [
    "print(q)"
   ]
  },
  {
   "cell_type": "code",
   "execution_count": 27,
   "id": "42c85223",
   "metadata": {},
   "outputs": [],
   "source": [
    "g = q.remove('bbjjj')"
   ]
  },
  {
   "cell_type": "code",
   "execution_count": 28,
   "id": "c39b8f2a",
   "metadata": {},
   "outputs": [
    {
     "name": "stdout",
     "output_type": "stream",
     "text": [
      "None\n"
     ]
    }
   ],
   "source": [
    "print(g)"
   ]
  },
  {
   "cell_type": "code",
   "execution_count": 29,
   "id": "8169786c",
   "metadata": {},
   "outputs": [
    {
     "name": "stdout",
     "output_type": "stream",
     "text": [
      "['dd', 'jhbdk', '6563', 'k', 'n', 'k', 'n', 'k', 'n']\n"
     ]
    }
   ],
   "source": [
    "print(q)"
   ]
  },
  {
   "cell_type": "code",
   "execution_count": 30,
   "id": "d25ce2ea",
   "metadata": {},
   "outputs": [
    {
     "name": "stdout",
     "output_type": "stream",
     "text": [
      "['n', 'k', 'n', 'k', 'n', 'k', '6563', 'jhbdk', 'dd']\n"
     ]
    }
   ],
   "source": [
    "q.reverse()\n",
    "print(q)"
   ]
  },
  {
   "cell_type": "code",
   "execution_count": 43,
   "id": "42f840ce",
   "metadata": {},
   "outputs": [],
   "source": [
    "v = ['346843168414','65431','78555']"
   ]
  },
  {
   "cell_type": "code",
   "execution_count": 44,
   "id": "3bde97d8",
   "metadata": {},
   "outputs": [],
   "source": [
    "v.reverse()"
   ]
  },
  {
   "cell_type": "code",
   "execution_count": 45,
   "id": "fabb1489",
   "metadata": {},
   "outputs": [
    {
     "name": "stdout",
     "output_type": "stream",
     "text": [
      "['78555', '65431', '346843168414']\n"
     ]
    }
   ],
   "source": [
    "print(v)"
   ]
  },
  {
   "cell_type": "code",
   "execution_count": 46,
   "id": "98dbbfe3",
   "metadata": {},
   "outputs": [],
   "source": [
    "q.sort()"
   ]
  },
  {
   "cell_type": "code",
   "execution_count": 47,
   "id": "6daf69db",
   "metadata": {},
   "outputs": [
    {
     "name": "stdout",
     "output_type": "stream",
     "text": [
      "['6563', 'dd', 'jhbdk', 'k', 'k', 'k', 'n', 'n', 'n']\n"
     ]
    }
   ],
   "source": [
    "print(q)"
   ]
  },
  {
   "cell_type": "code",
   "execution_count": 50,
   "id": "a2be3807",
   "metadata": {},
   "outputs": [],
   "source": [
    "v.sort()"
   ]
  },
  {
   "cell_type": "code",
   "execution_count": 51,
   "id": "10ad0aa3",
   "metadata": {},
   "outputs": [
    {
     "name": "stdout",
     "output_type": "stream",
     "text": [
      "['346843168414', '65431', '78555']\n"
     ]
    }
   ],
   "source": [
    "print(v)"
   ]
  },
  {
   "cell_type": "code",
   "execution_count": 52,
   "id": "50a8e2d3",
   "metadata": {},
   "outputs": [],
   "source": [
    "alphabets = ['b','g','s','m','a','w']"
   ]
  },
  {
   "cell_type": "code",
   "execution_count": 53,
   "id": "c52dabfe",
   "metadata": {},
   "outputs": [],
   "source": [
    "alphabets.sort()"
   ]
  },
  {
   "cell_type": "code",
   "execution_count": 54,
   "id": "ac203ee0",
   "metadata": {},
   "outputs": [
    {
     "data": {
      "text/plain": [
       "['a', 'b', 'g', 'm', 's', 'w']"
      ]
     },
     "execution_count": 54,
     "metadata": {},
     "output_type": "execute_result"
    }
   ],
   "source": [
    "alphabets"
   ]
  },
  {
   "cell_type": "code",
   "execution_count": 4,
   "id": "96b67f78",
   "metadata": {},
   "outputs": [],
   "source": [
    "def greeting(language):\n",
    "    if language == 'eng':\n",
    "         return 'hello world'\n",
    "    if language == 'fr':\n",
    "        return 'Bonjour le monde'\n",
    "    \n",
    "    else:\n",
    "            return 'language not supported'\n",
    "    \n",
    "        "
   ]
  },
  {
   "cell_type": "code",
   "execution_count": 7,
   "id": "d873a812",
   "metadata": {},
   "outputs": [],
   "source": [
    "l = [greeting('eng'),greeting('fr'),greeting('ger')]"
   ]
  },
  {
   "cell_type": "code",
   "execution_count": 10,
   "id": "5a0dc503",
   "metadata": {},
   "outputs": [
    {
     "name": "stdout",
     "output_type": "stream",
     "text": [
      "Bonjour le monde\n"
     ]
    }
   ],
   "source": [
    "print(l[1])"
   ]
  },
  {
   "cell_type": "code",
   "execution_count": 12,
   "id": "143f503a",
   "metadata": {},
   "outputs": [],
   "source": [
    "def purpose(love):\n",
    "    if love == 'eng':\n",
    "        return 'I LOVE YOU ROZINA RAZZAK'\n",
    "    if love == 'urdu':\n",
    "        return 'MUJHE TUMSE PYAAR HAI'\n",
    "    if love == 'num':\n",
    "        return '143'\n",
    "        \n",
    "    else:\n",
    "        return 'NOT LOVE '\n",
    "    "
   ]
  },
  {
   "cell_type": "code",
   "execution_count": 17,
   "id": "756145ee",
   "metadata": {},
   "outputs": [],
   "source": [
    "d = [purpose('eng'), purpose('korean'),purpose('num'),purpose('urdu'),purpose('spanish')]"
   ]
  },
  {
   "cell_type": "code",
   "execution_count": 18,
   "id": "8e742c55",
   "metadata": {},
   "outputs": [
    {
     "name": "stdout",
     "output_type": "stream",
     "text": [
      "['I LOVE YOU ROZINA RAZZAK', 'NOT LOVE ', '143', 'MUJHE TUMSE PYAAR HAI', 'NOT LOVE ']\n"
     ]
    }
   ],
   "source": [
    "print(d)"
   ]
  },
  {
   "cell_type": "code",
   "execution_count": 25,
   "id": "c3c452f3",
   "metadata": {},
   "outputs": [],
   "source": [
    "def callf(f):\n",
    "    lang = 'urdu'\n",
    "    return (f(lang))"
   ]
  },
  {
   "cell_type": "code",
   "execution_count": 26,
   "id": "d604ff2b",
   "metadata": {},
   "outputs": [
    {
     "data": {
      "text/plain": [
       "'language not supported'"
      ]
     },
     "execution_count": 26,
     "metadata": {},
     "output_type": "execute_result"
    }
   ],
   "source": [
    "callf(greeting)"
   ]
  },
  {
   "cell_type": "code",
   "execution_count": 27,
   "id": "f2b8e534",
   "metadata": {},
   "outputs": [
    {
     "data": {
      "text/plain": [
       "'MUJHE TUMSE PYAAR HAI'"
      ]
     },
     "execution_count": 27,
     "metadata": {},
     "output_type": "execute_result"
    }
   ],
   "source": [
    "callf(purpose)"
   ]
  },
  {
   "cell_type": "code",
   "execution_count": 30,
   "id": "567a7f4f",
   "metadata": {},
   "outputs": [],
   "source": [
    "lst = [1,2,3,4]"
   ]
  },
  {
   "cell_type": "code",
   "execution_count": 34,
   "id": "d6bbcaee",
   "metadata": {},
   "outputs": [
    {
     "data": {
      "text/plain": [
       "[1, 8, 27, 64]"
      ]
     },
     "execution_count": 34,
     "metadata": {},
     "output_type": "execute_result"
    }
   ],
   "source": [
    "list(map(lambda x: x**3,lst))"
   ]
  },
  {
   "cell_type": "code",
   "execution_count": 35,
   "id": "07d9f518",
   "metadata": {},
   "outputs": [
    {
     "data": {
      "text/plain": [
       "[100, 400, 900, 1600, 2500]"
      ]
     },
     "execution_count": 35,
     "metadata": {},
     "output_type": "execute_result"
    }
   ],
   "source": [
    "my_num = [10,20,30,40,50]\n",
    "list(map(lambda x: x**2,my_num))"
   ]
  },
  {
   "cell_type": "code",
   "execution_count": 36,
   "id": "dc7db386",
   "metadata": {},
   "outputs": [
    {
     "data": {
      "text/plain": [
       "[50, 100, 150, 200, 250]"
      ]
     },
     "execution_count": 36,
     "metadata": {},
     "output_type": "execute_result"
    }
   ],
   "source": [
    "list(map(lambda x: x*5,my_num))"
   ]
  },
  {
   "cell_type": "code",
   "execution_count": 37,
   "id": "14691ab1",
   "metadata": {},
   "outputs": [
    {
     "data": {
      "text/plain": [
       "[35, 45, 55, 65, 75]"
      ]
     },
     "execution_count": 37,
     "metadata": {},
     "output_type": "execute_result"
    }
   ],
   "source": [
    "list(map(lambda x: x+25,my_num))"
   ]
  },
  {
   "cell_type": "code",
   "execution_count": 38,
   "id": "6412beba",
   "metadata": {},
   "outputs": [
    {
     "data": {
      "text/plain": [
       "[5.5, 15.5, 25.5, 35.5, 45.5]"
      ]
     },
     "execution_count": 38,
     "metadata": {},
     "output_type": "execute_result"
    }
   ],
   "source": [
    "list(map(lambda x: x-4.5,my_num))"
   ]
  },
  {
   "cell_type": "code",
   "execution_count": 39,
   "id": "6ac65635",
   "metadata": {},
   "outputs": [
    {
     "data": {
      "text/plain": [
       "[1, 3, 5, 6, 8]"
      ]
     },
     "execution_count": 39,
     "metadata": {},
     "output_type": "execute_result"
    }
   ],
   "source": [
    "list(map(lambda x: x//6,my_num))"
   ]
  },
  {
   "cell_type": "code",
   "execution_count": 50,
   "id": "c0bc8515",
   "metadata": {},
   "outputs": [
    {
     "data": {
      "text/plain": [
       "[1, 2]"
      ]
     },
     "execution_count": 50,
     "metadata": {},
     "output_type": "execute_result"
    }
   ],
   "source": [
    "list(filter(lambda x:x<3,lst))"
   ]
  },
  {
   "cell_type": "code",
   "execution_count": 54,
   "id": "3df98745",
   "metadata": {},
   "outputs": [
    {
     "data": {
      "text/plain": [
       "[10, 20, 30]"
      ]
     },
     "execution_count": 54,
     "metadata": {},
     "output_type": "execute_result"
    }
   ],
   "source": [
    "list(filter(lambda x:x<40,my_num))"
   ]
  },
  {
   "cell_type": "code",
   "execution_count": 58,
   "id": "85a74f4d",
   "metadata": {},
   "outputs": [
    {
     "data": {
      "text/plain": [
       "[20, 30, 40, 50]"
      ]
     },
     "execution_count": 58,
     "metadata": {},
     "output_type": "execute_result"
    }
   ],
   "source": [
    "list(filter(lambda x:x>10,my_num))"
   ]
  },
  {
   "cell_type": "code",
   "execution_count": 61,
   "id": "bdbf1c1e",
   "metadata": {},
   "outputs": [],
   "source": [
    "words = str.split('The longest word in this sentence')"
   ]
  },
  {
   "cell_type": "code",
   "execution_count": 62,
   "id": "1aaa4e1a",
   "metadata": {},
   "outputs": [
    {
     "data": {
      "text/plain": [
       "['in', 'The', 'word', 'this', 'longest', 'sentence']"
      ]
     },
     "execution_count": 62,
     "metadata": {},
     "output_type": "execute_result"
    }
   ],
   "source": [
    "sorted(words,key = len)"
   ]
  },
  {
   "cell_type": "code",
   "execution_count": 80,
   "id": "1a3a3d5a",
   "metadata": {},
   "outputs": [],
   "source": [
    "q = str.split('Why people waste their time for unnecessary things')"
   ]
  },
  {
   "cell_type": "code",
   "execution_count": 81,
   "id": "19de3028",
   "metadata": {},
   "outputs": [
    {
     "name": "stdout",
     "output_type": "stream",
     "text": [
      "['Why', 'people', 'waste', 'their', 'time', 'for', 'unnecessary', 'things']\n",
      "['Why', 'for', 'time', 'waste', 'their', 'people', 'things', 'unnecessary']\n",
      "['Why', 'for', 'people', 'their', 'things', 'time', 'unnecessary', 'waste']\n"
     ]
    }
   ],
   "source": [
    "print(q)\n",
    "print(sorted(q,key=len))\n",
    "print(sorted(q))"
   ]
  },
  {
   "cell_type": "code",
   "execution_count": 82,
   "id": "0a94a415",
   "metadata": {},
   "outputs": [
    {
     "data": {
      "text/plain": [
       "8"
      ]
     },
     "execution_count": 82,
     "metadata": {},
     "output_type": "execute_result"
    }
   ],
   "source": [
    "len(q)"
   ]
  },
  {
   "cell_type": "code",
   "execution_count": 76,
   "id": "1e18e9ad",
   "metadata": {},
   "outputs": [],
   "source": [
    "r = q"
   ]
  },
  {
   "cell_type": "code",
   "execution_count": 77,
   "id": "524b6647",
   "metadata": {},
   "outputs": [
    {
     "data": {
      "text/plain": [
       "'Why people waste their time for unnecessary things'"
      ]
     },
     "execution_count": 77,
     "metadata": {},
     "output_type": "execute_result"
    }
   ],
   "source": [
    "r"
   ]
  },
  {
   "cell_type": "code",
   "execution_count": 79,
   "id": "48b2d5d9",
   "metadata": {},
   "outputs": [
    {
     "name": "stdout",
     "output_type": "stream",
     "text": [
      "['Why', 'people', 'waste', 'their', 'time', 'for', 'unnecessary', 'things']\n",
      "['W', 'h', 'y', ' ', 'p', 'e', 'o', 'p', 'l', 'e', ' ', 'w', 'a', 's', 't', 'e', ' ', 't', 'h', 'e', 'i', 'r', ' ', 't', 'i', 'm', 'e', ' ', 'f', 'o', 'r', ' ', 'u', 'n', 'n', 'e', 'c', 'e', 's', 's', 'a', 'r', 'y', ' ', 't', 'h', 'i', 'n', 'g', 's']\n",
      "[' ', ' ', ' ', ' ', ' ', ' ', ' ', 'W', 'a', 'a', 'c', 'e', 'e', 'e', 'e', 'e', 'e', 'e', 'f', 'g', 'h', 'h', 'h', 'i', 'i', 'i', 'l', 'm', 'n', 'n', 'n', 'o', 'o', 'p', 'p', 'r', 'r', 'r', 's', 's', 's', 's', 't', 't', 't', 't', 'u', 'w', 'y', 'y']\n"
     ]
    }
   ],
   "source": [
    "print(str.split(r))\n",
    "print(sorted(r,key=len))\n",
    "print(sorted(r))"
   ]
  },
  {
   "cell_type": "code",
   "execution_count": 83,
   "id": "d438aa04",
   "metadata": {},
   "outputs": [],
   "source": [
    "sl = ['A','b','a','C','c']"
   ]
  },
  {
   "cell_type": "code",
   "execution_count": 84,
   "id": "0d270d64",
   "metadata": {},
   "outputs": [],
   "source": [
    "sl.sort(key=str.lower)"
   ]
  },
  {
   "cell_type": "code",
   "execution_count": 85,
   "id": "7f31df08",
   "metadata": {},
   "outputs": [
    {
     "data": {
      "text/plain": [
       "['A', 'a', 'b', 'C', 'c']"
      ]
     },
     "execution_count": 85,
     "metadata": {},
     "output_type": "execute_result"
    }
   ],
   "source": [
    "sl"
   ]
  },
  {
   "cell_type": "code",
   "execution_count": 99,
   "id": "beaef2de",
   "metadata": {},
   "outputs": [],
   "source": [
    "sl.sort()"
   ]
  },
  {
   "cell_type": "code",
   "execution_count": 100,
   "id": "a12fb942",
   "metadata": {},
   "outputs": [
    {
     "data": {
      "text/plain": [
       "['A', 'C', 'a', 'b', 'c']"
      ]
     },
     "execution_count": 100,
     "metadata": {},
     "output_type": "execute_result"
    }
   ],
   "source": [
    "sl"
   ]
  },
  {
   "cell_type": "code",
   "execution_count": 101,
   "id": "65ab1b3e",
   "metadata": {},
   "outputs": [],
   "source": [
    "items.sort(key = lambda item: item[1])"
   ]
  },
  {
   "cell_type": "code",
   "execution_count": 102,
   "id": "07208b5a",
   "metadata": {},
   "outputs": [
    {
     "data": {
      "text/plain": [
       "[['flour', 1.9, 5], ['rice', 2.4, 8], ['corn', 4.7, 6]]"
      ]
     },
     "execution_count": 102,
     "metadata": {},
     "output_type": "execute_result"
    }
   ],
   "source": [
    "items"
   ]
  },
  {
   "cell_type": "code",
   "execution_count": 103,
   "id": "1452387d",
   "metadata": {},
   "outputs": [
    {
     "data": {
      "text/plain": [
       "[['flour', 1.9, 5], ['corn', 4.7, 6], ['rice', 2.4, 8]]"
      ]
     },
     "execution_count": 103,
     "metadata": {},
     "output_type": "execute_result"
    }
   ],
   "source": [
    "items.sort(key = lambda item: item[2])\n",
    "items"
   ]
  },
  {
   "cell_type": "code",
   "execution_count": 105,
   "id": "035fb0f8",
   "metadata": {},
   "outputs": [
    {
     "data": {
      "text/plain": [
       "[['corn', 4.7, 6], ['flour', 1.9, 5], ['rice', 2.4, 8]]"
      ]
     },
     "execution_count": 105,
     "metadata": {},
     "output_type": "execute_result"
    }
   ],
   "source": [
    "items.sort(key = lambda item:item[0])\n",
    "items"
   ]
  },
  {
   "cell_type": "code",
   "execution_count": 114,
   "id": "5d0d4b12",
   "metadata": {},
   "outputs": [],
   "source": [
    "def iterTest(low,high):\n",
    "    while low <= high:\n",
    "        print(low)\n",
    "        low = low + 5"
   ]
  },
  {
   "cell_type": "code",
   "execution_count": 117,
   "id": "c1a9b090",
   "metadata": {},
   "outputs": [],
   "source": [
    "def recurTest(low,high):\n",
    "    if low <= high:\n",
    "        print(low)\n",
    "        recurTest(low+5,high)"
   ]
  },
  {
   "cell_type": "code",
   "execution_count": 118,
   "id": "34b8bdfa",
   "metadata": {},
   "outputs": [
    {
     "name": "stdout",
     "output_type": "stream",
     "text": [
      "40\n",
      "45\n",
      "50\n"
     ]
    }
   ],
   "source": [
    "iterTest(40,50)"
   ]
  },
  {
   "cell_type": "code",
   "execution_count": 119,
   "id": "98734895",
   "metadata": {},
   "outputs": [
    {
     "name": "stdout",
     "output_type": "stream",
     "text": [
      "10\n",
      "15\n",
      "20\n"
     ]
    }
   ],
   "source": [
    "recurTest(10,20)"
   ]
  },
  {
   "cell_type": "code",
   "execution_count": 14,
   "id": "9a1413d7",
   "metadata": {},
   "outputs": [
    {
     "name": "stdout",
     "output_type": "stream",
     "text": [
      "Time to sum an iterator:0.098587\n",
      "TIme to build and sum a list: 0.156460\n"
     ]
    }
   ],
   "source": [
    "# comparing the running time of a list compared to a generator\n",
    "import time\n",
    "# generator function creates an iterator of odd numbers between n and m\n",
    "def oddGen(n,m):\n",
    "    while n < m:\n",
    "        yield n\n",
    "        n += 2\n",
    "# builds a list of odd numbers between n and m\n",
    "def oddLst(n,m):\n",
    "    lst = []\n",
    "    while n < m:\n",
    "        lst.append(n)\n",
    "        n += 2\n",
    "    return lst\n",
    "# the time it takes to perform sum on an iterator\n",
    "t1 = time.time()\n",
    "sum(oddGen(1,1000000))\n",
    "print('Time to sum an iterator:%f' %(time.time() - t1))\n",
    "\n",
    "# the time it takes to build and sum a list\n",
    "t1 = time.time()\n",
    "sum(oddLst(1,1000000))\n",
    "print(\"Time to build and sum a list: %f\" %(time.time() - t1 ))\n",
    "        "
   ]
  },
  {
   "cell_type": "code",
   "execution_count": 15,
   "id": "49cbb77f",
   "metadata": {},
   "outputs": [],
   "source": [
    "def odd_count(a,b):\n",
    "    while a <= b:\n",
    "        yield a\n",
    "        a += 2"
   ]
  },
  {
   "cell_type": "code",
   "execution_count": 18,
   "id": "bdc8a0de",
   "metadata": {},
   "outputs": [
    {
     "name": "stdout",
     "output_type": "stream",
     "text": [
      "1\n",
      "3\n",
      "5\n",
      "7\n",
      "9\n",
      "11\n",
      "13\n",
      "15\n",
      "17\n",
      "19\n",
      "21\n",
      "23\n",
      "25\n",
      "27\n",
      "29\n",
      "31\n",
      "33\n",
      "35\n",
      "37\n",
      "39\n",
      "41\n",
      "43\n",
      "45\n",
      "47\n",
      "49\n"
     ]
    }
   ],
   "source": [
    "for i in odd_count(1,50):\n",
    "    print(i)"
   ]
  },
  {
   "cell_type": "code",
   "execution_count": null,
   "id": "8db33483",
   "metadata": {},
   "outputs": [],
   "source": [
    "def recur(min_num,max_num):\n",
    "    if min_num <= max_num :\n",
    "        print(min_num,max_num)\n",
    "        recur(min_num+3,max_num)"
   ]
  },
  {
   "cell_type": "code",
   "execution_count": 43,
   "id": "16f9aa60",
   "metadata": {},
   "outputs": [
    {
     "name": "stdout",
     "output_type": "stream",
     "text": [
      "2 10\n",
      "5 10\n",
      "8 10\n"
     ]
    }
   ],
   "source": [
    "recur(2,10)"
   ]
  },
  {
   "cell_type": "code",
   "execution_count": 1,
   "id": "8d8d1a5c",
   "metadata": {},
   "outputs": [
    {
     "name": "stdout",
     "output_type": "stream",
     "text": [
      "Time take to sum of even number through generator: 4.303365\n",
      "Time to create and sum of even number of list: 7.663416\n"
     ]
    }
   ],
   "source": [
    "# compares the running time of a list compared to generator\n",
    "import time\n",
    "def Even_num_Gen(min,max):\n",
    "    while min < max:\n",
    "        yield min\n",
    "        min += 2\n",
    "def even_num_list(min,max):\n",
    "    elst = []\n",
    "    while min < max:\n",
    "        elst.append(min)\n",
    "        min += 2\n",
    "    return elst\n",
    "t1 = time.time()\n",
    "sum(Even_num_Gen(1,100000000))\n",
    "print('Time take to sum of even number through generator: %f' % (time.time() - t1))\n",
    "t1 = time.time()\n",
    "sum(even_num_list(1,100000000))\n",
    "print('Time to create and sum of even number of list: %f' % (time.time() - t1))"
   ]
  },
  {
   "cell_type": "code",
   "execution_count": 33,
   "id": "6e9ffcf0",
   "metadata": {},
   "outputs": [],
   "source": [
    "k = [1,2,3,4,5]"
   ]
  },
  {
   "cell_type": "code",
   "execution_count": 34,
   "id": "fd80ae58",
   "metadata": {},
   "outputs": [],
   "source": [
    "gen1 = (10**i for i in k)"
   ]
  },
  {
   "cell_type": "code",
   "execution_count": 35,
   "id": "7dd6e13f",
   "metadata": {},
   "outputs": [
    {
     "data": {
      "text/plain": [
       "<generator object <genexpr> at 0x00000217B39BB850>"
      ]
     },
     "execution_count": 35,
     "metadata": {},
     "output_type": "execute_result"
    }
   ],
   "source": [
    "gen1"
   ]
  },
  {
   "cell_type": "code",
   "execution_count": 36,
   "id": "dc4a4dec",
   "metadata": {},
   "outputs": [
    {
     "name": "stdout",
     "output_type": "stream",
     "text": [
      "10\n",
      "100\n",
      "1000\n",
      "10000\n",
      "100000\n"
     ]
    }
   ],
   "source": [
    "for x in gen1:\n",
    "    print(x)"
   ]
  },
  {
   "cell_type": "code",
   "execution_count": 30,
   "id": "5f803c19",
   "metadata": {},
   "outputs": [],
   "source": [
    "class Employee(object):\n",
    "    numEmployee = 0\n",
    "    def __init__(self,name,rate):\n",
    "        self.owed = 0\n",
    "        self.name = name\n",
    "        self.rate = rate\n",
    "        Employee.numEmployee += 1\n",
    "        \n",
    "    def __del__(self):\n",
    "        Employee.numEmployee -= 1\n",
    "        \n",
    "    def hours(self,numHours):\n",
    "        self.owed += numHours * self.rate\n",
    "        return('% .2f hours worked' % numHours)\n",
    "    \n",
    "    def pay(self):\n",
    "        self.owed = 0\n",
    "        return('payed %s' % self.name)"
   ]
  },
  {
   "cell_type": "code",
   "execution_count": 31,
   "id": "14314e6f",
   "metadata": {},
   "outputs": [],
   "source": [
    "emp1 = Employee('Jill',18.50)"
   ]
  },
  {
   "cell_type": "code",
   "execution_count": 32,
   "id": "1df06dc4",
   "metadata": {},
   "outputs": [],
   "source": [
    "emp2 = Employee('Jack',15.50)"
   ]
  },
  {
   "cell_type": "code",
   "execution_count": 33,
   "id": "10bcd24c",
   "metadata": {},
   "outputs": [
    {
     "data": {
      "text/plain": [
       "2"
      ]
     },
     "execution_count": 33,
     "metadata": {},
     "output_type": "execute_result"
    }
   ],
   "source": [
    "Employee.numEmployee"
   ]
  },
  {
   "cell_type": "code",
   "execution_count": 34,
   "id": "35002b7e",
   "metadata": {},
   "outputs": [
    {
     "data": {
      "text/plain": [
       "' 20.00 hours worked'"
      ]
     },
     "execution_count": 34,
     "metadata": {},
     "output_type": "execute_result"
    }
   ],
   "source": [
    "emp1.hours(20)"
   ]
  },
  {
   "cell_type": "code",
   "execution_count": 35,
   "id": "94d9e8d1",
   "metadata": {},
   "outputs": [
    {
     "data": {
      "text/plain": [
       "370.0"
      ]
     },
     "execution_count": 35,
     "metadata": {},
     "output_type": "execute_result"
    }
   ],
   "source": [
    "emp1.owed"
   ]
  },
  {
   "cell_type": "code",
   "execution_count": 36,
   "id": "55261ccb",
   "metadata": {},
   "outputs": [
    {
     "data": {
      "text/plain": [
       "'payed Jill'"
      ]
     },
     "execution_count": 36,
     "metadata": {},
     "output_type": "execute_result"
    }
   ],
   "source": [
    "emp1.pay()"
   ]
  },
  {
   "cell_type": "code",
   "execution_count": 37,
   "id": "306d8976",
   "metadata": {},
   "outputs": [],
   "source": [
    "emp3 = Employee('John',16.50)"
   ]
  },
  {
   "cell_type": "code",
   "execution_count": 38,
   "id": "890c6c95",
   "metadata": {},
   "outputs": [
    {
     "data": {
      "text/plain": [
       "3"
      ]
     },
     "execution_count": 38,
     "metadata": {},
     "output_type": "execute_result"
    }
   ],
   "source": [
    "Employee.numEmployee"
   ]
  },
  {
   "cell_type": "code",
   "execution_count": 39,
   "id": "9cb8ec21",
   "metadata": {},
   "outputs": [],
   "source": [
    "class Student3(object):\n",
    "    numStudent = 0\n",
    "    \n",
    "    def __init__(self,name,roll_num):\n",
    "        self.owed = 0\n",
    "        self.name = name\n",
    "        self.roll_num = roll_num\n",
    "        #total_marks = 550\n",
    "        #self.mark_obtained = mark_obatained\n",
    "        Student3.numStudent += 1\n",
    "        \n",
    "    def __del__(self):\n",
    "        Student3.numStudent -= 1\n",
    "        \n",
    "    def percentage(self,mark_obtained,total_marks):\n",
    "        \n",
    "        self.owed = mark_obtained / total_marks * 100\n",
    "        return('% .2f percentage' % self.owed)\n",
    "    \n",
    "    def result(self):\n",
    "        self.owed = self.owed \n",
    "        if self.owed >= 70:\n",
    "            print('passed %s ' % self.name)\n",
    "        else:\n",
    "            print('%s failed'% self.name)"
   ]
  },
  {
   "cell_type": "code",
   "execution_count": 40,
   "id": "30adbe60",
   "metadata": {},
   "outputs": [],
   "source": [
    "st1 = Student3('Azaan',101)\n",
    "st2 = Student3('Zain',102)\n",
    "st3 = Student3('Amber',103)"
   ]
  },
  {
   "cell_type": "code",
   "execution_count": 41,
   "id": "6347b2ae",
   "metadata": {},
   "outputs": [
    {
     "data": {
      "text/plain": [
       "0"
      ]
     },
     "execution_count": 41,
     "metadata": {},
     "output_type": "execute_result"
    }
   ],
   "source": [
    "Student3.numStudent"
   ]
  },
  {
   "cell_type": "code",
   "execution_count": 42,
   "id": "ec37d416",
   "metadata": {},
   "outputs": [
    {
     "data": {
      "text/plain": [
       "' 90.91 percentage'"
      ]
     },
     "execution_count": 42,
     "metadata": {},
     "output_type": "execute_result"
    }
   ],
   "source": [
    "st1.percentage(500,550)"
   ]
  },
  {
   "cell_type": "code",
   "execution_count": 43,
   "id": "6c4edd12",
   "metadata": {},
   "outputs": [
    {
     "name": "stdout",
     "output_type": "stream",
     "text": [
      "passed Azaan \n"
     ]
    }
   ],
   "source": [
    "st1.result()"
   ]
  },
  {
   "cell_type": "code",
   "execution_count": 44,
   "id": "f28b6a50",
   "metadata": {},
   "outputs": [
    {
     "data": {
      "text/plain": [
       "90.9090909090909"
      ]
     },
     "execution_count": 44,
     "metadata": {},
     "output_type": "execute_result"
    }
   ],
   "source": [
    "st1.owed"
   ]
  },
  {
   "cell_type": "code",
   "execution_count": 45,
   "id": "d2b2b347",
   "metadata": {},
   "outputs": [
    {
     "data": {
      "text/plain": [
       "' 83.64 percentage'"
      ]
     },
     "execution_count": 45,
     "metadata": {},
     "output_type": "execute_result"
    }
   ],
   "source": [
    "st3.percentage(460,550)"
   ]
  },
  {
   "cell_type": "code",
   "execution_count": 46,
   "id": "581f21dc",
   "metadata": {},
   "outputs": [
    {
     "name": "stdout",
     "output_type": "stream",
     "text": [
      "passed Amber \n"
     ]
    }
   ],
   "source": [
    "st3.result()"
   ]
  },
  {
   "cell_type": "code",
   "execution_count": 47,
   "id": "8a3f2a97",
   "metadata": {},
   "outputs": [
    {
     "data": {
      "text/plain": [
       "' 54.55 percentage'"
      ]
     },
     "execution_count": 47,
     "metadata": {},
     "output_type": "execute_result"
    }
   ],
   "source": [
    "st2.percentage(300,550)"
   ]
  },
  {
   "cell_type": "code",
   "execution_count": 48,
   "id": "0421ce82",
   "metadata": {},
   "outputs": [
    {
     "data": {
      "text/plain": [
       "54.54545454545454"
      ]
     },
     "execution_count": 48,
     "metadata": {},
     "output_type": "execute_result"
    }
   ],
   "source": [
    "st2.owed"
   ]
  },
  {
   "cell_type": "code",
   "execution_count": 49,
   "id": "b6d38068",
   "metadata": {},
   "outputs": [
    {
     "name": "stdout",
     "output_type": "stream",
     "text": [
      "Zain failed\n"
     ]
    }
   ],
   "source": [
    "st2.result()"
   ]
  },
  {
   "cell_type": "code",
   "execution_count": 50,
   "id": "952c87ea",
   "metadata": {},
   "outputs": [],
   "source": [
    "class my_class():\n",
    "    def __init__(self,greet):\n",
    "        self.greet = greet\n",
    "    def __repr__(self):\n",
    "        return 'a custom object (%r)' %(self.greet)"
   ]
  },
  {
   "cell_type": "code",
   "execution_count": 51,
   "id": "fbeaef67",
   "metadata": {},
   "outputs": [],
   "source": [
    "a = my_class('giday')"
   ]
  },
  {
   "cell_type": "code",
   "execution_count": 52,
   "id": "66e7754e",
   "metadata": {},
   "outputs": [
    {
     "data": {
      "text/plain": [
       "a custom object ('giday')"
      ]
     },
     "execution_count": 52,
     "metadata": {},
     "output_type": "execute_result"
    }
   ],
   "source": [
    "a"
   ]
  },
  {
   "cell_type": "code",
   "execution_count": 53,
   "id": "b8ab2360",
   "metadata": {},
   "outputs": [],
   "source": [
    "class daily_life_quotes():\n",
    "    def __init__(self,quote):\n",
    "        self.quote = quote\n",
    "    def __repr__(self):\n",
    "        return 'Today Quote of the day : (%r)' %(self.quote)"
   ]
  },
  {
   "cell_type": "code",
   "execution_count": 54,
   "id": "17aeebe3",
   "metadata": {},
   "outputs": [
    {
     "data": {
      "text/plain": [
       "Today Quote of the day : (\"LIFE is unpredictable ,so don't waste your time in silly things\")"
      ]
     },
     "execution_count": 54,
     "metadata": {},
     "output_type": "execute_result"
    }
   ],
   "source": [
    "daily_life_quotes(\"LIFE is unpredictable ,so don't waste your time in silly things\")"
   ]
  },
  {
   "cell_type": "code",
   "execution_count": 58,
   "id": "d1351bc7",
   "metadata": {},
   "outputs": [],
   "source": [
    "class specialEmployee(Employee):\n",
    "    def hours(self,numHours):\n",
    "        self.owed += numHours * self.rate * 2\n",
    "        return(\"% .2f hours worked\" % numHours)"
   ]
  },
  {
   "cell_type": "code",
   "execution_count": 59,
   "id": "52a6c7b1",
   "metadata": {},
   "outputs": [],
   "source": [
    "class specialEmployee(Employee):\n",
    "    def __init__(self,name,rate,bonus):\n",
    "        Employee.__init__(self,name,rate)     # calls the base classes\n",
    "        self.bonus = bonus\n",
    "        \n",
    "    def hours(self,numHours):\n",
    "        self.owed += numHours * self.rate + self.bonus\n",
    "        return(\"% .2f hours worked\" % numHours)"
   ]
  },
  {
   "cell_type": "code",
   "execution_count": 61,
   "id": "8384cabe",
   "metadata": {},
   "outputs": [],
   "source": [
    " emp4 = specialEmployee('Veer',12.50,2000)"
   ]
  },
  {
   "cell_type": "code",
   "execution_count": 65,
   "id": "76e7f4ac",
   "metadata": {},
   "outputs": [
    {
     "data": {
      "text/plain": [
       "' 25.00 hours worked'"
      ]
     },
     "execution_count": 65,
     "metadata": {},
     "output_type": "execute_result"
    }
   ],
   "source": [
    "emp4.hours(25)"
   ]
  },
  {
   "cell_type": "code",
   "execution_count": 66,
   "id": "2f2c77d5",
   "metadata": {},
   "outputs": [
    {
     "data": {
      "text/plain": [
       "2312.5"
      ]
     },
     "execution_count": 66,
     "metadata": {},
     "output_type": "execute_result"
    }
   ],
   "source": [
    "emp4.owed"
   ]
  },
  {
   "cell_type": "code",
   "execution_count": 67,
   "id": "dccd864b",
   "metadata": {},
   "outputs": [
    {
     "data": {
      "text/plain": [
       "2000"
      ]
     },
     "execution_count": 67,
     "metadata": {},
     "output_type": "execute_result"
    }
   ],
   "source": [
    "emp4.bonus"
   ]
  },
  {
   "cell_type": "code",
   "execution_count": 77,
   "id": "8df5495d",
   "metadata": {},
   "outputs": [],
   "source": [
    "class Aexp(object):\n",
    "    base = 2\n",
    "    @classmethod\n",
    "    def exp(cls,x):\n",
    "        return(cls.base**x)   "
   ]
  },
  {
   "cell_type": "code",
   "execution_count": 78,
   "id": "8311b4dc",
   "metadata": {},
   "outputs": [],
   "source": [
    "class Bexp(Aexp):\n",
    "    base = 3"
   ]
  },
  {
   "cell_type": "code",
   "execution_count": 84,
   "id": "7b8cc2f4",
   "metadata": {},
   "outputs": [],
   "source": [
    "#BxSqr .sqr(3)          # check online"
   ]
  },
  {
   "cell_type": "code",
   "execution_count": 82,
   "id": "4ae54114",
   "metadata": {},
   "outputs": [],
   "source": [
    "class Bexp(Aexp):\n",
    "    __base = 3\n",
    "    def __exp(self):\n",
    "        return(x**cls.base)"
   ]
  },
  {
   "cell_type": "markdown",
   "id": "79b5173d",
   "metadata": {},
   "source": [
    "# Ch 02 Python Data Types and Structures"
   ]
  },
  {
   "cell_type": "raw",
   "id": "d201b0b0",
   "metadata": {},
   "source": [
    "Python considers the following value False:\n",
    "1. The None type\n",
    "2. False\n",
    "3. An integer ,float or complex zero\n",
    "4. An instance of user defined class that defines a __len() or __bool() method that returns zero  or false\n",
    "All other values considered True"
   ]
  },
  {
   "cell_type": "markdown",
   "id": "ac730f29",
   "metadata": {},
   "source": [
    "# Boolean Operations:"
   ]
  },
  {
   "cell_type": "raw",
   "id": "c7fd8ebd",
   "metadata": {},
   "source": [
    "A Boolean operation returns a value of either True or False.\n",
    "They are ordered in priority,if more than one boolean occurs in an expression ,the higher priority will occur first.\n",
    "Both the 'and' operator and 'or' operator use \"short-circuiting\" when evaluating an expression ."
   ]
  },
  {
   "cell_type": "code",
   "execution_count": 6,
   "id": "35e6daa1",
   "metadata": {},
   "outputs": [],
   "source": [
    "x = 10\n",
    "y = 80"
   ]
  },
  {
   "cell_type": "code",
   "execution_count": 7,
   "id": "212dc89e",
   "metadata": {},
   "outputs": [
    {
     "data": {
      "text/plain": [
       "False"
      ]
     },
     "execution_count": 7,
     "metadata": {},
     "output_type": "execute_result"
    }
   ],
   "source": [
    "y < x"
   ]
  },
  {
   "cell_type": "code",
   "execution_count": 8,
   "id": "769918bd",
   "metadata": {},
   "outputs": [
    {
     "data": {
      "text/plain": [
       "True"
      ]
     },
     "execution_count": 8,
     "metadata": {},
     "output_type": "execute_result"
    }
   ],
   "source": [
    "y > x"
   ]
  },
  {
   "cell_type": "code",
   "execution_count": 9,
   "id": "2d603f84",
   "metadata": {},
   "outputs": [
    {
     "data": {
      "text/plain": [
       "80"
      ]
     },
     "execution_count": 9,
     "metadata": {},
     "output_type": "execute_result"
    }
   ],
   "source": [
    "x and y"
   ]
  },
  {
   "cell_type": "code",
   "execution_count": 10,
   "id": "4671e62e",
   "metadata": {},
   "outputs": [
    {
     "data": {
      "text/plain": [
       "10"
      ]
     },
     "execution_count": 10,
     "metadata": {},
     "output_type": "execute_result"
    }
   ],
   "source": [
    "x or y"
   ]
  },
  {
   "cell_type": "markdown",
   "id": "f062e050",
   "metadata": {},
   "source": [
    "# Comparision and Arithmetic operators"
   ]
  },
  {
   "cell_type": "raw",
   "id": "6001c086",
   "metadata": {},
   "source": [
    "Standard arithmetic operators(+,-,*,/) work with all python numeric types.\n",
    "// operator gives an integer quotient\n",
    "** exponent operator \n",
    "%  modulus operator returns remainder of the division\n",
    "Comparision operators (< , <= , > , >= , ==, and !=) work with numbers ,strings,lists,and other collection objects and return \n",
    "True if condition holds."
   ]
  },
  {
   "cell_type": "code",
   "execution_count": 12,
   "id": "a4f6f174",
   "metadata": {},
   "outputs": [
    {
     "name": "stdout",
     "output_type": "stream",
     "text": [
      "17\n",
      "3\n",
      "70\n",
      "1.4285714285714286\n",
      "1\n",
      "10000000\n",
      "3\n",
      "False\n",
      "False\n",
      "True\n"
     ]
    }
   ],
   "source": [
    "a = 10\n",
    "b = 7\n",
    "print(a + b)\n",
    "print(a - b)\n",
    "print(a * b)\n",
    "print(a / b)\n",
    "print(a // b)\n",
    "print(a ** b)\n",
    "print(a % b)\n",
    "print(a < b)\n",
    "print(a == b)\n",
    "print(a != b)"
   ]
  },
  {
   "cell_type": "markdown",
   "id": "695ee973",
   "metadata": {},
   "source": [
    "# Membership, identity and logical operations"
   ]
  },
  {
   "cell_type": "raw",
   "id": "152aa275",
   "metadata": {},
   "source": [
    "Membership operators (in, not in) test for variables in sequences, such as lists or strings\n",
    "is operator compares object identity"
   ]
  },
  {
   "cell_type": "code",
   "execution_count": 15,
   "id": "2ed351d7",
   "metadata": {},
   "outputs": [],
   "source": [
    "c = [90,80,70] ; d = [90,80,70]"
   ]
  },
  {
   "cell_type": "code",
   "execution_count": 19,
   "id": "74f5cdee",
   "metadata": {},
   "outputs": [
    {
     "name": "stdout",
     "output_type": "stream",
     "text": [
      "True\n",
      "False\n",
      "True\n"
     ]
    }
   ],
   "source": [
    "print(c == d) #equivalence\n",
    "print(c is d) #object identity\n",
    "c = d         #assignment\n",
    "print(c is d)"
   ]
  },
  {
   "cell_type": "markdown",
   "id": "680f5f7e",
   "metadata": {},
   "source": [
    "# Built-in data types"
   ]
  },
  {
   "cell_type": "raw",
   "id": "3063de35",
   "metadata": {},
   "source": [
    "Python data types can be divided into 3 categories:\n",
    "1. numeric\n",
    "2. sequence\n",
    "3. mapping\n",
    "there is also None object that represents a Null or absence of a value.\n",
    "other objects such as classes ,files and exceptions are also types."
   ]
  },
  {
   "cell_type": "raw",
   "id": "6907fe63",
   "metadata": {},
   "source": [
    "Category          Name\t           Description\n",
    "\n",
    "None\t           None\t           The null object\n",
    "Numeric\t           int\t           Integer\n",
    "\t               float\t       Floating point number\n",
    "\t               complex\t       Complex number\n",
    "\t               bool\t           Boolean (True, False).\n",
    "Sequence\t       str\t           String of characters\n",
    "\t               list\t           List of arbitrary objects\n",
    "\t               tuple\t       Group of arbitrary items\n",
    "\t               range\t       Creates a range of integer\n",
    "Mapping\t           dict\t           Dictionary of key-value pairs\n",
    "\t               set\t           Mutable ,unordered collection of unique items\n",
    "\t               frozenset\t   Immutable set\n"
   ]
  },
  {
   "cell_type": "code",
   "execution_count": null,
   "id": "2de10a33",
   "metadata": {},
   "outputs": [],
   "source": []
  }
 ],
 "metadata": {
  "kernelspec": {
   "display_name": "Python 3 (ipykernel)",
   "language": "python",
   "name": "python3"
  },
  "language_info": {
   "codemirror_mode": {
    "name": "ipython",
    "version": 3
   },
   "file_extension": ".py",
   "mimetype": "text/x-python",
   "name": "python",
   "nbconvert_exporter": "python",
   "pygments_lexer": "ipython3",
   "version": "3.11.4"
  }
 },
 "nbformat": 4,
 "nbformat_minor": 5
}
