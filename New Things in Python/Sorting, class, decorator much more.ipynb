{
 "cells": [
  {
   "cell_type": "code",
   "execution_count": 5,
   "id": "65719a03",
   "metadata": {},
   "outputs": [
    {
     "name": "stdout",
     "output_type": "stream",
     "text": [
      "0b1000\n"
     ]
    }
   ],
   "source": [
    "# Bitwise AND\n",
    "a = 0b1010\n",
    "b = 0b1100\n",
    "c = a & b\n",
    "print(bin(c))"
   ]
  },
  {
   "cell_type": "code",
   "execution_count": 6,
   "id": "e1bad9f0",
   "metadata": {},
   "outputs": [
    {
     "name": "stdout",
     "output_type": "stream",
     "text": [
      "0b1110\n"
     ]
    }
   ],
   "source": [
    "# Bitwise OR\n",
    "a = 0b1010\n",
    "b = 0b1100\n",
    "c = a | b\n",
    "print(bin(c))"
   ]
  },
  {
   "cell_type": "code",
   "execution_count": 7,
   "id": "c0487933",
   "metadata": {},
   "outputs": [
    {
     "name": "stdout",
     "output_type": "stream",
     "text": [
      "0b110\n"
     ]
    }
   ],
   "source": [
    "# Bitwise XOR\n",
    "a = 0b1010\n",
    "b = 0b1100\n",
    "c = a ^ b\n",
    "print(bin(c))"
   ]
  },
  {
   "cell_type": "code",
   "execution_count": 9,
   "id": "6bf50fa0",
   "metadata": {},
   "outputs": [
    {
     "name": "stdout",
     "output_type": "stream",
     "text": [
      "-0b1011\n"
     ]
    }
   ],
   "source": [
    "# Bitwise NOT\n",
    "a = 0b1010\n",
    "c = ~a\n",
    "print(bin(c))"
   ]
  },
  {
   "cell_type": "code",
   "execution_count": 10,
   "id": "c5fa24f7",
   "metadata": {},
   "outputs": [
    {
     "name": "stdout",
     "output_type": "stream",
     "text": [
      "0b101000\n"
     ]
    }
   ],
   "source": [
    "# Bitwise Left Shift\n",
    "a = 0b1010\n",
    "c = a << 2\n",
    "print(bin(c))"
   ]
  },
  {
   "cell_type": "code",
   "execution_count": 11,
   "id": "aef1e5e4",
   "metadata": {},
   "outputs": [
    {
     "name": "stdout",
     "output_type": "stream",
     "text": [
      "0b101\n"
     ]
    }
   ],
   "source": [
    "# Bitwise Right Shift\n",
    "a = 0b1010\n",
    "c = a >> 1\n",
    "print(bin(c))"
   ]
  },
  {
   "cell_type": "code",
   "execution_count": 12,
   "id": "e107b411",
   "metadata": {},
   "outputs": [
    {
     "name": "stdout",
     "output_type": "stream",
     "text": [
      "0b1000000000000\n"
     ]
    }
   ],
   "source": [
    "# Bitwise AND\n",
    "a = 0x1010\n",
    "b = 0x1100\n",
    "c = a & b\n",
    "print(bin(c))"
   ]
  },
  {
   "cell_type": "code",
   "execution_count": 13,
   "id": "88006a46",
   "metadata": {},
   "outputs": [
    {
     "name": "stdout",
     "output_type": "stream",
     "text": [
      "0b0\n"
     ]
    }
   ],
   "source": [
    "a = 0x1010\n",
    "b = 0o1100\n",
    "c = a & b\n",
    "print(bin(c))"
   ]
  },
  {
   "cell_type": "code",
   "execution_count": 14,
   "id": "91f23159",
   "metadata": {},
   "outputs": [
    {
     "name": "stdout",
     "output_type": "stream",
     "text": [
      "0b1000000000\n"
     ]
    }
   ],
   "source": [
    "a = 0o1010\n",
    "b = 0o1100\n",
    "c = a & b\n",
    "print(bin(c))"
   ]
  },
  {
   "cell_type": "code",
   "execution_count": 15,
   "id": "b92a424b",
   "metadata": {},
   "outputs": [
    {
     "name": "stdout",
     "output_type": "stream",
     "text": [
      "2349048040592\n"
     ]
    }
   ],
   "source": [
    "print(id(a))"
   ]
  },
  {
   "cell_type": "code",
   "execution_count": 16,
   "id": "04aea52e",
   "metadata": {},
   "outputs": [
    {
     "name": "stdout",
     "output_type": "stream",
     "text": [
      "140729671259208\n",
      "140729671259208\n",
      "140729671259208\n"
     ]
    }
   ],
   "source": [
    "x = 10\n",
    "y = 10\n",
    "z = x\n",
    "print(id(x))\n",
    "print(id(y))\n",
    "print(id(z))"
   ]
  },
  {
   "cell_type": "code",
   "execution_count": 17,
   "id": "db49e338",
   "metadata": {},
   "outputs": [
    {
     "name": "stdout",
     "output_type": "stream",
     "text": [
      "False\n",
      "2349049447104\n",
      "2349049443520\n"
     ]
    }
   ],
   "source": [
    "list1 = [10, 20, 30]\n",
    "list2 = [10, 20, 30]\n",
    "print(list1 is list2)\n",
    "print(id(list1))\n",
    "print(id(list2))"
   ]
  },
  {
   "cell_type": "code",
   "execution_count": 18,
   "id": "b5d908a2",
   "metadata": {},
   "outputs": [
    {
     "name": "stdout",
     "output_type": "stream",
     "text": [
      "True\n",
      "2349049446656\n",
      "2349049447808\n"
     ]
    }
   ],
   "source": [
    "list1 = [10, 20, 30]\n",
    "list2 = [10, 20, 30]\n",
    "print(list1 == list2)\n",
    "print(id(list1))\n",
    "print(id(list2))"
   ]
  },
  {
   "cell_type": "code",
   "execution_count": 23,
   "id": "848490fb",
   "metadata": {},
   "outputs": [
    {
     "data": {
      "text/plain": [
       "4.4"
      ]
     },
     "execution_count": 23,
     "metadata": {},
     "output_type": "execute_result"
    }
   ],
   "source": [
    "o = 84-51\n",
    "l = o * 8\n",
    "l / 60"
   ]
  },
  {
   "cell_type": "code",
   "execution_count": 24,
   "id": "9b6e79ec",
   "metadata": {},
   "outputs": [
    {
     "data": {
      "text/plain": [
       "264"
      ]
     },
     "execution_count": 24,
     "metadata": {},
     "output_type": "execute_result"
    }
   ],
   "source": [
    "33*8"
   ]
  },
  {
   "cell_type": "code",
   "execution_count": 25,
   "id": "cb6284d2",
   "metadata": {},
   "outputs": [
    {
     "data": {
      "text/plain": [
       "4.4"
      ]
     },
     "execution_count": 25,
     "metadata": {},
     "output_type": "execute_result"
    }
   ],
   "source": [
    "264/60"
   ]
  },
  {
   "cell_type": "code",
   "execution_count": 22,
   "id": "1ea8ede6",
   "metadata": {},
   "outputs": [],
   "source": [
    "import numpy as np\n",
    "arr1 = [30,20,50,40]"
   ]
  },
  {
   "cell_type": "code",
   "execution_count": 23,
   "id": "e1915302",
   "metadata": {},
   "outputs": [],
   "source": [
    "def bubble(aar1):\n",
    "    n = len(arr1)\n",
    "    for i in range(n):\n",
    "        swapped = False\n",
    "        for j in range(0, n - i - 1):\n",
    "            if arr1[j] > arr1[j + 1]:\n",
    "                arr1[j], arr1[j + 1] = arr1[j+ 1], arr1[j]\n",
    "                swapped = True\n",
    "        if not swapped:\n",
    "            break\n",
    "            "
   ]
  },
  {
   "cell_type": "code",
   "execution_count": 27,
   "id": "78cdd6dc",
   "metadata": {},
   "outputs": [
    {
     "name": "stdout",
     "output_type": "stream",
     "text": [
      "Sorted array is: [20, 30, 40, 50]\n"
     ]
    }
   ],
   "source": [
    "bubble(arr1)\n",
    "print(\"Sorted array is:\", arr1)"
   ]
  },
  {
   "cell_type": "code",
   "execution_count": 7,
   "id": "c8426197",
   "metadata": {},
   "outputs": [],
   "source": [
    "def linear(array, target):\n",
    "    for i in range(len(array)):\n",
    "        if array[i] == target:\n",
    "            return i\n",
    "        return -1"
   ]
  },
  {
   "cell_type": "code",
   "execution_count": 8,
   "id": "49bdd29b",
   "metadata": {},
   "outputs": [],
   "source": [
    "import numpy as np\n",
    "arr = np.array([27,13,32, 20,40])\n",
    "target = 20"
   ]
  },
  {
   "cell_type": "code",
   "execution_count": 9,
   "id": "39fc7062",
   "metadata": {},
   "outputs": [
    {
     "data": {
      "text/plain": [
       "-1"
      ]
     },
     "execution_count": 9,
     "metadata": {},
     "output_type": "execute_result"
    }
   ],
   "source": [
    "linear(arr,target)"
   ]
  },
  {
   "cell_type": "code",
   "execution_count": 41,
   "id": "9dae4a3e",
   "metadata": {},
   "outputs": [],
   "source": [
    "# in binary search array must be sorted\n",
    "def binary(array, target):\n",
    "    left, right = 0, len(array) -1\n",
    "    while left <= right:\n",
    "        mid = (left + right) // 2\n",
    "        if array[mid] == target:\n",
    "            return mid\n",
    "        elif array[mid]< target:\n",
    "            left = mid +1\n",
    "        else:\n",
    "            right = mid + 1\n",
    "    return -1"
   ]
  },
  {
   "cell_type": "code",
   "execution_count": 48,
   "id": "e1ac49ac",
   "metadata": {},
   "outputs": [],
   "source": [
    "arr = np.array([10,20,30,40,50])\n",
    "target = 40"
   ]
  },
  {
   "cell_type": "code",
   "execution_count": 49,
   "id": "48d5ec26",
   "metadata": {},
   "outputs": [
    {
     "data": {
      "text/plain": [
       "3"
      ]
     },
     "execution_count": 49,
     "metadata": {},
     "output_type": "execute_result"
    }
   ],
   "source": [
    "binary(arr, target)"
   ]
  },
  {
   "cell_type": "code",
   "execution_count": 10,
   "id": "561c8dc9",
   "metadata": {},
   "outputs": [],
   "source": [
    "def quick_sort(arr,low,high):\n",
    "    if low < high :\n",
    "        pivot = partition(arr,low,high)\n",
    "        quick_sort(arr,low,pivot - 1)\n",
    "        quick_sort(arr,pivot + 1, high)"
   ]
  },
  {
   "cell_type": "code",
   "execution_count": 11,
   "id": "46858b75",
   "metadata": {},
   "outputs": [],
   "source": [
    "def partition(arr,low,high):\n",
    "    p = arr[low]\n",
    "    i = low + 1\n",
    "    j = high\n",
    "    while True:\n",
    "        while i < j and arr[i] <= p:\n",
    "            i += 1\n",
    "        while i <= j and arr[j] >= p:\n",
    "            j -= 1\n",
    "        if i <= j:\n",
    "            arr[i], arr[j] = arr[j], arr[i]\n",
    "        else:\n",
    "            break\n",
    "    arr[low], arr[j] = arr[j], arr[low]\n",
    "    return j"
   ]
  },
  {
   "cell_type": "code",
   "execution_count": 12,
   "id": "947a53a4",
   "metadata": {},
   "outputs": [],
   "source": [
    "def merge_sort(arr):\n",
    "    if len(arr) <= 1:\n",
    "        return arr\n",
    "    mid = len(arr) // 2\n",
    "    l_half = arr[:mid]\n",
    "    r_half = arr[mid:]\n",
    "    l_half = merge_sort(l_half)\n",
    "    r_half = merge_sort(r_half)\n",
    "    return merge(l_half, r_half)"
   ]
  },
  {
   "cell_type": "code",
   "execution_count": 13,
   "id": "c566e748",
   "metadata": {},
   "outputs": [],
   "source": [
    "def merge(left, right):\n",
    "    new = []\n",
    "    i, j = 0, 0\n",
    "    \n",
    "    while i < len(left) and j < len(right):\n",
    "        if left[i] < right[j]:\n",
    "            new.append(left[i])\n",
    "            i += 1\n",
    "        else:\n",
    "            new.append(right[j])\n",
    "            j += 1\n",
    "           \n",
    "    new.extend(left[i:])\n",
    "    new.extend(right[j:])\n",
    "    return new\n",
    "    "
   ]
  },
  {
   "cell_type": "code",
   "execution_count": 3,
   "id": "2393ba70",
   "metadata": {},
   "outputs": [],
   "source": [
    "class faculty:\n",
    "    def putdata(self):\n",
    "        self.id = int(input(\"enterfaculty id\"))\n",
    "        self.name = input(\"enter name\")\n",
    "        self.salary = float(input(\"enter faculty salary\"))\n",
    "    def display(self):\n",
    "        print(\"faculty id:\", self.id)\n",
    "        print(\"faculty name:\", self.name)\n",
    "        print(\"faculty salary:\", self.salary)   "
   ]
  },
  {
   "cell_type": "code",
   "execution_count": 4,
   "id": "311f0520",
   "metadata": {},
   "outputs": [
    {
     "name": "stdout",
     "output_type": "stream",
     "text": [
      "enterfaculty id26\n",
      "enter nameRoze\n",
      "enter faculty salary78965412\n",
      "faculty id: 26\n",
      "faculty name: Roze\n",
      "faculty salary: 78965412.0\n"
     ]
    }
   ],
   "source": [
    "a = faculty()\n",
    "a.putdata()\n",
    "a.display()"
   ]
  },
  {
   "cell_type": "code",
   "execution_count": 9,
   "id": "ce18f51f",
   "metadata": {},
   "outputs": [
    {
     "name": "stdout",
     "output_type": "stream",
     "text": [
      "enter faculty id98\n",
      "enter nameRoze\n",
      "enter faculty salary963963857\n",
      "faculty id: 98\n",
      "faculty name:  Roze\n",
      "faculty salary 963963857.0\n"
     ]
    }
   ],
   "source": [
    "# constructor\n",
    "\n",
    "class faculty:\n",
    "    def __init__(self):\n",
    "        self.id = int(input(\"enter faculty id\"))\n",
    "        self.name = input(\"enter name\")\n",
    "        self.salary = float(input(\"enter faculty salary\"))\n",
    "    def display(self):\n",
    "        print(\"faculty id:\", self.id)\n",
    "        print(\"faculty name: \", self.name)\n",
    "        print(\"faculty salary\", self.salary)\n",
    "        \n",
    "a = faculty()\n",
    "\n",
    "a.display()"
   ]
  },
  {
   "cell_type": "code",
   "execution_count": 10,
   "id": "33fa8bea",
   "metadata": {},
   "outputs": [
    {
     "name": "stdout",
     "output_type": "stream",
     "text": [
      "Faculty id: 96\n",
      "faculty name: Noman\n",
      "faculty salary 96385\n"
     ]
    }
   ],
   "source": [
    "class faculty:\n",
    "    def __init__(self,a,b,c):\n",
    "        self.f_id = a\n",
    "        self.name = b\n",
    "        self.salary = c\n",
    "    def display(self):\n",
    "        print(\"Faculty id:\", self.f_id)\n",
    "        print(\"faculty name:\", self.name)\n",
    "        print(\"faculty salary\", self.salary)\n",
    "        \n",
    "        \n",
    "a = faculty(96,\"Noman\", 96385)\n",
    "a.display()"
   ]
  },
  {
   "cell_type": "code",
   "execution_count": 6,
   "id": "f5b2225e",
   "metadata": {},
   "outputs": [],
   "source": [
    "class student:\n",
    "    def __init__(self,my_roll,my_name,my_marks):\n",
    "        self.rollno = my_roll\n",
    "        self.name = my_name\n",
    "        self.marks = my_marks\n",
    "        \n",
    "    def average(self): \n",
    "        return sum(self.marks)/len(self.marks)"
   ]
  },
  {
   "cell_type": "code",
   "execution_count": 7,
   "id": "fe530e44",
   "metadata": {},
   "outputs": [
    {
     "name": "stdout",
     "output_type": "stream",
     "text": [
      "ROze\n",
      "70.0\n"
     ]
    }
   ],
   "source": [
    "first_student = student(1, \"ROze\", [50,60,70,80,90])\n",
    "print(first_student.name)\n",
    "print(first_student.average())"
   ]
  },
  {
   "cell_type": "code",
   "execution_count": 12,
   "id": "4d4b9e65",
   "metadata": {},
   "outputs": [],
   "source": [
    "# inheritance\n",
    "class OTTSubscription:\n",
    "    def __init__(self,subscription_id,plan, total_payment):\n",
    "        self.id = subscription_id\n",
    "        self.plan = plan\n",
    "        self.total_payment = total_payment\n",
    "        \n",
    "    def subscribe(self):\n",
    "        print(f\"Subscriber with {self.id} id subscribed to the {self.plan} plan\")\n",
    "    def unsubscribe(self):\n",
    "        print(f\"Subscriber with {self.id} id Unsubscribed to the {self.plan} plan\")"
   ]
  },
  {
   "cell_type": "code",
   "execution_count": 24,
   "id": "50c10cf1",
   "metadata": {},
   "outputs": [
    {
     "name": "stdout",
     "output_type": "stream",
     "text": [
      "Subscriber with 123654 id Unsubscribed to the monthly plan\n",
      "None\n"
     ]
    }
   ],
   "source": [
    "# example\n",
    "netflix = OTTSubscription(123654, \"monthly\", 100)\n",
    "netflix.plan\n",
    "print(netflix.unsubscribe())\n",
    "#netflix.subscribe()"
   ]
  },
  {
   "cell_type": "code",
   "execution_count": 20,
   "id": "8a143cb9",
   "metadata": {},
   "outputs": [],
   "source": [
    "class PremiumSubscription(OTTSubscription):\n",
    "    def __init__(self,subscription_id,plan,total_payment,screens):\n",
    "        self.id = subscription_id\n",
    "        self.plan = plan\n",
    "        self.payment = total_payment\n",
    "        self.max_screens = screens\n",
    "     \n",
    "    def subscribe(self):\n",
    "        print(f\"Subscriber with {self.id} id subscribed to the {self.plan} plan\")\n",
    "    \n",
    "    def unsubscribe(self):\n",
    "        print(f\"Subscriber with {self.id} id Unubscribed to the {self.plan} plan\")\n",
    "    \n",
    "    def set_max_screens(self,screens):\n",
    "        print(f\"maximum screen set to {self.max_screens} in Premium plan\")"
   ]
  },
  {
   "cell_type": "code",
   "execution_count": 28,
   "id": "b7a04428",
   "metadata": {},
   "outputs": [
    {
     "name": "stdout",
     "output_type": "stream",
     "text": [
      "Subscriber with 85213 id subscribed to the Monthly plan\n",
      "maximum screen set to 1 in Premium plan\n"
     ]
    }
   ],
   "source": [
    "# example\n",
    "netflix = PremiumSubscription(\"85213\", \"Monthly\",1200, 1)\n",
    "netflix.subscribe()\n",
    "netflix.set_max_screens(4)"
   ]
  },
  {
   "cell_type": "code",
   "execution_count": 17,
   "id": "06907211",
   "metadata": {},
   "outputs": [],
   "source": [
    "class PremiumSubscription(OTTSubscription):\n",
    "    def __init__(self,subscription_id, plan, total_payment, screens):\n",
    "        super().__init__(subscription_id, plan, total_payment)\n",
    "        self.max_screens = screens\n",
    "        \n",
    "    def set_max_screens(self,screens):\n",
    "        print(f\"maximum screen set to {self.max_screens} in premium plan\")"
   ]
  },
  {
   "cell_type": "code",
   "execution_count": 29,
   "id": "2bced137",
   "metadata": {},
   "outputs": [
    {
     "name": "stdout",
     "output_type": "stream",
     "text": [
      "Subscriber with 123456 id subscribed to the yearly plan\n"
     ]
    }
   ],
   "source": [
    "netflix = PremiumSubscription(\"123456\", \"yearly\", 1,1200)\n",
    "netflix.subscribe()"
   ]
  },
  {
   "cell_type": "code",
   "execution_count": 30,
   "id": "18c6e9d5",
   "metadata": {},
   "outputs": [
    {
     "name": "stdout",
     "output_type": "stream",
     "text": [
      "maximum screen set to 1200 in Premium plan\n"
     ]
    }
   ],
   "source": [
    "netflix.set_max_screens(4)"
   ]
  },
  {
   "cell_type": "code",
   "execution_count": 31,
   "id": "2bef235d",
   "metadata": {},
   "outputs": [],
   "source": [
    "myott = OTTSubscription(\"1236\", \"Quarter\", 100)"
   ]
  },
  {
   "cell_type": "code",
   "execution_count": 32,
   "id": "bb13c44c",
   "metadata": {},
   "outputs": [
    {
     "data": {
      "text/plain": [
       "'Quarter'"
      ]
     },
     "execution_count": 32,
     "metadata": {},
     "output_type": "execute_result"
    }
   ],
   "source": [
    "myott.plan"
   ]
  },
  {
   "cell_type": "code",
   "execution_count": 33,
   "id": "5227af8c",
   "metadata": {},
   "outputs": [],
   "source": [
    "# generator\n",
    "numbers = list(range(1,201))"
   ]
  },
  {
   "cell_type": "code",
   "execution_count": 35,
   "id": "67dc199c",
   "metadata": {},
   "outputs": [
    {
     "name": "stdout",
     "output_type": "stream",
     "text": [
      "[1, 2, 3, 4, 5, 6, 7, 8, 9, 10, 11, 12, 13, 14, 15, 16, 17, 18, 19, 20, 21, 22, 23, 24, 25, 26, 27, 28, 29, 30, 31, 32, 33, 34, 35, 36, 37, 38, 39, 40, 41, 42, 43, 44, 45, 46, 47, 48, 49, 50, 51, 52, 53, 54, 55, 56, 57, 58, 59, 60, 61, 62, 63, 64, 65, 66, 67, 68, 69, 70, 71, 72, 73, 74, 75, 76, 77, 78, 79, 80, 81, 82, 83, 84, 85, 86, 87, 88, 89, 90, 91, 92, 93, 94, 95, 96, 97, 98, 99, 100, 101, 102, 103, 104, 105, 106, 107, 108, 109, 110, 111, 112, 113, 114, 115, 116, 117, 118, 119, 120, 121, 122, 123, 124, 125, 126, 127, 128, 129, 130, 131, 132, 133, 134, 135, 136, 137, 138, 139, 140, 141, 142, 143, 144, 145, 146, 147, 148, 149, 150, 151, 152, 153, 154, 155, 156, 157, 158, 159, 160, 161, 162, 163, 164, 165, 166, 167, 168, 169, 170, 171, 172, 173, 174, 175, 176, 177, 178, 179, 180, 181, 182, 183, 184, 185, 186, 187, 188, 189, 190, 191, 192, 193, 194, 195, 196, 197, 198, 199, 200]\n"
     ]
    }
   ],
   "source": [
    "print(numbers)"
   ]
  },
  {
   "cell_type": "code",
   "execution_count": null,
   "id": "015ecc15",
   "metadata": {},
   "outputs": [],
   "source": [
    "import sys\n",
    "def creator():\n",
    "    list = []\n",
    "    i = 1\n",
    "    while i<=10:\n",
    "        list.append(i)\n",
    "    return list \n",
    "print(creator())\n",
    "z = sys.getsizeof(list)\n",
    "print(z)"
   ]
  },
  {
   "cell_type": "code",
   "execution_count": null,
   "id": "a3ad1830",
   "metadata": {},
   "outputs": [
    {
     "name": "stdout",
     "output_type": "stream",
     "text": [
      "<generator object creator1 at 0x000002AD5ADBC340>\n",
      "1\n",
      "1\n"
     ]
    }
   ],
   "source": [
    "def creator1():\n",
    "    i = 1\n",
    "    while i<= 20:\n",
    "        yield i\n",
    "print(creator1())\n",
    "x = creator1()\n",
    "print(next(x))\n",
    "print(next(x))\n",
    "print(list(x))"
   ]
  },
  {
   "cell_type": "code",
   "execution_count": 3,
   "id": "bbbb2ece",
   "metadata": {},
   "outputs": [
    {
     "name": "stdout",
     "output_type": "stream",
     "text": [
      "[22, 32, 42, 52, 62]\n"
     ]
    }
   ],
   "source": [
    "#list comprehension\n",
    "marks = [20,30,40,50,60]\n",
    "new_marks = []\n",
    "for x in marks:\n",
    "    new_marks.append(x+2)\n",
    "print(new_marks)    "
   ]
  },
  {
   "cell_type": "code",
   "execution_count": 4,
   "id": "596eb0bf",
   "metadata": {},
   "outputs": [
    {
     "name": "stdout",
     "output_type": "stream",
     "text": [
      "[22, 32, 42, 52, 62]\n"
     ]
    }
   ],
   "source": [
    "new_marks = [x+2 for x in marks]\n",
    "print(new_marks)"
   ]
  },
  {
   "cell_type": "code",
   "execution_count": 5,
   "id": "524fc929",
   "metadata": {},
   "outputs": [
    {
     "data": {
      "text/plain": [
       "[0, 8, 64, 216, 512]"
      ]
     },
     "execution_count": 5,
     "metadata": {},
     "output_type": "execute_result"
    }
   ],
   "source": [
    "easy = [x ** 3 for x in range(10) if x % 2 == 0]\n",
    "easy"
   ]
  },
  {
   "cell_type": "code",
   "execution_count": 1,
   "id": "88832180",
   "metadata": {},
   "outputs": [
    {
     "name": "stdout",
     "output_type": "stream",
     "text": [
      "[785, 12]\n",
      "[785, 12, 1998]\n",
      "[785, 12, 1998, [2016, 209]]\n",
      "[785, 12, 1998, [2016, 209], 96, 12, 75, 84]\n"
     ]
    }
   ],
   "source": [
    "a = [785,12]\n",
    "print(a)\n",
    "a.append(1998)\n",
    "print(a)\n",
    "a.append([2016,209])\n",
    "print(a)\n",
    "a.extend([96,12,75,84])\n",
    "print(a)"
   ]
  },
  {
   "cell_type": "code",
   "execution_count": 2,
   "id": "037b6a87",
   "metadata": {},
   "outputs": [
    {
     "data": {
      "text/plain": [
       "{23, 45, 89}"
      ]
     },
     "execution_count": 2,
     "metadata": {},
     "output_type": "execute_result"
    }
   ],
   "source": [
    "set1 = {89,23,45}\n",
    "set1"
   ]
  },
  {
   "cell_type": "code",
   "execution_count": 3,
   "id": "e278b807",
   "metadata": {},
   "outputs": [],
   "source": [
    "set1.add(1998)"
   ]
  },
  {
   "cell_type": "code",
   "execution_count": 4,
   "id": "2323ed81",
   "metadata": {},
   "outputs": [
    {
     "data": {
      "text/plain": [
       "{23, 45, 89, 1998}"
      ]
     },
     "execution_count": 4,
     "metadata": {},
     "output_type": "execute_result"
    }
   ],
   "source": [
    "set1"
   ]
  },
  {
   "cell_type": "code",
   "execution_count": 5,
   "id": "0c859523",
   "metadata": {},
   "outputs": [],
   "source": [
    "set1.update({45,896,1998})"
   ]
  },
  {
   "cell_type": "code",
   "execution_count": 6,
   "id": "f073b829",
   "metadata": {},
   "outputs": [
    {
     "data": {
      "text/plain": [
       "{23, 45, 89, 896, 1998}"
      ]
     },
     "execution_count": 6,
     "metadata": {},
     "output_type": "execute_result"
    }
   ],
   "source": [
    "set1"
   ]
  },
  {
   "cell_type": "code",
   "execution_count": 16,
   "id": "d9874f49",
   "metadata": {},
   "outputs": [],
   "source": [
    "marks = [77, 97, 64, 85, 55]\n",
    "\n",
    "def grade(marks):\n",
    "    if marks >= 90:\n",
    "        return \"A\"\n",
    "    elif 80 <= marks < 90:\n",
    "        return \"B\"\n",
    "    elif 70 <= marks < 80:\n",
    "        return \"C\"\n",
    "    elif 60 <= marks < 70:\n",
    "        return \"D\"\n",
    "    else:\n",
    "        return \"F\""
   ]
  },
  {
   "cell_type": "code",
   "execution_count": 17,
   "id": "3f2deb68",
   "metadata": {},
   "outputs": [],
   "source": [
    "grades = map(grade, marks)"
   ]
  },
  {
   "cell_type": "code",
   "execution_count": 18,
   "id": "b87e11e7",
   "metadata": {},
   "outputs": [
    {
     "name": "stdout",
     "output_type": "stream",
     "text": [
      "Exam Scores: [77, 97, 64, 85, 55]\n",
      "Grades:  ['C', 'A', 'D', 'B', 'F']\n"
     ]
    }
   ],
   "source": [
    "print(\"Exam Scores:\", marks)\n",
    "#print(\"Grades: \", next(grades))\n",
    "print(\"Grades: \", list(grades))"
   ]
  },
  {
   "cell_type": "code",
   "execution_count": 19,
   "id": "2e4686bf",
   "metadata": {},
   "outputs": [
    {
     "name": "stdout",
     "output_type": "stream",
     "text": [
      "Failing Scores: [35, 55]\n"
     ]
    }
   ],
   "source": [
    "marks = [77, 97, 64, 35, 55]\n",
    "\n",
    "def failing(score):\n",
    "    return score < 60\n",
    "\n",
    "result = filter(failing, marks)\n",
    "\n",
    "print(\"Failing Scores:\", list(result))"
   ]
  },
  {
   "cell_type": "code",
   "execution_count": 21,
   "id": "2829d47a",
   "metadata": {},
   "outputs": [
    {
     "name": "stdout",
     "output_type": "stream",
     "text": [
      "Even numbers: [20, 40, 60, 80, 100]\n"
     ]
    }
   ],
   "source": [
    "# lambda function\n",
    "numbers = [11, 20, 31, 40, 51, 60, 7, 80, 91, 100]\n",
    "def even(x):\n",
    "    return x % 2 == 0\n",
    "\n",
    "evens = list(filter(even, numbers))\n",
    "\n",
    "print(\"Even numbers:\", evens)"
   ]
  },
  {
   "cell_type": "code",
   "execution_count": 22,
   "id": "97d7d54f",
   "metadata": {},
   "outputs": [
    {
     "name": "stdout",
     "output_type": "stream",
     "text": [
      "even numbers greater than 50:  [60, 80, 100]\n"
     ]
    }
   ],
   "source": [
    "numbers = [11, 20, 31, 40, 51, 60, 7, 80, 91, 100]\n",
    "evenn = list(filter(lambda x : x % 2 == 0 and x > 50, numbers))\n",
    "\n",
    "print(\"even numbers greater than 50: \", evenn)"
   ]
  },
  {
   "cell_type": "code",
   "execution_count": 23,
   "id": "9539851a",
   "metadata": {},
   "outputs": [
    {
     "name": "stdout",
     "output_type": "stream",
     "text": [
      "Sorted words by length:  ['kota', 'delhi', 'jaipur', 'chandigarh', 'Muzaffarpur']\n"
     ]
    }
   ],
   "source": [
    "city = [\"jaipur\", \"kota\", \"chandigarh\", \"delhi\", \"Muzaffarpur\"]\n",
    "\n",
    "def length(city):\n",
    "    return(len(city))\n",
    "\n",
    "sort  = sorted(city, key = length)\n",
    "\n",
    "print(\"Sorted words by length: \", sort)"
   ]
  },
  {
   "cell_type": "code",
   "execution_count": 25,
   "id": "a9fde44f",
   "metadata": {},
   "outputs": [
    {
     "name": "stdout",
     "output_type": "stream",
     "text": [
      "Sorted words by length: ['Muzaffarpur', 'chandigarh', 'jaipur', 'delhi', 'kota']\n"
     ]
    }
   ],
   "source": [
    "city = [\"jaipur\", \"kota\", \"chandigarh\", \"delhi\", \"Muzaffarpur\"]\n",
    "sort = sorted(city, key = lambda x: len(x), reverse = True)\n",
    "print(\"Sorted words by length:\", sort)"
   ]
  },
  {
   "cell_type": "code",
   "execution_count": 26,
   "id": "f090bee4",
   "metadata": {},
   "outputs": [],
   "source": [
    "class queue:\n",
    "    def __init__(self):\n",
    "        self.values = []\n",
    "    def enqueue(self, x):\n",
    "        self.values.append(x)\n",
    "    def dequeue(self):\n",
    "        front = self.values[0]\n",
    "        self.values = self.values[1:]\n",
    "        return front"
   ]
  },
  {
   "cell_type": "code",
   "execution_count": 39,
   "id": "61a257ac",
   "metadata": {},
   "outputs": [
    {
     "name": "stdout",
     "output_type": "stream",
     "text": [
      "[40, 90, 70, 20]\n"
     ]
    },
    {
     "data": {
      "text/plain": [
       "40"
      ]
     },
     "execution_count": 39,
     "metadata": {},
     "output_type": "execute_result"
    }
   ],
   "source": [
    "q = queue()\n",
    "q.enqueue(40)\n",
    "q.enqueue(90)\n",
    "q.enqueue(70)\n",
    "q.enqueue(20)\n",
    "print(q.values)\n",
    "q.dequeue()"
   ]
  },
  {
   "cell_type": "code",
   "execution_count": 40,
   "id": "e9ab8738",
   "metadata": {},
   "outputs": [
    {
     "name": "stdout",
     "output_type": "stream",
     "text": [
      "[90, 70, 20]\n"
     ]
    }
   ],
   "source": [
    "print(q.values)"
   ]
  },
  {
   "cell_type": "code",
   "execution_count": 43,
   "id": "83645f6a",
   "metadata": {},
   "outputs": [
    {
     "name": "stdout",
     "output_type": "stream",
     "text": [
      "[40, 30, 20, 10]\n",
      "40\n",
      "[30, 20, 10]\n",
      "60\n"
     ]
    }
   ],
   "source": [
    "#Stack works in last in and first out\n",
    "class stack:\n",
    "    def __init__(self):\n",
    "        self.values = []\n",
    "    def push(self, x):\n",
    "        self.values = [x]+self.values\n",
    "    def pop(self):\n",
    "        return self.values.pop(0)\n",
    "    \n",
    "s = stack()\n",
    "s.push(10)\n",
    "s.push(20)\n",
    "s.push(30)\n",
    "s.push(40)\n",
    "print(s.values)\n",
    "print(s.pop())\n",
    "print(s.values)\n",
    "s.push(60)\n",
    "print(s.pop())"
   ]
  },
  {
   "cell_type": "code",
   "execution_count": 44,
   "id": "57a3e8d8",
   "metadata": {},
   "outputs": [
    {
     "name": "stdout",
     "output_type": "stream",
     "text": [
      "Transaction Initiated\n",
      ".....Executing all steps of Transaction....\n",
      "Transaction Completed\n"
     ]
    }
   ],
   "source": [
    "#Decorator is afunction that takes another function as argument and returns a function\n",
    "\n",
    "def decorator(func):\n",
    "    def wrapper():\n",
    "        print(\"Transaction Initiated\")\n",
    "        func()\n",
    "        print(\"Transaction Completed\")\n",
    "    return wrapper \n",
    "\n",
    "def hello():\n",
    "    print(\".....Executing all steps of Transaction....\")\n",
    "    \n",
    "hello1 = decorator(hello)   \n",
    "hello1()"
   ]
  },
  {
   "cell_type": "code",
   "execution_count": 46,
   "id": "d509485d",
   "metadata": {},
   "outputs": [
    {
     "name": "stdout",
     "output_type": "stream",
     "text": [
      "Transaction Initiated\n",
      "....Executing all steps of Transaction....\n",
      "Transaction completed\n"
     ]
    }
   ],
   "source": [
    "def decorator(func):\n",
    "    def wrapper():\n",
    "        print(\"Transaction Initiated\")\n",
    "        func()\n",
    "        print(\"Transaction completed\")\n",
    "    return wrapper\n",
    "\n",
    "@decorator\n",
    "def hello():\n",
    "    print(\"....Executing all steps of Transaction....\")\n",
    "\n",
    "hello()    "
   ]
  },
  {
   "cell_type": "code",
   "execution_count": 47,
   "id": "4e2653d8",
   "metadata": {},
   "outputs": [
    {
     "name": "stdout",
     "output_type": "stream",
     "text": [
      "[0, 2, 4, 6, 8, 10, 12, 14]\n"
     ]
    }
   ],
   "source": [
    "#list comprehension\n",
    "list = []\n",
    "for i in range(15):\n",
    "    if i % 2 == 0:\n",
    "        list.append(i)\n",
    "print(list)        "
   ]
  },
  {
   "cell_type": "code",
   "execution_count": 49,
   "id": "c683d35a",
   "metadata": {},
   "outputs": [
    {
     "name": "stdout",
     "output_type": "stream",
     "text": [
      "[5, 7, 9, 11, 13, 15, 17, 19]\n"
     ]
    }
   ],
   "source": [
    "# [expression for item in iterable if condition]\n",
    "list1 = [i + 5 for i in range(15) if i % 2 == 0]\n",
    "print(list1)"
   ]
  },
  {
   "cell_type": "code",
   "execution_count": 50,
   "id": "58767ddb",
   "metadata": {},
   "outputs": [
    {
     "name": "stdout",
     "output_type": "stream",
     "text": [
      "{0: 0, 2: 4, 4: 16, 6: 36, 8: 64}\n"
     ]
    }
   ],
   "source": [
    "dict = {}\n",
    "for i in range(10):\n",
    "    if i % 2 == 0:\n",
    "        dict[i] = i * i\n",
    "print(dict)        "
   ]
  },
  {
   "cell_type": "code",
   "execution_count": 51,
   "id": "88867002",
   "metadata": {},
   "outputs": [
    {
     "name": "stdout",
     "output_type": "stream",
     "text": [
      "{0: 0, 2: 4, 4: 16, 6: 36, 8: 64}\n"
     ]
    }
   ],
   "source": [
    "#{key: value for item in iterable if condition}\n",
    "\n",
    "dict1 = {i:i*i for i in range(10) if i % 2 == 0}\n",
    "print(dict1)"
   ]
  },
  {
   "cell_type": "code",
   "execution_count": 53,
   "id": "9a2f3a17",
   "metadata": {},
   "outputs": [
    {
     "name": "stdout",
     "output_type": "stream",
     "text": [
      "Mean: 855601.4285714285\n",
      "Median: 200000\n",
      "Mode: 200000\n",
      "Total time taken: 0.005101203918457031 seconds\n"
     ]
    }
   ],
   "source": [
    "import statistics\n",
    "import time\n",
    "start_time = time.time()\n",
    "\n",
    "data  = [200000, 50000, 600000, 4545789, 200000, 343421, 50000]\n",
    "\n",
    "mean_value = statistics.mean(data)\n",
    "median_value = statistics.median(data)\n",
    "mode_value = statistics.mode(data)\n",
    "\n",
    "print(f\"Mean: {mean_value}\")\n",
    "print(f\"Median: {median_value}\")\n",
    "print(f\"Mode: {mode_value}\")\n",
    "end_time = time.time()\n",
    "\n",
    "total_time = end_time - start_time\n",
    "\n",
    "print(f\"Total time taken: {total_time} seconds\")"
   ]
  },
  {
   "cell_type": "code",
   "execution_count": 55,
   "id": "a056abe6",
   "metadata": {},
   "outputs": [
    {
     "data": {
      "text/plain": [
       "3.141592653589793"
      ]
     },
     "execution_count": 55,
     "metadata": {},
     "output_type": "execute_result"
    }
   ],
   "source": [
    "import math\n",
    "math.pi\n"
   ]
  },
  {
   "cell_type": "code",
   "execution_count": 56,
   "id": "9af33222",
   "metadata": {},
   "outputs": [
    {
     "data": {
      "text/plain": [
       "2.718281828459045"
      ]
     },
     "execution_count": 56,
     "metadata": {},
     "output_type": "execute_result"
    }
   ],
   "source": [
    "math.e"
   ]
  },
  {
   "cell_type": "code",
   "execution_count": 59,
   "id": "68921f56",
   "metadata": {},
   "outputs": [
    {
     "data": {
      "text/plain": [
       "2.0"
      ]
     },
     "execution_count": 59,
     "metadata": {},
     "output_type": "execute_result"
    }
   ],
   "source": [
    "math.remainder(12,5)"
   ]
  },
  {
   "cell_type": "code",
   "execution_count": 60,
   "id": "3c8b309e",
   "metadata": {},
   "outputs": [
    {
     "data": {
      "text/plain": [
       "5"
      ]
     },
     "execution_count": 60,
     "metadata": {},
     "output_type": "execute_result"
    }
   ],
   "source": [
    "math.ceil(4.5)"
   ]
  },
  {
   "cell_type": "code",
   "execution_count": 62,
   "id": "272086f0",
   "metadata": {},
   "outputs": [
    {
     "data": {
      "text/plain": [
       "4"
      ]
     },
     "execution_count": 62,
     "metadata": {},
     "output_type": "execute_result"
    }
   ],
   "source": [
    "math.floor(4.5)"
   ]
  },
  {
   "cell_type": "code",
   "execution_count": 63,
   "id": "ca87c7ff",
   "metadata": {},
   "outputs": [
    {
     "data": {
      "text/plain": [
       "2.23606797749979"
      ]
     },
     "execution_count": 63,
     "metadata": {},
     "output_type": "execute_result"
    }
   ],
   "source": [
    "math.sqrt(5)"
   ]
  },
  {
   "cell_type": "code",
   "execution_count": 65,
   "id": "999521d0",
   "metadata": {},
   "outputs": [
    {
     "data": {
      "text/plain": [
       "-0.3048106211022167"
      ]
     },
     "execution_count": 65,
     "metadata": {},
     "output_type": "execute_result"
    }
   ],
   "source": [
    "math.sin(60)"
   ]
  },
  {
   "cell_type": "code",
   "execution_count": 66,
   "id": "7406e600",
   "metadata": {},
   "outputs": [
    {
     "data": {
      "text/plain": [
       "0.15425144988758405"
      ]
     },
     "execution_count": 66,
     "metadata": {},
     "output_type": "execute_result"
    }
   ],
   "source": [
    "math.cos(30)"
   ]
  },
  {
   "cell_type": "code",
   "execution_count": 68,
   "id": "0931e326",
   "metadata": {},
   "outputs": [
    {
     "data": {
      "text/plain": [
       "7.38905609893065"
      ]
     },
     "execution_count": 68,
     "metadata": {},
     "output_type": "execute_result"
    }
   ],
   "source": [
    "math.exp(2)"
   ]
  },
  {
   "cell_type": "code",
   "execution_count": 69,
   "id": "05f64160",
   "metadata": {},
   "outputs": [
    {
     "data": {
      "text/plain": [
       "0.6931471805599453"
      ]
     },
     "execution_count": 69,
     "metadata": {},
     "output_type": "execute_result"
    }
   ],
   "source": [
    "math.log(2)"
   ]
  },
  {
   "cell_type": "code",
   "execution_count": 70,
   "id": "79360331",
   "metadata": {},
   "outputs": [
    {
     "data": {
      "text/plain": [
       "0.3010299956639812"
      ]
     },
     "execution_count": 70,
     "metadata": {},
     "output_type": "execute_result"
    }
   ],
   "source": [
    "math.log10(2)"
   ]
  },
  {
   "cell_type": "code",
   "execution_count": 71,
   "id": "0e57389a",
   "metadata": {},
   "outputs": [
    {
     "data": {
      "text/plain": [
       "1.0"
      ]
     },
     "execution_count": 71,
     "metadata": {},
     "output_type": "execute_result"
    }
   ],
   "source": [
    "math.log2(2)"
   ]
  },
  {
   "cell_type": "code",
   "execution_count": 72,
   "id": "cfb9f149",
   "metadata": {},
   "outputs": [
    {
     "name": "stdout",
     "output_type": "stream",
     "text": [
      "10->20->30->40->None\n"
     ]
    }
   ],
   "source": [
    "# linked list\n",
    "class Node:\n",
    "    def __init__(self, data):\n",
    "        self.data = data\n",
    "        self.next = None\n",
    "        \n",
    "# Creating nodes\n",
    "node1 = Node(10)\n",
    "node2 = Node(20)\n",
    "node3 = Node(30)\n",
    "node4 = Node(40)\n",
    "\n",
    "# Connecting nodes to form a linked list\n",
    "node1.next = node2\n",
    "node2.next = node3\n",
    "node3.next = node4\n",
    "\n",
    "# Printing the linked list\n",
    "current  = node1\n",
    "while current is not None:\n",
    "    print(current.data, end = \"->\")\n",
    "    current = current.next\n",
    "print(\"None\")    "
   ]
  },
  {
   "cell_type": "code",
   "execution_count": 75,
   "id": "721350d0",
   "metadata": {},
   "outputs": [
    {
     "name": "stdout",
     "output_type": "stream",
     "text": [
      "50->10->20->30->40->None\n"
     ]
    }
   ],
   "source": [
    "# insertion at the beginning of linked list\n",
    "class Node:\n",
    "    def __init__(self, data):\n",
    "        self.data = data\n",
    "        self.next = None\n",
    "        \n",
    "# Creating nodes\n",
    "node1 = Node(10)\n",
    "node2 = Node(20)\n",
    "node3 = Node(30)\n",
    "node4 = Node(40)\n",
    "\n",
    "# Connecting nodes to form a linked list\n",
    "node1.next = node2\n",
    "node2.next = node3\n",
    "node3.next = node4\n",
    "\n",
    "# Adding a new node at the beginning\n",
    "\n",
    "head = node1\n",
    "new_node = Node(50)\n",
    "new_node.next = head\n",
    "head = new_node\n",
    "\n",
    "# Printing the linked list\n",
    "current  = head\n",
    "while current is not None:\n",
    "    print(current.data, end = \"->\")\n",
    "    current = current.next\n",
    "print(\"None\") "
   ]
  },
  {
   "cell_type": "code",
   "execution_count": 76,
   "id": "af3395ef",
   "metadata": {},
   "outputs": [
    {
     "name": "stdout",
     "output_type": "stream",
     "text": [
      "20->30->40->None\n"
     ]
    }
   ],
   "source": [
    "class Node:\n",
    "    def __init__(self, data):\n",
    "        self.data = data\n",
    "        self.next = None\n",
    "        \n",
    "# Creating nodes\n",
    "head = Node(10)\n",
    "node2 = Node(20)\n",
    "node3 = Node(30)\n",
    "node4 = Node(40)\n",
    "\n",
    "# Connecting nodes to form a linked list\n",
    "head.next = node2\n",
    "node2.next = node3\n",
    "node3.next = node4\n",
    "\n",
    "# Deleting the node from the beginning\n",
    "if head is not None:\n",
    "    head = head.next  #update the head to the next node\n",
    "\n",
    "\n",
    "# Printing the updated linked list\n",
    "current  = head\n",
    "while current is not None:\n",
    "    print(current.data, end = \"->\")\n",
    "    current = current.next\n",
    "print(\"None\") "
   ]
  },
  {
   "cell_type": "code",
   "execution_count": null,
   "id": "9354cef3",
   "metadata": {},
   "outputs": [],
   "source": []
  },
  {
   "cell_type": "code",
   "execution_count": 77,
   "id": "9124dffc",
   "metadata": {},
   "outputs": [],
   "source": [
    "class Node:\n",
    "    def __init__(self, data):\n",
    "        self.data = data\n",
    "        self.next = None\n",
    "        \n",
    "# Creating nodes\n",
    "head = Node(10)\n",
    "node2 = Node(20)\n",
    "node3 = Node(30)\n",
    "node4 = Node(40)\n",
    "\n",
    "# Connecting nodes to form a linked list\n",
    "head.next = node2\n",
    "node2.next = node3\n",
    "node3.next = node4\n",
    "\n",
    "# Deleting the node from the end\n",
    "current  = head\n",
    "while current.next.next is not None:\n",
    "    current = current.next\n",
    "current.next = None"
   ]
  },
  {
   "cell_type": "code",
   "execution_count": 79,
   "id": "a5cf121f",
   "metadata": {},
   "outputs": [
    {
     "name": "stdout",
     "output_type": "stream",
     "text": [
      "10->20->40->None\n"
     ]
    }
   ],
   "source": [
    "class Node:\n",
    "    def __init__(self, data):\n",
    "        self.data = data\n",
    "        self.next = None\n",
    "        \n",
    "# Creating nodes\n",
    "head = Node(10)\n",
    "node2 = Node(20)\n",
    "node3 = Node(30)\n",
    "node4 = Node(40)\n",
    "\n",
    "# Connecting nodes to form a linked list\n",
    "head.next = node2\n",
    "node2.next = node3\n",
    "node3.next = node4\n",
    "\n",
    "# Deleting the particular node \n",
    "current  = head\n",
    "while current.next.data != 30:\n",
    "    current = current.next\n",
    "current.next = current.next.next\n",
    "\n",
    "# Printing the updated linked list\n",
    "current  = head\n",
    "while current is not None:\n",
    "    print(current.data, end = \"->\")\n",
    "    current = current.next\n",
    "print(\"None\") "
   ]
  },
  {
   "cell_type": "code",
   "execution_count": 81,
   "id": "8f2c36b4",
   "metadata": {},
   "outputs": [],
   "source": [
    "class Node:\n",
    "    def __init__(self,data):\n",
    "        self.data = data\n",
    "        self.next = None\n",
    "        \n",
    "# Creating nodes\n",
    "node1 = Node(10)\n",
    "node2 = Node(20)\n",
    "node3 = Node(30)\n",
    "node4 = Node(40)\n",
    " \n",
    "# Connecting nodes to form a linked list\n",
    "node1.next = node2\n",
    "node2.next = node3\n",
    "node3.next = node4\n",
    "\n",
    "# Adding a new node with data 50 at the end\n",
    "\n",
    "new_node = 50\n",
    "head = node1\n",
    "current = head\n",
    "\n",
    "while current.next is not None:\n",
    "    current = current.next\n",
    "current.next = new_node"
   ]
  },
  {
   "cell_type": "code",
   "execution_count": null,
   "id": "31c00c08",
   "metadata": {},
   "outputs": [],
   "source": []
  }
 ],
 "metadata": {
  "kernelspec": {
   "display_name": "Python 3 (ipykernel)",
   "language": "python",
   "name": "python3"
  },
  "language_info": {
   "codemirror_mode": {
    "name": "ipython",
    "version": 3
   },
   "file_extension": ".py",
   "mimetype": "text/x-python",
   "name": "python",
   "nbconvert_exporter": "python",
   "pygments_lexer": "ipython3",
   "version": "3.11.4"
  }
 },
 "nbformat": 4,
 "nbformat_minor": 5
}
