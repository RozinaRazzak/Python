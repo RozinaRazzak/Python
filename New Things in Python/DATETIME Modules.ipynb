{
 "cells": [
  {
   "cell_type": "raw",
   "id": "92f94417",
   "metadata": {},
   "source": [
    "The built-in Python datetime module provides datetime, date, and time types.\n",
    "datetime type, as you may imagine, combines the information stored in date and time"
   ]
  },
  {
   "cell_type": "raw",
   "id": "27d98e33",
   "metadata": {},
   "source": [
    "Type    Description\n",
    "%m      Two-digit month [01, 12]\n",
    "%d      Two-digit day [01, 31]\n",
    "%H      Hour (24-hour clock) [00, 23]\n",
    "%I      Hour (12-hour clock) [01, 12]\n",
    "%M      Two-digit minute [00, 59]\n",
    "%S      Second [00, 61] (seconds 60, 61 account for leap     seconds)\n",
    "\n",
    "%w      Weekday as integer [0 (Sunday), 6]\n",
    "\n",
    "%U      Week number of the year [00, 53]; Sunday is considered    the first day of the week, and days before the first Sunday of\n",
    "the year are “week 0”\n",
    "\n",
    "%W       Week number of the year [00, 53]; Monday is considered the first day of the week, and days before the first Monday of\n",
    "the year are “week 0”\n",
    "\n",
    "%z     UTC time zone offset as +HHMM or -HHMM; empty if time zone naive\n",
    "\n",
    "%F     Shortcut for %Y-%m-%d (e.g., 2012-4-18)\n",
    "%D     Shortcut for %m/%d/%y (e.g., 04/18/12)\n"
   ]
  },
  {
   "cell_type": "code",
   "execution_count": 4,
   "id": "8f5452aa",
   "metadata": {},
   "outputs": [
    {
     "name": "stdout",
     "output_type": "stream",
     "text": [
      "29\n"
     ]
    },
    {
     "data": {
      "text/plain": [
       "30"
      ]
     },
     "execution_count": 4,
     "metadata": {},
     "output_type": "execute_result"
    }
   ],
   "source": [
    "from datetime import datetime, date, time\n",
    "\n",
    "dt = datetime(2011, 10, 29, 20 ,30, 21)\n",
    "print(dt.day) ; dt.minute"
   ]
  },
  {
   "cell_type": "code",
   "execution_count": 5,
   "id": "f2dcbfca",
   "metadata": {},
   "outputs": [
    {
     "data": {
      "text/plain": [
       "datetime.date(2011, 10, 29)"
      ]
     },
     "execution_count": 5,
     "metadata": {},
     "output_type": "execute_result"
    }
   ],
   "source": [
    "dt.date()"
   ]
  },
  {
   "cell_type": "code",
   "execution_count": 6,
   "id": "7e897d6b",
   "metadata": {},
   "outputs": [
    {
     "data": {
      "text/plain": [
       "datetime.time(20, 30, 21)"
      ]
     },
     "execution_count": 6,
     "metadata": {},
     "output_type": "execute_result"
    }
   ],
   "source": [
    "dt.time()"
   ]
  },
  {
   "cell_type": "code",
   "execution_count": 7,
   "id": "79e4f0a1",
   "metadata": {},
   "outputs": [
    {
     "data": {
      "text/plain": [
       "'10/29/2011 20:30'"
      ]
     },
     "execution_count": 7,
     "metadata": {},
     "output_type": "execute_result"
    }
   ],
   "source": [
    "dt.strftime(\"%m/%d/%Y %H:%M\")"
   ]
  },
  {
   "cell_type": "code",
   "execution_count": 8,
   "id": "a92f64e5",
   "metadata": {},
   "outputs": [
    {
     "data": {
      "text/plain": [
       "datetime.datetime(2016, 3, 14, 0, 0)"
      ]
     },
     "execution_count": 8,
     "metadata": {},
     "output_type": "execute_result"
    }
   ],
   "source": [
    "dt.strptime(\"2016314\", '%Y%m%d')"
   ]
  },
  {
   "cell_type": "code",
   "execution_count": 9,
   "id": "fae4715f",
   "metadata": {},
   "outputs": [
    {
     "data": {
      "text/plain": [
       "datetime.datetime(2011, 10, 29, 20, 0)"
      ]
     },
     "execution_count": 9,
     "metadata": {},
     "output_type": "execute_result"
    }
   ],
   "source": [
    "dt.replace(minute=0, second=0)"
   ]
  },
  {
   "cell_type": "code",
   "execution_count": 10,
   "id": "d915a13f",
   "metadata": {},
   "outputs": [
    {
     "data": {
      "text/plain": [
       "datetime.timedelta(days=17, seconds=7179)"
      ]
     },
     "execution_count": 10,
     "metadata": {},
     "output_type": "execute_result"
    }
   ],
   "source": [
    "dt2 = datetime(2011, 11, 15, 22, 30)\n",
    "delta = dt2 - dt\n",
    "delta"
   ]
  },
  {
   "cell_type": "code",
   "execution_count": 11,
   "id": "96416e35",
   "metadata": {},
   "outputs": [
    {
     "data": {
      "text/plain": [
       "datetime.timedelta"
      ]
     },
     "execution_count": 11,
     "metadata": {},
     "output_type": "execute_result"
    }
   ],
   "source": [
    "type(delta)"
   ]
  },
  {
   "cell_type": "code",
   "execution_count": 12,
   "id": "61b101ee",
   "metadata": {},
   "outputs": [
    {
     "data": {
      "text/plain": [
       "datetime.datetime(2011, 10, 29, 20, 30, 21)"
      ]
     },
     "execution_count": 12,
     "metadata": {},
     "output_type": "execute_result"
    }
   ],
   "source": [
    "dt"
   ]
  },
  {
   "cell_type": "code",
   "execution_count": 13,
   "id": "b7a5558b",
   "metadata": {},
   "outputs": [
    {
     "data": {
      "text/plain": [
       "datetime.datetime(2011, 11, 15, 22, 30)"
      ]
     },
     "execution_count": 13,
     "metadata": {},
     "output_type": "execute_result"
    }
   ],
   "source": [
    "dt + delta"
   ]
  },
  {
   "cell_type": "code",
   "execution_count": 14,
   "id": "22feb1e3",
   "metadata": {},
   "outputs": [
    {
     "name": "stdout",
     "output_type": "stream",
     "text": [
      "2023-11-08 07:40:30\n"
     ]
    },
    {
     "data": {
      "text/plain": [
       "datetime.datetime(2023, 11, 8, 7, 40, 30)"
      ]
     },
     "execution_count": 14,
     "metadata": {},
     "output_type": "execute_result"
    }
   ],
   "source": [
    "from datetime import datetime, date, time\n",
    "\n",
    "rt = datetime(2023, 11, 8, 7, 40, 30)\n",
    "print(rt)\n",
    "rt"
   ]
  },
  {
   "cell_type": "code",
   "execution_count": 15,
   "id": "aa3bc73a",
   "metadata": {},
   "outputs": [
    {
     "name": "stdout",
     "output_type": "stream",
     "text": [
      "date : 2023-11-08\n",
      "time : 07:40:30\n",
      "8 days\n",
      "11 months\n",
      "2023 year\n",
      "7 hour\n",
      "40 minutes\n",
      "30 seconds\n"
     ]
    }
   ],
   "source": [
    "print(\"date :\", rt.date())\n",
    "print(\"time :\",rt.time())\n",
    "print(rt.day,'days')\n",
    "print(rt.month, \"months\")\n",
    "print(rt.year,\"year\")\n",
    "print(rt.hour,\"hour\")\n",
    "print(rt.minute,\"minutes\")\n",
    "print(rt.second,\"seconds\")"
   ]
  },
  {
   "cell_type": "code",
   "execution_count": 16,
   "id": "b4dd3aba",
   "metadata": {},
   "outputs": [
    {
     "data": {
      "text/plain": [
       "datetime.datetime(2023, 10, 15, 8, 45, 12)"
      ]
     },
     "execution_count": 16,
     "metadata": {},
     "output_type": "execute_result"
    }
   ],
   "source": [
    "wt = datetime(2023,10,15,8,45,12)\n",
    "wt"
   ]
  },
  {
   "cell_type": "code",
   "execution_count": 17,
   "id": "26a0a5d8",
   "metadata": {},
   "outputs": [
    {
     "name": "stdout",
     "output_type": "stream",
     "text": [
      "2023-10-15 08:45:12\n"
     ]
    }
   ],
   "source": [
    "wt.strftime(\"%y/%m/%d\")\n",
    "print(wt)"
   ]
  },
  {
   "cell_type": "code",
   "execution_count": 18,
   "id": "f1270904",
   "metadata": {},
   "outputs": [
    {
     "data": {
      "text/plain": [
       "datetime.datetime(2024, 1, 30, 0, 0)"
      ]
     },
     "execution_count": 18,
     "metadata": {},
     "output_type": "execute_result"
    }
   ],
   "source": [
    "wt.strptime('20240130','%Y%m%d')"
   ]
  },
  {
   "cell_type": "code",
   "execution_count": 19,
   "id": "b7ba23ef",
   "metadata": {},
   "outputs": [
    {
     "data": {
      "text/plain": [
       "datetime.datetime(2023, 10, 15, 8, 10, 30)"
      ]
     },
     "execution_count": 19,
     "metadata": {},
     "output_type": "execute_result"
    }
   ],
   "source": [
    "wt.replace(minute = 10, second = 30)"
   ]
  },
  {
   "cell_type": "code",
   "execution_count": 20,
   "id": "74703cec",
   "metadata": {},
   "outputs": [
    {
     "data": {
      "text/plain": [
       "datetime.timedelta(days=-24, seconds=3882)"
      ]
     },
     "execution_count": 20,
     "metadata": {},
     "output_type": "execute_result"
    }
   ],
   "source": [
    "r_delta = wt - rt\n",
    "r_delta"
   ]
  },
  {
   "cell_type": "code",
   "execution_count": 21,
   "id": "3c6e58cc",
   "metadata": {},
   "outputs": [
    {
     "data": {
      "text/plain": [
       "datetime.timedelta"
      ]
     },
     "execution_count": 21,
     "metadata": {},
     "output_type": "execute_result"
    }
   ],
   "source": [
    "type(r_delta)"
   ]
  },
  {
   "cell_type": "code",
   "execution_count": 22,
   "id": "4304815f",
   "metadata": {},
   "outputs": [
    {
     "data": {
      "text/plain": [
       "datetime.datetime(2023, 10, 15, 8, 45, 12)"
      ]
     },
     "execution_count": 22,
     "metadata": {},
     "output_type": "execute_result"
    }
   ],
   "source": [
    "rt + r_delta"
   ]
  },
  {
   "cell_type": "code",
   "execution_count": 23,
   "id": "6ccdd46f",
   "metadata": {},
   "outputs": [
    {
     "name": "stdout",
     "output_type": "stream",
     "text": [
      "2023-11-09 09:17:31.805946\n"
     ]
    }
   ],
   "source": [
    "x = datetime.now()\n",
    "print(x)"
   ]
  },
  {
   "cell_type": "code",
   "execution_count": 24,
   "id": "f2dd562b",
   "metadata": {},
   "outputs": [
    {
     "name": "stdout",
     "output_type": "stream",
     "text": [
      "2023-01-18 00:00:00\n"
     ]
    }
   ],
   "source": [
    "print(datetime(2023,1,18))"
   ]
  },
  {
   "cell_type": "code",
   "execution_count": 25,
   "id": "c0495788",
   "metadata": {},
   "outputs": [
    {
     "name": "stdout",
     "output_type": "stream",
     "text": [
      "2023-11-09 09:17:33.256281\n",
      "2023\n",
      "23\n",
      "17\n",
      "11\n",
      "November\n",
      "Nov\n",
      "11/09/23\n",
      "45\n",
      "4\n",
      "09\n",
      "09\n",
      "2023-11-09\n",
      "AM\n",
      "45\n",
      "\n",
      "33\n"
     ]
    }
   ],
   "source": [
    "now = datetime.now()\n",
    "print(now)\n",
    "print(now.strftime(\"%Y\"))\n",
    "print(now.strftime(\"%y\"))\n",
    "print(now.strftime(\"%M\"))\n",
    "print(now.strftime('%m'))\n",
    "print (now.strftime('%B'))\n",
    "print(now.strftime('%b'))\n",
    "print(now.strftime('%D'))\n",
    "print(now.strftime('%W'))\n",
    "print(now.strftime('%w'))\n",
    "print(now.strftime('%H'))\n",
    "print(now.strftime('%I'))\n",
    "print(now.strftime('%F'))\n",
    "print(now.strftime('%p'))\n",
    "print(now.strftime('%U'))\n",
    "print(now.strftime('%z'))\n",
    "print(now.strftime('%S'))"
   ]
  },
  {
   "cell_type": "code",
   "execution_count": 27,
   "id": "cd307741",
   "metadata": {},
   "outputs": [],
   "source": [
    "f = datetime.now()"
   ]
  },
  {
   "cell_type": "code",
   "execution_count": 28,
   "id": "d5095200",
   "metadata": {},
   "outputs": [
    {
     "data": {
      "text/plain": [
       "datetime.datetime(2023, 11, 9, 9, 18, 21, 287003)"
      ]
     },
     "execution_count": 28,
     "metadata": {},
     "output_type": "execute_result"
    }
   ],
   "source": [
    "f"
   ]
  },
  {
   "cell_type": "code",
   "execution_count": 31,
   "id": "f73817f6",
   "metadata": {},
   "outputs": [
    {
     "data": {
      "text/plain": [
       "'2023-11-09'"
      ]
     },
     "execution_count": 31,
     "metadata": {},
     "output_type": "execute_result"
    }
   ],
   "source": [
    "f.strftime(\"%F\")"
   ]
  },
  {
   "cell_type": "code",
   "execution_count": null,
   "id": "4ce3e8f5",
   "metadata": {},
   "outputs": [],
   "source": []
  }
 ],
 "metadata": {
  "kernelspec": {
   "display_name": "Python 3 (ipykernel)",
   "language": "python",
   "name": "python3"
  },
  "language_info": {
   "codemirror_mode": {
    "name": "ipython",
    "version": 3
   },
   "file_extension": ".py",
   "mimetype": "text/x-python",
   "name": "python",
   "nbconvert_exporter": "python",
   "pygments_lexer": "ipython3",
   "version": "3.11.4"
  }
 },
 "nbformat": 4,
 "nbformat_minor": 5
}
