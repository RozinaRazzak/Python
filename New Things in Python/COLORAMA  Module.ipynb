{
 "cells": [
  {
   "cell_type": "code",
   "execution_count": 1,
   "id": "01860c0e",
   "metadata": {},
   "outputs": [
    {
     "name": "stdout",
     "output_type": "stream",
     "text": [
      "Requirement already satisfied: colorama in c:\\users\\admin\\rover\\lib\\site-packages (0.4.6)\n",
      "Note: you may need to restart the kernel to use updated packages.\n"
     ]
    }
   ],
   "source": [
    "pip install colorama"
   ]
  },
  {
   "cell_type": "code",
   "execution_count": 1,
   "id": "c5cbb99d",
   "metadata": {},
   "outputs": [],
   "source": [
    "import colorama"
   ]
  },
  {
   "cell_type": "code",
   "execution_count": 2,
   "id": "5fe1ee15",
   "metadata": {},
   "outputs": [],
   "source": [
    "from colorama import Fore"
   ]
  },
  {
   "cell_type": "code",
   "execution_count": 3,
   "id": "acfbd7f2",
   "metadata": {},
   "outputs": [
    {
     "name": "stdout",
     "output_type": "stream",
     "text": [
      "\u001b[31mtest\n"
     ]
    }
   ],
   "source": [
    "print(Fore.RED + 'test')"
   ]
  },
  {
   "cell_type": "code",
   "execution_count": 4,
   "id": "acb1e10e",
   "metadata": {},
   "outputs": [
    {
     "name": "stdout",
     "output_type": "stream",
     "text": [
      "\u001b[96mgoodddd\n"
     ]
    }
   ],
   "source": [
    "print(Fore.LIGHTCYAN_EX +'goodddd')"
   ]
  },
  {
   "cell_type": "code",
   "execution_count": 5,
   "id": "a48b4b16",
   "metadata": {},
   "outputs": [
    {
     "name": "stdout",
     "output_type": "stream",
     "text": [
      "\u001b[34mI LOVE YOU ROZINA RAZZAK\n"
     ]
    }
   ],
   "source": [
    "print(Fore.BLUE + 'I LOVE YOU ROZINA RAZZAK')"
   ]
  },
  {
   "cell_type": "code",
   "execution_count": 6,
   "id": "ab79653b",
   "metadata": {},
   "outputs": [],
   "source": [
    "from colorama import Fore, Back, Style"
   ]
  },
  {
   "cell_type": "code",
   "execution_count": 8,
   "id": "e2c23356",
   "metadata": {},
   "outputs": [
    {
     "name": "stdout",
     "output_type": "stream",
     "text": [
      "\u001b[31msome red text\n"
     ]
    }
   ],
   "source": [
    "print(Fore.RED + 'some red text')"
   ]
  },
  {
   "cell_type": "code",
   "execution_count": 11,
   "id": "35b5ef69",
   "metadata": {},
   "outputs": [
    {
     "name": "stdout",
     "output_type": "stream",
     "text": [
      "\u001b[36mcyan\n"
     ]
    }
   ],
   "source": [
    "print(Fore.CYAN + 'cyan')"
   ]
  },
  {
   "cell_type": "code",
   "execution_count": 12,
   "id": "64c3d0b9",
   "metadata": {},
   "outputs": [
    {
     "name": "stdout",
     "output_type": "stream",
     "text": [
      "\u001b[42mROx\n"
     ]
    }
   ],
   "source": [
    "print(Back.GREEN + 'ROx')"
   ]
  },
  {
   "cell_type": "code",
   "execution_count": 13,
   "id": "1b5b913f",
   "metadata": {},
   "outputs": [
    {
     "name": "stdout",
     "output_type": "stream",
     "text": [
      "\u001b[1mBRIGHT\n"
     ]
    }
   ],
   "source": [
    "print(Style.BRIGHT + 'BRIGHT')"
   ]
  },
  {
   "cell_type": "code",
   "execution_count": 14,
   "id": "f64ba9af",
   "metadata": {},
   "outputs": [
    {
     "name": "stdout",
     "output_type": "stream",
     "text": [
      "\u001b[31m\u001b[42mred text on gree back\n"
     ]
    }
   ],
   "source": [
    "print(Fore.RED + Back.GREEN + 'red text on gree back')"
   ]
  },
  {
   "cell_type": "code",
   "execution_count": 15,
   "id": "9a4499ff",
   "metadata": {},
   "outputs": [
    {
     "name": "stdout",
     "output_type": "stream",
     "text": [
      "\u001b[31m red\n"
     ]
    }
   ],
   "source": [
    "print(f\"{Fore.RED} red\")"
   ]
  },
  {
   "cell_type": "code",
   "execution_count": 18,
   "id": "529019fe",
   "metadata": {},
   "outputs": [
    {
     "name": "stdout",
     "output_type": "stream",
     "text": [
      "\u001b[22mFOrever\n"
     ]
    }
   ],
   "source": [
    "print(Style.NORMAL + 'FOrever')"
   ]
  },
  {
   "cell_type": "code",
   "execution_count": 19,
   "id": "0d062fc0",
   "metadata": {},
   "outputs": [
    {
     "name": "stdout",
     "output_type": "stream",
     "text": [
      "\u001b[2mForever\n"
     ]
    }
   ],
   "source": [
    "print(Style.DIM + 'Forever')"
   ]
  },
  {
   "cell_type": "code",
   "execution_count": null,
   "id": "2457da38",
   "metadata": {},
   "outputs": [],
   "source": []
  }
 ],
 "metadata": {
  "kernelspec": {
   "display_name": "Python 3 (ipykernel)",
   "language": "python",
   "name": "python3"
  },
  "language_info": {
   "codemirror_mode": {
    "name": "ipython",
    "version": 3
   },
   "file_extension": ".py",
   "mimetype": "text/x-python",
   "name": "python",
   "nbconvert_exporter": "python",
   "pygments_lexer": "ipython3",
   "version": "3.11.4"
  }
 },
 "nbformat": 4,
 "nbformat_minor": 5
}
