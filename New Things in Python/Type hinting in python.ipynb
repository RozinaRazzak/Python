{
 "cells": [
  {
   "cell_type": "markdown",
   "id": "11699748",
   "metadata": {},
   "source": [
    "# source real python ( How to use type hints for multiple return  Types in python)"
   ]
  },
  {
   "cell_type": "markdown",
   "id": "f0e32c73",
   "metadata": {},
   "source": [
    "#Use  Python's Type hints for one piece of data of alternative types"
   ]
  },
  {
   "cell_type": "code",
   "execution_count": 71,
   "id": "2b2ae20a",
   "metadata": {},
   "outputs": [],
   "source": [
    "def parse_email(email_address:str) -> str | None:\n",
    "    if '@' in email_address:\n",
    "        username, domain = email_address.split('@')\n",
    "        return username\n",
    "    return None"
   ]
  },
  {
   "cell_type": "code",
   "execution_count": 72,
   "id": "6cf315bc",
   "metadata": {},
   "outputs": [
    {
     "data": {
      "text/plain": [
       "'bluejacket98'"
      ]
     },
     "execution_count": 72,
     "metadata": {},
     "output_type": "execute_result"
    }
   ],
   "source": [
    "parse_email('bluejacket98@gmail.com')"
   ]
  },
  {
   "cell_type": "code",
   "execution_count": 73,
   "id": "f722c458",
   "metadata": {},
   "outputs": [
    {
     "data": {
      "text/plain": [
       "'965328465'"
      ]
     },
     "execution_count": 73,
     "metadata": {},
     "output_type": "execute_result"
    }
   ],
   "source": [
    "parse_email(\"965328465@\")"
   ]
  },
  {
   "cell_type": "code",
   "execution_count": 74,
   "id": "f2ac30bb",
   "metadata": {},
   "outputs": [
    {
     "data": {
      "text/plain": [
       "''"
      ]
     },
     "execution_count": 74,
     "metadata": {},
     "output_type": "execute_result"
    }
   ],
   "source": [
    "parse_email(\"@jnjdnlnd\")"
   ]
  },
  {
   "cell_type": "code",
   "execution_count": 75,
   "id": "9d4b4f03",
   "metadata": {},
   "outputs": [
    {
     "data": {
      "text/plain": [
       "'jkdm,'"
      ]
     },
     "execution_count": 75,
     "metadata": {},
     "output_type": "execute_result"
    }
   ],
   "source": [
    "parse_email('jkdm,@jkndjgmail.com')"
   ]
  },
  {
   "cell_type": "code",
   "execution_count": 76,
   "id": "74444591",
   "metadata": {},
   "outputs": [],
   "source": [
    "from typing import Union\n",
    "\n",
    "def parse_email(email_address:str) -> Union[str,None]:\n",
    "    if \"@\" in email_address:\n",
    "        username, domain = email_address.split('@')\n",
    "        return username\n",
    "    return None"
   ]
  },
  {
   "cell_type": "code",
   "execution_count": 77,
   "id": "afb952ca",
   "metadata": {},
   "outputs": [
    {
     "data": {
      "text/plain": [
       "'youareU96'"
      ]
     },
     "execution_count": 77,
     "metadata": {},
     "output_type": "execute_result"
    }
   ],
   "source": [
    "parse_email('youareU96@gmail.com')"
   ]
  },
  {
   "cell_type": "markdown",
   "id": "e0426dc7",
   "metadata": {},
   "source": [
    "#Use Python's type hints for multiple pieces of data of different types"
   ]
  },
  {
   "cell_type": "code",
   "execution_count": 78,
   "id": "11a7944b",
   "metadata": {},
   "outputs": [],
   "source": [
    "def parse_email(email_address: str) -> tuple[str,str] | None:\n",
    "    if \"@\" in email_address:\n",
    "        username, domain = email_address.split(\"@\")\n",
    "        return username, domain\n",
    "    return None"
   ]
  },
  {
   "cell_type": "code",
   "execution_count": 79,
   "id": "5a8724a8",
   "metadata": {},
   "outputs": [
    {
     "data": {
      "text/plain": [
       "('thankstoU987', 'gmail.com')"
      ]
     },
     "execution_count": 79,
     "metadata": {},
     "output_type": "execute_result"
    }
   ],
   "source": [
    "parse_email('thankstoU987@gmail.com')"
   ]
  },
  {
   "cell_type": "code",
   "execution_count": 80,
   "id": "da41d3e0",
   "metadata": {},
   "outputs": [],
   "source": [
    "parse_email('864565352154')"
   ]
  },
  {
   "cell_type": "code",
   "execution_count": 87,
   "id": "d8c0a90a",
   "metadata": {},
   "outputs": [],
   "source": [
    "from typing import Tuple, Union\n",
    "\n",
    "def parse_email(email_address: str) -> Union[Tuple[str,str], None]:\n",
    "    if \"@\" in email_address:\n",
    "        username, domain = email_address.split(\"@\")\n",
    "        return username , domain\n",
    "    return None"
   ]
  },
  {
   "cell_type": "code",
   "execution_count": 88,
   "id": "37fdfa88",
   "metadata": {},
   "outputs": [
    {
     "data": {
      "text/plain": [
       "('buckettophuket65', 'gmail.com')"
      ]
     },
     "execution_count": 88,
     "metadata": {},
     "output_type": "execute_result"
    }
   ],
   "source": [
    "parse_email(\"buckettophuket65@gmail.com\")"
   ]
  },
  {
   "cell_type": "raw",
   "id": "3ec071db",
   "metadata": {},
   "source": [
    "Declare a function to take a callback"
   ]
  },
  {
   "cell_type": "code",
   "execution_count": 92,
   "id": "cb7cb0b1",
   "metadata": {},
   "outputs": [
    {
     "data": {
      "text/plain": [
       "('', '')"
      ]
     },
     "execution_count": 92,
     "metadata": {},
     "output_type": "execute_result"
    }
   ],
   "source": [
    "from collections.abc import Callable\n",
    "\n",
    "\n",
    "def apply_func(\n",
    "    func: Callable[[str], tuple[str, str]], value: str) -> tuple[str,str]:\n",
    "    return func(value)\n",
    "\n",
    "def parse_email(email_address) -> tuple[str,str]:\n",
    "    if \"@\" in email_address:\n",
    "        username, domain = email_address.split(\"@\")\n",
    "        return username, domain\n",
    "    return \"\",\"\"\n",
    "\n",
    "apply_func(parse_email, 'bakewithme85gmail.com')"
   ]
  },
  {
   "cell_type": "code",
   "execution_count": 101,
   "id": "8dd5a9f1",
   "metadata": {},
   "outputs": [
    {
     "data": {
      "text/plain": [
       "('roseinflower235', 'gmail.com')"
      ]
     },
     "execution_count": 101,
     "metadata": {},
     "output_type": "execute_result"
    }
   ],
   "source": [
    "from collections.abc import Callable\n",
    "\n",
    "def apply_func(\n",
    "    func:Callable[[str],tuple[str,str]], value: str) ->tuple[str,str]:\n",
    "    return func(value)\n",
    "\n",
    "def parse_email(email_address:str) -> tuple[str,str]:\n",
    "    if \"@\" in email_address:\n",
    "        username, domain = email_address.split(\"@\")\n",
    "        return username, domain\n",
    "    return \",\"\n",
    "\n",
    "apply_func(parse_email,\"roseinflower235@gmail.com\")"
   ]
  },
  {
   "cell_type": "code",
   "execution_count": 113,
   "id": "65ef3d62",
   "metadata": {},
   "outputs": [
    {
     "data": {
      "text/plain": [
       "('pogo123', 'gmail.com')"
      ]
     },
     "execution_count": 113,
     "metadata": {},
     "output_type": "execute_result"
    }
   ],
   "source": [
    "from collections.abc import Callable\n",
    "from typing import Any, TypeVar\n",
    "\n",
    "T = TypeVar('T')\n",
    "\n",
    "def apply_func(func: Callable[..., T], *args: Any, **kwargs: Any) -> T:\n",
    "    return func(*args, **kwargs)\n",
    "\n",
    "def parse_email(email_address:str) -> tuple[str,str]:\n",
    "    if \"@\" in email_address:\n",
    "        username, domain = email_address.split(\"@\")\n",
    "        return username, domain\n",
    "    return \",\"\n",
    "            \n",
    "\n",
    "apply_func(parse_email,'pogo123@gmail.com')"
   ]
  },
  {
   "cell_type": "code",
   "execution_count": 122,
   "id": "62c1e43a",
   "metadata": {},
   "outputs": [
    {
     "data": {
      "text/plain": [
       "('horseforse85', 'gmail.com')"
      ]
     },
     "execution_count": 122,
     "metadata": {},
     "output_type": "execute_result"
    }
   ],
   "source": [
    "from collections.abc import Callable\n",
    "from typing import Any, TypeVar\n",
    "\n",
    "T = TypeVar('T')\n",
    "\n",
    "def apply_func(func: Callable[..., T], *args: Any, **kwargs: Any) -> T:\n",
    "    return func(*args, **kwargs)\n",
    "\n",
    "def parse_email(email_address: str) -> tuple[str,str]:\n",
    "    if \"@\" in  email_address:\n",
    "        username, domain = email_address.split(\"@\")\n",
    "        return username, domain\n",
    "    return \",\"\n",
    "\n",
    "apply_func(parse_email,'horseforse85@gmail.com')\n"
   ]
  },
  {
   "cell_type": "code",
   "execution_count": 131,
   "id": "07203f3e",
   "metadata": {},
   "outputs": [
    {
     "data": {
      "text/plain": [
       "'None'"
      ]
     },
     "execution_count": 131,
     "metadata": {},
     "output_type": "execute_result"
    }
   ],
   "source": [
    "from collections.abc import Callable\n",
    "from typing import ParamSpec ,TypeVar\n",
    "\n",
    "P = ParamSpec('P')\n",
    "T = TypeVar('T')\n",
    "\n",
    "def apply_func(func: Callable[P, T], *args: P.args, **kwargs: P.kwargs) -> T:\n",
    "    return func(*args, **kwargs)\n",
    "\n",
    "def parse_email(email_address: str) -> tuple[str,str]:\n",
    "    if \"@\" in email_address:\n",
    "        username, domain = email_address.split(\"@\")\n",
    "        return username, domain\n",
    "    return \"None\"\n",
    "\n",
    "\n",
    "apply_func(parse_email,'redgreen753gmail.com')"
   ]
  },
  {
   "cell_type": "raw",
   "id": "09f6f622",
   "metadata": {},
   "source": [
    "Annotate the return value of a factory function"
   ]
  },
  {
   "cell_type": "code",
   "execution_count": 66,
   "id": "601c48ce",
   "metadata": {},
   "outputs": [],
   "source": [
    "import functools\n",
    "import time\n",
    "from collections.abc import Callable\n",
    "from typing import ParamSpec, TypeVar\n",
    "\n",
    "P = ParamSpec('P')\n",
    "T = TypeVar('T')\n",
    "\n",
    "def timeit(function: Callable[P, T]) -> Callable[P, T]:\n",
    "    @functools.wraps(function)\n",
    "    def wrapper(*args: P.args, **kwargs: P.kwargs):\n",
    "        start = time.perf_counter()\n",
    "        result = function(*args, **kwargs)\n",
    "        end = time.perf_counter()\n",
    "        print(f'{function.__name__}() finished in {end - start: .10f}s')\n",
    "        return result\n",
    "    return wrapper"
   ]
  },
  {
   "cell_type": "code",
   "execution_count": 67,
   "id": "e4d03732",
   "metadata": {},
   "outputs": [
    {
     "name": "stdout",
     "output_type": "stream",
     "text": [
      "parse_email() finished in  0.0000050000s\n"
     ]
    },
    {
     "data": {
      "text/plain": [
       "('blackbeauty45', 'gmail.com')"
      ]
     },
     "execution_count": 67,
     "metadata": {},
     "output_type": "execute_result"
    }
   ],
   "source": [
    "@timeit\n",
    "\n",
    "def parse_email(email_address: str) -> tuple[str,str] | None:\n",
    "    if \"@\" in email_address:\n",
    "        username, domain = email_address.split(\"@\")\n",
    "        return username, domain\n",
    "    return None\n",
    "\n",
    "parse_email('blackbeauty45@gmail.com')"
   ]
  },
  {
   "cell_type": "code",
   "execution_count": 68,
   "id": "d0ad7f56",
   "metadata": {},
   "outputs": [
    {
     "name": "stdout",
     "output_type": "stream",
     "text": [
      "parse_email() finished in  0.0000048000s\n"
     ]
    }
   ],
   "source": [
    "username, domain = parse_email('jack25@gmail.com')"
   ]
  },
  {
   "cell_type": "code",
   "execution_count": 69,
   "id": "b49ef46a",
   "metadata": {},
   "outputs": [
    {
     "data": {
      "text/plain": [
       "'jack25'"
      ]
     },
     "execution_count": 69,
     "metadata": {},
     "output_type": "execute_result"
    }
   ],
   "source": [
    "username"
   ]
  },
  {
   "cell_type": "code",
   "execution_count": 70,
   "id": "02ac36ce",
   "metadata": {},
   "outputs": [
    {
     "data": {
      "text/plain": [
       "'gmail.com'"
      ]
     },
     "execution_count": 70,
     "metadata": {},
     "output_type": "execute_result"
    }
   ],
   "source": [
    "domain"
   ]
  },
  {
   "cell_type": "code",
   "execution_count": 76,
   "id": "f92bb3aa",
   "metadata": {},
   "outputs": [
    {
     "name": "stdout",
     "output_type": "stream",
     "text": [
      "parse_email123() finished in  0.0000067998s\n",
      "('fulloflife56', 'gmail.com')\n",
      "parse_email() finished in  0.0000042999s\n",
      "fishinwater69   gmail.com\n"
     ]
    }
   ],
   "source": [
    "import functools\n",
    "import time\n",
    "from collections.abc import Callable\n",
    "from typing import ParamSpec, TypeVar\n",
    "\n",
    "P = ParamSpec(\"P\")\n",
    "T = TypeVar(\"T\")\n",
    "    \n",
    "def timeit(function:Callable[P, T]) -> Callable[P, T]:\n",
    "    @functools.wraps(function)\n",
    "    def wrapper(*args: P.args, **kwargs: P.kwargs):\n",
    "        start = time.perf_counter()\n",
    "        result = function(*args, **kwargs)\n",
    "        end = time.perf_counter()\n",
    "        print(f\"{function.__name__}() finished in {end - start: .10f}s\")\n",
    "        return result\n",
    "    return wrapper\n",
    "\n",
    "@timeit\n",
    "\n",
    "def parse_email123(email_address: str) -> tuple[str,str] | None:\n",
    "    if \"@\" in email_address:\n",
    "        username, domain = email_address.split(\"@\")\n",
    "        return username, domain\n",
    "    return None \n",
    "\n",
    "print(parse_email123(\"fulloflife56@gmail.com\"))\n",
    "\n",
    "username, domain = parse_email(\"fishinwater69@gmail.com\")\n",
    "print(username,' ', domain)"
   ]
  },
  {
   "cell_type": "raw",
   "id": "6b2f1cd4",
   "metadata": {},
   "source": [
    "Annotate the values yielded by a generator"
   ]
  },
  {
   "cell_type": "code",
   "execution_count": 20,
   "id": "c4bde0f0",
   "metadata": {},
   "outputs": [],
   "source": [
    "from collections.abc import Generator\n",
    "\n",
    "def parse_email56() -> Generator[tuple[str, str], str, str]:\n",
    "    sent = yield \"\",\"\"\n",
    "    while sent != \"\":\n",
    "        if \"@\" in sent:\n",
    "            username, domain = sent.split(\"@\")\n",
    "            sent = yield username, domain\n",
    "            \n",
    "        else:\n",
    "            sent  = yield \"invalid email\"\n",
    "    return \"Done\"\n",
    "            "
   ]
  },
  {
   "cell_type": "code",
   "execution_count": 22,
   "id": "65c9491f",
   "metadata": {},
   "outputs": [],
   "source": [
    "generator = parse_email()"
   ]
  },
  {
   "cell_type": "code",
   "execution_count": 23,
   "id": "9c2d1101",
   "metadata": {},
   "outputs": [
    {
     "data": {
      "text/plain": [
       "('', '')"
      ]
     },
     "execution_count": 23,
     "metadata": {},
     "output_type": "execute_result"
    }
   ],
   "source": [
    "next(generator)"
   ]
  },
  {
   "cell_type": "code",
   "execution_count": 24,
   "id": "4104085d",
   "metadata": {},
   "outputs": [
    {
     "data": {
      "text/plain": [
       "('humtum52', 'gmail.com')"
      ]
     },
     "execution_count": 24,
     "metadata": {},
     "output_type": "execute_result"
    }
   ],
   "source": [
    "generator.send(\"humtum52@gmail.com\")"
   ]
  },
  {
   "cell_type": "code",
   "execution_count": 25,
   "id": "361e89c1",
   "metadata": {},
   "outputs": [
    {
     "data": {
      "text/plain": [
       "'invalid email'"
      ]
     },
     "execution_count": 25,
     "metadata": {},
     "output_type": "execute_result"
    }
   ],
   "source": [
    "generator.send('Iamboss')"
   ]
  },
  {
   "cell_type": "code",
   "execution_count": 27,
   "id": "abfe8abe",
   "metadata": {},
   "outputs": [
    {
     "name": "stdout",
     "output_type": "stream",
     "text": [
      "Done\n"
     ]
    }
   ],
   "source": [
    "try:\n",
    "    generator.send(\"\")\n",
    "except StopIteration as ex:\n",
    "    print(ex.value)"
   ]
  },
  {
   "cell_type": "code",
   "execution_count": 6,
   "id": "4eab584e",
   "metadata": {},
   "outputs": [
    {
     "name": "stdout",
     "output_type": "stream",
     "text": [
      "('homealone', 'gmail.com')\n",
      "Invalid email\n",
      "Done\n"
     ]
    }
   ],
   "source": [
    "from collections.abc import Generator\n",
    "\n",
    "def parse_email() -> Generator[tuple[str, str], str, str]:\n",
    "    sent = yield \"\",\"\"\n",
    "    while sent != \"\":\n",
    "        if \"@\" in  sent:\n",
    "            username, domain = sent.split(\"@\")\n",
    "            sent = yield username, domain\n",
    "        else:\n",
    "            sent = yield \"Invalid email\"\n",
    "            \n",
    "    return \"Done\"\n",
    "\n",
    "generator12 = parse_email()\n",
    "next(generator12)\n",
    "jk = generator12.send(\"homealone@gmail.com\")\n",
    "print(jk)\n",
    "\n",
    "mk = generator12.send(\"45\")\n",
    "print(mk)\n",
    "\n",
    "try:\n",
    "    generator12.send(\"\")\n",
    "except StopIteration as ex:\n",
    "    print(ex.value)\n",
    " "
   ]
  },
  {
   "cell_type": "code",
   "execution_count": 23,
   "id": "cff70715",
   "metadata": {},
   "outputs": [],
   "source": [
    "from collections.abc import Iterator\n",
    "\n",
    "def parse_emails_or(emails: list[str]) -> Iterator[tuple[str,str]]:\n",
    "    for email in emails:\n",
    "        if \"@\" in email:\n",
    "            username, domain = email.split(\"@\")\n",
    "            yield username, domain"
   ]
  },
  {
   "cell_type": "code",
   "execution_count": 33,
   "id": "98db071d",
   "metadata": {},
   "outputs": [],
   "source": [
    "from collections.abc import Iterable\n",
    "\n",
    "def parse_emails_le(emails: Iterable[str]) -> Iterable[tuple[str, str]]:\n",
    "    for email in emails:\n",
    "        if \"@\" in email:\n",
    "            username, domain = email.split (\"@\")\n",
    "            yield username, domain"
   ]
  },
  {
   "cell_type": "raw",
   "id": "fbb4fbde",
   "metadata": {},
   "source": [
    "Improve readability with Type Aliases"
   ]
  },
  {
   "cell_type": "code",
   "execution_count": 41,
   "id": "e5c86bc0",
   "metadata": {},
   "outputs": [],
   "source": [
    "EmailComponents = tuple[str, str] | None\n",
    "\n",
    "def parse_email(email_address: str) -> EmailComponents:\n",
    "    if \"@\" in email_address:\n",
    "        username, domain = email_address.split(\"@\")\n",
    "        return username, domain\n",
    "    \n",
    "    return None"
   ]
  },
  {
   "cell_type": "code",
   "execution_count": 2,
   "id": "b1615fb7",
   "metadata": {},
   "outputs": [],
   "source": [
    "from typing import TypeAlias\n",
    "\n",
    "EmailComponents: TypeAlias = tuple[str, str] | None\n",
    "    \n",
    "def parse_email20(email_address: str) -> EmailComponents: \n",
    "    if \"@\" in email_address:\n",
    "        username, domain = email_address.split(\"@\")\n",
    "        return username, domain\n",
    "    return None"
   ]
  },
  {
   "cell_type": "code",
   "execution_count": 3,
   "id": "86646f35",
   "metadata": {},
   "outputs": [
    {
     "data": {
      "text/plain": [
       "('tigerfighter', 'gmail.com')"
      ]
     },
     "execution_count": 3,
     "metadata": {},
     "output_type": "execute_result"
    }
   ],
   "source": [
    "parse_email20(\"tigerfighter@gmail.com\")"
   ]
  },
  {
   "cell_type": "code",
   "execution_count": null,
   "id": "24a3b3cc",
   "metadata": {},
   "outputs": [],
   "source": [
    "def parse_email24(email_address: str) -> EmailComponents:\n",
    "    if \"@\" in email_address:\n",
    "        username, domain = email_address.split(\"@\")\n",
    "        return username, domain\n",
    "    return None"
   ]
  },
  {
   "cell_type": "code",
   "execution_count": 3,
   "id": "1ce1549f",
   "metadata": {},
   "outputs": [
    {
     "ename": "SyntaxError",
     "evalue": "invalid syntax (2306551086.py, line 1)",
     "output_type": "error",
     "traceback": [
      "\u001b[1;36m  Cell \u001b[1;32mIn[3], line 1\u001b[1;36m\u001b[0m\n\u001b[1;33m    type emailComponents =  tuple[str, str] | None\u001b[0m\n\u001b[1;37m         ^\u001b[0m\n\u001b[1;31mSyntaxError\u001b[0m\u001b[1;31m:\u001b[0m invalid syntax\n"
     ]
    }
   ],
   "source": [
    "type EmailComponents =  tuple[str, str] | None"
   ]
  },
  {
   "cell_type": "raw",
   "id": "66fe467c",
   "metadata": {},
   "source": [
    "Leverage tools for static type checking"
   ]
  },
  {
   "cell_type": "code",
   "execution_count": 4,
   "id": "48667c3e",
   "metadata": {},
   "outputs": [],
   "source": [
    "import mypy"
   ]
  },
  {
   "cell_type": "code",
   "execution_count": 1,
   "id": "7e78fe60",
   "metadata": {},
   "outputs": [],
   "source": [
    "with open (\"email_parser.py\",\"r\") as f:\n",
    "    read = f.read()"
   ]
  },
  {
   "cell_type": "code",
   "execution_count": null,
   "id": "3f8ea95d",
   "metadata": {},
   "outputs": [],
   "source": []
  }
 ],
 "metadata": {
  "kernelspec": {
   "display_name": "Python 3 (ipykernel)",
   "language": "python",
   "name": "python3"
  },
  "language_info": {
   "codemirror_mode": {
    "name": "ipython",
    "version": 3
   },
   "file_extension": ".py",
   "mimetype": "text/x-python",
   "name": "python",
   "nbconvert_exporter": "python",
   "pygments_lexer": "ipython3",
   "version": "3.11.4"
  }
 },
 "nbformat": 4,
 "nbformat_minor": 5
}
