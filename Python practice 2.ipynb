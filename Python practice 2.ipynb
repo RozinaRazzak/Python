{
 "cells": [
  {
   "cell_type": "markdown",
   "id": "4fca3024",
   "metadata": {},
   "source": [
    "# classes"
   ]
  },
  {
   "cell_type": "raw",
   "id": "4e9fa8f6",
   "metadata": {},
   "source": [
    "Classes are template in python.\n",
    "They are used to standardize and organize information.\n",
    "Begins with keyword class.Class name start with capital letter.\n",
    "when we build a function in the class we called it a method. "
   ]
  },
  {
   "cell_type": "code",
   "execution_count": 2,
   "id": "57984426",
   "metadata": {},
   "outputs": [],
   "source": [
    "class Patient():\n",
    "    def __init__(self,last_name,first_name,age):\n",
    "        self.last_name = last_name\n",
    "        self.first_name = first_name\n",
    "        self.age = age\n",
    "    def say_if_minor(self):\n",
    "        if self.age < 21:\n",
    "            print('This patient is a minor')\n",
    "    def change_last_name(self,new_last_name):\n",
    "        self.last_name = new_last_name\n",
    "        "
   ]
  },
  {
   "cell_type": "code",
   "execution_count": 3,
   "id": "efffb92b",
   "metadata": {},
   "outputs": [],
   "source": [
    "pid4343 = Patient(\"Taleb\",'Sue',49)"
   ]
  },
  {
   "cell_type": "code",
   "execution_count": 4,
   "id": "4e585fe7",
   "metadata": {},
   "outputs": [
    {
     "data": {
      "text/plain": [
       "49"
      ]
     },
     "execution_count": 4,
     "metadata": {},
     "output_type": "execute_result"
    }
   ],
   "source": [
    "pid4343.age"
   ]
  },
  {
   "cell_type": "code",
   "execution_count": 5,
   "id": "9327119f",
   "metadata": {},
   "outputs": [],
   "source": [
    "pid4343.say_if_minor()"
   ]
  },
  {
   "cell_type": "code",
   "execution_count": 6,
   "id": "4bf96b15",
   "metadata": {},
   "outputs": [],
   "source": [
    "pid4342 = Patient('Khan','Dawood',19)"
   ]
  },
  {
   "cell_type": "code",
   "execution_count": 7,
   "id": "8011b0a3",
   "metadata": {},
   "outputs": [
    {
     "name": "stdout",
     "output_type": "stream",
     "text": [
      "This patient is a minor\n"
     ]
    }
   ],
   "source": [
    "pid4342.say_if_minor()"
   ]
  },
  {
   "cell_type": "code",
   "execution_count": 8,
   "id": "44ed90b0",
   "metadata": {},
   "outputs": [],
   "source": [
    "pid4342.change_last_name('Malik')"
   ]
  },
  {
   "cell_type": "code",
   "execution_count": 9,
   "id": "94bbf1af",
   "metadata": {},
   "outputs": [
    {
     "data": {
      "text/plain": [
       "'Malik'"
      ]
     },
     "execution_count": 9,
     "metadata": {},
     "output_type": "execute_result"
    }
   ],
   "source": [
    "pid4342.last_name"
   ]
  },
  {
   "cell_type": "markdown",
   "id": "541b22e3",
   "metadata": {},
   "source": [
    "# Data Files"
   ]
  },
  {
   "cell_type": "raw",
   "id": "cede3c2f",
   "metadata": {},
   "source": [
    "#\"with\" tell python to close the file after you write it   \n",
    "# \"open\" to open the file \n",
    "# \"w\"  opening the file so you can write\n",
    "# \"as\" keyword  used to assigning a file handle to the file"
   ]
  },
  {
   "cell_type": "code",
   "execution_count": 10,
   "id": "e63ea6ef",
   "metadata": {},
   "outputs": [],
   "source": [
    "#with open(\"whatever.txt\",\"w\") as file_to_work_with:\n",
    "    "
   ]
  },
  {
   "cell_type": "code",
   "execution_count": 11,
   "id": "006c24f7",
   "metadata": {},
   "outputs": [],
   "source": [
    "#file_to_work_with = open('whatever.txt',\"w\"):"
   ]
  },
  {
   "cell_type": "code",
   "execution_count": 12,
   "id": "62129fcd",
   "metadata": {},
   "outputs": [],
   "source": [
    "#with open('data\\ whatever.txt','w')as file_to_work_with:"
   ]
  },
  {
   "cell_type": "code",
   "execution_count": 13,
   "id": "c4e8516a",
   "metadata": {},
   "outputs": [],
   "source": [
    "#with open (\"whatever.txt\",\"w\") as f:"
   ]
  },
  {
   "cell_type": "code",
   "execution_count": 14,
   "id": "f1aa730d",
   "metadata": {},
   "outputs": [],
   "source": [
    "with open(\"greet.txt\",'w')as f:    #\"w\" python replace any data that is already in the file\n",
    "    f.write('Hello,world!')\n",
    "    "
   ]
  },
  {
   "cell_type": "code",
   "execution_count": 15,
   "id": "44dd1cd3",
   "metadata": {},
   "outputs": [],
   "source": [
    "greeting = (\"Happy birthday to me\")\n",
    "with open(\"greet.txt\",'w') as f:\n",
    "    f.write(greeting)"
   ]
  },
  {
   "cell_type": "code",
   "execution_count": 16,
   "id": "2498458e",
   "metadata": {},
   "outputs": [],
   "source": [
    "with open(\"greet.txt\",\"r\") as f:\n",
    "    text_of_file = f.read()\n",
    "     "
   ]
  },
  {
   "cell_type": "code",
   "execution_count": 17,
   "id": "041af2ad",
   "metadata": {},
   "outputs": [
    {
     "name": "stdout",
     "output_type": "stream",
     "text": [
      "Happy birthday to me\n"
     ]
    }
   ],
   "source": [
    "print(text_of_file)"
   ]
  },
  {
   "cell_type": "code",
   "execution_count": 18,
   "id": "155386ab",
   "metadata": {},
   "outputs": [],
   "source": [
    "with open(\"greet.txt\") as f:\n",
    "    read1 = f.read()"
   ]
  },
  {
   "cell_type": "code",
   "execution_count": 19,
   "id": "e61a2fe6",
   "metadata": {},
   "outputs": [
    {
     "name": "stdout",
     "output_type": "stream",
     "text": [
      "Happy birthday to me\n"
     ]
    }
   ],
   "source": [
    "print(read1)"
   ]
  },
  {
   "cell_type": "code",
   "execution_count": 20,
   "id": "30ce3638",
   "metadata": {},
   "outputs": [],
   "source": [
    "with open('greet.txt',\"a\")as f:\n",
    "    f.write('\\nMy life is best')"
   ]
  },
  {
   "cell_type": "code",
   "execution_count": 21,
   "id": "141d78ce",
   "metadata": {},
   "outputs": [],
   "source": [
    "with open(\"greet.txt\") as f:\n",
    "    read2 = f.read()"
   ]
  },
  {
   "cell_type": "code",
   "execution_count": 22,
   "id": "11f4a1ba",
   "metadata": {},
   "outputs": [
    {
     "name": "stdout",
     "output_type": "stream",
     "text": [
      "Happy birthday to me\n",
      "My life is best\n"
     ]
    }
   ],
   "source": [
    "print(read2)"
   ]
  },
  {
   "cell_type": "code",
   "execution_count": 23,
   "id": "a0cda478",
   "metadata": {},
   "outputs": [
    {
     "name": "stdout",
     "output_type": "stream",
     "text": [
      "Happy birthday to me\n",
      "My life is best\n"
     ]
    }
   ],
   "source": [
    "with open(\"greet.txt\") as f:\n",
    "    message = f.read()\n",
    "    print(message)"
   ]
  },
  {
   "cell_type": "markdown",
   "id": "40996c4f",
   "metadata": {},
   "source": [
    "# Modules"
   ]
  },
  {
   "cell_type": "raw",
   "id": "105c240d",
   "metadata": {},
   "source": [
    "An alternative is to store or all functions in seperate Python files\n",
    "A module has a filename extension of \".py\"\n",
    "for example, calculations.py\n",
    "1. write function once, call it from any Python program\n",
    "2. keep your main programs shorter and simpler to read\n",
    "3. use code written by other people by importing their modules"
   ]
  },
  {
   "cell_type": "code",
   "execution_count": 25,
   "id": "7347ffae",
   "metadata": {},
   "outputs": [],
   "source": [
    "def calc_tax(sales_total,tax_rate):\n",
    "    tax = sales_total * tax_rate\n",
    "    return tax"
   ]
  },
  {
   "cell_type": "code",
   "execution_count": 26,
   "id": "520d2714",
   "metadata": {},
   "outputs": [],
   "source": [
    "tax_for_this_order = calc_tax(sales_total = 101.37,tax_rate = 0.05)"
   ]
  },
  {
   "cell_type": "code",
   "execution_count": 27,
   "id": "9959cba7",
   "metadata": {},
   "outputs": [
    {
     "data": {
      "text/plain": [
       "5.0685"
      ]
     },
     "execution_count": 27,
     "metadata": {},
     "output_type": "execute_result"
    }
   ],
   "source": [
    "tax_for_this_order"
   ]
  },
  {
   "cell_type": "markdown",
   "id": "d6b3d1f1",
   "metadata": {},
   "source": [
    "# CSV files"
   ]
  },
  {
   "cell_type": "raw",
   "id": "ac936929",
   "metadata": {},
   "source": [
    "CSV files are text-only files that are simplified versions of a spreadsheet or database.\n",
    "CSV stands for \"Comma-Separated Values\"\n"
   ]
  },
  {
   "cell_type": "code",
   "execution_count": 1,
   "id": "a9fa49d3",
   "metadata": {},
   "outputs": [],
   "source": [
    "import csv"
   ]
  },
  {
   "cell_type": "code",
   "execution_count": 2,
   "id": "f19498cd",
   "metadata": {},
   "outputs": [],
   "source": [
    "with open(\"competition - Sheet1.csv\") as f:\n",
    "    contents_of_f = csv.reader(f)"
   ]
  },
  {
   "cell_type": "code",
   "execution_count": 3,
   "id": "9c5f7a3e",
   "metadata": {},
   "outputs": [],
   "source": [
    "with open(\"competition - Sheet1.csv\") as f:\n",
    "    contents_of_f = csv.reader(f)\n",
    "    potter_competitions = []\n",
    "    for each_line in contents_of_f:\n",
    "        potter_competitions += each_line"
   ]
  },
  {
   "cell_type": "code",
   "execution_count": 4,
   "id": "817d4d8a",
   "metadata": {},
   "outputs": [
    {
     "name": "stdout",
     "output_type": "stream",
     "text": [
      "['year', 'Event', 'Winner', '1995', 'Best-Kept Lawn', 'None', '1999', 'Gobstones', 'Welch National', '2006', 'World Cup', 'Burkina Faso']\n"
     ]
    }
   ],
   "source": [
    "print(potter_competitions)"
   ]
  },
  {
   "cell_type": "code",
   "execution_count": 5,
   "id": "04a9155b",
   "metadata": {},
   "outputs": [
    {
     "name": "stdout",
     "output_type": "stream",
     "text": [
      "1995\n"
     ]
    }
   ],
   "source": [
    "print(potter_competitions[3])"
   ]
  },
  {
   "cell_type": "code",
   "execution_count": 6,
   "id": "7005d52d",
   "metadata": {},
   "outputs": [
    {
     "data": {
      "text/plain": [
       "10"
      ]
     },
     "execution_count": 6,
     "metadata": {},
     "output_type": "execute_result"
    }
   ],
   "source": [
    "potter_competitions.index('World Cup')"
   ]
  },
  {
   "cell_type": "code",
   "execution_count": 8,
   "id": "f3a3f286",
   "metadata": {},
   "outputs": [
    {
     "name": "stdout",
     "output_type": "stream",
     "text": [
      "Enter the name of a competition:World Cup\n",
      "The winner was Burkina Faso\n"
     ]
    }
   ],
   "source": [
    "target = input('Enter the name of a competition:')\n",
    "index_number_of_target = potter_competitions.index(target)\n",
    "index_number_of_winner = index_number_of_target + 1\n",
    "the_winner = potter_competitions[index_number_of_winner]\n",
    "print(\"The winner was \" + the_winner)"
   ]
  },
  {
   "cell_type": "code",
   "execution_count": 12,
   "id": "811d1db9",
   "metadata": {},
   "outputs": [],
   "source": [
    "import csv \n",
    "with open (\"whatever.csv\",\"w\", newline = \"\")as f:\n",
    "    data_handler = csv.writer(f) #delimeter = \",\"\n",
    "    data_handler.writerow([\"Year\",\"Event\",\"Winner\"])\n",
    "    data_handler.writerow([\"1995\",\"Best-Kept Lawn\",\"None\"])\n",
    "    data_handler.writerow([\"1999\",\"Gobstones\",\"Welch National\"])"
   ]
  },
  {
   "cell_type": "code",
   "execution_count": 16,
   "id": "6831e71f",
   "metadata": {
    "scrolled": true
   },
   "outputs": [],
   "source": [
    "with open(\"whatever.csv\",\"a\" , newline = \"\") as f:\n",
    "    data_handler = csv.writer(f)\n",
    "    data_handler.writerow([\"2006\",\"World Cup\",\"Burkina Faso\"])\n",
    "    data_handler.writerow([\"2001\",\"Butter Cup\",\"France\"])\n",
    "    data_handler.writerow([\"2012\",\"Coffee Cup\",\" Brazil\"])\n",
    "    data_handler.writerow([\"ROZINA\"])"
   ]
  },
  {
   "cell_type": "markdown",
   "id": "548861aa",
   "metadata": {},
   "source": [
    "# How to save a python list or dictionary in a file: JSON"
   ]
  },
  {
   "cell_type": "code",
   "execution_count": 17,
   "id": "dd6990b4",
   "metadata": {},
   "outputs": [],
   "source": [
    "with open (\"greet.txt\",\"w\") as f:\n",
    "    f.write(\"Hello,world!\")"
   ]
  },
  {
   "cell_type": "code",
   "execution_count": 18,
   "id": "1bb0b0f1",
   "metadata": {},
   "outputs": [],
   "source": [
    "with open (\"greet.txt\",\"r\") as f:\n",
    "    text_of_file = f.read()"
   ]
  },
  {
   "cell_type": "code",
   "execution_count": 19,
   "id": "fe9ce6e1",
   "metadata": {},
   "outputs": [
    {
     "name": "stdout",
     "output_type": "stream",
     "text": [
      "Hello,world!\n"
     ]
    }
   ],
   "source": [
    "print(text_of_file)"
   ]
  },
  {
   "cell_type": "code",
   "execution_count": 24,
   "id": "d314f91b",
   "metadata": {},
   "outputs": [
    {
     "ename": "TypeError",
     "evalue": "write() argument must be str, not list",
     "output_type": "error",
     "traceback": [
      "\u001b[1;31m---------------------------------------------------------------------------\u001b[0m",
      "\u001b[1;31mTypeError\u001b[0m                                 Traceback (most recent call last)",
      "Cell \u001b[1;32mIn[24], line 3\u001b[0m\n\u001b[0;32m      1\u001b[0m alphabet_letters \u001b[38;5;241m=\u001b[39m [\u001b[38;5;124m\"\u001b[39m\u001b[38;5;124ma\u001b[39m\u001b[38;5;124m\"\u001b[39m,\u001b[38;5;124m\"\u001b[39m\u001b[38;5;124mb\u001b[39m\u001b[38;5;124m\"\u001b[39m,\u001b[38;5;124m\"\u001b[39m\u001b[38;5;124mc\u001b[39m\u001b[38;5;124m\"\u001b[39m]\n\u001b[0;32m      2\u001b[0m \u001b[38;5;28;01mwith\u001b[39;00m \u001b[38;5;28mopen\u001b[39m(\u001b[38;5;124m\"\u001b[39m\u001b[38;5;124malphabet_list.txt\u001b[39m\u001b[38;5;124m\"\u001b[39m,\u001b[38;5;124m\"\u001b[39m\u001b[38;5;124mw\u001b[39m\u001b[38;5;124m\"\u001b[39m) \u001b[38;5;28;01mas\u001b[39;00m f:\n\u001b[1;32m----> 3\u001b[0m     f\u001b[38;5;241m.\u001b[39mwrite(alphabet_letters)\n",
      "\u001b[1;31mTypeError\u001b[0m: write() argument must be str, not list"
     ]
    }
   ],
   "source": [
    "alphabet_letters = [\"a\",\"b\",\"c\"]\n",
    "with open(\"alphabet_list.txt\",\"w\") as f:\n",
    "    f.write(alphabet_letters)"
   ]
  },
  {
   "cell_type": "code",
   "execution_count": 27,
   "id": "2589737a",
   "metadata": {},
   "outputs": [],
   "source": [
    "import json \n",
    "alphabet_letters = [\"a\",\"b\",\"c\"]\n",
    "with open('alphabet_list.json',\"w\")as f:\n",
    "    json.dump(alphabet_letters,f)"
   ]
  },
  {
   "cell_type": "code",
   "execution_count": 28,
   "id": "48f84fd3",
   "metadata": {},
   "outputs": [],
   "source": [
    "customer_29876 = {\n",
    "    \"first name\" : \"David\",\n",
    "    \"last name\"  : \"Elliot\",\n",
    "    \"address\"    : \"4803 Wellesley St.\",\n",
    "}"
   ]
  },
  {
   "cell_type": "code",
   "execution_count": 29,
   "id": "33609eed",
   "metadata": {},
   "outputs": [],
   "source": [
    "with open(\"customer_29876.json\",\"w\")as f:\n",
    "    json.dump(customer_29876,f)"
   ]
  },
  {
   "cell_type": "code",
   "execution_count": 30,
   "id": "eabc50c6",
   "metadata": {},
   "outputs": [],
   "source": [
    "with open(\"customer_29876.json\")as f:\n",
    "    customer_29876 = json.load(f)"
   ]
  },
  {
   "cell_type": "code",
   "execution_count": 31,
   "id": "acd827c0",
   "metadata": {},
   "outputs": [
    {
     "name": "stdout",
     "output_type": "stream",
     "text": [
      "{'first name': 'David', 'last name': 'Elliot', 'address': '4803 Wellesley St.'}\n"
     ]
    }
   ],
   "source": [
    "print(customer_29876)"
   ]
  },
  {
   "cell_type": "code",
   "execution_count": 32,
   "id": "4c543711",
   "metadata": {},
   "outputs": [
    {
     "name": "stdout",
     "output_type": "stream",
     "text": [
      "Elliot\n"
     ]
    }
   ],
   "source": [
    "print(customer_29876['last name'])"
   ]
  },
  {
   "cell_type": "code",
   "execution_count": 1,
   "id": "8bedcc15",
   "metadata": {},
   "outputs": [
    {
     "name": "stdout",
     "output_type": "stream",
     "text": [
      "What text file to open? customer_29876.json\n",
      "{\"first name\": \"David\", \"last name\": \"Elliot\", \"address\": \"4803 Wellesley St.\"}\n"
     ]
    }
   ],
   "source": [
    "filename = input(\"What text file to open? \")\n",
    "with open(filename) as f:\n",
    "    print(f.read())"
   ]
  },
  {
   "cell_type": "code",
   "execution_count": 4,
   "id": "99adb619",
   "metadata": {},
   "outputs": [
    {
     "name": "stdout",
     "output_type": "stream",
     "text": [
      "What text file to open?rox.csv\n",
      "Sorry, rox.csv not found.\n"
     ]
    }
   ],
   "source": [
    "try:\n",
    "    filename = input(\"What text file to open?\")\n",
    "    with open (filename) as f:\n",
    "        print(f.read())\n",
    "except FileNotFoundError:\n",
    "    print(\"Sorry, \" + filename + \" not found.\")"
   ]
  },
  {
   "cell_type": "code",
   "execution_count": 1,
   "id": "d1fa7979",
   "metadata": {},
   "outputs": [
    {
     "name": "stdout",
     "output_type": "stream",
     "text": [
      "What text file to open? dcn.txt\n",
      "Sorry, dcn.txt not found.\n",
      "What text file to open? fo.csv\n",
      "Sorry, fo.csv not found.\n",
      "What text file to open? greet.txt\n",
      "Hello,world!\n"
     ]
    }
   ],
   "source": [
    "while True:\n",
    "    try:\n",
    "        filename = input(\"What text file to open? \")\n",
    "        with open(filename) as f:\n",
    "            print(f.read())\n",
    "            break\n",
    "    except FileNotFoundError:\n",
    "        print(\"Sorry, \" + filename + \" not found.\")\n",
    "        "
   ]
  },
  {
   "cell_type": "code",
   "execution_count": null,
   "id": "04a41139",
   "metadata": {},
   "outputs": [],
   "source": []
  }
 ],
 "metadata": {
  "kernelspec": {
   "display_name": "Python 3 (ipykernel)",
   "language": "python",
   "name": "python3"
  },
  "language_info": {
   "codemirror_mode": {
    "name": "ipython",
    "version": 3
   },
   "file_extension": ".py",
   "mimetype": "text/x-python",
   "name": "python",
   "nbconvert_exporter": "python",
   "pygments_lexer": "ipython3",
   "version": "3.11.4"
  }
 },
 "nbformat": 4,
 "nbformat_minor": 5
}
