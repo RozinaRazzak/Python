{
 "cells": [
  {
   "cell_type": "markdown",
   "id": "b2ceac7d",
   "metadata": {},
   "source": [
    "# print"
   ]
  },
  {
   "cell_type": "markdown",
   "id": "2c4e9910",
   "metadata": {},
   "source": [
    "print command used in python to tell the programs to display output"
   ]
  },
  {
   "cell_type": "code",
   "execution_count": 10,
   "id": "4bb68204",
   "metadata": {},
   "outputs": [
    {
     "name": "stdout",
     "output_type": "stream",
     "text": [
      "Rozina Razzak\n"
     ]
    }
   ],
   "source": [
    "print('Rozina Razzak')"
   ]
  },
  {
   "cell_type": "code",
   "execution_count": 4,
   "id": "33c81683",
   "metadata": {},
   "outputs": [
    {
     "name": "stdout",
     "output_type": "stream",
     "text": [
      "11\n"
     ]
    }
   ],
   "source": [
    "print( 2 + 9)"
   ]
  },
  {
   "cell_type": "code",
   "execution_count": 7,
   "id": "a75f3ec3",
   "metadata": {},
   "outputs": [
    {
     "name": "stdout",
     "output_type": "stream",
     "text": [
      "67\n"
     ]
    }
   ],
   "source": [
    "print(67)"
   ]
  },
  {
   "cell_type": "markdown",
   "id": "71ed46f3",
   "metadata": {},
   "source": [
    "# Variables"
   ]
  },
  {
   "cell_type": "markdown",
   "id": "6d8817eb",
   "metadata": {},
   "source": [
    "variable are created to asingn the value .\n",
    "variable and its value may also change .\n",
    ". can't enclose in quotation mark\n",
    ". can't have any spaces\n",
    ". can't be a number or begin with a number\n",
    ". can't be any python reserved words,also called keywords(e.g: and, false,yield...)"
   ]
  },
  {
   "cell_type": "markdown",
   "id": "8076f896",
   "metadata": {},
   "source": [
    "# variable for strings"
   ]
  },
  {
   "cell_type": "code",
   "execution_count": 9,
   "id": "adc9f120",
   "metadata": {},
   "outputs": [
    {
     "name": "stdout",
     "output_type": "stream",
     "text": [
      "hchn\n"
     ]
    }
   ],
   "source": [
    "\n",
    "name = 'Joy'\n",
    "jjjj = 'hchn'\n",
    "print(jjjj)"
   ]
  },
  {
   "cell_type": "code",
   "execution_count": 10,
   "id": "534527fb",
   "metadata": {},
   "outputs": [
    {
     "name": "stdout",
     "output_type": "stream",
     "text": [
      "make it better\n"
     ]
    }
   ],
   "source": [
    "life = 'make it better'\n",
    "print(life)"
   ]
  },
  {
   "cell_type": "markdown",
   "id": "006bc9b0",
   "metadata": {},
   "source": [
    "# variable for numbers"
   ]
  },
  {
   "cell_type": "code",
   "execution_count": 11,
   "id": "05e5c959",
   "metadata": {},
   "outputs": [
    {
     "data": {
      "text/plain": [
       "193"
      ]
     },
     "execution_count": 11,
     "metadata": {},
     "output_type": "execute_result"
    }
   ],
   "source": [
    "height = 170\n",
    "height + 23"
   ]
  },
  {
   "cell_type": "code",
   "execution_count": 12,
   "id": "e0d0327e",
   "metadata": {},
   "outputs": [
    {
     "name": "stdout",
     "output_type": "stream",
     "text": [
      "136\n"
     ]
    }
   ],
   "source": [
    "first_number = 56\n",
    "new_number = first_number + 80\n",
    "print(new_number)"
   ]
  },
  {
   "cell_type": "code",
   "execution_count": 13,
   "id": "1d34e21e",
   "metadata": {},
   "outputs": [
    {
     "ename": "TypeError",
     "evalue": "unsupported operand type(s) for /: 'str' and 'int'",
     "output_type": "error",
     "traceback": [
      "\u001b[1;31m---------------------------------------------------------------------------\u001b[0m",
      "\u001b[1;31mTypeError\u001b[0m                                 Traceback (most recent call last)",
      "Cell \u001b[1;32mIn[13], line 2\u001b[0m\n\u001b[0;32m      1\u001b[0m age \u001b[38;5;241m=\u001b[39m \u001b[38;5;124m'\u001b[39m\u001b[38;5;124m34\u001b[39m\u001b[38;5;124m'\u001b[39m   \u001b[38;5;66;03m# number in quotation mark refered as string\u001b[39;00m\n\u001b[1;32m----> 2\u001b[0m y \u001b[38;5;241m=\u001b[39m age \u001b[38;5;241m/\u001b[39m \u001b[38;5;241m2\u001b[39m\n\u001b[0;32m      3\u001b[0m \u001b[38;5;28mprint\u001b[39m(y)\n",
      "\u001b[1;31mTypeError\u001b[0m: unsupported operand type(s) for /: 'str' and 'int'"
     ]
    }
   ],
   "source": [
    "age = '34'   # number in quotation mark refered as string\n",
    "y = age / 2\n",
    "print(y)"
   ]
  },
  {
   "cell_type": "code",
   "execution_count": 14,
   "id": "52c58d9c",
   "metadata": {},
   "outputs": [
    {
     "ename": "SyntaxError",
     "evalue": "invalid decimal literal (612609954.py, line 1)",
     "output_type": "error",
     "traceback": [
      "\u001b[1;36m  Cell \u001b[1;32mIn[14], line 1\u001b[1;36m\u001b[0m\n\u001b[1;33m    5th_number = 67 # variable naming not start with number\u001b[0m\n\u001b[1;37m    ^\u001b[0m\n\u001b[1;31mSyntaxError\u001b[0m\u001b[1;31m:\u001b[0m invalid decimal literal\n"
     ]
    }
   ],
   "source": [
    "5th_number = 67 # variable naming not start with number\n",
    "print(5th_number)"
   ]
  },
  {
   "cell_type": "code",
   "execution_count": 15,
   "id": "85817688",
   "metadata": {},
   "outputs": [
    {
     "name": "stdout",
     "output_type": "stream",
     "text": [
      "67\n"
     ]
    }
   ],
   "source": [
    "number_of_5th = 67\n",
    "print(number_of_5th)"
   ]
  },
  {
   "cell_type": "markdown",
   "id": "a7423cfa",
   "metadata": {},
   "source": [
    "# Math expressions: Familiar operators"
   ]
  },
  {
   "cell_type": "code",
   "execution_count": 11,
   "id": "701880ae",
   "metadata": {},
   "outputs": [
    {
     "name": "stdout",
     "output_type": "stream",
     "text": [
      "15 20 28 5 5.0\n"
     ]
    }
   ],
   "source": [
    "x = 10 + 5\n",
    "y = 80 - 60\n",
    "z = 7 * 4\n",
    "a = 25 // 5\n",
    "c = 25 / 5\n",
    "\n",
    "print(x,y,z,a,c)\n"
   ]
  },
  {
   "cell_type": "markdown",
   "id": "b3cb6815",
   "metadata": {},
   "source": [
    "# Unfamiliar operators"
   ]
  },
  {
   "cell_type": "code",
   "execution_count": 19,
   "id": "4bf803c0",
   "metadata": {},
   "outputs": [
    {
     "name": "stdout",
     "output_type": "stream",
     "text": [
      "2\n"
     ]
    }
   ],
   "source": [
    "what_left_over = 90 % 8  # % is called modulo operator\n",
    "print(what_left_over)"
   ]
  },
  {
   "cell_type": "code",
   "execution_count": 20,
   "id": "7b89b98f",
   "metadata": {},
   "outputs": [
    {
     "data": {
      "text/plain": [
       "0"
      ]
     },
     "execution_count": 20,
     "metadata": {},
     "output_type": "execute_result"
    }
   ],
   "source": [
    "left = 50 % 5\n",
    "left"
   ]
  },
  {
   "cell_type": "code",
   "execution_count": 21,
   "id": "7391113b",
   "metadata": {},
   "outputs": [
    {
     "data": {
      "text/plain": [
       "82"
      ]
     },
     "execution_count": 21,
     "metadata": {},
     "output_type": "execute_result"
    }
   ],
   "source": [
    "weight = 80\n",
    "weight = weight + 2\n",
    "weight"
   ]
  },
  {
   "cell_type": "code",
   "execution_count": 24,
   "id": "3d831f99",
   "metadata": {},
   "outputs": [],
   "source": [
    "weight += 9"
   ]
  },
  {
   "cell_type": "code",
   "execution_count": 25,
   "id": "8b57cfb5",
   "metadata": {},
   "outputs": [
    {
     "data": {
      "text/plain": [
       "92"
      ]
     },
     "execution_count": 25,
     "metadata": {},
     "output_type": "execute_result"
    }
   ],
   "source": [
    "weight"
   ]
  },
  {
   "cell_type": "code",
   "execution_count": 26,
   "id": "4559c0fc",
   "metadata": {},
   "outputs": [
    {
     "data": {
      "text/plain": [
       "87"
      ]
     },
     "execution_count": 26,
     "metadata": {},
     "output_type": "execute_result"
    }
   ],
   "source": [
    "weight -= 5\n",
    "weight"
   ]
  },
  {
   "cell_type": "code",
   "execution_count": 27,
   "id": "6c0989f5",
   "metadata": {},
   "outputs": [
    {
     "data": {
      "text/plain": [
       "174"
      ]
     },
     "execution_count": 27,
     "metadata": {},
     "output_type": "execute_result"
    }
   ],
   "source": [
    "weight *= 2\n",
    "weight"
   ]
  },
  {
   "cell_type": "code",
   "execution_count": 28,
   "id": "d141dcbf",
   "metadata": {},
   "outputs": [
    {
     "data": {
      "text/plain": [
       "87.0"
      ]
     },
     "execution_count": 28,
     "metadata": {},
     "output_type": "execute_result"
    }
   ],
   "source": [
    "weight /= 2\n",
    "weight"
   ]
  },
  {
   "cell_type": "markdown",
   "id": "b810f29d",
   "metadata": {},
   "source": [
    "# Eliminating ambiguity"
   ]
  },
  {
   "cell_type": "code",
   "execution_count": 29,
   "id": "6bec3460",
   "metadata": {},
   "outputs": [
    {
     "data": {
      "text/plain": [
       "13"
      ]
     },
     "execution_count": 29,
     "metadata": {},
     "output_type": "execute_result"
    }
   ],
   "source": [
    "total = 1 + 3 * 4\n",
    "total"
   ]
  },
  {
   "cell_type": "code",
   "execution_count": 30,
   "id": "c2b0b083",
   "metadata": {},
   "outputs": [
    {
     "data": {
      "text/plain": [
       "16"
      ]
     },
     "execution_count": 30,
     "metadata": {},
     "output_type": "execute_result"
    }
   ],
   "source": [
    "total = (1 + 3) * 4\n",
    "total"
   ]
  },
  {
   "cell_type": "code",
   "execution_count": 31,
   "id": "cd4175e3",
   "metadata": {},
   "outputs": [
    {
     "data": {
      "text/plain": [
       "13"
      ]
     },
     "execution_count": 31,
     "metadata": {},
     "output_type": "execute_result"
    }
   ],
   "source": [
    "total = 1 + ( 3 * 4 )\n",
    "total"
   ]
  },
  {
   "cell_type": "code",
   "execution_count": 32,
   "id": "78c3d083",
   "metadata": {},
   "outputs": [
    {
     "data": {
      "text/plain": [
       "34"
      ]
     },
     "execution_count": 32,
     "metadata": {},
     "output_type": "execute_result"
    }
   ],
   "source": [
    "total = (2 * 4 ) * 4 + 2\n",
    "total"
   ]
  },
  {
   "cell_type": "code",
   "execution_count": 33,
   "id": "b132cc5c",
   "metadata": {},
   "outputs": [
    {
     "data": {
      "text/plain": [
       "34"
      ]
     },
     "execution_count": 33,
     "metadata": {},
     "output_type": "execute_result"
    }
   ],
   "source": [
    "total = ((2 * 4) * 4 ) + 2\n",
    "total"
   ]
  },
  {
   "cell_type": "code",
   "execution_count": 34,
   "id": "12284235",
   "metadata": {},
   "outputs": [
    {
     "data": {
      "text/plain": [
       "48"
      ]
     },
     "execution_count": 34,
     "metadata": {},
     "output_type": "execute_result"
    }
   ],
   "source": [
    "total = (2 * 4) * ( 4 + 2 )\n",
    "total"
   ]
  },
  {
   "cell_type": "markdown",
   "id": "b2aaac0f",
   "metadata": {},
   "source": [
    "# Concatenating text strings"
   ]
  },
  {
   "cell_type": "code",
   "execution_count": 36,
   "id": "fee60fbf",
   "metadata": {},
   "outputs": [
    {
     "data": {
      "text/plain": [
       "'Rozina Razzak'"
      ]
     },
     "execution_count": 36,
     "metadata": {},
     "output_type": "execute_result"
    }
   ],
   "source": [
    "first_name = 'Rozina'\n",
    "last_name = 'Razzak'\n",
    "full_name = first_name + ' ' + last_name\n",
    "full_name"
   ]
  },
  {
   "cell_type": "code",
   "execution_count": 39,
   "id": "a517a805",
   "metadata": {},
   "outputs": [
    {
     "data": {
      "text/plain": [
       "'Life is a gift'"
      ]
     },
     "execution_count": 39,
     "metadata": {},
     "output_type": "execute_result"
    }
   ],
   "source": [
    "life_quote = 'Life '  + 'is' + ' a ' + 'gift'\n",
    "life_quote"
   ]
  },
  {
   "cell_type": "markdown",
   "id": "107d3c41",
   "metadata": {},
   "source": [
    "if statements"
   ]
  },
  {
   "cell_type": "code",
   "execution_count": 40,
   "id": "9f5e5c2d",
   "metadata": {},
   "outputs": [
    {
     "name": "stdout",
     "output_type": "stream",
     "text": [
      "yes\n"
     ]
    }
   ],
   "source": [
    "if first_name == 'Rozina':\n",
    "    print('yes')"
   ]
  },
  {
   "cell_type": "code",
   "execution_count": 41,
   "id": "3f4c4b56",
   "metadata": {},
   "outputs": [
    {
     "name": "stdout",
     "output_type": "stream",
     "text": [
      "right\n"
     ]
    }
   ],
   "source": [
    "if 5 + 5 == 10:\n",
    "    print('right')"
   ]
  },
  {
   "cell_type": "code",
   "execution_count": 51,
   "id": "f871a2e9",
   "metadata": {},
   "outputs": [
    {
     "name": "stdout",
     "output_type": "stream",
     "text": [
      "class is full \n"
     ]
    }
   ],
   "source": [
    "if number_of_students == '45':\n",
    "    print('class is full ')"
   ]
  },
  {
   "cell_type": "code",
   "execution_count": 48,
   "id": "aba6657a",
   "metadata": {},
   "outputs": [],
   "source": [
    "number_of_students = '34'"
   ]
  },
  {
   "cell_type": "code",
   "execution_count": 50,
   "id": "5d316317",
   "metadata": {},
   "outputs": [],
   "source": [
    "number_of_students = '45'"
   ]
  },
  {
   "cell_type": "markdown",
   "id": "4ba95149",
   "metadata": {},
   "source": [
    "# Comparison operator"
   ]
  },
  {
   "cell_type": "raw",
   "id": "fd5797b9",
   "metadata": {},
   "source": [
    "# == , equality operator\n",
    "# == , not equal operator can be used to compare numbers,strings,variables,math expression and combinations\n",
    "# == , string comparisons using the not-equal operator are case-sensitive\n",
    "# != , is opposite of == or not equal to"
   ]
  },
  {
   "cell_type": "code",
   "execution_count": null,
   "id": "65736178",
   "metadata": {},
   "outputs": [],
   "source": [
    "if full_name == 'Rozina' + ' ' + 'Razzak':\n",
    "if full_name == first_name + ' ' + 'Razzak':\n",
    "if full_name == first_name + ' ' + 'last_name':\n",
    "if total == 3000 + 200:\n",
    "if total == product_cost + 200:    \n",
    "if total == product_cost + delivery_cost:\n",
    "if x + y == a - b:    "
   ]
  },
  {
   "cell_type": "code",
   "execution_count": 54,
   "id": "7d9c0f77",
   "metadata": {},
   "outputs": [
    {
     "name": "stdout",
     "output_type": "stream",
     "text": [
      "Better luck next time\n"
     ]
    }
   ],
   "source": [
    "ticket_number = 8520\n",
    "if ticket_number != 61914:\n",
    "    print('Better luck next time')"
   ]
  },
  {
   "cell_type": "code",
   "execution_count": 56,
   "id": "757ace97",
   "metadata": {},
   "outputs": [
    {
     "name": "stdout",
     "output_type": "stream",
     "text": [
      "greater than\n",
      "less than\n",
      "greater than or equal to\n",
      "greater than or equal to\n",
      "less than or equal to\n",
      "less than or equal to\n"
     ]
    }
   ],
   "source": [
    "if 1 > 0:\n",
    "    print('greater than')\n",
    "    if 0 < 1:\n",
    "        print('less than')\n",
    "        if 1 >= 0:\n",
    "            print('greater than or equal to')\n",
    "            if 1 <= 1:\n",
    "                print('greater than or equal to')\n",
    "                if 0 <= 1:\n",
    "                    print('less than or equal to')\n",
    "                    if 1 <= 1:\n",
    "                        print('less than or equal to')\n",
    "            "
   ]
  },
  {
   "cell_type": "markdown",
   "id": "447fa20b",
   "metadata": {},
   "source": [
    "# else and elif statements"
   ]
  },
  {
   "cell_type": "raw",
   "id": "520abb67",
   "metadata": {},
   "source": [
    "# if statement used to test condition true or false \n",
    "# else statement used if statement test fail \n",
    "# elif statement (short of if and else) if no test has been successful yet , an elif tries something else"
   ]
  },
  {
   "cell_type": "code",
   "execution_count": 6,
   "id": "44a375f3",
   "metadata": {},
   "outputs": [
    {
     "name": "stdout",
     "output_type": "stream",
     "text": [
      "no order\n"
     ]
    }
   ],
   "source": [
    "if pizza_size == 'large':\n",
    "    print('order it')\n",
    "elif pizza_flavor == 'creamy tikka':            #  elif execute only when first test fail\n",
    "    print('order 2 pizza')\n",
    "else:\n",
    "    print('no order')"
   ]
  },
  {
   "cell_type": "code",
   "execution_count": 5,
   "id": "2d2012fd",
   "metadata": {},
   "outputs": [],
   "source": [
    "pizza_size = 'medium'\n",
    "pizza_flavor = 'tikka'"
   ]
  },
  {
   "cell_type": "code",
   "execution_count": 18,
   "id": "b78d4fc5",
   "metadata": {},
   "outputs": [],
   "source": [
    "price = 0\n",
    "if shoes_color == 'brown':\n",
    "    price += 15\n",
    "if shoes_size == '36':\n",
    "    price += 20\n",
    "if shoes_texture == 'smooth':\n",
    "    price += 25\n"
   ]
  },
  {
   "cell_type": "code",
   "execution_count": 19,
   "id": "84fe59ec",
   "metadata": {},
   "outputs": [],
   "source": [
    "shoes_color = 'black'\n",
    "shoes_size = '3'\n",
    "shoes_texture = 'smooth'"
   ]
  },
  {
   "cell_type": "code",
   "execution_count": 20,
   "id": "85e6d088",
   "metadata": {},
   "outputs": [
    {
     "name": "stdout",
     "output_type": "stream",
     "text": [
      "25\n"
     ]
    }
   ],
   "source": [
    "print(price)"
   ]
  },
  {
   "cell_type": "markdown",
   "id": "0deb2151",
   "metadata": {},
   "source": [
    "# Testing sets of conditions"
   ]
  },
  {
   "cell_type": "raw",
   "id": "d5685c02",
   "metadata": {},
   "source": [
    "# and keyword used to test all conditions compulsorary\n",
    "# or keyword used to test either one of condition to be true "
   ]
  },
  {
   "cell_type": "code",
   "execution_count": 26,
   "id": "7e1f85dd",
   "metadata": {},
   "outputs": [],
   "source": [
    "mass = 99\n",
    "volume = 100"
   ]
  },
  {
   "cell_type": "code",
   "execution_count": 27,
   "id": "6fc7167c",
   "metadata": {},
   "outputs": [],
   "source": [
    "if mass > 69 and volume < 50:\n",
    "    print('positive answer')"
   ]
  },
  {
   "cell_type": "code",
   "execution_count": 32,
   "id": "18a432cd",
   "metadata": {},
   "outputs": [
    {
     "name": "stdout",
     "output_type": "stream",
     "text": [
      "correct\n"
     ]
    }
   ],
   "source": [
    "if x < 20 and y > 30 and a >= 10 and b == 96:\n",
    "    print('correct')"
   ]
  },
  {
   "cell_type": "code",
   "execution_count": 48,
   "id": "a099aff0",
   "metadata": {},
   "outputs": [],
   "source": [
    "x = 13\n",
    "y = 54\n",
    "a = 15\n",
    "b = 20\n",
    "v = 45\n",
    "w = 50"
   ]
  },
  {
   "cell_type": "code",
   "execution_count": 49,
   "id": "17093463",
   "metadata": {},
   "outputs": [
    {
     "name": "stdout",
     "output_type": "stream",
     "text": [
      "correct\n"
     ]
    }
   ],
   "source": [
    "if x < 20 or y > 30 or a >= 10  or b == 96:\n",
    "    print('correct')"
   ]
  },
  {
   "cell_type": "code",
   "execution_count": 50,
   "id": "c72814a9",
   "metadata": {},
   "outputs": [],
   "source": [
    "if x > 20 or x < 30 and b == 60:\n",
    "    print('true')"
   ]
  },
  {
   "cell_type": "code",
   "execution_count": 51,
   "id": "921e8dd8",
   "metadata": {},
   "outputs": [
    {
     "name": "stdout",
     "output_type": "stream",
     "text": [
      "king\n"
     ]
    }
   ],
   "source": [
    "if (v > 13 or v < 30 ) and w == 50:\n",
    "    print('king')"
   ]
  },
  {
   "cell_type": "markdown",
   "id": "34c565c8",
   "metadata": {},
   "source": [
    "# if statements nested"
   ]
  },
  {
   "cell_type": "code",
   "execution_count": 63,
   "id": "10f6b6c6",
   "metadata": {},
   "outputs": [],
   "source": [
    "if (x == y or a == c) and b == d:\n",
    "    f = h\n",
    "else:\n",
    "    i = j"
   ]
  },
  {
   "cell_type": "code",
   "execution_count": 62,
   "id": "5c30537e",
   "metadata": {},
   "outputs": [],
   "source": [
    "x,y,a,c,b,d,f,h,i,j = 3,3,5,3,3,3,3,3,6,3"
   ]
  },
  {
   "cell_type": "code",
   "execution_count": 64,
   "id": "e2f4b4fd",
   "metadata": {},
   "outputs": [],
   "source": [
    "if b == d:              # prefer to use the more concise structure using 'and' and 'or'\n",
    "    if x == y:          # nested ifs used when things get really complicated\n",
    "        f = h\n",
    "    elif a == c:\n",
    "        f = h\n",
    "    else:\n",
    "        i = j\n",
    "else:\n",
    "    i = j"
   ]
  },
  {
   "cell_type": "markdown",
   "id": "adcfefa6",
   "metadata": {},
   "source": [
    "# Comments"
   ]
  },
  {
   "cell_type": "code",
   "execution_count": 65,
   "id": "d6c95839",
   "metadata": {},
   "outputs": [
    {
     "name": "stdout",
     "output_type": "stream",
     "text": [
      "love you life\n",
      "38\n"
     ]
    }
   ],
   "source": [
    "# Comments are lines of text in your code that python ignores\n",
    "# comment start with \"#\" and '3 single quotation mark'\n",
    "print('love you life')\n",
    "print(30 + 8)"
   ]
  },
  {
   "cell_type": "markdown",
   "id": "733c4a27",
   "metadata": {},
   "source": [
    "# List"
   ]
  },
  {
   "cell_type": "raw",
   "id": "ba0ba8c8",
   "metadata": {},
   "source": [
    "# list is a type of variable \n",
    "# list is a variable that can have sequence of values and this value called elements\n",
    "# list begins with equal sign and when you are defining list eclosed the value in square brackets\n",
    "# list value assign with index number starts with 0"
   ]
  },
  {
   "cell_type": "code",
   "execution_count": 69,
   "id": "040ebe69",
   "metadata": {},
   "outputs": [],
   "source": [
    "cities = ['Karachi','Islamabad','Rawalpindi']\n",
    "prime_numbers = [1,2,3,5,7,11,13]\n",
    "any_characters = ['joy',78,\"tree\",\"$\",\"!\"]"
   ]
  },
  {
   "cell_type": "code",
   "execution_count": 73,
   "id": "1f68156c",
   "metadata": {},
   "outputs": [
    {
     "name": "stdout",
     "output_type": "stream",
     "text": [
      "Karachi is the biggest city of Pakistan\n"
     ]
    }
   ],
   "source": [
    "print(cities[0] + ' is the biggest city of Pakistan')"
   ]
  },
  {
   "cell_type": "code",
   "execution_count": 74,
   "id": "4b73a68e",
   "metadata": {},
   "outputs": [
    {
     "data": {
      "text/plain": [
       "7"
      ]
     },
     "execution_count": 74,
     "metadata": {},
     "output_type": "execute_result"
    }
   ],
   "source": [
    "prime_number[4]"
   ]
  },
  {
   "cell_type": "markdown",
   "id": "9e604be2",
   "metadata": {},
   "source": [
    "# Lists : Adding and changing elements"
   ]
  },
  {
   "cell_type": "code",
   "execution_count": 85,
   "id": "1cd30be7",
   "metadata": {},
   "outputs": [],
   "source": [
    "countries = ['Azerbijan','Belgium','France']"
   ]
  },
  {
   "cell_type": "code",
   "execution_count": 86,
   "id": "57364857",
   "metadata": {},
   "outputs": [
    {
     "data": {
      "text/plain": [
       "['Azerbijan', 'Belgium', 'France', 'Mexico']"
      ]
     },
     "execution_count": 86,
     "metadata": {},
     "output_type": "execute_result"
    }
   ],
   "source": [
    "countries.append('Mexico')      # append add element in the end of list\n",
    "countries"
   ]
  },
  {
   "cell_type": "code",
   "execution_count": 87,
   "id": "766970b5",
   "metadata": {},
   "outputs": [
    {
     "data": {
      "text/plain": [
       "['Azerbijan', 'Belgium', 'New york', 'France', 'Mexico']"
      ]
     },
     "execution_count": 87,
     "metadata": {},
     "output_type": "execute_result"
    }
   ],
   "source": [
    "countries.insert( 2,'New york')   # insert add element in list with given index number\n",
    "countries"
   ]
  },
  {
   "cell_type": "code",
   "execution_count": 88,
   "id": "2cf571d2",
   "metadata": {},
   "outputs": [
    {
     "data": {
      "text/plain": [
       "['China', 'Belgium', 'New york', 'France', 'Mexico']"
      ]
     },
     "execution_count": 88,
     "metadata": {},
     "output_type": "execute_result"
    }
   ],
   "source": [
    "countries[0] = 'China'\n",
    "countries"
   ]
  },
  {
   "cell_type": "markdown",
   "id": "2d4edfac",
   "metadata": {},
   "source": [
    "# Lists: Taking slices out of them"
   ]
  },
  {
   "cell_type": "code",
   "execution_count": 89,
   "id": "d508d13f",
   "metadata": {},
   "outputs": [],
   "source": [
    "flowers = ['rose','lilly','tulip','sunflower']\n",
    "days_of_week = ['Monday','Tuesday','Wednesday','Thursday','Friday','Saturday','Sunday']"
   ]
  },
  {
   "cell_type": "code",
   "execution_count": 92,
   "id": "b19da10d",
   "metadata": {},
   "outputs": [
    {
     "data": {
      "text/plain": [
       "0"
      ]
     },
     "execution_count": 92,
     "metadata": {},
     "output_type": "execute_result"
    }
   ],
   "source": [
    "flowers.index(\"rose\")"
   ]
  },
  {
   "cell_type": "code",
   "execution_count": 93,
   "id": "50258266",
   "metadata": {},
   "outputs": [
    {
     "data": {
      "text/plain": [
       "4"
      ]
     },
     "execution_count": 93,
     "metadata": {},
     "output_type": "execute_result"
    }
   ],
   "source": [
    "len(flowers)"
   ]
  },
  {
   "cell_type": "code",
   "execution_count": 94,
   "id": "9eefeb27",
   "metadata": {},
   "outputs": [
    {
     "data": {
      "text/plain": [
       "['tulip']"
      ]
     },
     "execution_count": 94,
     "metadata": {},
     "output_type": "execute_result"
    }
   ],
   "source": [
    "flowers[2:3]"
   ]
  },
  {
   "cell_type": "code",
   "execution_count": 96,
   "id": "40b213e5",
   "metadata": {},
   "outputs": [
    {
     "data": {
      "text/plain": [
       "['rose', 'lilly', 'tulip']"
      ]
     },
     "execution_count": 96,
     "metadata": {},
     "output_type": "execute_result"
    }
   ],
   "source": [
    "flowers[:3]"
   ]
  },
  {
   "cell_type": "code",
   "execution_count": 98,
   "id": "1f1c8464",
   "metadata": {},
   "outputs": [
    {
     "data": {
      "text/plain": [
       "['tulip', 'sunflower']"
      ]
     },
     "execution_count": 98,
     "metadata": {},
     "output_type": "execute_result"
    }
   ],
   "source": [
    "flowers[2:]"
   ]
  },
  {
   "cell_type": "code",
   "execution_count": 99,
   "id": "3fe725d7",
   "metadata": {},
   "outputs": [
    {
     "data": {
      "text/plain": [
       "['Wednesday', 'Thursday', 'Friday']"
      ]
     },
     "execution_count": 99,
     "metadata": {},
     "output_type": "execute_result"
    }
   ],
   "source": [
    "days_of_week[2:5]"
   ]
  },
  {
   "cell_type": "code",
   "execution_count": 100,
   "id": "0574f62e",
   "metadata": {},
   "outputs": [
    {
     "data": {
      "text/plain": [
       "['Thursday', 'Friday', 'Saturday', 'Sunday']"
      ]
     },
     "execution_count": 100,
     "metadata": {},
     "output_type": "execute_result"
    }
   ],
   "source": [
    "days_of_week[3:]"
   ]
  },
  {
   "cell_type": "markdown",
   "id": "0b110cd7",
   "metadata": {},
   "source": [
    "# Lists: Deleting and removing elements"
   ]
  },
  {
   "cell_type": "code",
   "execution_count": 101,
   "id": "45c1ea86",
   "metadata": {},
   "outputs": [
    {
     "data": {
      "text/plain": [
       "['Monday', 'Tuesday', 'Wednesday', 'Thursday', 'Friday', 'Saturday', 'Sunday']"
      ]
     },
     "execution_count": 101,
     "metadata": {},
     "output_type": "execute_result"
    }
   ],
   "source": [
    "days_of_week"
   ]
  },
  {
   "cell_type": "code",
   "execution_count": 102,
   "id": "a476b50c",
   "metadata": {},
   "outputs": [
    {
     "data": {
      "text/plain": [
       "['Monday', 'Tuesday', 'Wednesday', 'Friday', 'Saturday', 'Sunday']"
      ]
     },
     "execution_count": 102,
     "metadata": {},
     "output_type": "execute_result"
    }
   ],
   "source": [
    "del days_of_week[3]     # del and remove completely delete the element from list\n",
    "days_of_week"
   ]
  },
  {
   "cell_type": "code",
   "execution_count": 104,
   "id": "d6f98a74",
   "metadata": {},
   "outputs": [],
   "source": [
    "del days_of_week[5]"
   ]
  },
  {
   "cell_type": "code",
   "execution_count": 105,
   "id": "d96ed714",
   "metadata": {},
   "outputs": [
    {
     "data": {
      "text/plain": [
       "['Monday', 'Tuesday', 'Wednesday', 'Friday', 'Saturday']"
      ]
     },
     "execution_count": 105,
     "metadata": {},
     "output_type": "execute_result"
    }
   ],
   "source": [
    "days_of_week"
   ]
  },
  {
   "cell_type": "code",
   "execution_count": 106,
   "id": "46857a37",
   "metadata": {},
   "outputs": [
    {
     "data": {
      "text/plain": [
       "['Monday', 'Wednesday', 'Friday', 'Saturday']"
      ]
     },
     "execution_count": 106,
     "metadata": {},
     "output_type": "execute_result"
    }
   ],
   "source": [
    "days_of_week.remove('Tuesday')\n",
    "days_of_week"
   ]
  },
  {
   "cell_type": "code",
   "execution_count": 107,
   "id": "dffcc79f",
   "metadata": {},
   "outputs": [
    {
     "data": {
      "text/plain": [
       "['Wednesday', 'Friday', 'Saturday']"
      ]
     },
     "execution_count": 107,
     "metadata": {},
     "output_type": "execute_result"
    }
   ],
   "source": [
    "days_of_week.remove('Monday')\n",
    "days_of_week"
   ]
  },
  {
   "cell_type": "markdown",
   "id": "edb4520f",
   "metadata": {},
   "source": [
    "# Lists: popping elements"
   ]
  },
  {
   "cell_type": "code",
   "execution_count": 16,
   "id": "db8359ec",
   "metadata": {},
   "outputs": [
    {
     "data": {
      "text/plain": [
       "['eat', 'drink', 'wash', 'look', 'smelling']"
      ]
     },
     "execution_count": 16,
     "metadata": {},
     "output_type": "execute_result"
    }
   ],
   "source": [
    "verb = ['eat','drink','wash','look','smelling']\n",
    "verb"
   ]
  },
  {
   "cell_type": "code",
   "execution_count": 17,
   "id": "87b0dadf",
   "metadata": {},
   "outputs": [
    {
     "data": {
      "text/plain": [
       "'smelling'"
      ]
     },
     "execution_count": 17,
     "metadata": {},
     "output_type": "execute_result"
    }
   ],
   "source": [
    "verb.pop()"
   ]
  },
  {
   "cell_type": "code",
   "execution_count": 18,
   "id": "6e5e96a0",
   "metadata": {},
   "outputs": [
    {
     "data": {
      "text/plain": [
       "['eat', 'drink', 'wash', 'look']"
      ]
     },
     "execution_count": 18,
     "metadata": {},
     "output_type": "execute_result"
    }
   ],
   "source": [
    "verb"
   ]
  },
  {
   "cell_type": "code",
   "execution_count": 22,
   "id": "f3e444df",
   "metadata": {},
   "outputs": [],
   "source": [
    "gh = []\n",
    "gh.append(verb.pop(1))"
   ]
  },
  {
   "cell_type": "code",
   "execution_count": 23,
   "id": "a630aab8",
   "metadata": {},
   "outputs": [
    {
     "name": "stdout",
     "output_type": "stream",
     "text": [
      "['wash']\n"
     ]
    }
   ],
   "source": [
    "print(gh)"
   ]
  },
  {
   "cell_type": "code",
   "execution_count": 24,
   "id": "e69fd6d0",
   "metadata": {},
   "outputs": [],
   "source": [
    "gh.insert(0,(verb.pop()))"
   ]
  },
  {
   "cell_type": "code",
   "execution_count": 25,
   "id": "c43cd48a",
   "metadata": {},
   "outputs": [
    {
     "data": {
      "text/plain": [
       "['look', 'wash']"
      ]
     },
     "execution_count": 25,
     "metadata": {},
     "output_type": "execute_result"
    }
   ],
   "source": [
    "gh"
   ]
  },
  {
   "cell_type": "markdown",
   "id": "6cd3536f",
   "metadata": {},
   "source": [
    "# Tuples"
   ]
  },
  {
   "cell_type": "raw",
   "id": "92ecd476",
   "metadata": {},
   "source": [
    "# elements are fixed\n",
    "# immutable"
   ]
  },
  {
   "cell_type": "code",
   "execution_count": 3,
   "id": "a3f96224",
   "metadata": {},
   "outputs": [],
   "source": [
    "adj = ('good','bad','intelligent',25,78,'best')"
   ]
  },
  {
   "cell_type": "code",
   "execution_count": 1,
   "id": "8311fb57",
   "metadata": {},
   "outputs": [
    {
     "name": "stdout",
     "output_type": "stream",
     "text": [
      "('Rozina',)\n"
     ]
    }
   ],
   "source": [
    "n = ('Rozina',)\n",
    "b = ('joe',\"hope\",'687689')\n",
    "print(n)"
   ]
  },
  {
   "cell_type": "markdown",
   "id": "e29772dc",
   "metadata": {},
   "source": [
    "# for loop"
   ]
  },
  {
   "cell_type": "raw",
   "id": "be4d6aeb",
   "metadata": {
    "scrolled": true
   },
   "source": [
    "# for loop is used to check thne given element is present in assigning variable\n",
    "# for keyword used to check the value through the loop\n"
   ]
  },
  {
   "cell_type": "code",
   "execution_count": 12,
   "id": "e86f3052",
   "metadata": {},
   "outputs": [
    {
     "name": "stdout",
     "output_type": "stream",
     "text": [
      "yes,it is present\n"
     ]
    }
   ],
   "source": [
    "adj = ('good','bad','intelligent',25,78,'best')\n",
    "for x  in adj:\n",
    "    if y == x:\n",
    "        print('yes,it is present')"
   ]
  },
  {
   "cell_type": "code",
   "execution_count": 11,
   "id": "1cabf7de",
   "metadata": {},
   "outputs": [],
   "source": [
    "y = 'good'"
   ]
  },
  {
   "cell_type": "code",
   "execution_count": 14,
   "id": "0088855e",
   "metadata": {},
   "outputs": [
    {
     "name": "stdout",
     "output_type": "stream",
     "text": [
      "no\n",
      "no\n",
      "no\n",
      "no\n",
      "yes\n",
      "no\n"
     ]
    }
   ],
   "source": [
    "b = [25,36,24,24,10,14]\n",
    "c = 10\n",
    "for v in b:\n",
    "    if c == v:\n",
    "        print(\"yes\")\n",
    "    if c != v:\n",
    "        print('no')\n",
    "    "
   ]
  },
  {
   "cell_type": "markdown",
   "id": "a7a2f5b9",
   "metadata": {},
   "source": [
    "# for loop nested"
   ]
  },
  {
   "cell_type": "raw",
   "id": "bcf3a357",
   "metadata": {},
   "source": [
    "# contains inner and outer loop"
   ]
  },
  {
   "cell_type": "code",
   "execution_count": 16,
   "id": "26450300",
   "metadata": {},
   "outputs": [],
   "source": [
    "fruits = ['Apple','Banana','Grapes','Orange']\n",
    "prices = ['Rs 300','Rs 80','Rs 400','Rs 350']\n",
    "fruit_with_price = []\n",
    "for fruit in fruits:\n",
    "    for price in prices:\n",
    "        fruit_with_price.append(fruit + ' ' + price)"
   ]
  },
  {
   "cell_type": "code",
   "execution_count": 17,
   "id": "46ba1b53",
   "metadata": {},
   "outputs": [
    {
     "data": {
      "text/plain": [
       "['Apple Rs 300',\n",
       " 'Apple Rs 80',\n",
       " 'Apple Rs 400',\n",
       " 'Apple Rs 350',\n",
       " 'Banana Rs 300',\n",
       " 'Banana Rs 80',\n",
       " 'Banana Rs 400',\n",
       " 'Banana Rs 350',\n",
       " 'Grapes Rs 300',\n",
       " 'Grapes Rs 80',\n",
       " 'Grapes Rs 400',\n",
       " 'Grapes Rs 350',\n",
       " 'Orange Rs 300',\n",
       " 'Orange Rs 80',\n",
       " 'Orange Rs 400',\n",
       " 'Orange Rs 350']"
      ]
     },
     "execution_count": 17,
     "metadata": {},
     "output_type": "execute_result"
    }
   ],
   "source": [
    "fruit_with_price"
   ]
  },
  {
   "cell_type": "markdown",
   "id": "2066d821",
   "metadata": {},
   "source": [
    "# getting information from the user and converting strings and numbers "
   ]
  },
  {
   "cell_type": "code",
   "execution_count": 22,
   "id": "a8081d51",
   "metadata": {},
   "outputs": [
    {
     "name": "stdout",
     "output_type": "stream",
     "text": [
      "enter the number:60\n",
      "60 150\n"
     ]
    }
   ],
   "source": [
    "c = input('enter the number:')\n",
    "c = int(c)\n",
    "d = 90 + c\n",
    "print(c, d)"
   ]
  },
  {
   "cell_type": "code",
   "execution_count": 24,
   "id": "13551c6d",
   "metadata": {},
   "outputs": [
    {
     "name": "stdout",
     "output_type": "stream",
     "text": [
      "60 150.0 7.5\n"
     ]
    }
   ],
   "source": [
    "d = float(d)\n",
    "e = d / 20\n",
    "print(c,d,e)"
   ]
  },
  {
   "cell_type": "markdown",
   "id": "ccccba4a",
   "metadata": {},
   "source": [
    "# changing case"
   ]
  },
  {
   "cell_type": "raw",
   "id": "6acd5336",
   "metadata": {},
   "source": [
    "# used to converts user input into lower,upper and title case"
   ]
  },
  {
   "cell_type": "code",
   "execution_count": 35,
   "id": "946bd4d7",
   "metadata": {},
   "outputs": [
    {
     "name": "stdout",
     "output_type": "stream",
     "text": [
      "enter the name:pot\n",
      "we have dog in animal list .\n",
      "we have Cat in animal list .\n",
      "we have ZEBRA in animal list .\n"
     ]
    }
   ],
   "source": [
    "animals = ['dog','Cat',\"ZEBRA\"]\n",
    "animal_to_check = input('enter the name:')\n",
    "#animal_to_check = animal_to_check.title()\n",
    "for animal_to_check in animals:\n",
    "        print('we have ' + animal_to_check + ' in animal list .')\n"
   ]
  },
  {
   "cell_type": "code",
   "execution_count": 37,
   "id": "c7fa0e4b",
   "metadata": {},
   "outputs": [
    {
     "name": "stdout",
     "output_type": "stream",
     "text": [
      "enter the name:zebra\n",
      "Zebra is present in the list .\n",
      "enter the name:cat\n",
      "Cat is present in the list .\n",
      "enter the name:dog\n",
      "Dog is present in the list .\n"
     ]
    }
   ],
   "source": [
    "animals = ['dog','Cat',\"ZEBRA\"]\n",
    "for animal_to_check in animals:\n",
    "    animal_to_check = input('enter the name:')\n",
    "    animal_to_check = animal_to_check.title()\n",
    "    print(animal_to_check + ' is present in the list .')"
   ]
  },
  {
   "cell_type": "code",
   "execution_count": 46,
   "id": "96b14218",
   "metadata": {},
   "outputs": [
    {
     "name": "stdout",
     "output_type": "stream",
     "text": [
      "KING IS RUTHLESS\n",
      "king is ruthless\n",
      "King Is Ruthless\n",
      "King is ruthless\n"
     ]
    }
   ],
   "source": [
    "p = 'king is ruthless'\n",
    "print(p.upper())\n",
    "print(p.lower())\n",
    "print(p.title())\n",
    "print(p.capitalize())\n"
   ]
  },
  {
   "cell_type": "markdown",
   "id": "6f8ae095",
   "metadata": {},
   "source": [
    "# Dictionary"
   ]
  },
  {
   "cell_type": "raw",
   "id": "de637f37",
   "metadata": {},
   "source": [
    "# dictionary is a series of pairs of keys and values"
   ]
  },
  {
   "cell_type": "code",
   "execution_count": 68,
   "id": "31506050",
   "metadata": {},
   "outputs": [],
   "source": [
    "dic_1 = {'Name':'Hammad','Father_name':'Yaseen','School':'Abc sec school','Age':'15'}\n",
    "dic_2 = {0:'Rashid',1:'Babar',2:'Shaheen'}\n"
   ]
  },
  {
   "cell_type": "markdown",
   "id": "fcffb929",
   "metadata": {},
   "source": [
    "# How to pick information out of dictionary"
   ]
  },
  {
   "cell_type": "code",
   "execution_count": 69,
   "id": "1c58d07c",
   "metadata": {},
   "outputs": [
    {
     "name": "stdout",
     "output_type": "stream",
     "text": [
      "Yaseen\n",
      "15 Shaheen Hammad\n"
     ]
    }
   ],
   "source": [
    "print(dic_1['Father_name'])\n",
    "print(dic_1['Age'],dic_2[2],dic_1['Name'])"
   ]
  },
  {
   "cell_type": "code",
   "execution_count": 70,
   "id": "cfdff12c",
   "metadata": {},
   "outputs": [
    {
     "data": {
      "text/plain": [
       "'Babar'"
      ]
     },
     "execution_count": 70,
     "metadata": {},
     "output_type": "execute_result"
    }
   ],
   "source": [
    "dic_2[1]"
   ]
  },
  {
   "cell_type": "markdown",
   "id": "371a6cc8",
   "metadata": {},
   "source": [
    "# Dictionaries : The versatility of keys and values"
   ]
  },
  {
   "cell_type": "code",
   "execution_count": 71,
   "id": "de26d75f",
   "metadata": {},
   "outputs": [],
   "source": [
    "versatility = {\n",
    "    'first_number':'0',\n",
    "     12 : 'dozen',\n",
    "     'íncome': 52000,\n",
    "    60 : 258200,\n",
    "    \n",
    "    \n",
    "}"
   ]
  },
  {
   "cell_type": "markdown",
   "id": "a55723a0",
   "metadata": {},
   "source": [
    "# Dictionaries : Adding items"
   ]
  },
  {
   "cell_type": "code",
   "execution_count": 73,
   "id": "b3c4e847",
   "metadata": {},
   "outputs": [
    {
     "name": "stdout",
     "output_type": "stream",
     "text": [
      "{'Name': 'Hammad', 'Father_name': 'Yaseen', 'School': 'Abc sec school', 'Age': '15'}\n",
      "{'Name': 'Hammad', 'Father_name': 'Yaseen', 'School': 'Abc sec school', 'Age': '15', 'monthly_income': '60000'}\n"
     ]
    }
   ],
   "source": [
    "print(dic_1)\n",
    "dic_1['monthly_income'] = '60000'\n",
    "print(dic_1)"
   ]
  },
  {
   "cell_type": "code",
   "execution_count": 74,
   "id": "a64386ea",
   "metadata": {},
   "outputs": [],
   "source": [
    "dic_3 = {}\n",
    "dic_3['country'] = 'Pakistan'\n",
    "dic_3['capital'] = 'Islamabad'\n",
    "dic_3['biggest_city'] = 'Karachi'"
   ]
  },
  {
   "cell_type": "code",
   "execution_count": 75,
   "id": "41cdcc23",
   "metadata": {},
   "outputs": [
    {
     "data": {
      "text/plain": [
       "{'country': 'Pakistan', 'capital': 'Islamabad', 'biggest_city': 'Karachi'}"
      ]
     },
     "execution_count": 75,
     "metadata": {},
     "output_type": "execute_result"
    }
   ],
   "source": [
    "dic_3"
   ]
  },
  {
   "cell_type": "markdown",
   "id": "1e685492",
   "metadata": {},
   "source": [
    "# Dictionaries: Removing and changing items"
   ]
  },
  {
   "cell_type": "code",
   "execution_count": 76,
   "id": "897e589f",
   "metadata": {},
   "outputs": [
    {
     "name": "stdout",
     "output_type": "stream",
     "text": [
      "{'country': 'Pakistan', 'capital': 'Islamabad', 'biggest_city': 'Karachi'}\n",
      "{'country': 'Pakistan', 'biggest_city': 'Karachi'}\n"
     ]
    }
   ],
   "source": [
    "print(dic_3)\n",
    "del dic_3['capital']\n",
    "print(dic_3)      "
   ]
  },
  {
   "cell_type": "code",
   "execution_count": 77,
   "id": "bbfbad3d",
   "metadata": {},
   "outputs": [
    {
     "name": "stdout",
     "output_type": "stream",
     "text": [
      "{'Name': 'Hammad', 'Father_name': 'Yaseen', 'School': 'Abc sec school', 'Age': '15', 'monthly_income': '60000'}\n",
      "{'Name': 'Hammad', 'Father_name': 'Yaseen', 'School': 'Abc sec school', 'Age': '15', 'monthly_income': '90000'}\n"
     ]
    }
   ],
   "source": [
    "print(dic_1)\n",
    "dic_1['monthly_income'] = '90000'\n",
    "print(dic_1)"
   ]
  },
  {
   "cell_type": "markdown",
   "id": "ea97d50e",
   "metadata": {},
   "source": [
    "# Dictionaries: Looping through keys , values and both"
   ]
  },
  {
   "cell_type": "code",
   "execution_count": 78,
   "id": "5e97451a",
   "metadata": {},
   "outputs": [
    {
     "name": "stdout",
     "output_type": "stream",
     "text": [
      "Name\n",
      "Father_name\n",
      "School\n",
      "Age\n",
      "monthly_income\n"
     ]
    }
   ],
   "source": [
    "for x in dic_1:\n",
    "    print(x)"
   ]
  },
  {
   "cell_type": "code",
   "execution_count": 80,
   "id": "0099a100",
   "metadata": {},
   "outputs": [
    {
     "name": "stdout",
     "output_type": "stream",
     "text": [
      "country  :  Pakistan\n",
      "biggest_city  :  Karachi\n"
     ]
    }
   ],
   "source": [
    "for key,value in dic_3.items():\n",
    "    print(key,' : ',value)"
   ]
  },
  {
   "cell_type": "code",
   "execution_count": 82,
   "id": "0fdbdb72",
   "metadata": {},
   "outputs": [
    {
     "name": "stdout",
     "output_type": "stream",
     "text": [
      "Hammad\n",
      "Yaseen\n",
      "Abc sec school\n",
      "15\n",
      "90000\n"
     ]
    }
   ],
   "source": [
    "for each_value in dic_1.values():\n",
    "    print(each_value)"
   ]
  },
  {
   "cell_type": "markdown",
   "id": "b8461356",
   "metadata": {},
   "source": [
    "# Creating a list of dictinaries"
   ]
  },
  {
   "cell_type": "code",
   "execution_count": 83,
   "id": "15837f5a",
   "metadata": {},
   "outputs": [],
   "source": [
    "class_four = [\n",
    "    {\n",
    "        'student_name': 'Ali Raza',\n",
    "        'age': 8,\n",
    "        'father_name': \"M.Tahir\",\n",
    "    },\n",
    "    {\n",
    "        'student_name': 'M .Mushtaq',\n",
    "        'age': 9,\n",
    "        'father_name': \"M.Sohail\",\n",
    "    },\n",
    "    \n",
    "    {\n",
    "        'student_name': 'Mujtaba Khan',\n",
    "        'age': 10,\n",
    "        'father_name': \"M.Rizwan\",\n",
    "    },\n",
    "]"
   ]
  },
  {
   "cell_type": "markdown",
   "id": "d79ac6b0",
   "metadata": {},
   "source": [
    "# How to pick information out of a list of dictionaries"
   ]
  },
  {
   "cell_type": "code",
   "execution_count": 84,
   "id": "69812df5",
   "metadata": {},
   "outputs": [
    {
     "name": "stdout",
     "output_type": "stream",
     "text": [
      "{'student_name': 'M .Mushtaq', 'age': 9, 'father_name': 'M.Sohail'}\n"
     ]
    }
   ],
   "source": [
    "student_02 = class_four[1]\n",
    "print(student_02)"
   ]
  },
  {
   "cell_type": "code",
   "execution_count": 87,
   "id": "237e9ab5",
   "metadata": {},
   "outputs": [
    {
     "name": "stdout",
     "output_type": "stream",
     "text": [
      "8 Mujtaba Khan\n"
     ]
    }
   ],
   "source": [
    "print(class_four[0]['age'],class_four[2]['student_name'])"
   ]
  },
  {
   "cell_type": "markdown",
   "id": "b1be5ed4",
   "metadata": {},
   "source": [
    "# How to append a new dictionary to a list of dictionary"
   ]
  },
  {
   "cell_type": "code",
   "execution_count": 88,
   "id": "1975784f",
   "metadata": {},
   "outputs": [
    {
     "name": "stdout",
     "output_type": "stream",
     "text": [
      "[{'student_name': 'Ali Raza', 'age': 8, 'father_name': 'M.Tahir'}, {'student_name': 'M .Mushtaq', 'age': 9, 'father_name': 'M.Sohail'}, {'student_name': 'Mujtaba Khan', 'age': 10, 'father_name': 'M.Rizwan'}]\n",
      "[{'student_name': 'Ali Raza', 'age': 8, 'father_name': 'M.Tahir'}, {'student_name': 'M .Mushtaq', 'age': 9, 'father_name': 'M.Sohail'}, {'student_name': 'Mujtaba Khan', 'age': 10, 'father_name': 'M.Rizwan'}, {'student_name': 'Rohail Khan', 'age': 11, 'father_name': 'M.Kamran'}]\n"
     ]
    }
   ],
   "source": [
    "print(class_four)\n",
    "new_st = {\n",
    "    'student_name': 'Rohail Khan',\n",
    "        'age': 11,\n",
    "        'father_name': \"M.Kamran\",\n",
    "}\n",
    "class_four.append(new_st)\n",
    "print(class_four)"
   ]
  },
  {
   "cell_type": "code",
   "execution_count": 89,
   "id": "e5d0f247",
   "metadata": {},
   "outputs": [
    {
     "name": "stdout",
     "output_type": "stream",
     "text": [
      "4\n"
     ]
    }
   ],
   "source": [
    "print(len(class_four))"
   ]
  },
  {
   "cell_type": "code",
   "execution_count": 90,
   "id": "e9407bcd",
   "metadata": {},
   "outputs": [
    {
     "name": "stdout",
     "output_type": "stream",
     "text": [
      "[{'student_name': 'Ali Raza', 'age': 8, 'father_name': 'M.Tahir'}, {'student_name': 'M .Mushtaq', 'age': 9, 'father_name': 'M.Sohail'}, {'student_name': 'Mujtaba Khan', 'age': 10, 'father_name': 'M.Rizwan'}, {'student_name': 'Rohail Khan', 'age': 11, 'father_name': 'M.Kamran'}]\n",
      "[{'student_name': 'Ali Raza', 'age': 8, 'father_name': 'M.Tahir'}, {'student_name': 'Ahsan', 'age': 7, 'father_name': 'M.Imran'}, {'student_name': 'M .Mushtaq', 'age': 9, 'father_name': 'M.Sohail'}, {'student_name': 'Mujtaba Khan', 'age': 10, 'father_name': 'M.Rizwan'}, {'student_name': 'Rohail Khan', 'age': 11, 'father_name': 'M.Kamran'}]\n"
     ]
    }
   ],
   "source": [
    "print(class_four)\n",
    "new_st2 = {\n",
    "    'student_name': 'Ahsan',\n",
    "        'age': 7,\n",
    "        'father_name': \"M.Imran\",\n",
    "}\n",
    "class_four.insert(1,new_st2)\n",
    "print(class_four)"
   ]
  },
  {
   "cell_type": "markdown",
   "id": "52d28cf2",
   "metadata": {},
   "source": [
    "# Creating a dictionary that contains lists"
   ]
  },
  {
   "cell_type": "code",
   "execution_count": 91,
   "id": "797dbfbc",
   "metadata": {},
   "outputs": [],
   "source": [
    "dic_4 = {\n",
    "    'first_name':'Jackson',\n",
    "    'last_name':'Robert',\n",
    "    'country':'Paris',\n",
    "    'childrens':['Gill','Hannah','Wanyne'],\n",
    "}"
   ]
  },
  {
   "cell_type": "code",
   "execution_count": 94,
   "id": "115f4969",
   "metadata": {},
   "outputs": [],
   "source": [
    "if 'Gill' in dic_4['childrens']:\n",
    "    age = 10  "
   ]
  },
  {
   "cell_type": "markdown",
   "id": "636653bf",
   "metadata": {},
   "source": [
    "# Creating a dictionary that contains a dictionary"
   ]
  },
  {
   "cell_type": "code",
   "execution_count": 2,
   "id": "3cd307f2",
   "metadata": {},
   "outputs": [],
   "source": [
    "countries = {\n",
    "    0:{ 'ct': '01',\n",
    "    'name': 'France',\n",
    "    'capital':'Paris',\n",
    "},\n",
    "    1 :{'ct': '02',\n",
    "    'name': 'Afghanistan',\n",
    "    'capital':'Kabul',\n",
    "},\n",
    "     2:{'ct': '03',\n",
    "    'name': 'China',\n",
    "    'capital':'Beijing',\n",
    "},\n",
    "        \n",
    " }"
   ]
  },
  {
   "cell_type": "markdown",
   "id": "a4b379b1",
   "metadata": {},
   "source": [
    "# How to get information out of a dictionary within another dictionary"
   ]
  },
  {
   "cell_type": "code",
   "execution_count": 3,
   "id": "166b1bb5",
   "metadata": {},
   "outputs": [
    {
     "name": "stdout",
     "output_type": "stream",
     "text": [
      "{0: {'ct': '01', 'name': 'France', 'capital': 'Paris'}, 1: {'ct': '02', 'name': 'Afghanistan', 'capital': 'Kabul'}, 2: {'ct': '03', 'name': 'China', 'capital': 'Beijing'}}\n"
     ]
    }
   ],
   "source": [
    "print(countries)"
   ]
  },
  {
   "cell_type": "code",
   "execution_count": 4,
   "id": "6ed6ce4b",
   "metadata": {},
   "outputs": [
    {
     "data": {
      "text/plain": [
       "'China'"
      ]
     },
     "execution_count": 4,
     "metadata": {},
     "output_type": "execute_result"
    }
   ],
   "source": [
    "countries[2]['name']"
   ]
  },
  {
   "cell_type": "code",
   "execution_count": 5,
   "id": "34399d48",
   "metadata": {},
   "outputs": [
    {
     "data": {
      "text/plain": [
       "{'ct': '02', 'name': 'Afghanistan', 'capital': 'Kabul'}"
      ]
     },
     "execution_count": 5,
     "metadata": {},
     "output_type": "execute_result"
    }
   ],
   "source": [
    "countries[1]"
   ]
  },
  {
   "cell_type": "markdown",
   "id": "eb00cadd",
   "metadata": {},
   "source": [
    "# Funtions"
   ]
  },
  {
   "cell_type": "raw",
   "id": "be8c5c72",
   "metadata": {},
   "source": [
    "# function is a block of python code that robotically does the same thing again and again,whenever you call its name\n",
    "# 'def' keyword used to define function"
   ]
  },
  {
   "cell_type": "code",
   "execution_count": 7,
   "id": "59119196",
   "metadata": {},
   "outputs": [],
   "source": [
    "def add_numbers():\n",
    "    first_number = 6\n",
    "    second_number = 9\n",
    "    total = first_number + second_number\n",
    "    print(total)"
   ]
  },
  {
   "cell_type": "code",
   "execution_count": 8,
   "id": "4b77e1e8",
   "metadata": {},
   "outputs": [
    {
     "name": "stdout",
     "output_type": "stream",
     "text": [
      "15\n"
     ]
    }
   ],
   "source": [
    "add_numbers()"
   ]
  },
  {
   "cell_type": "code",
   "execution_count": 12,
   "id": "8c2e440b",
   "metadata": {},
   "outputs": [],
   "source": [
    "def sub_numbers():\n",
    "    first_number = 70 \n",
    "    second_number = 59\n",
    "    total = first_number - second_number\n",
    "    print(total)"
   ]
  },
  {
   "cell_type": "code",
   "execution_count": 13,
   "id": "dd645e54",
   "metadata": {},
   "outputs": [
    {
     "name": "stdout",
     "output_type": "stream",
     "text": [
      "11\n"
     ]
    }
   ],
   "source": [
    "sub_numbers()"
   ]
  },
  {
   "cell_type": "markdown",
   "id": "52b575e2",
   "metadata": {},
   "source": [
    "# Funtions: Passing them information"
   ]
  },
  {
   "cell_type": "code",
   "execution_count": 16,
   "id": "00046ddd",
   "metadata": {},
   "outputs": [],
   "source": [
    "def multiply_numbers(first_number,second_number):\n",
    "    total = first_number * second_number\n",
    "    print(total)"
   ]
  },
  {
   "cell_type": "code",
   "execution_count": 17,
   "id": "289c59b5",
   "metadata": {},
   "outputs": [
    {
     "name": "stdout",
     "output_type": "stream",
     "text": [
      "1780\n"
     ]
    }
   ],
   "source": [
    "multiply_numbers(89,20)"
   ]
  },
  {
   "cell_type": "code",
   "execution_count": 18,
   "id": "0f61cbdb",
   "metadata": {},
   "outputs": [
    {
     "name": "stdout",
     "output_type": "stream",
     "text": [
      "1816.7920000000001\n"
     ]
    }
   ],
   "source": [
    "multiply_numbers(23.78,76.4)"
   ]
  },
  {
   "cell_type": "code",
   "execution_count": 21,
   "id": "9d5e4e2f",
   "metadata": {},
   "outputs": [],
   "source": [
    "def divide_numbers(second_number,first_number):\n",
    "    total = second_number / first_number\n",
    "    print(total)"
   ]
  },
  {
   "cell_type": "code",
   "execution_count": 22,
   "id": "591ffae1",
   "metadata": {},
   "outputs": [
    {
     "name": "stdout",
     "output_type": "stream",
     "text": [
      "23.333333333333332\n"
     ]
    }
   ],
   "source": [
    "divide_numbers(70,3)"
   ]
  },
  {
   "cell_type": "code",
   "execution_count": 40,
   "id": "e8ea7b81",
   "metadata": {},
   "outputs": [],
   "source": [
    "a = 'Hello, World !'\n",
    "whatever = 'I am handsome .'"
   ]
  },
  {
   "cell_type": "code",
   "execution_count": 41,
   "id": "282e7d45",
   "metadata": {},
   "outputs": [],
   "source": [
    "def greet_user(a,whatever):\n",
    "    print(a,whatever)"
   ]
  },
  {
   "cell_type": "code",
   "execution_count": 42,
   "id": "fffc8a59",
   "metadata": {},
   "outputs": [
    {
     "name": "stdout",
     "output_type": "stream",
     "text": [
      "Hello, World ! I am handsome .\n"
     ]
    }
   ],
   "source": [
    "greet_user(a,whatever)"
   ]
  },
  {
   "cell_type": "markdown",
   "id": "42201889",
   "metadata": {},
   "source": [
    "# Functions: Passing information to them a different way"
   ]
  },
  {
   "cell_type": "code",
   "execution_count": 49,
   "id": "1e6880f5",
   "metadata": {},
   "outputs": [],
   "source": [
    "def country_name_with_province(name,province):\n",
    "    print('The name of country is ' + name + ' and its province is '+ province + ' . ')"
   ]
  },
  {
   "cell_type": "code",
   "execution_count": 50,
   "id": "4c682e6d",
   "metadata": {},
   "outputs": [
    {
     "name": "stdout",
     "output_type": "stream",
     "text": [
      "The name of country is Pakistan and its province is Islamabad . \n"
     ]
    }
   ],
   "source": [
    "country_name_with_province('Pakistan','Islamabad')"
   ]
  },
  {
   "cell_type": "code",
   "execution_count": 51,
   "id": "0077d652",
   "metadata": {},
   "outputs": [
    {
     "name": "stdout",
     "output_type": "stream",
     "text": [
      "The name of country is France and its province is Paris . \n"
     ]
    }
   ],
   "source": [
    "country_name_with_province('France','Paris')"
   ]
  },
  {
   "cell_type": "markdown",
   "id": "d01acd7b",
   "metadata": {},
   "source": [
    "# Functions : Assigning a default value to a parameter"
   ]
  },
  {
   "cell_type": "code",
   "execution_count": 52,
   "id": "2c49ed4d",
   "metadata": {},
   "outputs": [],
   "source": [
    "def calc_tax(sales_total , tax_rate = .45):\n",
    "    print(sales_total * tax_rate)"
   ]
  },
  {
   "cell_type": "code",
   "execution_count": 53,
   "id": "c2283431",
   "metadata": {},
   "outputs": [
    {
     "name": "stdout",
     "output_type": "stream",
     "text": [
      "205.20000000000002\n"
     ]
    }
   ],
   "source": [
    "calc_tax(456,)"
   ]
  },
  {
   "cell_type": "code",
   "execution_count": 54,
   "id": "95ec7bac",
   "metadata": {},
   "outputs": [
    {
     "name": "stdout",
     "output_type": "stream",
     "text": [
      "400\n"
     ]
    }
   ],
   "source": [
    "calc_tax(20,20)"
   ]
  },
  {
   "cell_type": "code",
   "execution_count": 55,
   "id": "c3951ac8",
   "metadata": {},
   "outputs": [
    {
     "name": "stdout",
     "output_type": "stream",
     "text": [
      "633.08\n"
     ]
    }
   ],
   "source": [
    "calc_tax(tax_rate = .98,sales_total = 646 )"
   ]
  },
  {
   "cell_type": "code",
   "execution_count": 69,
   "id": "7e6f6bc5",
   "metadata": {},
   "outputs": [],
   "source": [
    "def print_order(product_name,color,size,engraving_text = ''):\n",
    "    print('The product_name is '+ product_name + '. '+ 'Its color and size is ' + color + ' and ' +\n",
    "          size + ' .')\n",
    "          \n"
   ]
  },
  {
   "cell_type": "code",
   "execution_count": 70,
   "id": "05b5541d",
   "metadata": {},
   "outputs": [
    {
     "name": "stdout",
     "output_type": "stream",
     "text": [
      "The product_name is shoes. Its color and size is red and 36 .\n"
     ]
    }
   ],
   "source": [
    "print_order('shoes','red','36')"
   ]
  },
  {
   "cell_type": "markdown",
   "id": "37825004",
   "metadata": {},
   "source": [
    "# Functions: Mixing positional and keyword arguments"
   ]
  },
  {
   "cell_type": "code",
   "execution_count": 81,
   "id": "eb881eaf",
   "metadata": {},
   "outputs": [],
   "source": [
    "def full_name(first_name,last_name):\n",
    "    print(first_name + ' ' + last_name + ' is best in class .')"
   ]
  },
  {
   "cell_type": "code",
   "execution_count": 83,
   "id": "e49141ea",
   "metadata": {},
   "outputs": [
    {
     "name": "stdout",
     "output_type": "stream",
     "text": [
      "Rohaan Khan is best in class .\n"
     ]
    }
   ],
   "source": [
    "full_name('Rohaan','Khan')"
   ]
  },
  {
   "cell_type": "code",
   "execution_count": 84,
   "id": "337b7d1d",
   "metadata": {},
   "outputs": [
    {
     "ename": "SyntaxError",
     "evalue": "positional argument follows keyword argument (1401043964.py, line 1)",
     "output_type": "error",
     "traceback": [
      "\u001b[1;36m  Cell \u001b[1;32mIn[84], line 1\u001b[1;36m\u001b[0m\n\u001b[1;33m    full_names(last_name= 'Zaviyaar','Laraib')\u001b[0m\n\u001b[1;37m                                             ^\u001b[0m\n\u001b[1;31mSyntaxError\u001b[0m\u001b[1;31m:\u001b[0m positional argument follows keyword argument\n"
     ]
    }
   ],
   "source": [
    "full_name(last_name= 'Zaviyaar','Laraib')"
   ]
  },
  {
   "cell_type": "code",
   "execution_count": 98,
   "id": "695d5310",
   "metadata": {},
   "outputs": [],
   "source": [
    "def give_greeting(greeting,first_name,flattering_nickname = ' the wonder boy .'):\n",
    "    print(greeting + ', ' + first_name + flattering_nickname)"
   ]
  },
  {
   "cell_type": "code",
   "execution_count": 99,
   "id": "04703465",
   "metadata": {},
   "outputs": [
    {
     "name": "stdout",
     "output_type": "stream",
     "text": [
      "Congratulation, Noman the wonder boy .\n"
     ]
    }
   ],
   "source": [
    "give_greeting('Congratulation','Noman')"
   ]
  },
  {
   "cell_type": "code",
   "execution_count": 101,
   "id": "7fe15d1a",
   "metadata": {},
   "outputs": [
    {
     "data": {
      "text/plain": [
       "{0: {'ct': '01', 'name': 'France', 'capital': 'Paris'},\n",
       " 1: {'ct': '02', 'name': 'Afghanistan', 'capital': 'Kabul'},\n",
       " 2: {'ct': '03', 'name': 'China', 'capital': 'Beijing'}}"
      ]
     },
     "execution_count": 101,
     "metadata": {},
     "output_type": "execute_result"
    }
   ],
   "source": [
    "countries"
   ]
  },
  {
   "cell_type": "code",
   "execution_count": 104,
   "id": "6061520b",
   "metadata": {},
   "outputs": [],
   "source": [
    "def find_country(dict,inner_dict,target):\n",
    "    print(dict[inner_dict][target])"
   ]
  },
  {
   "cell_type": "code",
   "execution_count": 105,
   "id": "d3eedd91",
   "metadata": {},
   "outputs": [
    {
     "name": "stdout",
     "output_type": "stream",
     "text": [
      "Beijing\n"
     ]
    }
   ],
   "source": [
    "find_country(countries,2,\"capital\")"
   ]
  },
  {
   "cell_type": "code",
   "execution_count": 106,
   "id": "597823b0",
   "metadata": {},
   "outputs": [
    {
     "name": "stdout",
     "output_type": "stream",
     "text": [
      "Afghanistan\n"
     ]
    }
   ],
   "source": [
    "find_country(countries,1,'name')"
   ]
  },
  {
   "cell_type": "markdown",
   "id": "1cedeb9e",
   "metadata": {},
   "source": [
    "# Functions:Dealing with an unknown number of arguments"
   ]
  },
  {
   "cell_type": "code",
   "execution_count": 107,
   "id": "7c21e844",
   "metadata": {},
   "outputs": [],
   "source": [
    "def display_result(winner,score):\n",
    "    print('The winner was ' + winner)\n",
    "    print('The score was ' + score)"
   ]
  },
  {
   "cell_type": "code",
   "execution_count": 108,
   "id": "f9f21928",
   "metadata": {},
   "outputs": [
    {
     "name": "stdout",
     "output_type": "stream",
     "text": [
      "The winner was Argentina\n",
      "The score was 1-0\n"
     ]
    }
   ],
   "source": [
    "display_result(winner = 'Argentina',score = '1-0')"
   ]
  },
  {
   "cell_type": "code",
   "execution_count": 109,
   "id": "00c6aa7c",
   "metadata": {},
   "outputs": [
    {
     "ename": "TypeError",
     "evalue": "display_result() got an unexpected keyword argument 'ovetime'",
     "output_type": "error",
     "traceback": [
      "\u001b[1;31m---------------------------------------------------------------------------\u001b[0m",
      "\u001b[1;31mTypeError\u001b[0m                                 Traceback (most recent call last)",
      "Cell \u001b[1;32mIn[109], line 1\u001b[0m\n\u001b[1;32m----> 1\u001b[0m display_result(winner \u001b[38;5;241m=\u001b[39m \u001b[38;5;124m'\u001b[39m\u001b[38;5;124mPortugal\u001b[39m\u001b[38;5;124m'\u001b[39m,score \u001b[38;5;241m=\u001b[39m \u001b[38;5;124m'\u001b[39m\u001b[38;5;124m1-0\u001b[39m\u001b[38;5;124m'\u001b[39m,ovetime \u001b[38;5;241m=\u001b[39m \u001b[38;5;124m'\u001b[39m\u001b[38;5;124mYes\u001b[39m\u001b[38;5;124m'\u001b[39m,injuries \u001b[38;5;241m=\u001b[39m \u001b[38;5;124m'\u001b[39m\u001b[38;5;124mnone\u001b[39m\u001b[38;5;124m'\u001b[39m)\n",
      "\u001b[1;31mTypeError\u001b[0m: display_result() got an unexpected keyword argument 'ovetime'"
     ]
    }
   ],
   "source": [
    "display_result(winner = 'Portugal',score = '1-0',ovetime = 'Yes',injuries = 'none')"
   ]
  },
  {
   "cell_type": "code",
   "execution_count": 3,
   "id": "a10cbc76",
   "metadata": {},
   "outputs": [],
   "source": [
    "def display_result(winner,score,**other_info):\n",
    "    print('The winner was' + winner)\n",
    "    print('The score was' + score)\n",
    "    for key,value in other_info.items():\n",
    "        print(key + ': '+ value)"
   ]
  },
  {
   "cell_type": "code",
   "execution_count": 4,
   "id": "bacc687a",
   "metadata": {},
   "outputs": [
    {
     "name": "stdout",
     "output_type": "stream",
     "text": [
      "The winner wasPortugal\n",
      "The score was1-0\n",
      "overtime: yes\n",
      "injuries: none\n"
     ]
    }
   ],
   "source": [
    "display_result(winner = \"Portugal\",score = '1-0',overtime = 'yes',injuries = 'none')"
   ]
  },
  {
   "cell_type": "code",
   "execution_count": 7,
   "id": "9005ca23",
   "metadata": {},
   "outputs": [],
   "source": [
    "def display_nums(first_num,second_num,*opt_nums):\n",
    "    print(first_num)\n",
    "    print(second_num)\n",
    "    print(opt_nums)"
   ]
  },
  {
   "cell_type": "code",
   "execution_count": 8,
   "id": "d2fcf5ec",
   "metadata": {},
   "outputs": [
    {
     "name": "stdout",
     "output_type": "stream",
     "text": [
      "1000\n",
      "23\n",
      "(456, 566)\n"
     ]
    }
   ],
   "source": [
    "display_nums(1000,23,456,566)"
   ]
  },
  {
   "cell_type": "markdown",
   "id": "8a675479",
   "metadata": {},
   "source": [
    "# Functions:Passing information back from them"
   ]
  },
  {
   "cell_type": "code",
   "execution_count": 9,
   "id": "4dc52edd",
   "metadata": {},
   "outputs": [],
   "source": [
    "def calc_tax(sales_total,tax_rate):\n",
    "    tax = sales_total * tax_rate\n",
    "    print(tax)"
   ]
  },
  {
   "cell_type": "code",
   "execution_count": 10,
   "id": "9d24bc12",
   "metadata": {},
   "outputs": [
    {
     "name": "stdout",
     "output_type": "stream",
     "text": [
      "4050\n"
     ]
    }
   ],
   "source": [
    "calc_tax(90,45)"
   ]
  },
  {
   "cell_type": "code",
   "execution_count": 15,
   "id": "a0ecd3bd",
   "metadata": {},
   "outputs": [],
   "source": [
    "def calc_tax(sales_total,tax_rate):\n",
    "    tax = sales_total * tax_rate\n",
    "    return tax"
   ]
  },
  {
   "cell_type": "code",
   "execution_count": 16,
   "id": "a03df954",
   "metadata": {},
   "outputs": [],
   "source": [
    "sales_tax = calc_tax(sales_total = 101.37,tax_rate = 0.05)"
   ]
  },
  {
   "cell_type": "code",
   "execution_count": 18,
   "id": "b6c14eff",
   "metadata": {},
   "outputs": [
    {
     "name": "stdout",
     "output_type": "stream",
     "text": [
      "5.0685\n"
     ]
    }
   ],
   "source": [
    "print(sales_tax)"
   ]
  },
  {
   "cell_type": "code",
   "execution_count": 20,
   "id": "42525950",
   "metadata": {},
   "outputs": [
    {
     "name": "stdout",
     "output_type": "stream",
     "text": [
      "250.05\n"
     ]
    }
   ],
   "source": [
    "print(calc_tax(sales_total = 5001 ,tax_rate = 0.05))"
   ]
  },
  {
   "cell_type": "code",
   "execution_count": 21,
   "id": "37766d44",
   "metadata": {},
   "outputs": [],
   "source": [
    "def calc_tax(sales_total,tax_rate):\n",
    "    return(sales_total * tax_rate)"
   ]
  },
  {
   "cell_type": "code",
   "execution_count": 22,
   "id": "809f5126",
   "metadata": {},
   "outputs": [
    {
     "data": {
      "text/plain": [
       "5555.0"
      ]
     },
     "execution_count": 22,
     "metadata": {},
     "output_type": "execute_result"
    }
   ],
   "source": [
    "calc_tax(10100,0.55)"
   ]
  },
  {
   "cell_type": "markdown",
   "id": "eccc364c",
   "metadata": {},
   "source": [
    "# Using fuctions as variable (which is what they really are)"
   ]
  },
  {
   "cell_type": "code",
   "execution_count": 25,
   "id": "d8784ed1",
   "metadata": {},
   "outputs": [],
   "source": [
    "def add_numbers(first_number,second_number):\n",
    "    return first_number + second_number"
   ]
  },
  {
   "cell_type": "code",
   "execution_count": 26,
   "id": "2763da05",
   "metadata": {},
   "outputs": [],
   "source": [
    "def subtract_numbers(first_number,second_number):\n",
    "    return first_number - second_number"
   ]
  },
  {
   "cell_type": "code",
   "execution_count": 27,
   "id": "6d7d66f6",
   "metadata": {},
   "outputs": [],
   "source": [
    "result_of_adding = add_numbers(52,25)\n",
    "result_of_subtracting = subtract_numbers(54,20)\n",
    "sum_of_results = result_of_adding + result_of_subtracting"
   ]
  },
  {
   "cell_type": "code",
   "execution_count": 28,
   "id": "680bf395",
   "metadata": {},
   "outputs": [],
   "source": [
    "sum_of_results = add_numbers(20,23) + subtract_numbers(20,10)"
   ]
  },
  {
   "cell_type": "code",
   "execution_count": 29,
   "id": "2b749012",
   "metadata": {},
   "outputs": [
    {
     "data": {
      "text/plain": [
       "53"
      ]
     },
     "execution_count": 29,
     "metadata": {},
     "output_type": "execute_result"
    }
   ],
   "source": [
    "sum_of_results"
   ]
  },
  {
   "cell_type": "markdown",
   "id": "2cf0d555",
   "metadata": {},
   "source": [
    "# Functions: Local vs. global variables"
   ]
  },
  {
   "cell_type": "raw",
   "id": "ca13cd7a",
   "metadata": {},
   "source": [
    "# local variables is one that you define in a function\n",
    "# global variable is one you define in the main body of your code __that is ,not in a fuction"
   ]
  },
  {
   "cell_type": "code",
   "execution_count": 32,
   "id": "7326e4c7",
   "metadata": {},
   "outputs": [],
   "source": [
    "def say_something():\n",
    "    what_to_say = 'Hi,Rox'\n",
    "    "
   ]
  },
  {
   "cell_type": "code",
   "execution_count": 33,
   "id": "fd1df231",
   "metadata": {},
   "outputs": [
    {
     "ename": "NameError",
     "evalue": "name 'what_to_say' is not defined",
     "output_type": "error",
     "traceback": [
      "\u001b[1;31m---------------------------------------------------------------------------\u001b[0m",
      "\u001b[1;31mNameError\u001b[0m                                 Traceback (most recent call last)",
      "Cell \u001b[1;32mIn[33], line 1\u001b[0m\n\u001b[1;32m----> 1\u001b[0m what_to_say\n",
      "\u001b[1;31mNameError\u001b[0m: name 'what_to_say' is not defined"
     ]
    }
   ],
   "source": [
    "what_to_say # this is local variable"
   ]
  },
  {
   "cell_type": "code",
   "execution_count": 34,
   "id": "ecd428a8",
   "metadata": {},
   "outputs": [],
   "source": [
    "what_to_say = 'HIIIIIIIIIIIIIIIIIIIIIIIIIII'"
   ]
  },
  {
   "cell_type": "code",
   "execution_count": 35,
   "id": "e55655c2",
   "metadata": {},
   "outputs": [
    {
     "data": {
      "text/plain": [
       "'HIIIIIIIIIIIIIIIIIIIIIIIIIII'"
      ]
     },
     "execution_count": 35,
     "metadata": {},
     "output_type": "execute_result"
    }
   ],
   "source": [
    "what_to_say # global variable example"
   ]
  },
  {
   "cell_type": "code",
   "execution_count": 36,
   "id": "cc2e6531",
   "metadata": {},
   "outputs": [],
   "source": [
    "def whatever(a,c):\n",
    "    total = a * c\n",
    "    return total"
   ]
  },
  {
   "cell_type": "code",
   "execution_count": 38,
   "id": "eb9b62b2",
   "metadata": {},
   "outputs": [
    {
     "ename": "NameError",
     "evalue": "name 'a' is not defined",
     "output_type": "error",
     "traceback": [
      "\u001b[1;31m---------------------------------------------------------------------------\u001b[0m",
      "\u001b[1;31mNameError\u001b[0m                                 Traceback (most recent call last)",
      "Cell \u001b[1;32mIn[38], line 1\u001b[0m\n\u001b[1;32m----> 1\u001b[0m \u001b[38;5;28mprint\u001b[39m(a)      \n\u001b[0;32m      2\u001b[0m \u001b[38;5;28mprint\u001b[39m(c)             \u001b[38;5;66;03m# they are local variables\u001b[39;00m\n\u001b[0;32m      3\u001b[0m \u001b[38;5;28mprint\u001b[39m(total)\n",
      "\u001b[1;31mNameError\u001b[0m: name 'a' is not defined"
     ]
    }
   ],
   "source": [
    "print(a)      \n",
    "print(c)             # they are local variables\n",
    "print(total)"
   ]
  },
  {
   "cell_type": "code",
   "execution_count": 39,
   "id": "f5c8dfc9",
   "metadata": {},
   "outputs": [],
   "source": [
    "def whatever(b,c):       #variable defined in fuction\n",
    "    total = b + c       # print statements within the fuction\n",
    "    print(b)            # python has no problem\n",
    "    print(c)\n",
    "    print(total)"
   ]
  },
  {
   "cell_type": "code",
   "execution_count": 40,
   "id": "1435adae",
   "metadata": {},
   "outputs": [],
   "source": [
    "r = 30011998"
   ]
  },
  {
   "cell_type": "code",
   "execution_count": 41,
   "id": "60cb5554",
   "metadata": {},
   "outputs": [],
   "source": [
    "def roxy():     # good coders avoid using global variable inside function\n",
    "    print(r)"
   ]
  },
  {
   "cell_type": "code",
   "execution_count": 42,
   "id": "7208deb6",
   "metadata": {},
   "outputs": [
    {
     "name": "stdout",
     "output_type": "stream",
     "text": [
      "30011998\n"
     ]
    }
   ],
   "source": [
    "roxy()"
   ]
  },
  {
   "cell_type": "code",
   "execution_count": 49,
   "id": "99cd4877",
   "metadata": {},
   "outputs": [],
   "source": [
    "def check_local():\n",
    "    m = 14032016\n",
    "    print(m)"
   ]
  },
  {
   "cell_type": "code",
   "execution_count": 50,
   "id": "fca103bf",
   "metadata": {},
   "outputs": [],
   "source": [
    "m = 14032023"
   ]
  },
  {
   "cell_type": "code",
   "execution_count": 51,
   "id": "6291c84c",
   "metadata": {},
   "outputs": [
    {
     "name": "stdout",
     "output_type": "stream",
     "text": [
      "14032016\n"
     ]
    }
   ],
   "source": [
    "check_local()   # m is local variable"
   ]
  },
  {
   "cell_type": "code",
   "execution_count": 53,
   "id": "7a44036d",
   "metadata": {},
   "outputs": [
    {
     "name": "stdout",
     "output_type": "stream",
     "text": [
      "14032023\n"
     ]
    }
   ],
   "source": [
    "print(m)  # m is global variable"
   ]
  },
  {
   "cell_type": "markdown",
   "id": "2e324943",
   "metadata": {},
   "source": [
    "# Functions within functions"
   ]
  },
  {
   "cell_type": "raw",
   "id": "8137ab62",
   "metadata": {},
   "source": [
    "# The fuction thatg is called must be earlier in your code than the fucntion that calls it"
   ]
  },
  {
   "cell_type": "code",
   "execution_count": 59,
   "id": "bf0cb998",
   "metadata": {},
   "outputs": [],
   "source": [
    "def propose_me():\n",
    "    how = 'give me red roses'\n",
    "    print(how)"
   ]
  },
  {
   "cell_type": "code",
   "execution_count": 60,
   "id": "2f12e94f",
   "metadata": {},
   "outputs": [
    {
     "name": "stdout",
     "output_type": "stream",
     "text": [
      "give me red roses\n"
     ]
    }
   ],
   "source": [
    "propose_me()"
   ]
  },
  {
   "cell_type": "code",
   "execution_count": 90,
   "id": "9779f8b5",
   "metadata": {},
   "outputs": [],
   "source": [
    "def propose_me():\n",
    "    how = 'give me red roses'\n",
    "    now_propose_me(how)"
   ]
  },
  {
   "cell_type": "code",
   "execution_count": 91,
   "id": "dbad84ef",
   "metadata": {},
   "outputs": [],
   "source": [
    "def now_propose_me(how_to):\n",
    "    print(how_to)"
   ]
  },
  {
   "cell_type": "code",
   "execution_count": 92,
   "id": "6e085655",
   "metadata": {
    "scrolled": true
   },
   "outputs": [
    {
     "name": "stdout",
     "output_type": "stream",
     "text": [
      "give me red roses\n"
     ]
    }
   ],
   "source": [
    "propose_me()"
   ]
  },
  {
   "cell_type": "code",
   "execution_count": 93,
   "id": "0603f9e0",
   "metadata": {},
   "outputs": [
    {
     "name": "stdout",
     "output_type": "stream",
     "text": [
      "rozzzzzzzzz\n"
     ]
    }
   ],
   "source": [
    "now_propose_me('rozzzzzzzzz')"
   ]
  },
  {
   "cell_type": "code",
   "execution_count": 94,
   "id": "5450b56d",
   "metadata": {},
   "outputs": [
    {
     "name": "stdout",
     "output_type": "stream",
     "text": [
      "give me red roses\n"
     ]
    }
   ],
   "source": [
    "propose_me()"
   ]
  },
  {
   "cell_type": "code",
   "execution_count": 95,
   "id": "c8242472",
   "metadata": {},
   "outputs": [],
   "source": [
    "def outer_func():\n",
    "    def inner_func():\n",
    "        print('ROXy')\n",
    "    inner_func()    "
   ]
  },
  {
   "cell_type": "code",
   "execution_count": 96,
   "id": "cb954179",
   "metadata": {},
   "outputs": [
    {
     "name": "stdout",
     "output_type": "stream",
     "text": [
      "ROXy\n"
     ]
    }
   ],
   "source": [
    "outer_func()"
   ]
  },
  {
   "cell_type": "markdown",
   "id": "32b8c41f",
   "metadata": {},
   "source": [
    "# While loop"
   ]
  },
  {
   "cell_type": "raw",
   "id": "04460287",
   "metadata": {},
   "source": [
    "# while loop used to execute a block of statements repeatedly until a given condition is satisfied\n",
    "# you have to assign a value to the variable that the while loop depends on,before you start the while loop"
   ]
  },
  {
   "cell_type": "code",
   "execution_count": 6,
   "id": "66364abe",
   "metadata": {},
   "outputs": [],
   "source": [
    "fast_food_restraunt = ['chicken burger','beef burger','zinger burger','chicken supereme pizza','chicken afghani pizza']"
   ]
  },
  {
   "cell_type": "code",
   "execution_count": 100,
   "id": "d9fbfd91",
   "metadata": {
    "scrolled": true
   },
   "outputs": [
    {
     "name": "stdout",
     "output_type": "stream",
     "text": [
      "Enter the item or no to quit:chicken burger\n",
      "Yes, We have it\n",
      "Enter the item or no to quit:malai boti \n",
      "Enter the item or no to quit:zinger burger\n",
      "Yes, We have it\n",
      "Enter the item or no to quit:chicken tikka pizza\n",
      "Enter the item or no to quit:beef burger\n",
      "Yes, We have it\n",
      "Enter the item or no to quit:no\n"
     ]
    }
   ],
   "source": [
    "item = ''\n",
    "while item != 'no':\n",
    "    item = input('Enter the item or no to quit:')\n",
    "    if item != 'no':\n",
    "        for food in fast_food_restraunt:\n",
    "            if item == food:\n",
    "                print('Yes, We have it')\n",
    "                break"
   ]
  },
  {
   "cell_type": "code",
   "execution_count": 2,
   "id": "44f2ec48",
   "metadata": {},
   "outputs": [],
   "source": [
    "years = (1952,1962,1980,1982,1983,1984,1985,1987,1993,1996,1998)"
   ]
  },
  {
   "cell_type": "code",
   "execution_count": 5,
   "id": "d55da103",
   "metadata": {},
   "outputs": [
    {
     "name": "stdout",
     "output_type": "stream",
     "text": [
      "enter the year or 0 to stop:1998\n",
      "This year present in the tuple \n",
      "enter the year or 0 to stop:1996\n",
      "This year present in the tuple \n",
      "enter the year or 0 to stop:1993\n",
      "This year present in the tuple \n",
      "enter the year or 0 to stop:1987\n",
      "This year present in the tuple \n",
      "enter the year or 0 to stop:0\n"
     ]
    }
   ],
   "source": [
    "user_input = ''\n",
    "while user_input != 0:\n",
    "    user_input = int(input('enter the year or 0 to stop:'))\n",
    "    if user_input != 0:\n",
    "        for year in years:\n",
    "            if user_input == year:\n",
    "                print('This year present in the tuple ')\n",
    "                break"
   ]
  },
  {
   "cell_type": "markdown",
   "id": "ec3464f0",
   "metadata": {},
   "source": [
    "# While loops: Setting a flag"
   ]
  },
  {
   "cell_type": "raw",
   "id": "1f3dc484",
   "metadata": {},
   "source": [
    "# True and False are booleans.\n",
    "# They are not string and must be capitalized."
   ]
  },
  {
   "cell_type": "code",
   "execution_count": 7,
   "id": "825eb5b5",
   "metadata": {},
   "outputs": [
    {
     "name": "stdout",
     "output_type": "stream",
     "text": [
      "['chicken burger', 'beef burger', 'zinger burger', 'chicken supereme pizza', 'chicken afghani pizza']\n"
     ]
    }
   ],
   "source": [
    "print(fast_food_restraunt)"
   ]
  },
  {
   "cell_type": "code",
   "execution_count": 8,
   "id": "89c180c0",
   "metadata": {},
   "outputs": [
    {
     "name": "stdout",
     "output_type": "stream",
     "text": [
      "Enter the item or no to quit:chicken burger\n",
      "Yes, We have it\n",
      "Enter the item or no to quit:chicken tikka\n",
      "Enter the item or no to quit:no\n"
     ]
    }
   ],
   "source": [
    "keep_looping = True\n",
    "while keep_looping == True:\n",
    "    item = input('Enter the item or no to quit:')\n",
    "    if item != 'no':\n",
    "        for food in fast_food_restraunt:\n",
    "            if item == food:\n",
    "                print('Yes, We have it')\n",
    "                break\n",
    "    else:\n",
    "        keep_looping = False"
   ]
  }
 ],
 "metadata": {
  "kernelspec": {
   "display_name": "Python 3 (ipykernel)",
   "language": "python",
   "name": "python3"
  },
  "language_info": {
   "codemirror_mode": {
    "name": "ipython",
    "version": 3
   },
   "file_extension": ".py",
   "mimetype": "text/x-python",
   "name": "python",
   "nbconvert_exporter": "python",
   "pygments_lexer": "ipython3",
   "version": "3.11.4"
  }
 },
 "nbformat": 4,
 "nbformat_minor": 5
}
