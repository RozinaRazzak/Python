{
 "cells": [
  {
   "cell_type": "markdown",
   "id": "07cd2c4a",
   "metadata": {},
   "source": [
    "# PROJECT # 01 ROLL GAME"
   ]
  },
  {
   "cell_type": "code",
   "execution_count": 1,
   "id": "cbe269eb",
   "metadata": {},
   "outputs": [
    {
     "name": "stdout",
     "output_type": "stream",
     "text": [
      "Enter the number of players (2 - 4): 3\n",
      "\n",
      "Player number 1 turn has just started!\n",
      "Your total score is: 0 \n",
      "\n",
      "Would you like to roll (y)? y\n",
      "You rolled a: 6\n",
      "You score is: 6\n",
      "Would you like to roll (y)? y\n",
      "You rolled a 1! Trun done!\n",
      "Your total score is: 0\n",
      "\n",
      "Player number 2 turn has just started!\n",
      "Your total score is: 0 \n",
      "\n",
      "Would you like to roll (y)? y\n",
      "You rolled a: 5\n",
      "You score is: 5\n",
      "Would you like to roll (y)? y\n",
      "You rolled a: 4\n",
      "You score is: 9\n",
      "Would you like to roll (y)? y\n",
      "You rolled a: 2\n",
      "You score is: 11\n",
      "Would you like to roll (y)? y\n",
      "You rolled a: 4\n",
      "You score is: 15\n",
      "Would you like to roll (y)? y\n",
      "You rolled a: 3\n",
      "You score is: 18\n",
      "Would you like to roll (y)? y\n",
      "You rolled a: 2\n",
      "You score is: 20\n",
      "Would you like to roll (y)? y\n",
      "You rolled a: 5\n",
      "You score is: 25\n",
      "Would you like to roll (y)? y\n",
      "You rolled a 1! Trun done!\n",
      "Your total score is: 0\n",
      "\n",
      "Player number 3 turn has just started!\n",
      "Your total score is: 0 \n",
      "\n",
      "Would you like to roll (y)? y\n",
      "You rolled a: 4\n",
      "You score is: 4\n",
      "Would you like to roll (y)? y\n",
      "You rolled a: 3\n",
      "You score is: 7\n",
      "Would you like to roll (y)? y\n",
      "You rolled a: 5\n",
      "You score is: 12\n",
      "Would you like to roll (y)? y\n",
      "You rolled a: 2\n",
      "You score is: 14\n",
      "Would you like to roll (y)? y\n",
      "You rolled a: 2\n",
      "You score is: 16\n",
      "Would you like to roll (y)? y\n",
      "You rolled a: 6\n",
      "You score is: 22\n",
      "Would you like to roll (y)? y\n",
      "You rolled a: 2\n",
      "You score is: 24\n",
      "Would you like to roll (y)? y\n",
      "You rolled a: 5\n",
      "You score is: 29\n",
      "Would you like to roll (y)? y\n",
      "You rolled a: 4\n",
      "You score is: 33\n",
      "Would you like to roll (y)? y\n",
      "You rolled a: 3\n",
      "You score is: 36\n",
      "Would you like to roll (y)? y\n",
      "You rolled a: 2\n",
      "You score is: 38\n",
      "Would you like to roll (y)? y\n",
      "You rolled a: 2\n",
      "You score is: 40\n",
      "Would you like to roll (y)? y\n",
      "You rolled a: 2\n",
      "You score is: 42\n",
      "Would you like to roll (y)? yy\n",
      "Your total score is: 42\n",
      "\n",
      "Player number 1 turn has just started!\n",
      "Your total score is: 0 \n",
      "\n",
      "Would you like to roll (y)? \n",
      "Your total score is: 0\n",
      "\n",
      "Player number 2 turn has just started!\n",
      "Your total score is: 0 \n",
      "\n",
      "Would you like to roll (y)? y\n",
      "You rolled a: 2\n",
      "You score is: 2\n",
      "Would you like to roll (y)? y\n",
      "You rolled a 1! Trun done!\n",
      "Your total score is: 0\n",
      "\n",
      "Player number 3 turn has just started!\n",
      "Your total score is: 42 \n",
      "\n",
      "Would you like to roll (y)? y\n",
      "You rolled a: 5\n",
      "You score is: 5\n",
      "Would you like to roll (y)? y\n",
      "You rolled a: 4\n",
      "You score is: 9\n",
      "Would you like to roll (y)? y\n",
      "You rolled a: 3\n",
      "You score is: 12\n",
      "Would you like to roll (y)? y\n",
      "You rolled a: 4\n",
      "You score is: 16\n",
      "Would you like to roll (y)? y\n",
      "You rolled a: 2\n",
      "You score is: 18\n",
      "Would you like to roll (y)? y\n",
      "You rolled a: 4\n",
      "You score is: 22\n",
      "Would you like to roll (y)? y\n",
      "You rolled a: 2\n",
      "You score is: 24\n",
      "Would you like to roll (y)? y\n",
      "You rolled a: 2\n",
      "You score is: 26\n",
      "Would you like to roll (y)? y\n",
      "You rolled a: 5\n",
      "You score is: 31\n",
      "Would you like to roll (y)? yy\n",
      "Your total score is: 73\n",
      "Player number 3 is the winner with a score of: 73\n"
     ]
    }
   ],
   "source": [
    "import random\n",
    "\n",
    "\n",
    "\n",
    "def  roll():\n",
    "    min_value = 1\n",
    "    max_value = 6\n",
    "    roll = random.randint(min_value,max_value)\n",
    "    \n",
    "    return roll\n",
    "\n",
    "while True:\n",
    "    players = input(\"Enter the number of players (2 - 4): \")\n",
    "    if players .isdigit():\n",
    "        players = int(players)\n",
    "        if 2 <= players <= 4:\n",
    "           # print(\"Must be between 2 - 4 players.\")\n",
    "            break\n",
    "        else:\n",
    "            print(\"Must be between 2 - 4 players.\")\n",
    "            \n",
    "    else:\n",
    "        print(\"Invalid, try again.\")\n",
    "        \n",
    "#print(players)    \n",
    "max_scores = 50\n",
    "player_scores = [0 for _ in range(players)]   # put underscorse because variable not use\n",
    "\n",
    "#print(player_scores)\n",
    "\n",
    "while max(player_scores) < max_scores:\n",
    "    \n",
    "    for player_idx in range(players):\n",
    "        print(\"\\nPlayer number\",player_idx + 1,\"turn has just started!\")\n",
    "        print(\"Your total score is:\", player_scores[player_idx],\"\\n\")\n",
    "        current_score = 0\n",
    "        \n",
    "        while True:\n",
    "            should_roll = input(\"Would you like to roll (y)? \")\n",
    "            if should_roll.lower() != \"y\":\n",
    "                break \n",
    "            \n",
    "            value = roll()\n",
    "            if value == 1:\n",
    "                print(\"You rolled a 1! Turn done!\")\n",
    "                current_score = 0\n",
    "                break\n",
    "            else:\n",
    "                current_score += value\n",
    "                print(\"You rolled a:\", value)\n",
    "            \n",
    "            print(\"Your score is:\", current_score)    \n",
    "            \n",
    "        \n",
    "        player_scores[player_idx] += current_score\n",
    "        print(\"Your total score is:\",player_scores[player_idx])\n",
    "        \n",
    "max_score = max(player_scores)\n",
    "winning_idx = player_scores.index(max_score)\n",
    "print(\"Player number\", winning_idx + 1,\"is the winner with a score of:\",max_score)"
   ]
  },
  {
   "cell_type": "markdown",
   "id": "c1c6564f",
   "metadata": {},
   "source": [
    "# PROJECT # 02 MATH PROBLEM GENERATOR"
   ]
  },
  {
   "cell_type": "code",
   "execution_count": 4,
   "id": "ba1af304",
   "metadata": {},
   "outputs": [
    {
     "name": "stdout",
     "output_type": "stream",
     "text": [
      "Press enter to start!\n",
      "-----------------\n",
      "Problem #1: 4 - 12 = -8\n",
      "Problem #2: 10 + 11 = 21\n",
      "Problem #3: 11 * 8 = 88\n",
      "Problem #4: 7 + 12 = 19\n",
      "Problem #5: 5 * 11 = 55\n",
      "Problem #6: 11 + 4 = 15\n",
      "Problem #7: 7 - 4 = 3\n",
      "Problem #8: 4 + 9 = 13\n",
      "Problem #9: 7 * 12 = 84\n",
      "Problem #10: 7 + 6 = 13\n",
      "-------------\n",
      "Nice work! You finished in 34.57 seconds!\n"
     ]
    }
   ],
   "source": [
    "import random\n",
    "import time \n",
    "\n",
    "\n",
    "OPERATORS = [\"+\",\"-\",\"*\"]\n",
    "MIN_OPERAND = 3\n",
    "MAX_OPERAND = 12\n",
    "TOTAL_PROBLEMS = 10\n",
    "\n",
    "def generate_math_problem():\n",
    "    left = random.randint(MIN_OPERAND,MAX_OPERAND)\n",
    "    right = random.randint(MIN_OPERAND,MAX_OPERAND)\n",
    "    operator = random.choice(OPERATORS)\n",
    "    \n",
    "    expr = str(left) + \" \" + operator + \" \" + str(right)\n",
    "    answer = eval(expr)  #eval funtion used to evaluate a string if its apython expression\n",
    "    #print(expr)\n",
    "    return expr ,answer\n",
    "\n",
    "wrong = 0\n",
    "input(\"Press enter to start!\")\n",
    "print(\"-----------------\") \n",
    "\n",
    "start_time = time.time()\n",
    "    \n",
    "for i in range(TOTAL_PROBLEMS):\n",
    "    expr,answer = generate_math_problem()\n",
    "   # print(\"Problem #\"+ str( i + 1) + \": \" + expr)\n",
    "    while True:\n",
    "        guess = input(\"Problem #\"+ str( i + 1) + \": \" + expr + \" = \")\n",
    "        if guess == str(answer):\n",
    "            break\n",
    "        wrong += 1 \n",
    "        \n",
    "end_time = time.time() \n",
    "total_time = round(end_time - start_time,2)\n",
    "print(\"-------------\")  \n",
    "print(\"Nice work! You finished in\", total_time,\"seconds!\")\n",
    "\n",
    "expr,answer = generate_math_problem()    \n",
    "#print(expr,answer)   "
   ]
  },
  {
   "cell_type": "markdown",
   "id": "45fe39af",
   "metadata": {},
   "source": [
    "# PROJECT #03 QUIZ GAME"
   ]
  },
  {
   "cell_type": "code",
   "execution_count": 1,
   "id": "3640ad92",
   "metadata": {},
   "outputs": [
    {
     "name": "stdout",
     "output_type": "stream",
     "text": [
      "Welcome to the quiz game!\n",
      "Do you want to play? yes\n",
      "Okay! Let's play :)\n",
      "What is the full name of Pakistan? islamic republic of pakistan\n",
      "Correct!\n",
      "Which is the capital city of Pakistan? islamabad\n",
      "Correct!\n",
      "Which is the biggest city of Pakistan? karachi\n",
      "Correct!\n",
      "You got 3 questions correct!\n",
      "You got 100.0%.\n"
     ]
    }
   ],
   "source": [
    "print(\"Welcome to the quiz game!\")\n",
    "\n",
    "playing = input(\"Do you want to play? \")\n",
    "\n",
    "if playing.lower() != \"yes\":\n",
    "    quit()\n",
    "    \n",
    "    \n",
    "print(\"Okay! Let's play :)\")  \n",
    "score = 0\n",
    "\n",
    "answer = input(\"What is the full name of Pakistan? \")\n",
    "if answer.title() == \"Islamic Republic Of Pakistan\":\n",
    "    print(\"Correct!\")\n",
    "    score += 1\n",
    "else:\n",
    "    print(\"Incorrect!\")\n",
    "    \n",
    "answer = input(\"Which is the capital city of Pakistan? \")\n",
    "if answer.title() == \"Islamabad\":\n",
    "    print(\"Correct!\")\n",
    "    score += 1\n",
    "else:\n",
    "    print(\"Incorrect!\")\n",
    "    \n",
    "answer = input(\"Which is the biggest city of Pakistan? \")\n",
    "if answer.title() == \"Karachi\":\n",
    "    print(\"Correct!\")\n",
    "    score += 1\n",
    "else:\n",
    "    print(\"Incorrect!\")    \n",
    "    \n",
    "    \n",
    "print(\"You got \" + str(score) + \" questions correct!\")    \n",
    "print(\"You got \" + str((score/3) * 100) + \"%.\")    "
   ]
  },
  {
   "cell_type": "markdown",
   "id": "c2d9ee25",
   "metadata": {},
   "source": [
    "# PROJECT # 04 NUMBER GUESSING GAME"
   ]
  },
  {
   "cell_type": "code",
   "execution_count": 1,
   "id": "f5957359",
   "metadata": {},
   "outputs": [
    {
     "name": "stdout",
     "output_type": "stream",
     "text": [
      "Type a number: 2\n",
      "Make a guess: 1\n",
      "You were above the number\n",
      "Make a guess: 0\n",
      "You got it!\n",
      "You got it in 2 guesses\n"
     ]
    }
   ],
   "source": [
    "import random\n",
    "\n",
    "\n",
    "top_of_range = input(\"Type a number: \")\n",
    "\n",
    "if top_of_range.isdigit():\n",
    "    top_of_range = int(top_of_range)\n",
    "    \n",
    "    if top_of_range <= 0:\n",
    "        print(\"Please type a number larger than 0 next time.\")\n",
    "        quit()\n",
    "        \n",
    "else:\n",
    "    print(\"Please type a number next time.\")\n",
    "    quit()\n",
    "\n",
    "random_number = random.randint(0,top_of_range)\n",
    "guesses = 0\n",
    "#r = random.randrange(-5,11)\n",
    "#rint(random_number)\n",
    "while True:\n",
    "    guesses += 1\n",
    "    user_guess = input(\"Make a guess: \")\n",
    "    if user_guess.isdigit():\n",
    "        user_guess = int(user_guess)\n",
    "    else:\n",
    "        print(\"Please type a number next time.\")\n",
    "        continue\n",
    "       \n",
    "    if user_guess == random_number:\n",
    "        print(\"You got it!\")\n",
    "        break\n",
    "    #else:\n",
    "    elif user_guess > random_number:\n",
    "        print(\"You were above the number\")\n",
    "    else:\n",
    "         print(\"You were below the number!\")\n",
    "\n",
    "print(\"You got it in\", guesses,\"guesses\")\n",
    "        "
   ]
  },
  {
   "cell_type": "markdown",
   "id": "8728d8fd",
   "metadata": {},
   "source": [
    "# PROJECT #05 ROCK,PAPER,SCISSOR"
   ]
  },
  {
   "cell_type": "code",
   "execution_count": 3,
   "id": "cc0bf147",
   "metadata": {},
   "outputs": [
    {
     "name": "stdout",
     "output_type": "stream",
     "text": [
      "Type Rock/Paper/Scissors oor Q to quit: rock\n",
      "Computer picked paper.\n",
      "You lost!\n",
      "Type Rock/Paper/Scissors oor Q to quit: paper\n",
      "Computer picked paper.\n",
      "You lost!\n",
      "Type Rock/Paper/Scissors oor Q to quit: scissors\n",
      "Computer picked rock.\n",
      "You lost!\n",
      "Type Rock/Paper/Scissors oor Q to quit: rock\n",
      "Computer picked scissors.\n",
      "You won!\n",
      "Type Rock/Paper/Scissors oor Q to quit: paper\n",
      "Computer picked scissors.\n",
      "You lost!\n",
      "Type Rock/Paper/Scissors oor Q to quit: q\n",
      "You won 1 times.\n",
      "The computer won 4 times.\n",
      "Goodbye!\n"
     ]
    }
   ],
   "source": [
    "import random\n",
    "\n",
    "user_wins = 0\n",
    "computer_wins = 0\n",
    "\n",
    "options = [\"rock\",\"paper\",\"scissors\"]\n",
    "\n",
    "while True:\n",
    "    user_input = input(\"Type Rock/Paper/Scissors oor Q to quit: \").lower()\n",
    "    if user_input == \"q\":\n",
    "        break\n",
    "        \n",
    "    if user_input not in options:\n",
    "        continue\n",
    "        \n",
    "    random_number = random.randint(0,2)   \n",
    "     # rock: 0, paper: 1, scissors: 2  \n",
    "    computer_pick = options[random_number]\n",
    "    print(\"Computer picked\", computer_pick + \".\")\n",
    "    \n",
    "    if user_input == \"rock\" and computer_pick == \"scissors\":\n",
    "        print(\"You won!\")\n",
    "        user_wins += 1\n",
    "        \n",
    "    elif user_input == \"paper\" and computer_pick == \"rock\":\n",
    "        print(\"You won!\")\n",
    "        user_wins += 1\n",
    "        \n",
    "    elif user_input == \"scissors\" and computer_pick == \"pa\":\n",
    "        print(\"You won!\")\n",
    "        user_wins += 1\n",
    "        \n",
    "    else:\n",
    "      print(\"You lost!\")\n",
    "      computer_wins += 1\n",
    "    \n",
    "print(\"You won\", user_wins,\"times.\")\n",
    "print(\"The computer won\",computer_wins,\"times.\")\n",
    "print(\"Goodbye!\")        \n",
    "        "
   ]
  },
  {
   "cell_type": "markdown",
   "id": "1fe55488",
   "metadata": {},
   "source": [
    "# PROJECT # 06 CHOOSE YOUR OWN ADVENTURE"
   ]
  },
  {
   "cell_type": "code",
   "execution_count": 3,
   "id": "c2e116f6",
   "metadata": {},
   "outputs": [
    {
     "name": "stdout",
     "output_type": "stream",
     "text": [
      "Type your name: go\n",
      "Welcome go to this adventure!\n",
      "You are on a dirt road, it has come to end and you can go left or right. Which way would you like to go? right\n",
      "You come to bridge, it looks woobly, do you want to cross it or head back (cross/back)? back\n",
      "You go back and lose.\n",
      "Thank you for trying go\n"
     ]
    }
   ],
   "source": [
    "name = input(\"Type your name: \")\n",
    "print(\"Welcome\", name, \"to this adventure!\")\n",
    "\n",
    "answer = input(\n",
    "    \"You are on a dirt road, it has come to end and you can go left or right. Which way would you like to go? \").lower()\n",
    "\n",
    "if answer == \"left\":\n",
    "    answer = input(\"You come to river, you can walk around it or swim across? Type walk to walk around and swim to swim across: \")\n",
    "    \n",
    "    if  answer == \"swim\":\n",
    "        print(\"You swam across and eaten by an alligator.\")\n",
    "    elif answer == \"walk\":\n",
    "         print(\"You walked many miles, ran out of water and you lost the game.  \")\n",
    "    else:\n",
    "        print(\"Not a valid option, You lose.\")\n",
    "        \n",
    "elif answer == \"right\":\n",
    "    answer = input(\"You come to bridge, it looks woobly, do you want to cross it or head back (cross/back)? \")\n",
    "    \n",
    "    if  answer == \"back\":\n",
    "        print(\"You go back and lose.\")\n",
    "    elif answer == \"cross\":\n",
    "        answer = input(\"You cross the bridge and meet a stranger. Do you talk to them (yes/no)? \")\n",
    "            \n",
    "        if answer == \"yes\":\n",
    "            print(\"You talk to the stanger and they give you gold. You WIN! \")\n",
    "            \n",
    "        elif answer == \"no\":\n",
    "            print(\"You ignore the stranger and they are offended and you lose.\")\n",
    "         \n",
    "        else:\n",
    "            print(\"Not a valid option, You lose.\")\n",
    "    \n",
    "           \n",
    "            \n",
    "    else:\n",
    "        print(\"Not a valid option, You lose.\")\n",
    "        \n",
    "else:\n",
    "    print(\"Not a valid option, You lose.\")\n",
    "\n",
    "print(\"Thank you for trying\", name)"
   ]
  },
  {
   "cell_type": "markdown",
   "id": "a9e2b5c5",
   "metadata": {},
   "source": [
    "# PROJECT # 07 PASSWORD MANAGER"
   ]
  },
  {
   "cell_type": "code",
   "execution_count": 2,
   "id": "b6d354fe",
   "metadata": {},
   "outputs": [
    {
     "name": "stdout",
     "output_type": "stream",
     "text": [
      "Would you like to add a new password or view existing ones(view, add), press q to quit? rozina\n",
      "Invalid mode\n",
      "Would you like to add a new password or view existing ones(view, add), press q to quit? add\n",
      "Account Name: box\n",
      "Password: 151611\n",
      "Would you like to add a new password or view existing ones(view, add), press q to quit? view\n",
      "User: box | Password: 151611\n",
      "Would you like to add a new password or view existing ones(view, add), press q to quit? crd\n",
      "Invalid mode\n",
      "Would you like to add a new password or view existing ones(view, add), press q to quit? view\n",
      "User: box | Password: 151611\n",
      "Would you like to add a new password or view existing ones(view, add), press q to quit? q\n"
     ]
    }
   ],
   "source": [
    "from cryptography.fernet import Fernet\n",
    "\n",
    "\n",
    "def write_key():\n",
    "    key = Fernet.generate_key()\n",
    "    with open(\"key.key\",\"wb\") as key_file:\n",
    "        key_file.write(key)\n",
    "        \n",
    "        \n",
    "def load_key():\n",
    "    file = open(\"key.key\",\"rb\")\n",
    "    key = file.read()\n",
    "    file.close()\n",
    "    return key\n",
    "\n",
    "\n",
    "key = load_key()\n",
    "fer = Fernet(key)\n",
    "\n",
    "\n",
    "def view():\n",
    "    with open(\"passwords.txt\",\"r\") as f:\n",
    "        for line in f.readlines():\n",
    "            data = line.rstrip()\n",
    "            user, passw = data.split(\"|\")\n",
    "            print(\"User:\", user, \"| Password:\",\n",
    "                 fer.decrypt(passw.encode()).decode())\n",
    "            \n",
    "            \n",
    "def add():\n",
    "    name = input(\"Account Name: \")\n",
    "    pwd = input(\"Password: \")\n",
    "    \n",
    "    with open(\"passwords.txt\", \"a\") as f:\n",
    "        f.write(name + \"|\" + fer.encrypt(pwd.encode()).decode() +\"\\n\")\n",
    "                \n",
    "                \n",
    "while True:\n",
    "    mode = input(\"Would you like to add a new password or view existing ones(view, add), press q to quit? \").lower()\n",
    "    if mode == \"q\":\n",
    "       break\n",
    "                \n",
    "                \n",
    "    if mode == \"view\":\n",
    "        view()    \n",
    "    elif mode == \"add\":\n",
    "        add()   \n",
    "    else:\n",
    "        print(\"Invalid mode\")\n",
    "        continue"
   ]
  },
  {
   "cell_type": "markdown",
   "id": "c7cf2eaa",
   "metadata": {},
   "source": [
    "# BMI Calculator with Python"
   ]
  },
  {
   "cell_type": "code",
   "execution_count": 1,
   "id": "17fd8f37",
   "metadata": {},
   "outputs": [
    {
     "name": "stdout",
     "output_type": "stream",
     "text": [
      "Enter your height in centimeters: 180\n",
      "Enter your weight in Kg: 50\n",
      "your Body Mass Index is:  15.432098765432098\n",
      "you are severely underweight\n"
     ]
    }
   ],
   "source": [
    "#https://medium.com/coders-camp/60-python-projects-with-source-code-919cd8a6e512\n",
    "Height = float(input('Enter your height in centimeters: '))\n",
    "Weight = float(input('Enter your weight in Kg: '))\n",
    "Height = Height/100\n",
    "BMI = Weight/(Height*Height)\n",
    "print('your Body Mass Index is: ', BMI)\n",
    "if(BMI>0):\n",
    "    if(BMI<=16):\n",
    "        print('you are severely underweight')\n",
    "    elif(BMI<= 18.5):\n",
    "        print('you are underweight')\n",
    "    elif(BMI<=25):\n",
    "        print('you are Healthy')\n",
    "    elif(BMI<=30):\n",
    "        print('you are overweight')\n",
    "    else: print('you are severely overweight')\n",
    "else:('enter valid details')       "
   ]
  },
  {
   "cell_type": "markdown",
   "id": "dc73d946",
   "metadata": {},
   "source": [
    "# Acronyms using Python"
   ]
  },
  {
   "cell_type": "code",
   "execution_count": 2,
   "id": "bda63d3a",
   "metadata": {},
   "outputs": [
    {
     "name": "stdout",
     "output_type": "stream",
     "text": [
      "Enter a Phrase: computer science\n",
      " CS\n"
     ]
    }
   ],
   "source": [
    "user_input = str(input('Enter a Phrase: '))\n",
    "text = user_input.split()\n",
    "a = ' '\n",
    "for i in text:\n",
    "    a = a+str(i[0].upper())\n",
    "print(a)    "
   ]
  },
  {
   "cell_type": "markdown",
   "id": "3a901337",
   "metadata": {},
   "source": [
    "# Alarm Clock with Python"
   ]
  },
  {
   "cell_type": "code",
   "execution_count": 6,
   "id": "8a083e2d",
   "metadata": {},
   "outputs": [
    {
     "name": "stdout",
     "output_type": "stream",
     "text": [
      "Collecting playsound\n",
      "  Downloading playsound-1.3.0.tar.gz (7.7 kB)\n",
      "  Preparing metadata (setup.py): started\n",
      "  Preparing metadata (setup.py): finished with status 'done'\n",
      "Building wheels for collected packages: playsound\n",
      "  Building wheel for playsound (setup.py): started\n",
      "  Building wheel for playsound (setup.py): finished with status 'done'\n",
      "  Created wheel for playsound: filename=playsound-1.3.0-py3-none-any.whl size=7046 sha256=6681a088fdcc26ca909c5ba59a9d328690d43b2612f595f575d9f389a4aa2d78\n",
      "  Stored in directory: c:\\users\\admin\\appdata\\local\\pip\\cache\\wheels\\50\\98\\42\\62753a9e1fb97579a0ce2f84f7db4c21c09d03bb2091e6cef4\n",
      "Successfully built playsound\n",
      "Installing collected packages: playsound\n",
      "Successfully installed playsound-1.3.0\n",
      "Note: you may need to restart the kernel to use updated packages.\n"
     ]
    }
   ],
   "source": [
    "pip install playsound"
   ]
  },
  {
   "cell_type": "code",
   "execution_count": 1,
   "id": "3091641a",
   "metadata": {},
   "outputs": [],
   "source": [
    "import playsound as ps"
   ]
  },
  {
   "cell_type": "code",
   "execution_count": null,
   "id": "16f0b9ff",
   "metadata": {},
   "outputs": [
    {
     "name": "stdout",
     "output_type": "stream",
     "text": [
      "Enter the time of alarm to be set :HH:SS\n",
      "12:10 am\n",
      "Setting up alarm..\n"
     ]
    }
   ],
   "source": [
    "from datetime import datetime\n",
    "from playsound import  playsound\n",
    "alarm_time = input('Enter the time of alarm to be set :HH:SS\\n')\n",
    "alarm_hour = alarm_time[0:2]\n",
    "alarm_minute = alarm_time[3:5]\n",
    "alarm_seconds = alarm_time[6:8]\n",
    "alarm_period = alarm_time[9:11].upper()\n",
    "print('Setting up alarm..')\n",
    "while True:\n",
    "    now = datetime.now()\n",
    "    current_hour = now.strftime('%I')\n",
    "    current_minute = now.strftime('%M')\n",
    "    current_seconds = now.strftime('%S')\n",
    "    current_period = now.strftime('%p')\n",
    "    if(alarm_period == current_period):\n",
    "        if(alarm_hour == current_hour):\n",
    "            if(alarm_minute == current_minute):\n",
    "                if(alarm_seconds == current_seconds):\n",
    "                    print('Wake Up!')\n",
    "                    playsound('audio.mp3')\n",
    "                    break\n",
    "    "
   ]
  },
  {
   "cell_type": "markdown",
   "id": "d44b1233",
   "metadata": {},
   "source": [
    "# Email Slicer with Python"
   ]
  },
  {
   "cell_type": "code",
   "execution_count": 2,
   "id": "eb2386f8",
   "metadata": {},
   "outputs": [
    {
     "name": "stdout",
     "output_type": "stream",
     "text": [
      "Enter Your Email: moonlight456@gmail.com\n",
      "Your user name is 'moonlight456' and your domain is 'gmail.com'\n"
     ]
    }
   ],
   "source": [
    "email = input('Enter Your Email: ').strip()\n",
    "username = email[:email.index('@')]\n",
    "domain_name = email[email.index('@')+1:]\n",
    "format_ = (f\"Your user name is '{username}' and your domain is '{domain_name}'\")\n",
    "print(format_)"
   ]
  },
  {
   "cell_type": "markdown",
   "id": "a17ace7f",
   "metadata": {},
   "source": [
    "# Story Generator with Python"
   ]
  },
  {
   "cell_type": "code",
   "execution_count": 15,
   "id": "79d81439",
   "metadata": {},
   "outputs": [
    {
     "name": "stdout",
     "output_type": "stream",
     "text": [
      "Yesterday, a rabbit that lived in London, went to the seminar and made a lot of friends\n"
     ]
    }
   ],
   "source": [
    "import random\n",
    "when = ['A few years ago', 'Yesterday', 'Last night', 'A long time ago', 'On 20th Jan']\n",
    "who = ['a rabbit', 'an elephant', 'a mouse', 'a turtle', 'a cat']\n",
    "name = ['Alan', 'Johnson', 'David', 'Daisy', 'Rose']\n",
    "residence = ['Barcelona', 'India', 'Amsterdam', 'Bulgaria', 'London']\n",
    "went = ['cinema', 'university', 'seminar', 'school', 'laundry']\n",
    "happened = ['made a lot of friends', 'Eats a burger', 'found a secret key', 'solved a mistery', 'wrote a book' ]\n",
    "print(random.choice(when) + ', ' + random.choice(who) + ' that lived in ' + random.choice(residence) + ', went to the ' + random.choice(went) + ' and ' + random.choice(happened))"
   ]
  },
  {
   "cell_type": "markdown",
   "id": "eaa04a21",
   "metadata": {},
   "source": [
    "# Generate Password with Python"
   ]
  },
  {
   "cell_type": "code",
   "execution_count": 18,
   "id": "5ce8e781",
   "metadata": {},
   "outputs": [
    {
     "name": "stdout",
     "output_type": "stream",
     "text": [
      "Enter the length of password10\n",
      "?7lnmW#BPQ\n"
     ]
    }
   ],
   "source": [
    "import random\n",
    "passlen = int(input('Enter the length of password'))\n",
    "s = 'abcdefghijklmnopqrstuvwxyz01234567890ABCDEFGHIJKLMNOPQRSTUVWXYZ!@#$%^&*()?'\n",
    "p = \"\".join(random.sample(s, passlen))\n",
    "print(p)"
   ]
  },
  {
   "cell_type": "markdown",
   "id": "20b42ca9",
   "metadata": {},
   "source": [
    "# Rock Paper and Scissors with Python"
   ]
  },
  {
   "cell_type": "code",
   "execution_count": 24,
   "id": "680b552e",
   "metadata": {},
   "outputs": [
    {
     "name": "stdout",
     "output_type": "stream",
     "text": [
      "Rock, Paper or Scissors?rock\n",
      "You lose! Paper çovers Rock\n",
      "Rock, Paper or Scissors?paper\n",
      "Tie!\n",
      "Rock, Paper or Scissors?scissors\n",
      "You win! Scissors cut Paper\n",
      "Rock, Paper or Scissors?rock\n",
      "You lose! Paper çovers Rock\n",
      "Rock, Paper or Scissors?paper\n",
      "Tie!\n",
      "Rock, Paper or Scissors?end\n",
      "Final Scores:\n",
      "CPU:2\n",
      "Player:1\n"
     ]
    }
   ],
   "source": [
    "import random \n",
    "choices = ['Rock', 'Paper', 'Scissors']\n",
    "computer = random.choice(choices)\n",
    "player = False\n",
    "cpu_score = 0\n",
    "player_score = 0\n",
    "while True:\n",
    "    player = input('Rock, Paper or Scissors?').capitalize()\n",
    "    ## Conditions of Rock, Paper and Scissors\n",
    "    if player == computer:\n",
    "        print('Tie!')\n",
    "    elif player == 'Rock':\n",
    "        if computer == 'Paper':\n",
    "            print('You lose!', computer, 'çovers', player)\n",
    "            cpu_score += 1\n",
    "        else:\n",
    "            print('You win!', player, 'smashes', computer)\n",
    "            player_score += 1\n",
    "    elif player == 'Paper':\n",
    "        if computer == 'Scissors':\n",
    "            print('You lose!', computer, 'cut', player)\n",
    "            cpu_score += 1\n",
    "        else:\n",
    "            print('You win!', player, 'çovers', computer)\n",
    "            player_score += 1\n",
    "    elif player == 'Scissors':\n",
    "        if computer == 'Rock':\n",
    "            print('you lose...', computer, 'smashes', player)\n",
    "            cpu_score += 1\n",
    "        else:\n",
    "            print('You win!', player, 'cut', computer)\n",
    "            player_score += 1\n",
    "    elif player == 'End':\n",
    "        print('Final Scores:')\n",
    "        print(f'CPU:{cpu_score}')\n",
    "        print(f\"Player:{player_score}\")\n",
    "        break\n",
    "        "
   ]
  },
  {
   "cell_type": "markdown",
   "id": "0de19f0e",
   "metadata": {},
   "source": [
    "# Dice Roll Simulator with Python"
   ]
  },
  {
   "cell_type": "code",
   "execution_count": 28,
   "id": "df92d874",
   "metadata": {},
   "outputs": [
    {
     "name": "stdout",
     "output_type": "stream",
     "text": [
      "Rolling The Dices...\n",
      "The Values are :\n",
      "1\n",
      "2\n",
      "Roll the Dices Again?yes\n",
      "Rolling The Dices...\n",
      "The Values are :\n",
      "5\n",
      "5\n",
      "Roll the Dices Again?yes\n",
      "Rolling The Dices...\n",
      "The Values are :\n",
      "2\n",
      "5\n",
      "Roll the Dices Again?y\n",
      "Rolling The Dices...\n",
      "The Values are :\n",
      "5\n",
      "6\n",
      "Roll the Dices Again?y\n",
      "Rolling The Dices...\n",
      "The Values are :\n",
      "1\n",
      "6\n",
      "Roll the Dices Again?y\n",
      "Rolling The Dices...\n",
      "The Values are :\n",
      "2\n",
      "5\n",
      "Roll the Dices Again?y\n",
      "Rolling The Dices...\n",
      "The Values are :\n",
      "6\n",
      "2\n",
      "Roll the Dices Again?l\n"
     ]
    }
   ],
   "source": [
    "# impoting module for random nummber generator\n",
    "import random\n",
    "\n",
    "# range of the values of a dice\n",
    "min_val = 1\n",
    "max_val = 6\n",
    "\n",
    "#to loop the rolling through user input\n",
    "roll_again = 'yes'\n",
    "\n",
    "#loop\n",
    "while roll_again == 'yes' or roll_again == 'y':\n",
    "    print('Rolling The Dices...')\n",
    "    print('The Values are :')\n",
    "    \n",
    "    # generating and printing 1st random integer from 1 to 6\n",
    "    print(random.randint(min_val, max_val))\n",
    "    \n",
    "    # generating and printing 2nd random integern from 1 to 6\n",
    "    print(random.randint(min_val, max_val))\n",
    "    \n",
    "    # asking user to roll the dice again. Any input other than yes or y will terminate the loop\n",
    "    roll_again = input('Roll the Dices Again?')"
   ]
  },
  {
   "cell_type": "markdown",
   "id": "e7c0075c",
   "metadata": {},
   "source": [
    "# QR Code Generator# 01"
   ]
  },
  {
   "cell_type": "code",
   "execution_count": 30,
   "id": "23f9d122",
   "metadata": {},
   "outputs": [
    {
     "name": "stdout",
     "output_type": "stream",
     "text": [
      "Collecting pyqrcode\n",
      "  Downloading PyQRCode-1.2.1.zip (41 kB)\n",
      "     ---------------------------------------- 0.0/41.9 kB ? eta -:--:--\n",
      "     ---------------------------------------  41.0/41.9 kB ? eta -:--:--\n",
      "     ---------------------------------------  41.0/41.9 kB ? eta -:--:--\n",
      "     ---------------------------------------  41.0/41.9 kB ? eta -:--:--\n",
      "     ---------------------------------------  41.0/41.9 kB ? eta -:--:--\n",
      "     ---------------------------------------  41.0/41.9 kB ? eta -:--:--\n",
      "     ---------------------------------------  41.0/41.9 kB ? eta -:--:--\n",
      "     ---------------------------------------  41.0/41.9 kB ? eta -:--:--\n",
      "     ---------------------------------------  41.0/41.9 kB ? eta -:--:--\n",
      "     ---------------------------------------  41.0/41.9 kB ? eta -:--:--\n",
      "     --------------------------------------- 41.9/41.9 kB 75.1 kB/s eta 0:00:00\n",
      "  Preparing metadata (setup.py): started\n",
      "  Preparing metadata (setup.py): finished with status 'done'\n",
      "Building wheels for collected packages: pyqrcode\n",
      "  Building wheel for pyqrcode (setup.py): started\n",
      "  Building wheel for pyqrcode (setup.py): finished with status 'done'\n",
      "  Created wheel for pyqrcode: filename=PyQRCode-1.2.1-py3-none-any.whl size=36240 sha256=5b9adf5696fdc77d8b2a85a26518389d40e7178ca2ad8b075bfcdfb86263dc26\n",
      "  Stored in directory: c:\\users\\admin\\appdata\\local\\pip\\cache\\wheels\\f5\\db\\22\\ade11e0c0854d1bb2fcc673dc90f6495ee2c0d2b6eb41492e3\n",
      "Successfully built pyqrcode\n",
      "Installing collected packages: pyqrcode\n",
      "Successfully installed pyqrcode-1.2.1\n",
      "Note: you may need to restart the kernel to use updated packages.\n"
     ]
    }
   ],
   "source": [
    "pip install pyqrcode"
   ]
  },
  {
   "cell_type": "code",
   "execution_count": 44,
   "id": "c260b00d",
   "metadata": {},
   "outputs": [],
   "source": [
    "import pyqrcode\n",
    "from pyqrcode import QRCode\n",
    "\n",
    "#String which represent the QR code\n",
    "s = 'https://www.youtube.com/channel/UCeO9hPCfRzqb2yTuAn713Mg'\n",
    "\n",
    "# Generate QR code\n",
    "url = pyqrcode.create(s)\n",
    "\n",
    "# Create and save thhe png file naming 'myqr.png'\n",
    "url.svg('myyoutube.svg', scale = 8)"
   ]
  },
  {
   "cell_type": "markdown",
   "id": "21b7b99f",
   "metadata": {},
   "source": [
    "# QR code Generator # 02"
   ]
  },
  {
   "cell_type": "code",
   "execution_count": 46,
   "id": "5ff657b2",
   "metadata": {},
   "outputs": [
    {
     "name": "stdout",
     "output_type": "stream",
     "text": [
      "Collecting qrcode\n",
      "  Obtaining dependency information for qrcode from https://files.pythonhosted.org/packages/24/79/aaf0c1c7214f2632badb2771d770b1500d3d7cbdf2590ae62e721ec50584/qrcode-7.4.2-py3-none-any.whl.metadata\n",
      "  Downloading qrcode-7.4.2-py3-none-any.whl.metadata (17 kB)\n",
      "Requirement already satisfied: typing-extensions in c:\\users\\admin\\rover\\lib\\site-packages (from qrcode) (4.7.1)\n",
      "Collecting pypng (from qrcode)\n",
      "  Obtaining dependency information for pypng from https://files.pythonhosted.org/packages/3e/b9/3766cc361d93edb2ce81e2e1f87dd98f314d7d513877a342d31b30741680/pypng-0.20220715.0-py3-none-any.whl.metadata\n",
      "  Downloading pypng-0.20220715.0-py3-none-any.whl.metadata (13 kB)\n",
      "Requirement already satisfied: colorama in c:\\users\\admin\\rover\\lib\\site-packages (from qrcode) (0.4.6)\n",
      "Downloading qrcode-7.4.2-py3-none-any.whl (46 kB)\n",
      "   ---------------------------------------- 0.0/46.2 kB ? eta -:--:--\n",
      "   ---------------------------------------- 46.2/46.2 kB 1.2 MB/s eta 0:00:00\n",
      "Downloading pypng-0.20220715.0-py3-none-any.whl (58 kB)\n",
      "   ---------------------------------------- 0.0/58.1 kB ? eta -:--:--\n",
      "   ---------------------------------------- 58.1/58.1 kB 3.2 MB/s eta 0:00:00\n",
      "Installing collected packages: pypng, qrcode\n",
      "Successfully installed pypng-0.20220715.0 qrcode-7.4.2\n",
      "Note: you may need to restart the kernel to use updated packages.\n"
     ]
    }
   ],
   "source": [
    "pip install qrcode"
   ]
  },
  {
   "cell_type": "code",
   "execution_count": 50,
   "id": "3a446b1c",
   "metadata": {},
   "outputs": [],
   "source": [
    "import qrcode \n",
    "\n",
    "generate_image = qrcode.make('I LOVE YOU ROZINA RAZZAK')\n",
    "generate_image.save('roziqr.png')"
   ]
  },
  {
   "cell_type": "code",
   "execution_count": 64,
   "id": "c851fcd6",
   "metadata": {},
   "outputs": [],
   "source": [
    "import qrcode \n",
    "\n",
    "features = qrcode.QRCode(version = 1, box_size = 10, border = 3)\n",
    "\n",
    "features.add_data('https://www.pexels.com/photo/low-angle-view-of-pink-flowers-against-blue-sky-250591/')\n",
    "features.make(fit = True)\n",
    "generate_image = features.make_image(fill_color ='purple', back_color = 'white')\n",
    "generate_image.save('rozi4qr.png')"
   ]
  },
  {
   "cell_type": "markdown",
   "id": "8cfa4d50",
   "metadata": {},
   "source": [
    "# Animal Quiz Game"
   ]
  },
  {
   "cell_type": "code",
   "execution_count": 68,
   "id": "bb18d47f",
   "metadata": {},
   "outputs": [
    {
     "name": "stdout",
     "output_type": "stream",
     "text": [
      "Guess the Animal\n",
      "Which bear lives at the North Pole? polar bear\n",
      "Correct Answer\n",
      "Which is the fastest land animal? cheetah\n",
      "Correct Answer\n",
      "Which is the largest animal? blue whale\n",
      "Correct Answer\n",
      "Your Score is 3\n"
     ]
    }
   ],
   "source": [
    "def check_guess(guess, answer):\n",
    "    global score\n",
    "    still_guessing = True\n",
    "    attempt = 0\n",
    "    while still_guessing and attempt < 3:\n",
    "        if guess.lower() == answer.lower():\n",
    "            print('Correct Answer')\n",
    "            score = score + 1\n",
    "            still_guessing = False\n",
    "        else:\n",
    "            if attempt < 2:\n",
    "                guess = input('Sorry Wrong Answer, try again')\n",
    "            attempt = attempt + 1\n",
    "    if attempt == 3:\n",
    "        print('The Correct answer is ', answer)\n",
    "        \n",
    "score = 0\n",
    "print('Guess the Animal')\n",
    "guess1 = input('Which bear lives at the North Pole? ')\n",
    "check_guess(guess1, 'polar bear')\n",
    "guess2 = input('Which is the fastest land animal? ')\n",
    "check_guess(guess2, \"Cheetah\")\n",
    "guess3 = input('Which is the largest animal? ')\n",
    "check_guess(guess3, \"Blue Whale\")\n",
    "print('Your Score is ' + str(score))"
   ]
  },
  {
   "cell_type": "markdown",
   "id": "405b840e",
   "metadata": {},
   "source": [
    "# Fahrenheit to Celcius Converter"
   ]
  },
  {
   "cell_type": "code",
   "execution_count": 1,
   "id": "746da32c",
   "metadata": {},
   "outputs": [
    {
     "name": "stdout",
     "output_type": "stream",
     "text": [
      "25.555555555555557\n"
     ]
    }
   ],
   "source": [
    "def convert(s):\n",
    "    f = float(s)\n",
    "    c = (f - 32) * 5/9\n",
    "    return c\n",
    "print(convert(78))"
   ]
  },
  {
   "cell_type": "markdown",
   "id": "22841360",
   "metadata": {},
   "source": [
    "# Multiple Inputs with Python using While Loop"
   ]
  },
  {
   "cell_type": "code",
   "execution_count": 3,
   "id": "7b2fae0e",
   "metadata": {},
   "outputs": [
    {
     "name": "stdout",
     "output_type": "stream",
     "text": [
      "Enter Text:wow! this is so beautiful \n",
      "wow! this is so beautiful \n",
      "Enter Text:Do want to go somewhere?\n",
      "Do want to go somewhere?\n",
      "Enter Text:STOP\n",
      "STOP\n",
      "Enter Text:stop\n"
     ]
    }
   ],
   "source": [
    "while True:\n",
    "    reply = input('Enter Text:')\n",
    "    if reply == 'stop' : break\n",
    "    print(reply)"
   ]
  },
  {
   "cell_type": "markdown",
   "id": "0b179888",
   "metadata": {},
   "source": [
    "# Convert Roman Numbers to Decimal"
   ]
  },
  {
   "cell_type": "code",
   "execution_count": 4,
   "id": "edd018ec",
   "metadata": {},
   "outputs": [],
   "source": [
    "tallies = {\n",
    "    'I' : 1,\n",
    "    'V' : 5,\n",
    "    'X': 10,\n",
    "    'L': 50,\n",
    "    'C': 100,\n",
    "    'D': 500,\n",
    "    'M': 1000,\n",
    "    #specify more numerals if you wish\n",
    "}\n",
    "\n",
    "def RomanNumeralToDecimal(romanNumeral):\n",
    "    sum = 0\n",
    "    for i in range(len(romanNumeral) - 1):\n",
    "        left = romanNumeral[i]\n",
    "        right = romanNumeral[i + 1]\n",
    "        if tallies[left] < tallies[right]:\n",
    "            sum -= tallies[left]\n",
    "        else:\n",
    "            sum += tallies[left]\n",
    "    sum += tallies[romanNumeral[-1]]\n",
    "    return sum"
   ]
  },
  {
   "cell_type": "code",
   "execution_count": 17,
   "id": "6de79455",
   "metadata": {},
   "outputs": [
    {
     "data": {
      "text/plain": [
       "17"
      ]
     },
     "execution_count": 17,
     "metadata": {},
     "output_type": "execute_result"
    }
   ],
   "source": [
    "RomanNumeralToDecimal('XVII')"
   ]
  },
  {
   "cell_type": "markdown",
   "id": "f8ba7323",
   "metadata": {},
   "source": [
    "#    ......... THE END........"
   ]
  },
  {
   "cell_type": "code",
   "execution_count": null,
   "id": "2dad010e",
   "metadata": {},
   "outputs": [],
   "source": []
  }
 ],
 "metadata": {
  "kernelspec": {
   "display_name": "Python 3 (ipykernel)",
   "language": "python",
   "name": "python3"
  },
  "language_info": {
   "codemirror_mode": {
    "name": "ipython",
    "version": 3
   },
   "file_extension": ".py",
   "mimetype": "text/x-python",
   "name": "python",
   "nbconvert_exporter": "python",
   "pygments_lexer": "ipython3",
   "version": "3.11.4"
  }
 },
 "nbformat": 4,
 "nbformat_minor": 5
}
